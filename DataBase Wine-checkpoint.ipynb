{
 "cells": [
  {
   "cell_type": "code",
   "execution_count": 100,
   "metadata": {},
   "outputs": [],
   "source": [
    "import urllib\n",
    "import bs4\n",
    "import pandas as pd\n",
    "import numpy as np\n",
    "from urllib import request"
   ]
  },
  {
   "cell_type": "markdown",
   "metadata": {},
   "source": [
    "# Fontions\n",
    "Les trois fonctions suivantes permettent de récupérer, à partir d'un page internet d'une bouteille du site https://www.leaandsandeman.co.uk/, la description, le prix et le nom de la bouteille. Chaque fonction prend en entrée l'url associée à la bouteille.\n",
    "\n",
    "ATTENTION : Le prix est ici en livres"
   ]
  },
  {
   "cell_type": "code",
   "execution_count": 101,
   "metadata": {},
   "outputs": [],
   "source": [
    "def find_description(url):\n",
    "    request_text = request.urlopen(url).read()\n",
    "    page = bs4.BeautifulSoup(request_text,'lxml')\n",
    "    return(page.findAll('meta',{'property' : 'og:description'})[0].get('content'))"
   ]
  },
  {
   "cell_type": "code",
   "execution_count": 102,
   "metadata": {},
   "outputs": [],
   "source": [
    "def find_price(url):\n",
    "    request_text = request.urlopen(url).read()\n",
    "    page = bs4.BeautifulSoup(request_text,'lxml')\n",
    "    return(float(page.findAll('td',{'class' : 'price'})[0].findAll('span')[-1].text.replace(',','')))    "
   ]
  },
  {
   "cell_type": "code",
   "execution_count": 103,
   "metadata": {},
   "outputs": [],
   "source": [
    "def find_name(url):\n",
    "    request_text = request.urlopen(url).read()\n",
    "    page = bs4.BeautifulSoup(request_text,'lxml')\n",
    "    return(page.findAll('meta',{'name' : 'twitter:title'})[0].get('content'))"
   ]
  },
  {
   "cell_type": "markdown",
   "metadata": {},
   "source": [
    "### Exemples"
   ]
  },
  {
   "cell_type": "code",
   "execution_count": 104,
   "metadata": {},
   "outputs": [
    {
     "name": "stdout",
     "output_type": "stream",
     "text": [
      "[\"From a good vintage and always delivering incredible value for money, Eric Duffau's brilliant Château Belle Garde is one of our longest standing listings. Leaf tea, cassis, plum and tobacco aromas are backed by a well balanced palate. Again dark fruited, with some nice tannic structure, this has lovely definition with the tobacco and cedar notes allowing for a sleek finish.\", 11.5, '2018 CHÂTEAU BELLE GARDE Bordeaux']\n"
     ]
    }
   ],
   "source": [
    "url1 = 'https://www.leaandsandeman.co.uk/wine/2018-CHATEAU-BELLE-GARDE-Bordeaux-44166-00.html?pack=39543&categoryFilter=30&page=0&sortOption=2&resultsPerPage=12&minResultsPerPage=12'\n",
    "description = find_description(url1)\n",
    "price =  find_price(url1)\n",
    "name = find_name(url1)\n",
    "print([description,price,name])"
   ]
  },
  {
   "cell_type": "markdown",
   "metadata": {},
   "source": [
    "# Création base de données"
   ]
  },
  {
   "cell_type": "markdown",
   "metadata": {},
   "source": [
    "### Récupération des url\n",
    "On créé ici une liste des url associé à chaque vin du site présenté précédemment. Vous pouvez allez voir le modèle de ces pages avec cet exemple : https://www.leaandsandeman.co.uk/wine/2018-CHATEAU-BELLE-GARDE-Bordeaux-44166-00.html?pack=39543&categoryFilter=30&page=0&sortOption=2&resultsPerPage=12&minResultsPerPage=12"
   ]
  },
  {
   "cell_type": "code",
   "execution_count": 107,
   "metadata": {},
   "outputs": [
    {
     "name": "stdout",
     "output_type": "stream",
     "text": [
      "Nous avons récupéré 597 url associés à des vins\n"
     ]
    }
   ],
   "source": [
    "liste_url_general_redwine = ['https://www.leaandsandeman.co.uk/search.html?&resultsPerPage=48&page=0&minResultsPerPage=12&sortOption=2&categoryFilter=24','https://www.leaandsandeman.co.uk/search.html?&resultsPerPage=48&page=1&minResultsPerPage=12&sortOption=2&categoryFilter=24','https://www.leaandsandeman.co.uk/search.html?&resultsPerPage=48&page=2&minResultsPerPage=12&sortOption=2&categoryFilter=24','https://www.leaandsandeman.co.uk/search.html?&resultsPerPage=48&page=3&minResultsPerPage=12&sortOption=2&categoryFilter=24','https://www.leaandsandeman.co.uk/search.html?&resultsPerPage=48&page=4&minResultsPerPage=12&sortOption=2&categoryFilter=24','https://www.leaandsandeman.co.uk/search.html?&resultsPerPage=48&page=5&minResultsPerPage=12&sortOption=2&categoryFilter=24','https://www.leaandsandeman.co.uk/search.html?&resultsPerPage=48&page=6&minResultsPerPage=12&sortOption=2&categoryFilter=24','https://www.leaandsandeman.co.uk/search.html?&resultsPerPage=48&page=7&minResultsPerPage=12&sortOption=2&categoryFilter=24','https://www.leaandsandeman.co.uk/search.html?&resultsPerPage=48&page=8&minResultsPerPage=12&sortOption=2&categoryFilter=24']\n",
    "liste_url_general_whitewine = ['https://www.leaandsandeman.co.uk/search.html?&resultsPerPage=48&page=0&minResultsPerPage=12&sortOption=2&categoryFilter=52','https://www.leaandsandeman.co.uk/search.html?&resultsPerPage=48&page=1&minResultsPerPage=12&sortOption=2&categoryFilter=52','https://www.leaandsandeman.co.uk/search.html?&resultsPerPage=48&page=2&minResultsPerPage=12&sortOption=2&categoryFilter=52','https://www.leaandsandeman.co.uk/search.html?&resultsPerPage=48&page=3&minResultsPerPage=12&sortOption=2&categoryFilter=52','https://www.leaandsandeman.co.uk/search.html?&resultsPerPage=48&page=4&minResultsPerPage=12&sortOption=2&categoryFilter=52']\n",
    "liste_url_general = liste_url_general_redwine + liste_url_general_whitewine\n",
    "liste_url = []\n",
    "for url_general in liste_url_general:\n",
    "    request_text = request.urlopen(url_general).read()\n",
    "    page = bs4.BeautifulSoup(request_text,'lxml')\n",
    "    liste_a = page.findAll('a',{'class' : 'restit blue'})\n",
    "    for ele in liste_a:\n",
    "        liste_url.append(ele.get('href'))\n",
    "print('Nous avons récupéré '+str(len(liste_url))+' url associés à des vins')"
   ]
  },
  {
   "cell_type": "markdown",
   "metadata": {},
   "source": [
    "### Création de la base de données\n",
    "On récupère ensuite les données qui nous intéressent pour chaque vin."
   ]
  },
  {
   "cell_type": "code",
   "execution_count": 113,
   "metadata": {},
   "outputs": [
    {
     "data": {
      "text/html": [
       "<div>\n",
       "<style scoped>\n",
       "    .dataframe tbody tr th:only-of-type {\n",
       "        vertical-align: middle;\n",
       "    }\n",
       "\n",
       "    .dataframe tbody tr th {\n",
       "        vertical-align: top;\n",
       "    }\n",
       "\n",
       "    .dataframe thead th {\n",
       "        text-align: right;\n",
       "    }\n",
       "</style>\n",
       "<table border=\"1\" class=\"dataframe\">\n",
       "  <thead>\n",
       "    <tr style=\"text-align: right;\">\n",
       "      <th></th>\n",
       "      <th>nom</th>\n",
       "      <th>prix</th>\n",
       "      <th>avis</th>\n",
       "    </tr>\n",
       "  </thead>\n",
       "  <tbody>\n",
       "    <tr>\n",
       "      <td>0</td>\n",
       "      <td>2019 CABERNET SAUVIGNON Camina</td>\n",
       "      <td>8.5</td>\n",
       "      <td>A real gentle soul this, a subtle leafiness, t...</td>\n",
       "    </tr>\n",
       "    <tr>\n",
       "      <td>1</td>\n",
       "      <td>2019 CAMINA Tempranillo</td>\n",
       "      <td>8.5</td>\n",
       "      <td>Juicy cranberry and redcurrant fruits on the n...</td>\n",
       "    </tr>\n",
       "    <tr>\n",
       "      <td>2</td>\n",
       "      <td>2018 MERLOT-CABERNET-CARIGNAN Domaine Saint Félix</td>\n",
       "      <td>8.5</td>\n",
       "      <td>Ripely juicy and bright with a core of red fru...</td>\n",
       "    </tr>\n",
       "    <tr>\n",
       "      <td>3</td>\n",
       "      <td>2019 MERLOT Domaine les Yeuses</td>\n",
       "      <td>8.5</td>\n",
       "      <td>NaN</td>\n",
       "    </tr>\n",
       "    <tr>\n",
       "      <td>4</td>\n",
       "      <td>2019 LA PETITE SYRAH Domaine les Yeuses</td>\n",
       "      <td>NaN</td>\n",
       "      <td>The 2019 is another little gem from Domaine Le...</td>\n",
       "    </tr>\n",
       "  </tbody>\n",
       "</table>\n",
       "</div>"
      ],
      "text/plain": [
       "                                                 nom prix  \\\n",
       "0                     2019 CABERNET SAUVIGNON Camina  8.5   \n",
       "1                            2019 CAMINA Tempranillo  8.5   \n",
       "2  2018 MERLOT-CABERNET-CARIGNAN Domaine Saint Félix  8.5   \n",
       "3                     2019 MERLOT Domaine les Yeuses  8.5   \n",
       "4            2019 LA PETITE SYRAH Domaine les Yeuses  NaN   \n",
       "\n",
       "                                                avis  \n",
       "0  A real gentle soul this, a subtle leafiness, t...  \n",
       "1  Juicy cranberry and redcurrant fruits on the n...  \n",
       "2  Ripely juicy and bright with a core of red fru...  \n",
       "3                                                NaN  \n",
       "4  The 2019 is another little gem from Domaine Le...  "
      ]
     },
     "execution_count": 113,
     "metadata": {},
     "output_type": "execute_result"
    }
   ],
   "source": [
    "liste_nom = []\n",
    "liste_prix = []\n",
    "liste_avis = []\n",
    "for url in liste_url:\n",
    "    url = 'https://www.leaandsandeman.co.uk'+url\n",
    "    request_text = request.urlopen(url).read()\n",
    "    page = bs4.BeautifulSoup(request_text,'lxml')\n",
    "    B = page.findAll('meta',{'property' : 'og:description'})[0].get('content')\n",
    "    if B == '': #quand il n'y a pas de description\n",
    "        liste_avis.append('NaN')\n",
    "    else:\n",
    "        liste_avis.append(B)\n",
    "    A = page.findAll('td',{'class' : 'price'})\n",
    "    if len(A) == 0: #quand le prix n'est pas indiqué sur le site\n",
    "        liste_prix.append('NaN')\n",
    "    else:\n",
    "        liste_prix.append(float(page.findAll('td',{'class' : 'price'})[0].findAll('span')[-1].text.replace(',','')))\n",
    "    liste_nom.append(page.findAll('meta',{'name' : 'twitter:title'})[0].get('content'))\n",
    "Data = pd.DataFrame(np.array([liste_nom,liste_prix,liste_avis]).T,columns=['nom','prix','avis'])\n",
    "Data.head()"
   ]
  },
  {
   "cell_type": "markdown",
   "metadata": {},
   "source": [
    "On remarque que des données sont manquantes. Pour certains vin que le site n'a plus en stock, le site n'affiche pas le prix, il est alors indiqué NaN dans la base de données. Pour certains vins, il n'y a pas de description, dans ce cas, il est également indiqué NaN."
   ]
  },
  {
   "cell_type": "code",
   "execution_count": 115,
   "metadata": {},
   "outputs": [
    {
     "data": {
      "text/plain": [
       "(597, 3)"
      ]
     },
     "execution_count": 115,
     "metadata": {},
     "output_type": "execute_result"
    }
   ],
   "source": [
    "Data.shape"
   ]
  },
  {
   "cell_type": "code",
   "execution_count": null,
   "metadata": {},
   "outputs": [],
   "source": []
  }
 ],
 "metadata": {
  "kernelspec": {
   "display_name": "Python 3",
   "language": "python",
   "name": "python3"
  },
  "language_info": {
   "codemirror_mode": {
    "name": "ipython",
    "version": 3
   },
   "file_extension": ".py",
   "mimetype": "text/x-python",
   "name": "python",
   "nbconvert_exporter": "python",
   "pygments_lexer": "ipython3",
   "version": "3.7.4"
  }
 },
 "nbformat": 4,
 "nbformat_minor": 2
}
