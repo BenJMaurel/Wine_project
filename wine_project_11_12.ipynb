{
  "nbformat": 4,
  "nbformat_minor": 0,
  "metadata": {
    "colab": {
      "name": "wine_project_07_12.ipynb",
      "provenance": [],
      "collapsed_sections": [],
      "toc_visible": true,
      "include_colab_link": true
    },
    "kernelspec": {
      "display_name": "Python 3",
      "language": "python",
      "name": "python3"
    },
    "language_info": {
      "codemirror_mode": {
        "name": "ipython",
        "version": 3
      },
      "file_extension": ".py",
      "mimetype": "text/x-python",
      "name": "python",
      "nbconvert_exporter": "python",
      "pygments_lexer": "ipython3",
      "version": "3.7.3"
    },
    "accelerator": "GPU"
  },
  "cells": [
    {
      "cell_type": "markdown",
      "metadata": {
        "id": "view-in-github",
        "colab_type": "text"
      },
      "source": [
        "<a href=\"https://colab.research.google.com/github/BenJMaurel/Wine_project/blob/main/wine_project_11_12.ipynb\" target=\"_parent\"><img src=\"https://colab.research.google.com/assets/colab-badge.svg\" alt=\"Open In Colab\"/></a>"
      ]
    },
    {
      "cell_type": "markdown",
      "metadata": {
        "id": "Rr8lUrYZY9zP"
      },
      "source": [
        "# Partie 0 : Quelques imports de bon fonctionnement"
      ]
    },
    {
      "cell_type": "code",
      "metadata": {
        "colab": {
          "base_uri": "https://localhost:8080/"
        },
        "id": "2a7NBLf-aIt_",
        "outputId": "17e6f8f7-a3ff-47bf-96f3-43c0631c25c8"
      },
      "source": [
        "from google.colab import drive\n",
        "drive.mount('/content/drive')"
      ],
      "execution_count": 1,
      "outputs": [
        {
          "output_type": "stream",
          "text": [
            "Mounted at /content/drive\n"
          ],
          "name": "stdout"
        }
      ]
    },
    {
      "cell_type": "code",
      "metadata": {
        "id": "txSi5YN3N0VZ"
      },
      "source": [
        "import numpy as np\n",
        "import pandas as pd\n",
        "import matplotlib.pyplot as plt\n",
        "import seaborn as sns\n",
        "from math import ceil\n",
        "import random as rd"
      ],
      "execution_count": 2,
      "outputs": []
    },
    {
      "cell_type": "code",
      "metadata": {
        "id": "GNBdYmFmcE5o"
      },
      "source": [
        "import pandas as pd\n",
        "from sklearn.model_selection import train_test_split\n",
        "from sklearn.datasets import load_iris"
      ],
      "execution_count": 3,
      "outputs": []
    },
    {
      "cell_type": "code",
      "metadata": {
        "id": "Iw8x4RnocUJG"
      },
      "source": [
        "import csv\n",
        "\n",
        "def read_glove_vecs(glove_file):\n",
        "    with open(glove_file, 'r', encoding='utf-8') as f:\n",
        "        words = set()\n",
        "        word_to_vec_map = {}\n",
        "        for line in f:\n",
        "            line = line.strip().split()\n",
        "            curr_word = line[0]\n",
        "            words.add(curr_word)\n",
        "            word_to_vec_map[curr_word] = np.array(line[1:], dtype=np.float64)\n",
        "        \n",
        "        i = 1\n",
        "        words_to_index = {}\n",
        "        index_to_words = {}\n",
        "        for w in sorted(words):\n",
        "            words_to_index[w] = i\n",
        "            index_to_words[i] = w\n",
        "            i = i + 1\n",
        "    return words_to_index, index_to_words, word_to_vec_map"
      ],
      "execution_count": 4,
      "outputs": []
    },
    {
      "cell_type": "code",
      "metadata": {
        "id": "GRVlDSgHN0Vc"
      },
      "source": [
        "def convert_to_one_hot(vecteur):\n",
        "    n_values = int(np.max(vecteur) + 1)\n",
        "    oh = np.eye(n_values)[vecteur]\n",
        "    return oh"
      ],
      "execution_count": 5,
      "outputs": []
    },
    {
      "cell_type": "code",
      "metadata": {
        "id": "AI9M_nYFaa2S"
      },
      "source": [
        "data = pd.read_csv(\"/content/drive/My Drive/Wine_project/winemag-data-130k-v2.csv\")"
      ],
      "execution_count": 6,
      "outputs": []
    },
    {
      "cell_type": "code",
      "metadata": {
        "id": "4ZHuZh84ckIs"
      },
      "source": [
        "word_to_index, index_to_word, word_to_vec_map = read_glove_vecs('/content/drive/My Drive/Wine_project/glove.6B.50d.txt')"
      ],
      "execution_count": 7,
      "outputs": []
    },
    {
      "cell_type": "markdown",
      "metadata": {
        "id": "iZEgD8poOAIY"
      },
      "source": [
        "# Partie 1: Statistiques descriptives"
      ]
    },
    {
      "cell_type": "code",
      "metadata": {
        "colab": {
          "base_uri": "https://localhost:8080/"
        },
        "id": "u5L1iVdFN0Vk",
        "outputId": "33d28acf-4284-4b9b-f7be-ba9777d1313e"
      },
      "source": [
        "data = data.drop('Unnamed: 0', axis = 1)\n",
        "data.columns\n"
      ],
      "execution_count": null,
      "outputs": [
        {
          "output_type": "execute_result",
          "data": {
            "text/plain": [
              "Index(['country', 'description', 'designation', 'points', 'price', 'province',\n",
              "       'region_1', 'region_2', 'taster_name', 'taster_twitter_handle', 'title',\n",
              "       'variety', 'winery'],\n",
              "      dtype='object')"
            ]
          },
          "metadata": {
            "tags": []
          },
          "execution_count": 8
        }
      ]
    },
    {
      "cell_type": "code",
      "metadata": {
        "colab": {
          "base_uri": "https://localhost:8080/"
        },
        "id": "g-B0Y4s_N0Vp",
        "outputId": "04e59f8c-e398-4d22-d73d-1f9d979a1a91"
      },
      "source": [
        "data['country'].nunique()\n",
        "data['region_2'].nunique()\n",
        "data['province'].count()"
      ],
      "execution_count": null,
      "outputs": [
        {
          "output_type": "execute_result",
          "data": {
            "text/plain": [
              "129908"
            ]
          },
          "metadata": {
            "tags": []
          },
          "execution_count": 51
        }
      ]
    },
    {
      "cell_type": "code",
      "metadata": {
        "colab": {
          "base_uri": "https://localhost:8080/",
          "height": 294
        },
        "id": "Ut_cTTRpN0WD",
        "outputId": "478d24da-fe78-4ba6-a816-da1d10040faa"
      },
      "source": [
        "data.describe()"
      ],
      "execution_count": null,
      "outputs": [
        {
          "output_type": "execute_result",
          "data": {
            "text/html": [
              "<div>\n",
              "<style scoped>\n",
              "    .dataframe tbody tr th:only-of-type {\n",
              "        vertical-align: middle;\n",
              "    }\n",
              "\n",
              "    .dataframe tbody tr th {\n",
              "        vertical-align: top;\n",
              "    }\n",
              "\n",
              "    .dataframe thead th {\n",
              "        text-align: right;\n",
              "    }\n",
              "</style>\n",
              "<table border=\"1\" class=\"dataframe\">\n",
              "  <thead>\n",
              "    <tr style=\"text-align: right;\">\n",
              "      <th></th>\n",
              "      <th>points</th>\n",
              "      <th>price</th>\n",
              "    </tr>\n",
              "  </thead>\n",
              "  <tbody>\n",
              "    <tr>\n",
              "      <th>count</th>\n",
              "      <td>129971.000000</td>\n",
              "      <td>120975.000000</td>\n",
              "    </tr>\n",
              "    <tr>\n",
              "      <th>mean</th>\n",
              "      <td>88.447138</td>\n",
              "      <td>35.363389</td>\n",
              "    </tr>\n",
              "    <tr>\n",
              "      <th>std</th>\n",
              "      <td>3.039730</td>\n",
              "      <td>41.022218</td>\n",
              "    </tr>\n",
              "    <tr>\n",
              "      <th>min</th>\n",
              "      <td>80.000000</td>\n",
              "      <td>4.000000</td>\n",
              "    </tr>\n",
              "    <tr>\n",
              "      <th>25%</th>\n",
              "      <td>86.000000</td>\n",
              "      <td>17.000000</td>\n",
              "    </tr>\n",
              "    <tr>\n",
              "      <th>50%</th>\n",
              "      <td>88.000000</td>\n",
              "      <td>25.000000</td>\n",
              "    </tr>\n",
              "    <tr>\n",
              "      <th>75%</th>\n",
              "      <td>91.000000</td>\n",
              "      <td>42.000000</td>\n",
              "    </tr>\n",
              "    <tr>\n",
              "      <th>max</th>\n",
              "      <td>100.000000</td>\n",
              "      <td>3300.000000</td>\n",
              "    </tr>\n",
              "  </tbody>\n",
              "</table>\n",
              "</div>"
            ],
            "text/plain": [
              "              points          price\n",
              "count  129971.000000  120975.000000\n",
              "mean       88.447138      35.363389\n",
              "std         3.039730      41.022218\n",
              "min        80.000000       4.000000\n",
              "25%        86.000000      17.000000\n",
              "50%        88.000000      25.000000\n",
              "75%        91.000000      42.000000\n",
              "max       100.000000    3300.000000"
            ]
          },
          "metadata": {
            "tags": []
          },
          "execution_count": 52
        }
      ]
    },
    {
      "cell_type": "code",
      "metadata": {
        "colab": {
          "base_uri": "https://localhost:8080/"
        },
        "id": "3bbY3QFEN0WG",
        "outputId": "ead4ace9-d0b5-42c5-e39d-cbdcfb5ffa73"
      },
      "source": [
        "data.isnull().sum()"
      ],
      "execution_count": null,
      "outputs": [
        {
          "output_type": "execute_result",
          "data": {
            "text/plain": [
              "country                     63\n",
              "description                  0\n",
              "designation              37465\n",
              "points                       0\n",
              "price                     8996\n",
              "province                    63\n",
              "region_1                 21247\n",
              "region_2                 79460\n",
              "taster_name              26244\n",
              "taster_twitter_handle    31213\n",
              "title                        0\n",
              "variety                      1\n",
              "winery                       0\n",
              "dtype: int64"
            ]
          },
          "metadata": {
            "tags": []
          },
          "execution_count": 53
        }
      ]
    },
    {
      "cell_type": "code",
      "metadata": {
        "colab": {
          "base_uri": "https://localhost:8080/",
          "height": 265
        },
        "id": "ZpP5FwWUN0WM",
        "outputId": "550edba5-2dae-465a-cb2b-5bc29b89bb95"
      },
      "source": [
        "fig = data['points'].hist()\n",
        "plt.show()"
      ],
      "execution_count": null,
      "outputs": [
        {
          "output_type": "display_data",
          "data": {
            "image/png": "[encoded data removed]",
            "text/plain": [
              "<Figure size 432x288 with 1 Axes>"
            ]
          },
          "metadata": {
            "tags": []
          }
        }
      ]
    },
    {
      "cell_type": "code",
      "metadata": {
        "colab": {
          "base_uri": "https://localhost:8080/",
          "height": 265
        },
        "id": "0IZuIWVcN0WP",
        "outputId": "2f1f8a53-e155-49dd-e0b1-eef237e49445"
      },
      "source": [
        "fig = data['price'].plot(kind = 'hist', logy=True)\n",
        "plt.show()"
      ],
      "execution_count": null,
      "outputs": [
        {
          "output_type": "display_data",
          "data": {
            "image/png": "[encoded data removed]",
            "text/plain": [
              "<Figure size 432x288 with 1 Axes>"
            ]
          },
          "metadata": {
            "tags": []
          }
        }
      ]
    },
    {
      "cell_type": "code",
      "metadata": {
        "colab": {
          "base_uri": "https://localhost:8080/",
          "height": 283
        },
        "id": "HIt6P-pRN0WV",
        "outputId": "391329ff-72b9-4ce4-fb1a-67567cf07c75"
      },
      "source": [
        "plt.plot(data['points'], data['price'], 'r.')"
      ],
      "execution_count": null,
      "outputs": [
        {
          "output_type": "execute_result",
          "data": {
            "text/plain": [
              "[<matplotlib.lines.Line2D at 0x7fec2a041cc0>]"
            ]
          },
          "metadata": {
            "tags": []
          },
          "execution_count": 56
        },
        {
          "output_type": "display_data",
          "data": {
            "image/png": "[encoded data removed]",
            "text/plain": [
              "<Figure size 432x288 with 1 Axes>"
            ]
          },
          "metadata": {
            "tags": []
          }
        }
      ]
    },
    {
      "cell_type": "code",
      "metadata": {
        "id": "-naoj5nEN0WY"
      },
      "source": [
        "priceForPoint = data.groupby(by=\"points\").mean()"
      ],
      "execution_count": null,
      "outputs": []
    },
    {
      "cell_type": "code",
      "metadata": {
        "id": "lAWUvhx4N0Wa"
      },
      "source": [
        "#PriceForPoint donne la moyenne du prix de la bouteille pour un nbr de point donné"
      ],
      "execution_count": null,
      "outputs": []
    },
    {
      "cell_type": "code",
      "metadata": {
        "colab": {
          "base_uri": "https://localhost:8080/",
          "height": 283
        },
        "id": "OLqxa2DMN0Wc",
        "outputId": "902605cd-dcb3-4363-d66e-dc5f81f6c8f4"
      },
      "source": [
        "plt.plot(priceForPoint.index, priceForPoint , 'r.')\n",
        "plt.plot()"
      ],
      "execution_count": null,
      "outputs": [
        {
          "output_type": "execute_result",
          "data": {
            "text/plain": [
              "[]"
            ]
          },
          "metadata": {
            "tags": []
          },
          "execution_count": 52
        },
        {
          "output_type": "display_data",
          "data": {
            "image/png": "[encoded data removed]",
            "text/plain": [
              "<Figure size 432x288 with 1 Axes>"
            ]
          },
          "metadata": {
            "tags": []
          }
        }
      ]
    },
    {
      "cell_type": "code",
      "metadata": {
        "colab": {
          "base_uri": "https://localhost:8080/",
          "height": 283
        },
        "id": "GDkc-1O2N0We",
        "outputId": "602b3f11-c7d5-4202-ba65-f392551f1009"
      },
      "source": [
        "plt.plot(priceForPoint.index, np.log(priceForPoint) , 'r.')\n",
        "plt.plot()"
      ],
      "execution_count": null,
      "outputs": [
        {
          "output_type": "execute_result",
          "data": {
            "text/plain": [
              "[]"
            ]
          },
          "metadata": {
            "tags": []
          },
          "execution_count": 53
        },
        {
          "output_type": "display_data",
          "data": {
            "image/png": "[encoded data removed]",
            "text/plain": [
              "<Figure size 432x288 with 1 Axes>"
            ]
          },
          "metadata": {
            "tags": []
          }
        }
      ]
    },
    {
      "cell_type": "code",
      "metadata": {
        "colab": {
          "base_uri": "https://localhost:8080/"
        },
        "id": "TapOKYuGN0Wg",
        "outputId": "3e3aeb54-709f-460f-875c-ff18b56a5328"
      },
      "source": [
        "countries = data[ [\"country\", \"winery\"] ].groupby(by=\"country\").count().sort_values(by=\"winery\")[::-1]\n",
        "countries.count()"
      ],
      "execution_count": null,
      "outputs": [
        {
          "output_type": "execute_result",
          "data": {
            "text/plain": [
              "winery    43\n",
              "dtype: int64"
            ]
          },
          "metadata": {
            "tags": []
          },
          "execution_count": 54
        }
      ]
    },
    {
      "cell_type": "code",
      "metadata": {
        "id": "DTG4aFDBN0Wn"
      },
      "source": [
        "countries_price = data[ [\"country\", \"price\"]].groupby(by =\"country\").mean()"
      ],
      "execution_count": null,
      "outputs": []
    },
    {
      "cell_type": "code",
      "metadata": {
        "colab": {
          "base_uri": "https://localhost:8080/",
          "height": 454
        },
        "id": "NT5l3ScvN0Wr",
        "outputId": "3cb9afad-e8aa-421b-936d-5ecd99aa6616"
      },
      "source": [
        "countries_price.sort_values('price').plot(kind = \"bar\", figsize = (25,10), color = 'red')"
      ],
      "execution_count": null,
      "outputs": [
        {
          "output_type": "execute_result",
          "data": {
            "text/plain": [
              "<matplotlib.axes._subplots.AxesSubplot at 0x7fd9247ef8d0>"
            ]
          },
          "metadata": {
            "tags": []
          },
          "execution_count": 56
        },
        {
          "output_type": "display_data",
          "data": {
            "image/png": "[encoded data removed]",
            "text/plain": [
              "<Figure size 1800x720 with 1 Axes>"
            ]
          },
          "metadata": {
            "tags": []
          }
        }
      ]
    },
    {
      "cell_type": "code",
      "metadata": {
        "colab": {
          "base_uri": "https://localhost:8080/",
          "height": 283
        },
        "id": "dsO9KVTYN0Wx",
        "outputId": "69aa9162-9c49-4cd1-e0b4-19fc01c0840c"
      },
      "source": [
        "dfr=data[data[\"country\"] == 'France']\n",
        "plt.plot(dfr['price'],dfr['points'], 'r.')"
      ],
      "execution_count": null,
      "outputs": [
        {
          "output_type": "execute_result",
          "data": {
            "text/plain": [
              "[<matplotlib.lines.Line2D at 0x7fd9247261d0>]"
            ]
          },
          "metadata": {
            "tags": []
          },
          "execution_count": 57
        },
        {
          "output_type": "display_data",
          "data": {
            "image/png": "[encoded data removed]",
            "text/plain": [
              "<Figure size 432x288 with 1 Axes>"
            ]
          },
          "metadata": {
            "tags": []
          }
        }
      ]
    },
    {
      "cell_type": "code",
      "metadata": {
        "id": "ZBrvNvdRN0W3"
      },
      "source": [
        "dfr_max=dfr[dfr['price']> dfr['price'].quantile( q = 0.99)]"
      ],
      "execution_count": null,
      "outputs": []
    },
    {
      "cell_type": "code",
      "metadata": {
        "id": "VJ4YZzszN0W8"
      },
      "source": [
        "dfr_max=dfr_max[['region_1','winery']]"
      ],
      "execution_count": null,
      "outputs": []
    },
    {
      "cell_type": "code",
      "metadata": {
        "colab": {
          "base_uri": "https://localhost:8080/"
        },
        "id": "U6RlLNOjN0XA",
        "outputId": "15ef1360-7fdf-4318-b579-04b3e0d2ed27"
      },
      "source": [
        "dfr_max.count()"
      ],
      "execution_count": null,
      "outputs": [
        {
          "output_type": "execute_result",
          "data": {
            "text/plain": [
              "region_1    172\n",
              "winery      172\n",
              "dtype: int64"
            ]
          },
          "metadata": {
            "tags": []
          },
          "execution_count": 60
        }
      ]
    },
    {
      "cell_type": "code",
      "metadata": {
        "colab": {
          "base_uri": "https://localhost:8080/",
          "height": 233
        },
        "id": "1IHmKPXON0XE",
        "outputId": "dcccf4cd-baef-4c74-ccde-95f8e7123ebe"
      },
      "source": [
        "dfr_max_winery = dfr_max.groupby('region_1').count().sort_values(by=\"winery\")[::-1]\n",
        "dfr_max_winery.head()"
      ],
      "execution_count": null,
      "outputs": [
        {
          "output_type": "execute_result",
          "data": {
            "text/html": [
              "<div>\n",
              "<style scoped>\n",
              "    .dataframe tbody tr th:only-of-type {\n",
              "        vertical-align: middle;\n",
              "    }\n",
              "\n",
              "    .dataframe tbody tr th {\n",
              "        vertical-align: top;\n",
              "    }\n",
              "\n",
              "    .dataframe thead th {\n",
              "        text-align: right;\n",
              "    }\n",
              "</style>\n",
              "<table border=\"1\" class=\"dataframe\">\n",
              "  <thead>\n",
              "    <tr style=\"text-align: right;\">\n",
              "      <th></th>\n",
              "      <th>winery</th>\n",
              "    </tr>\n",
              "    <tr>\n",
              "      <th>region_1</th>\n",
              "      <th></th>\n",
              "    </tr>\n",
              "  </thead>\n",
              "  <tbody>\n",
              "    <tr>\n",
              "      <th>Champagne</th>\n",
              "      <td>22</td>\n",
              "    </tr>\n",
              "    <tr>\n",
              "      <th>Pessac-Léognan</th>\n",
              "      <td>13</td>\n",
              "    </tr>\n",
              "    <tr>\n",
              "      <th>Pauillac</th>\n",
              "      <td>12</td>\n",
              "    </tr>\n",
              "    <tr>\n",
              "      <th>Chevalier-Montrachet</th>\n",
              "      <td>11</td>\n",
              "    </tr>\n",
              "    <tr>\n",
              "      <th>Bâtard-Montrachet</th>\n",
              "      <td>10</td>\n",
              "    </tr>\n",
              "  </tbody>\n",
              "</table>\n",
              "</div>"
            ],
            "text/plain": [
              "                      winery\n",
              "region_1                    \n",
              "Champagne                 22\n",
              "Pessac-Léognan            13\n",
              "Pauillac                  12\n",
              "Chevalier-Montrachet      11\n",
              "Bâtard-Montrachet         10"
            ]
          },
          "metadata": {
            "tags": []
          },
          "execution_count": 61
        }
      ]
    },
    {
      "cell_type": "markdown",
      "metadata": {
        "id": "ZgNv1C-4bmpj"
      },
      "source": [
        "# Partie 2 : Premier Modèle"
      ]
    },
    {
      "cell_type": "markdown",
      "metadata": {
        "id": "QETQSaLRdZiS"
      },
      "source": [
        "## Modèle 1.1"
      ]
    },
    {
      "cell_type": "code",
      "metadata": {
        "id": "aLrjZHkIN0XQ"
      },
      "source": [
        "data_10000 = data.sample(frac = 0.1, random_state = 1)\n",
        "X = data_10000['description']\n",
        "Y = data_10000['points']"
      ],
      "execution_count": 8,
      "outputs": []
    },
    {
      "cell_type": "code",
      "metadata": {
        "colab": {
          "base_uri": "https://localhost:8080/",
          "height": 265
        },
        "id": "HdtoPjchN0Xb",
        "outputId": "b2559547-1165-44b1-d710-71552096f161"
      },
      "source": [
        "Y_corr= Y-Y.mean()\n",
        "fig = Y_corr.hist()\n",
        "plt.show()"
      ],
      "execution_count": 9,
      "outputs": [
        {
          "output_type": "display_data",
          "data": {
            "image/png": "[encoded data removed]",
            "text/plain": [
              "<Figure size 432x288 with 1 Axes>"
            ]
          },
          "metadata": {
            "tags": [],
            "needs_background": "light"
          }
        }
      ]
    },
    {
      "cell_type": "code",
      "metadata": {
        "id": "M-PJvxEdN0Xm"
      },
      "source": [
        "#On va essayer de prédire, en fonction de la description, un score en séparant en 5 parties qui sera ensuite ramené sur 100."
      ],
      "execution_count": 10,
      "outputs": []
    },
    {
      "cell_type": "code",
      "metadata": {
        "colab": {
          "base_uri": "https://localhost:8080/"
        },
        "id": "Nnxt08s9N0Xo",
        "outputId": "e323c0bb-5433-4f04-d067-866912552592"
      },
      "source": [
        "groupe = (max(Y_corr)-min(Y_corr))/5\n",
        "print(\"on va faire 5 catégories de taille\", groupe+0.001)"
      ],
      "execution_count": 12,
      "outputs": [
        {
          "output_type": "stream",
          "text": [
            "on va faire 5 catégories de taille 4.001\n"
          ],
          "name": "stdout"
        }
      ]
    },
    {
      "cell_type": "code",
      "metadata": {
        "id": "WunXVMmUN0Xs"
      },
      "source": [
        "Y_corr = np.array(Y_corr)\n",
        "X = np.array(X)\n",
        "mini = min(Y_corr)\n",
        "for idx in range(len(Y_corr)):\n",
        "    Y_corr[idx] = abs(Y_corr[idx] - mini)//4.001   "
      ],
      "execution_count": 13,
      "outputs": []
    },
    {
      "cell_type": "code",
      "metadata": {
        "id": "htuAF9x0N0X6"
      },
      "source": [
        "X_train,X_test,Y_train,Y_test=train_test_split(X,Y_corr,test_size=0.2)\n",
        "Y_train = np.array(Y_train, dtype = int)"
      ],
      "execution_count": 14,
      "outputs": []
    },
    {
      "cell_type": "code",
      "metadata": {
        "id": "aWjqLOQxN0YR"
      },
      "source": [
        "def sentence_to_avg(sentence, word_to_vec_map):\n",
        " \n",
        "    # Step 1: Split sentence into list of lower case words (≈ 1 line)\n",
        "    words = sentence.lower().split()\n",
        "\n",
        "    # Initialize the average word vector, should have the same shape as your word vectors.\n",
        "    avg = np.zeros(50)\n",
        "    \n",
        "    # Step 2: average the word vectors. You can loop over the words in the list \"words\".\n",
        "    total = 0\n",
        "    for w in words:\n",
        "        while w not in word_to_vec_map.keys():\n",
        "            if w[1:] in word_to_vec_map.keys():\n",
        "                w = w[1:]\n",
        "            else:\n",
        "                w = w[:-1]\n",
        "        total += word_to_vec_map[w]\n",
        "    avg = total/len(words)\n",
        "    \n",
        "    \n",
        "    return avg"
      ],
      "execution_count": 15,
      "outputs": []
    },
    {
      "cell_type": "code",
      "metadata": {
        "id": "mNjluVu6N0YT"
      },
      "source": [
        "def softmax(x):\n",
        "    \"\"\"Compute softmax values for each sets of scores in x.\"\"\"\n",
        "    e_x = np.exp(x - np.max(x))\n",
        "    return e_x / e_x.sum()\n",
        "\n",
        "\n",
        "def model(X, Y, word_to_vec_map, learning_rate = 0.01, num_iterations = 400):\n",
        "\n",
        "    m = Y.shape[0]                          # number of training examples\n",
        "    n_y = 5                                 # number of classes  \n",
        "    n_h = 50                                # dimensions of the GloVe vectors \n",
        "    \n",
        "    # Initialize parameters using Xavier initialization\n",
        "    W = np.random.randn(n_y, n_h) / np.sqrt(n_h)\n",
        "    b = np.zeros((n_y,)) \n",
        "    \n",
        "    # Convert Y to Y_onehot with n_y classes\n",
        "    Y_oh = convert_to_one_hot(Y) \n",
        "    \n",
        "    # Optimization loop\n",
        "    for t in range(num_iterations): # Loop over the number of iterations\n",
        "        for i in range(m):          # Loop over the training examples\n",
        "            \n",
        "            # Average the word vectors of the words from the i'th training example\n",
        "            avg = sentence_to_avg(X[i], word_to_vec_map)\n",
        "\n",
        "            # Forward propagate the avg through the softmax layer\n",
        "            z = np.dot(W,avg) + b\n",
        "            a = softmax(z)\n",
        "\n",
        "            # Compute cost using the i'th training label's one hot representation and \"A\" (the output of the softmax)\n",
        "            cost = - np.dot(Y_oh[i],np.log(a))\n",
        "            \n",
        "            # Compute gradients \n",
        "            dz = a - Y_oh[i]\n",
        "            dW = np.dot(dz.reshape(n_y,1), avg.reshape(1, n_h))\n",
        "            db = dz\n",
        "\n",
        "            # Update parameters with Stochastic Gradient Descent\n",
        "            W = W - learning_rate * dW\n",
        "            b = b - learning_rate * db\n",
        "        \n",
        "        if t % 100 == 0:\n",
        "            print(\"Epoch: \" + str(t) + \" --- cost = \" + str(cost))\n",
        "            pred = predict(X, Y, W, b, word_to_vec_map)\n",
        "\n",
        "    return pred, W, b"
      ],
      "execution_count": 16,
      "outputs": []
    },
    {
      "cell_type": "code",
      "metadata": {
        "id": "mSvCleXNN0YW"
      },
      "source": [
        "def predict(X, Y, W, b, word_to_vec_map):\n",
        "    \"\"\"\n",
        "    Given X (sentences) and Y (emoji indices), predict emojis and compute the accuracy of your model over the given set.\n",
        "    \n",
        "    Arguments:\n",
        "    X -- input data containing sentences, numpy array of shape (m, None)\n",
        "    Y -- labels, containing index of the label emoji, numpy array of shape (m, 1)\n",
        "    \n",
        "    Returns:\n",
        "    pred -- numpy array of shape (m, 1) with your predictions\n",
        "    \"\"\"\n",
        "    m = X.shape[0]\n",
        "    pred = np.zeros((m, 1))\n",
        "    \n",
        "    for j in range(m):                       # Loop over training examples\n",
        "        \n",
        "        # Split jth test example (sentence) into list of lower case words\n",
        "        words = X[j].lower().split()\n",
        "        \n",
        "        # Average words' vectors\n",
        "        avg = np.zeros((50,))\n",
        "        for w in words:\n",
        "            while w not in word_to_vec_map.keys():\n",
        "                if w[1:] in word_to_vec_map.keys():\n",
        "                    w = w[1:]\n",
        "                else:\n",
        "                    w = w[:-1]\n",
        "            avg += word_to_vec_map[w]\n",
        "        avg = avg/len(words)\n",
        "\n",
        "        # Forward propagation\n",
        "        Z = np.dot(W, avg) + b\n",
        "        A = softmax(Z)\n",
        "        pred[j] = np.argmax(A)\n",
        "        \n",
        "    print(\"Accuracy: \"  + str(np.mean((pred[:] == Y.reshape(Y.shape[0],1)[:]))))\n",
        "    \n",
        "    return pred"
      ],
      "execution_count": 17,
      "outputs": []
    },
    {
      "cell_type": "code",
      "metadata": {
        "colab": {
          "base_uri": "https://localhost:8080/"
        },
        "id": "_J6y9kEeN0YZ",
        "scrolled": true,
        "outputId": "df6ac107-e837-4744-cf19-2a36c0794dbc"
      },
      "source": [
        "pred, W, b = model(X_train, Y_train, word_to_vec_map)"
      ],
      "execution_count": 18,
      "outputs": [
        {
          "output_type": "stream",
          "text": [
            "Epoch: 0 --- cost = 0.6322023401767074\n",
            "Accuracy: 0.5024526305665096\n",
            "Epoch: 100 --- cost = 0.45602008366218544\n",
            "Accuracy: 0.5465037991728383\n",
            "Epoch: 200 --- cost = 0.46133847137813977\n",
            "Accuracy: 0.5473694334904299\n",
            "Epoch: 300 --- cost = 0.4649444939868927\n",
            "Accuracy: 0.5471770703087429\n"
          ],
          "name": "stdout"
        }
      ]
    },
    {
      "cell_type": "code",
      "metadata": {
        "colab": {
          "base_uri": "https://localhost:8080/"
        },
        "id": "xLgynGbSN0Yf",
        "outputId": "7982f7ad-3554-4f4e-d0c6-59073ed54232"
      },
      "source": [
        "print(\"Training set:\")\n",
        "pred_train = predict(X_train, Y_train, W, b, word_to_vec_map)\n",
        "print('Test set:')\n",
        "pred_test = predict(X_test, Y_test, W, b, word_to_vec_map)"
      ],
      "execution_count": 19,
      "outputs": [
        {
          "output_type": "stream",
          "text": [
            "Training set:\n",
            "Accuracy: 0.5480427046263345\n",
            "Test set:\n",
            "Accuracy: 0.5434615384615384\n"
          ],
          "name": "stdout"
        }
      ]
    },
    {
      "cell_type": "code",
      "metadata": {
        "id": "iReEH_PqN0Yn"
      },
      "source": [
        "#On se retrouve avec une accuracy de 50... ce qui est mieux que le hasard (5 catégories) mais pas encore optimal\n",
        "#On va utiliser un algo de LTSM pour pouvoir cette fois ci prendre en compte l'ordre des éléments dans la phrase"
      ],
      "execution_count": null,
      "outputs": []
    },
    {
      "cell_type": "code",
      "metadata": {
        "colab": {
          "base_uri": "https://localhost:8080/"
        },
        "id": "45SUbIQ3N0Yy",
        "outputId": "c16de9c3-6a76-4cb0-f7c9-a6471bf820d8"
      },
      "source": [
        "X_my_sentences = np.array([\"I love that wine, it is so tasteful. A great success to see in the future\"])\n",
        "Y_my_labels = np.array([[3]])\n",
        "pred = predict(X_my_sentences, Y_my_labels , W, b, word_to_vec_map)\n",
        "pred"
      ],
      "execution_count": 20,
      "outputs": [
        {
          "output_type": "stream",
          "text": [
            "Accuracy: 1.0\n"
          ],
          "name": "stdout"
        },
        {
          "output_type": "execute_result",
          "data": {
            "text/plain": [
              "array([[3.]])"
            ]
          },
          "metadata": {
            "tags": []
          },
          "execution_count": 20
        }
      ]
    },
    {
      "cell_type": "code",
      "metadata": {
        "id": "gZlYvEJ3N0Y6"
      },
      "source": [
        "#Regardons à partir d'une matrice de confusion ce qui pose problème"
      ],
      "execution_count": 21,
      "outputs": []
    },
    {
      "cell_type": "code",
      "metadata": {
        "id": "InAKLsfiN0Y8"
      },
      "source": [
        "def plot_confusion_matrix(y_actu, y_pred, title='Confusion matrix', cmap=plt.cm.gray_r):\n",
        "    \n",
        "    df_confusion = pd.crosstab(y_actu, y_pred.reshape(y_pred.shape[0],), rownames=['Actual'], colnames=['Predicted'], margins=True)\n",
        "    \n",
        "    df_conf_norm = df_confusion / df_confusion.sum(axis=1)\n",
        "    \n",
        "    plt.matshow(df_confusion, cmap=cmap) # imshow\n",
        "    #plt.title(title)\n",
        "    plt.colorbar()\n",
        "    tick_marks = np.arange(len(df_confusion.columns))\n",
        "    plt.xticks(tick_marks, df_confusion.columns, rotation=45)\n",
        "    plt.yticks(tick_marks, df_confusion.index)\n",
        "    #plt.tight_layout()\n",
        "    plt.ylabel(df_confusion.index.name)\n",
        "    plt.xlabel(df_confusion.columns.name)"
      ],
      "execution_count": 22,
      "outputs": []
    },
    {
      "cell_type": "code",
      "metadata": {
        "colab": {
          "base_uri": "https://localhost:8080/",
          "height": 444
        },
        "id": "GiWGuZGKN0ZC",
        "outputId": "7fe998c8-0705-4ff9-a505-2bd9a14c8acb"
      },
      "source": [
        "print(pd.crosstab(Y_test, pred_test.reshape(Y_test.shape), rownames=['Actual'], colnames=['Predicted'], margins=True))\n",
        "plot_confusion_matrix(Y_test, pred_test)"
      ],
      "execution_count": 23,
      "outputs": [
        {
          "output_type": "stream",
          "text": [
            "Predicted  0.0   1.0   2.0  3.0   All\n",
            "Actual                               \n",
            "0.0         48   153    28    0   229\n",
            "1.0         25   712   388    5  1130\n",
            "2.0          2   324   636   16   978\n",
            "3.0          0    33   207   17   257\n",
            "4.0          0     1     5    0     6\n",
            "All         75  1223  1264   38  2600\n"
          ],
          "name": "stdout"
        },
        {
          "output_type": "display_data",
          "data": {
            "image/png": "[encoded data removed]",
            "text/plain": [
              "<Figure size 288x345.6 with 2 Axes>"
            ]
          },
          "metadata": {
            "tags": [],
            "needs_background": "light"
          }
        }
      ]
    },
    {
      "cell_type": "markdown",
      "metadata": {
        "id": "G5xgMaa1dC3m"
      },
      "source": [
        "## Modèle 1.2"
      ]
    },
    {
      "cell_type": "markdown",
      "metadata": {
        "id": "ppPShsTCHLRM"
      },
      "source": [
        "Jusque là on a évité le problème: en séparant en 5 classes de même taille, on a pas autant de chances de se retrouver dans chacune des cases... Pour être plus juste, on sépare les classes en fonctions des quantiles et on reteste le modèle à partir de ça"
      ]
    },
    {
      "cell_type": "code",
      "metadata": {
        "id": "P_QrXCo2N0ZF"
      },
      "source": [
        "quant = Y.quantile([0.2,0.4,0.6,0.8,1])"
      ],
      "execution_count": 24,
      "outputs": []
    },
    {
      "cell_type": "code",
      "metadata": {
        "colab": {
          "base_uri": "https://localhost:8080/",
          "height": 265
        },
        "id": "AGleZNLyN0ZG",
        "outputId": "92d5f454-c104-4fa8-ae1b-db3b0dcb3551"
      },
      "source": [
        "data_1000 = data.sample(frac = 0.1, random_state = 1)\n",
        "X = data_1000['description']\n",
        "Y = data_1000['points']\n",
        "\n",
        "Y_corr= Y-Y.mean()\n",
        "quant = quant - Y.mean()\n",
        "fig = Y_corr.hist()\n",
        "plt.show()\n",
        "\n",
        "Y_corr = np.array(Y_corr)\n",
        "for idx in range(len(Y_corr)):\n",
        "    if Y_corr[idx] <= quant[0.2]:\n",
        "        Y_corr[idx] = 0\n",
        "    elif Y_corr[idx] <= quant[0.4]:\n",
        "        Y_corr[idx] = 1\n",
        "    elif Y_corr[idx] <= quant[0.6]:\n",
        "        Y_corr[idx] = 2\n",
        "    elif Y_corr[idx] <= quant[0.8]:\n",
        "        Y_corr[idx] = 3\n",
        "    else:\n",
        "        Y_corr[idx] = 4"
      ],
      "execution_count": 25,
      "outputs": [
        {
          "output_type": "display_data",
          "data": {
            "image/png": "[encoded data removed]",
            "text/plain": [
              "<Figure size 432x288 with 1 Axes>"
            ]
          },
          "metadata": {
            "tags": [],
            "needs_background": "light"
          }
        }
      ]
    },
    {
      "cell_type": "code",
      "metadata": {
        "id": "JiG1Y7QzN0ZI"
      },
      "source": [
        "X = np.array(X)\n",
        "Y_corr = np.array(Y_corr, dtype=int)\n",
        "X_train,X_test,Y_train,Y_test=train_test_split(X,Y_corr,test_size=0.2)\n"
      ],
      "execution_count": 26,
      "outputs": []
    },
    {
      "cell_type": "code",
      "metadata": {
        "colab": {
          "base_uri": "https://localhost:8080/"
        },
        "id": "jGUw4WpDN0ZJ",
        "outputId": "cd2a842c-2156-4d73-f454-88367648340c"
      },
      "source": [
        "pred, W_1, b_1 = model(X_train, Y_train, word_to_vec_map)"
      ],
      "execution_count": null,
      "outputs": [
        {
          "output_type": "stream",
          "text": [
            "Epoch: 0 --- cost = 1.8426313577493074\n",
            "Accuracy: 0.3509666249879773\n",
            "Epoch: 100 --- cost = 1.6731341198413348\n",
            "Accuracy: 0.41665865153409637\n",
            "Epoch: 200 --- cost = 1.6856811100887492\n",
            "Accuracy: 0.4169471963066269\n",
            "Epoch: 300 --- cost = 1.699977062557159\n",
            "Accuracy: 0.41656246994325286\n"
          ],
          "name": "stdout"
        }
      ]
    },
    {
      "cell_type": "code",
      "metadata": {
        "id": "F0FQaD3ON0ZK"
      },
      "source": [
        "print(\"Training set:\")\n",
        "pred_train = predict(X_train, Y_train, W_1, b_1, word_to_vec_map)\n",
        "print('Test set:')\n",
        "pred_test = predict(X_test, Y_test, W_1, b_1, word_to_vec_map)\n"
      ],
      "execution_count": null,
      "outputs": []
    },
    {
      "cell_type": "code",
      "metadata": {
        "id": "uBQSpOKgN0ZM"
      },
      "source": [
        "print(pd.crosstab(Y_test, pred_test.reshape(Y_test.shape), rownames=['Actual'], colnames=['Predicted'], margins=True))\n",
        "plot_confusion_matrix(Y_test, pred_test)"
      ],
      "execution_count": null,
      "outputs": []
    },
    {
      "cell_type": "code",
      "metadata": {
        "id": "oaBK92DjN0ZN"
      },
      "source": [
        "#Mieux que le hasard certes mais toujours pas fou, on va tenter le LSTM"
      ],
      "execution_count": null,
      "outputs": []
    },
    {
      "cell_type": "markdown",
      "metadata": {
        "id": "M5UhUrl4dM9X"
      },
      "source": [
        "# Partie 3 : Modèle LSTM"
      ]
    },
    {
      "cell_type": "code",
      "metadata": {
        "id": "CdFcGPAgPmD3"
      },
      "source": [
        "import numpy as np\n",
        "from keras.models import Model\n",
        "from keras.layers import Dense, Input, Dropout, LSTM, Activation\n",
        "from keras.layers.embeddings import Embedding\n",
        "from keras.preprocessing import sequence\n",
        "from keras.initializers import glorot_uniform"
      ],
      "execution_count": 8,
      "outputs": []
    },
    {
      "cell_type": "code",
      "metadata": {
        "colab": {
          "base_uri": "https://localhost:8080/",
          "height": 265
        },
        "id": "kqfsc5CSvXZO",
        "outputId": "5320bebc-89fb-47d8-8f3f-02681464b804"
      },
      "source": [
        "data_10000 = data.sample(frac = 0.3, random_state = 1)\n",
        "data_10000 = data_10000.sort_values(by=['points'])\n",
        "X_LTSM = data_10000['description']\n",
        "Y = data_10000['points']\n",
        "Y_corr= (Y-Y.mean())\n",
        "quant = Y.quantile([0.2,0.4,0.6,0.8,1])\n",
        "quant = quant - Y.mean()\n",
        "fig = Y_corr.hist()\n",
        "plt.show()\n",
        "\n",
        "X_LTSM = np.array(X_LTSM)\n",
        "Y_corr = np.array(Y_corr)\n",
        "\n",
        "size =[]\n",
        "for i in range(len(X_LTSM)):\n",
        "  size.append(len(X_LTSM[i].split()))\n",
        "size = np.array(size)\n",
        "\n",
        "mask = np.ones(len(X_LTSM), dtype=bool)\n",
        "for i in range(len(X_LTSM)):\n",
        "  if len(X_LTSM[i].split())>np.quantile(size,0.99):\n",
        "    mask[i] = False\n",
        "X_LTSM = X_LTSM[mask]\n",
        "Y_corr = Y_corr[mask] \n",
        "\n",
        "\n",
        "for idx in range(len(Y_corr)):\n",
        "    if Y_corr[idx] <= quant[0.2] and np.sum(Y_corr ==0) < len(Y_corr)/5:\n",
        "        Y_corr[idx] = 0\n",
        "    elif Y_corr[idx] <= quant[0.4] and np.sum(Y_corr == 1) < len(Y_corr)/5:\n",
        "        Y_corr[idx] = 1\n",
        "    elif Y_corr[idx] <= quant[0.6] and np.sum(Y_corr == 2) < len(Y_corr)/5:\n",
        "        Y_corr[idx] = 2\n",
        "    elif Y_corr[idx] <= quant[0.8] and np.sum(Y_corr == 3) < len(Y_corr)/5:\n",
        "        Y_corr[idx] = 3\n",
        "    else:\n",
        "        Y_corr[idx] = 4\n"
      ],
      "execution_count": 9,
      "outputs": [
        {
          "output_type": "display_data",
          "data": {
            "image/png": "[encoded data removed]",
            "text/plain": [
              "<Figure size 432x288 with 1 Axes>"
            ]
          },
          "metadata": {
            "tags": [],
            "needs_background": "light"
          }
        }
      ]
    },
    {
      "cell_type": "code",
      "metadata": {
        "colab": {
          "base_uri": "https://localhost:8080/"
        },
        "id": "aEQbTiC3v2ti",
        "outputId": "95bf3fb7-298f-4c7b-d61e-1a2fe802fc58"
      },
      "source": [
        "size = size[mask]\r\n",
        "size.max()"
      ],
      "execution_count": 10,
      "outputs": [
        {
          "output_type": "execute_result",
          "data": {
            "text/plain": [
              "71"
            ]
          },
          "metadata": {
            "tags": []
          },
          "execution_count": 10
        }
      ]
    },
    {
      "cell_type": "code",
      "metadata": {
        "id": "767xub5cPs-B"
      },
      "source": [
        "def sentences_to_indices(X, word_to_index, max_len):\n",
        "    \"\"\"\n",
        "    Converts an array of sentences (strings) into an array of indices corresponding to words in the sentences.\n",
        "    The output shape should be such that it can be given to `Embedding()` (described in Figure 4). \n",
        "    \n",
        "    Arguments:\n",
        "    X -- array of sentences (strings), of shape (m, 1)\n",
        "    word_to_index -- a dictionary containing the each word mapped to its index\n",
        "    max_len -- maximum number of words in a sentence. You can assume every sentence in X is no longer than this. \n",
        "    \n",
        "    Returns:\n",
        "    X_indices -- array of indices corresponding to words in the sentences from X, of shape (m, max_len)\n",
        "    \"\"\"\n",
        "    \n",
        "    m = X.shape[0]                                   # number of training examples\n",
        "    \n",
        "    # Initialize X_indices as a numpy matrix of zeros and the correct shape (≈ 1 line)\n",
        "    X_indices = np.zeros((m, max_len))\n",
        "    \n",
        "    for i in range(m):                               # loop over training examples\n",
        "        # Convert the ith training sentence in lower case and split is into words. You should get a list of words.\n",
        "        sentence_words = X[i].lower().split()\n",
        "        \n",
        "        # Initialize j to 0\n",
        "        j = 0\n",
        "        \n",
        "        # Loop over the words of sentence_words\n",
        "        for w in sentence_words:\n",
        "          while w not in word_to_vec_map.keys():\n",
        "                if w[1:] in word_to_vec_map.keys():\n",
        "                    w = w[1:]\n",
        "                else:\n",
        "                    w = w[:-1]\n",
        "            # Set the (i,j)th entry of X_indices to the index of the correct word.\n",
        "          X_indices[i, j] = word_to_index[w]\n",
        "          j += 1\n",
        "            \n",
        "    \n",
        "    return X_indices"
      ],
      "execution_count": 11,
      "outputs": []
    },
    {
      "cell_type": "code",
      "metadata": {
        "id": "DKt-RtMBP07_"
      },
      "source": [
        "def pretrained_embedding_layer(word_to_vec_map, word_to_index):\n",
        "    \"\"\"\n",
        "    Creates a Keras Embedding() layer and loads in pre-trained GloVe 50-dimensional vectors.\n",
        "    \n",
        "    Arguments:\n",
        "    word_to_vec_map -- dictionary mapping words to their GloVe vector representation.\n",
        "    word_to_index -- dictionary mapping from words to their indices in the vocabulary (400,001 words)\n",
        "\n",
        "    Returns:\n",
        "    embedding_layer -- pretrained layer Keras instance\n",
        "    \"\"\"\n",
        "    \n",
        "    vocab_len = len(word_to_index) + 1                  # adding 1 to fit Keras embedding (requirement)\n",
        "    emb_dim = word_to_vec_map[\"cucumber\"].shape[0]      # define dimensionality of your GloVe word vectors (= 50)\n",
        "    \n",
        "    # Step 1\n",
        "    # Initialize the embedding matrix as a numpy array of zeros.\n",
        "    emb_matrix = np.zeros((vocab_len, emb_dim))\n",
        "    \n",
        "    # Step 2\n",
        "    # Set each row \"idx\" of the embedding matrix to be \n",
        "    # the word vector representation of the idx'th word of the vocabulary\n",
        "    for word, idx in word_to_index.items():\n",
        "        emb_matrix[idx, :] = word_to_vec_map[word]\n",
        "\n",
        "    # Step 3\n",
        "    # Define Keras embedding layer with the correct input and output sizes\n",
        "    # Make it non-trainable.\n",
        "    embedding_layer = Embedding(vocab_len, emb_dim, trainable = True)\n",
        "\n",
        "    # Step 4 (already done for you; please do not modify)\n",
        "    # Build the embedding layer, it is required before setting the weights of the embedding layer. \n",
        "    embedding_layer.build((None,)) \n",
        "    \n",
        "    # Set the weights of the embedding layer to the embedding matrix. Your layer is now pretrained.\n",
        "    embedding_layer.set_weights([emb_matrix])\n",
        "    \n",
        "    return embedding_layer"
      ],
      "execution_count": 12,
      "outputs": []
    },
    {
      "cell_type": "code",
      "metadata": {
        "colab": {
          "base_uri": "https://localhost:8080/"
        },
        "id": "ivQDxSQ3VJCR",
        "outputId": "aec7b9b4-295c-4b3d-fa4d-55efe217656d"
      },
      "source": [
        "embedding_layer = pretrained_embedding_layer(word_to_vec_map, word_to_index)\n",
        "print(\"weights[0][1][3] =\", embedding_layer.get_weights()[0][1][3])"
      ],
      "execution_count": 13,
      "outputs": [
        {
          "output_type": "stream",
          "text": [
            "weights[0][1][3] = -0.3403\n"
          ],
          "name": "stdout"
        }
      ]
    },
    {
      "cell_type": "code",
      "metadata": {
        "id": "j_M6sWFgP4lH"
      },
      "source": [
        "def Wine_model(input_shape, word_to_vec_map, word_to_index):\n",
        "    \"\"\"\n",
        "    Function creating the Emojify-v2 model's graph.\n",
        "    \n",
        "    Arguments:\n",
        "    input_shape -- shape of the input, usually (max_len,)\n",
        "    word_to_vec_map -- dictionary mapping every word in a vocabulary into its 50-dimensional vector representation\n",
        "    word_to_index -- dictionary mapping from words to their indices in the vocabulary (400,001 words)\n",
        "\n",
        "    Returns:\n",
        "    model -- a model instance in Keras\n",
        "    \"\"\"\n",
        "    \n",
        "    # Define sentence_indices as the input of the graph.\n",
        "    # It should be of shape input_shape and dtype 'int32' (as it contains indices, which are integers).\n",
        "    sentence_indices = Input(input_shape, dtype= 'int32')\n",
        "    \n",
        "    # Create the embedding layer pretrained with GloVe Vectors (≈1 line)\n",
        "    embedding_layer = pretrained_embedding_layer(word_to_vec_map, word_to_index)\n",
        "    \n",
        "    # Propagate sentence_indices through your embedding layer\n",
        "    # (See additional hints in the instructions).\n",
        "    embeddings = embedding_layer(sentence_indices)\n",
        "    \n",
        "    # Propagate the embeddings through an LSTM layer with 128-dimensional hidden state\n",
        "    # The returned output should be a batch of sequences.\n",
        "    X = LSTM(128, return_sequences=True)(embeddings)\n",
        "    # Add dropout with a probability of 0.5\n",
        "    X = Dropout(0.5)(X)\n",
        "    # Propagate X trough another LSTM layer with 128-dimensional hidden state\n",
        "    # The returned output should be a single hidden state, not a batch of sequences.\n",
        "    X = LSTM(128, return_sequences=False)(X)\n",
        "    # Add dropout with a probability of 0.5\n",
        "    X = Dropout(0.5)(X)\n",
        "    # Propagate X through a Dense layer with 5 units\n",
        "    X = Dense( units = 5)(X)\n",
        "    # Add a softmax activation\n",
        "    X = Activation('softmax')(X)\n",
        "    \n",
        "    # Create Model instance which converts sentence_indices into X.\n",
        "    model = Model(inputs=sentence_indices, outputs=X)\n",
        "    \n",
        "    return model"
      ],
      "execution_count": 17,
      "outputs": []
    },
    {
      "cell_type": "code",
      "metadata": {
        "colab": {
          "base_uri": "https://localhost:8080/"
        },
        "id": "csbi8COkP62u",
        "outputId": "447196bb-45af-4543-fc0f-23806b71c01d"
      },
      "source": [
        "model = Wine_model((size.max(),), word_to_vec_map, word_to_index)\n",
        "model.summary()"
      ],
      "execution_count": 95,
      "outputs": [
        {
          "output_type": "stream",
          "text": [
            "Model: \"functional_17\"\n",
            "_________________________________________________________________\n",
            "Layer (type)                 Output Shape              Param #   \n",
            "=================================================================\n",
            "input_9 (InputLayer)         [(None, 71)]              0         \n",
            "_________________________________________________________________\n",
            "embedding_11 (Embedding)     (None, 71, 50)            20000000  \n",
            "_________________________________________________________________\n",
            "lstm_16 (LSTM)               (None, 71, 128)           91648     \n",
            "_________________________________________________________________\n",
            "dropout_18 (Dropout)         (None, 71, 128)           0         \n",
            "_________________________________________________________________\n",
            "lstm_17 (LSTM)               (None, 128)               131584    \n",
            "_________________________________________________________________\n",
            "dropout_19 (Dropout)         (None, 128)               0         \n",
            "_________________________________________________________________\n",
            "dense_13 (Dense)             (None, 5)                 645       \n",
            "_________________________________________________________________\n",
            "activation_13 (Activation)   (None, 5)                 0         \n",
            "=================================================================\n",
            "Total params: 20,223,877\n",
            "Trainable params: 20,223,877\n",
            "Non-trainable params: 0\n",
            "_________________________________________________________________\n"
          ],
          "name": "stdout"
        }
      ]
    },
    {
      "cell_type": "code",
      "metadata": {
        "id": "xeW6hHCxP8i1"
      },
      "source": [
        "model.compile(loss='categorical_crossentropy', optimizer='adam', metrics=['accuracy'])"
      ],
      "execution_count": 96,
      "outputs": []
    },
    {
      "cell_type": "code",
      "metadata": {
        "id": "Z1vcRHybXC0R"
      },
      "source": [
        "Y_corr = np.array(Y_corr, dtype=int)\n",
        "X_train,X_test,Y_train,Y_test=train_test_split(X_LTSM,Y_corr,test_size=0.2)"
      ],
      "execution_count": 97,
      "outputs": []
    },
    {
      "cell_type": "code",
      "metadata": {
        "id": "Vc2dP9IoW8KD"
      },
      "source": [
        "X_train_indices = sentences_to_indices(X_train, word_to_index, size.max())\n",
        "Y_train_oh = convert_to_one_hot(Y_train)"
      ],
      "execution_count": 98,
      "outputs": []
    },
    {
      "cell_type": "code",
      "metadata": {
        "colab": {
          "base_uri": "https://localhost:8080/"
        },
        "id": "FbGwG1F4YSCy",
        "outputId": "5877f58a-2ebe-4a51-f64d-f1e118cd12dd"
      },
      "source": [
        "model.fit(X_train_indices, Y_train_oh, epochs = 10, batch_size = 1500, shuffle=True)"
      ],
      "execution_count": 102,
      "outputs": [
        {
          "output_type": "stream",
          "text": [
            "Epoch 1/10\n",
            "21/21 [==============================] - 5s 248ms/step - loss: 1.0557 - accuracy: 0.5338\n",
            "Epoch 2/10\n",
            "21/21 [==============================] - 5s 249ms/step - loss: 1.0231 - accuracy: 0.5492\n",
            "Epoch 3/10\n",
            "21/21 [==============================] - 5s 250ms/step - loss: 1.0008 - accuracy: 0.5577\n",
            "Epoch 4/10\n",
            "21/21 [==============================] - 5s 250ms/step - loss: 0.9775 - accuracy: 0.5746\n",
            "Epoch 5/10\n",
            "21/21 [==============================] - 5s 241ms/step - loss: 0.9564 - accuracy: 0.5875\n",
            "Epoch 6/10\n",
            "21/21 [==============================] - 5s 247ms/step - loss: 0.9381 - accuracy: 0.5977\n",
            "Epoch 7/10\n",
            "21/21 [==============================] - 5s 249ms/step - loss: 0.9489 - accuracy: 0.5909\n",
            "Epoch 8/10\n",
            "21/21 [==============================] - 5s 243ms/step - loss: 0.9246 - accuracy: 0.6055\n",
            "Epoch 9/10\n",
            "21/21 [==============================] - 5s 241ms/step - loss: 0.9007 - accuracy: 0.6195\n",
            "Epoch 10/10\n",
            "21/21 [==============================] - 5s 244ms/step - loss: 0.8616 - accuracy: 0.6446\n"
          ],
          "name": "stdout"
        },
        {
          "output_type": "execute_result",
          "data": {
            "text/plain": [
              "<tensorflow.python.keras.callbacks.History at 0x7fe4a2f4ae80>"
            ]
          },
          "metadata": {
            "tags": []
          },
          "execution_count": 102
        }
      ]
    },
    {
      "cell_type": "code",
      "metadata": {
        "colab": {
          "base_uri": "https://localhost:8080/"
        },
        "id": "Z7wptDTWatSP",
        "outputId": "84932426-4126-449e-e40f-9917da1e75ad"
      },
      "source": [
        "X_test_indices = sentences_to_indices(X_test, word_to_index, max_len = size.max())\n",
        "Y_test_oh = convert_to_one_hot(Y_test)\n",
        "loss, acc = model.evaluate(X_test_indices, Y_test_oh)\n",
        "pred = model.predict(X_test_indices)\n",
        "pred = np.argmax(pred, axis = 1) \n",
        "print()\n",
        "print(\"Test accuracy = \", acc)"
      ],
      "execution_count": 103,
      "outputs": [
        {
          "output_type": "stream",
          "text": [
            "242/242 [==============================] - 1s 6ms/step - loss: 1.3070 - accuracy: 0.4775\n",
            "\n",
            "Test accuracy =  0.47749030590057373\n"
          ],
          "name": "stdout"
        }
      ]
    },
    {
      "cell_type": "code",
      "metadata": {
        "colab": {
          "base_uri": "https://localhost:8080/",
          "height": 394
        },
        "id": "Jf4sTzfeVJ3p",
        "outputId": "776e980e-8b3e-4f9d-fda2-9161cf4a82dc"
      },
      "source": [
        "print(pd.crosstab(Y_test, pred.reshape(Y_test.shape), rownames=['Actual'], colnames=['Predicted'], margins=True))\r\n",
        "plot_confusion_matrix(Y_test, pred)"
      ],
      "execution_count": 104,
      "outputs": [
        {
          "output_type": "stream",
          "text": [
            "Predicted     0     1     2     3     4   All\n",
            "Actual                                       \n",
            "0          1120   339    89     8     2  1558\n",
            "1           544   659   251    79     8  1541\n",
            "2           171   524   532   252    60  1539\n",
            "3            32   220   495   538   313  1598\n",
            "4             4    67   183   398   842  1494\n",
            "All        1871  1809  1550  1275  1225  7730\n"
          ],
          "name": "stdout"
        },
        {
          "output_type": "display_data",
          "data": {
            "image/png": "[encoded data removed]",
            "text/plain": [
              "<Figure size 288x288 with 2 Axes>"
            ]
          },
          "metadata": {
            "tags": [],
            "needs_background": "light"
          }
        }
      ]
    },
    {
      "cell_type": "markdown",
      "metadata": {
        "id": "RXb04vX27EY9"
      },
      "source": [
        " # Partie 4: Le retour du modèle 1"
      ]
    },
    {
      "cell_type": "code",
      "metadata": {
        "id": "xjdwmzSmlAMl"
      },
      "source": [
        "def sentence_to_avg(sentence, word_to_vec_map):\n",
        " \n",
        "    # Step 1: Split sentence into list of lower case words (≈ 1 line)\n",
        "    words = sentence.lower().split()\n",
        "\n",
        "    # Initialize the average word vector, should have the same shape as your word vectors.\n",
        "    avg = np.zeros(50)\n",
        "    \n",
        "    # Step 2: average the word vectors. You can loop over the words in the list \"words\".\n",
        "    total = 0\n",
        "    for w in words:\n",
        "        while w not in word_to_vec_map.keys():\n",
        "            if w[1:] in word_to_vec_map.keys():\n",
        "                w = w[1:]\n",
        "            else:\n",
        "                w = w[:-1]\n",
        "        total += word_to_vec_map[w]\n",
        "    avg = total/len(words)\n",
        "    \n",
        "    \n",
        "    return avg"
      ],
      "execution_count": null,
      "outputs": []
    },
    {
      "cell_type": "code",
      "metadata": {
        "colab": {
          "base_uri": "https://localhost:8080/",
          "height": 265
        },
        "id": "A294HUFL7GCP",
        "outputId": "2985d9bc-0508-4bf9-e565-ae81e6921936"
      },
      "source": [
        "data_1000 = data[['description', 'points', 'price', 'taster_name']].sample(frac = 1, random_state = 1)\n",
        "data_1000 = data_1000.dropna()\n",
        "X = data_1000['description']\n",
        "Y = data_1000['points']\n",
        "Y = Y\n",
        "prices = data_1000['price']\n",
        "\n",
        "fig = Y.hist()\n",
        "plt.show()\n",
        "\n",
        "Y = np.array(Y)\n",
        "m=len(X)\n",
        "\n",
        "X = np.array(X)\n",
        "X_emb = np.zeros((m,50)) \n",
        "prices = np.array(prices)\n",
        "prices = np.log(prices)\n",
        "prices = prices - prices.mean()\n",
        "#taster = testeur(data_1000)/18\n",
        "for i in range(m): \n",
        "  X_emb[i] = sentence_to_avg(X[i], word_to_vec_map)\n",
        "X_emb = np.column_stack((X_emb,prices))\n",
        "#X_emb = np.column_stack((X_emb,taster))\n",
        "Y = np.array(Y, dtype=int)\n",
        "X_train,X_test,Y_train,Y_test=train_test_split(X_emb,Y,test_size=0.2)"
      ],
      "execution_count": null,
      "outputs": [
        {
          "output_type": "display_data",
          "data": {
            "image/png": "[encoded data removed]",
            "text/plain": [
              "<Figure size 432x288 with 1 Axes>"
            ]
          },
          "metadata": {
            "tags": []
          }
        }
      ]
    },
    {
      "cell_type": "code",
      "metadata": {
        "id": "DteFwOza63Cg"
      },
      "source": [
        "def relu(x):\n",
        "    \"\"\"Compute softmax values for each sets of scores in x.\"\"\"\n",
        "    if x <0:\n",
        "      x = 0\n",
        "    return x"
      ],
      "execution_count": null,
      "outputs": []
    },
    {
      "cell_type": "code",
      "metadata": {
        "id": "mBYstrwZ4pga"
      },
      "source": [
        "def model_4(X, Y, word_to_vec_map, learning_rate = 0.01, num_iterations = 400):\n",
        "\n",
        "    m = Y.shape[0]                          # number of training examples\n",
        "    n_y = 1                                 # number of classes  \n",
        "    n_h = 51                               # dimensions of the GloVe vectors + 1\n",
        "    \n",
        "    # Initialize parameters using Xavier initialization\n",
        "    W = np.random.randn(n_y, n_h) / np.sqrt(n_h)\n",
        "    b = np.zeros((n_y,)) \n",
        "    \n",
        "    \n",
        "    # Optimization loop\n",
        "    for t in range(num_iterations): # Loop over the number of iterations\n",
        "        for i in range(m):          # Loop over the training examples\n",
        "          \n",
        "            # Forward propagate the avg through the softmax layer\n",
        "            z = np.dot(W,X[i]) + b\n",
        "            \n",
        "            a = relu(z)\n",
        "            \n",
        "            # Compute cost using the i'th training label's one hot representation and \"A\" (the output of the softmax)\n",
        "            \n",
        "            # Compute gradients \n",
        "            dz = a - Y[i]\n",
        "            dW = np.dot(dz.reshape(n_y,1), X[i].reshape(1, n_h))\n",
        "            db = dz\n",
        "\n",
        "            # Update parameters with Stochastic Gradient Descent\n",
        "            W = W - learning_rate * dW\n",
        "            b = b - learning_rate * db\n",
        "        \n",
        "        if t % 100 == 0:\n",
        "            print(\"Epoch: \" + str(t))\n",
        "            pred = predict_4(X, Y, W, b, word_to_vec_map)\n",
        "\n",
        "    return pred, W, b"
      ],
      "execution_count": null,
      "outputs": []
    },
    {
      "cell_type": "code",
      "metadata": {
        "id": "cL1N8j8g7XGD"
      },
      "source": [
        "def predict_4(X, Y, W, b, word_to_vec_map):\n",
        "    \"\"\"\n",
        "    Given X (sentences) and Y (emoji indices), predict emojis and compute the accuracy of your model over the given set.\n",
        "    \n",
        "    Arguments:\n",
        "    X -- input data containing sentences, numpy array of shape (m, None)\n",
        "    Y -- labels, containing index of the label emoji, numpy array of shape (m, 1)\n",
        "    \n",
        "    Returns:\n",
        "    pred -- numpy array of shape (m, 1) with your predictions\n",
        "    \"\"\"\n",
        "    m = X.shape[0]\n",
        "    pred = np.zeros(m)\n",
        "    \n",
        "    for j in range(m):                       # Loop over training examples\n",
        "        \n",
        "        # Forward propagation\n",
        "        Z = np.dot(W, X[j]) + b\n",
        "        A = relu(Z)\n",
        "        pred[j] = A[0]\n",
        "        \n",
        "    print(\"Accuracy: \"  + str(np.square(np.subtract(Y,pred)).mean() ))\n",
        "    \n",
        "    return pred"
      ],
      "execution_count": null,
      "outputs": []
    },
    {
      "cell_type": "code",
      "metadata": {
        "colab": {
          "base_uri": "https://localhost:8080/"
        },
        "id": "_OWcTmzBBxXV",
        "outputId": "96b5889b-2e88-4443-d54e-8247cebed0a3"
      },
      "source": [
        "pred, W_4, b_4 = model_4(X_train, Y_train, word_to_vec_map)\n",
        "print(pred)"
      ],
      "execution_count": null,
      "outputs": [
        {
          "output_type": "stream",
          "text": [
            "Epoch: 0\n",
            "Accuracy: 5.157476464924126\n",
            "Epoch: 100\n",
            "Accuracy: 4.450830774806901\n",
            "Epoch: 200\n",
            "Accuracy: 4.450982237596474\n",
            "Epoch: 300\n",
            "Accuracy: 4.450990823271798\n",
            "Epoch: 400\n",
            "Accuracy: 4.450991497683144\n",
            "Epoch: 500\n",
            "Accuracy: 4.45099160269804\n",
            "Epoch: 600\n",
            "Accuracy: 4.45099161985956\n",
            "Epoch: 700\n",
            "Accuracy: 4.450991622379849\n",
            "[85.69309962 91.93536189 90.20496968 ... 86.05388037 89.96704993\n",
            " 87.84834505]\n"
          ],
          "name": "stdout"
        }
      ]
    },
    {
      "cell_type": "code",
      "metadata": {
        "colab": {
          "base_uri": "https://localhost:8080/"
        },
        "id": "F2dcGoqfB6Xj",
        "outputId": "3d1027b4-f6e5-478b-b372-f18d856c3686"
      },
      "source": [
        "print(\"Training set:\")\n",
        "pred_train = predict_4(X_train, Y_train, W_4, b_4, word_to_vec_map)\n",
        "print('Test set:')\n",
        "pred_test = predict_4(X_test, Y_test, W_4, b_4, word_to_vec_map)"
      ],
      "execution_count": null,
      "outputs": [
        {
          "output_type": "stream",
          "text": [
            "Training set:\n",
            "Accuracy: 4.450991622717817\n",
            "Test set:\n",
            "Accuracy: 4.4537626016700775\n"
          ],
          "name": "stdout"
        }
      ]
    },
    {
      "cell_type": "code",
      "metadata": {
        "colab": {
          "base_uri": "https://localhost:8080/"
        },
        "id": "i-x3FdpGDrBU",
        "outputId": "2e97c19c-e9c3-453f-fc85-f502df29c63f"
      },
      "source": [
        "ecart = []\n",
        "for i in range(0,len(Y_test)):\n",
        " ecart.append(abs(pred_test[i] - Y_test[i]))\n",
        "ecart = np.array(ecart)\n",
        "print(np.max(ecart), ecart.mean(), ecart.var())\n",
        "print(np.quantile(ecart, [0.1,0.9]))"
      ],
      "execution_count": null,
      "outputs": [
        {
          "output_type": "stream",
          "text": [
            "10.372858700730234 1.661618870254965 1.6927853316826909\n",
            "[0.26074194 3.42299071]\n"
          ],
          "name": "stdout"
        }
      ]
    },
    {
      "cell_type": "code",
      "metadata": {
        "colab": {
          "base_uri": "https://localhost:8080/",
          "height": 396
        },
        "id": "DTYwkSjCPvoN",
        "outputId": "cabe6801-4b9e-4c76-a645-efcf96741484"
      },
      "source": [
        "Y_test = pd.Series(Y_test)\n",
        "quant = Y_test.quantile([0.2,0.4,0.6,0.8,1])\n",
        "Y_res = np.array(Y_test)\n",
        "\n",
        "for idx in range(len(Y_test)):\n",
        "    if Y_res[idx] <= quant[0.2]:\n",
        "        Y_res[idx] = 0\n",
        "    elif Y_res[idx] <= quant[0.4]:\n",
        "        Y_res[idx] = 1\n",
        "    elif Y_res[idx] <= quant[0.6]:\n",
        "        Y_res[idx] = 2\n",
        "    elif Y_res[idx] <= quant[0.8]:\n",
        "        Y_res[idx] = 3\n",
        "    else:\n",
        "        Y_res[idx] = 4\n",
        "\n",
        "pred_test= pd.Series(pred_test)\n",
        "quant_pred = pred_test.quantile([0.2,0.4,0.6,0.8,1])\n",
        "pred_res = np.array(pred_test)\n",
        "\n",
        "for idx in range(len(Y_test)):\n",
        "    if pred_res[idx] <= quant_pred[0.2]:\n",
        "        pred_res[idx] = 0\n",
        "    elif pred_res[idx] <= quant_pred[0.4]:\n",
        "        pred_res[idx] = 1\n",
        "    elif pred_res[idx] <= quant_pred[0.6]:\n",
        "        pred_res[idx] = 2\n",
        "    elif pred_res[idx] <= quant_pred[0.8]:\n",
        "        pred_res[idx] = 3\n",
        "    else:\n",
        "        pred_res[idx] = 4\n",
        "\n",
        "print(pd.crosstab(Y_res, pred_res.reshape(Y_test.shape), rownames=['Actual'], colnames=['Predicted'], margins=True))\n",
        "plot_confusion_matrix(Y_res, pred_res)\n"
      ],
      "execution_count": null,
      "outputs": [
        {
          "output_type": "stream",
          "text": [
            "Predicted   0.0   1.0   2.0   3.0   4.0    All\n",
            "Actual                                        \n",
            "0          2481  1251   620   275    74   4701\n",
            "1          1087  1492  1323   821   306   5029\n",
            "2           194   496   592   509   245   2036\n",
            "3            94   557  1025  1407  1152   4235\n",
            "4             4    63   299   847  2082   3295\n",
            "All        3860  3859  3859  3859  3859  19296\n"
          ],
          "name": "stdout"
        },
        {
          "output_type": "display_data",
          "data": {
            "image/png": "[encoded data removed]",
            "text/plain": [
              "<Figure size 288x288 with 2 Axes>"
            ]
          },
          "metadata": {
            "tags": []
          }
        }
      ]
    },
    {
      "cell_type": "code",
      "metadata": {
        "colab": {
          "base_uri": "https://localhost:8080/",
          "height": 35
        },
        "id": "Ks6omAOOVC9m",
        "outputId": "62037cd3-a727-4915-f99c-fabae6f39f51"
      },
      "source": [
        "str('Accuracy: ' + str(np.mean(pred_res[:] == Y_res[:]) ) )"
      ],
      "execution_count": null,
      "outputs": [
        {
          "output_type": "execute_result",
          "data": {
            "application/vnd.google.colaboratory.intrinsic+json": {
              "type": "string"
            },
            "text/plain": [
              "'Accuracy: 0.4173922056384743'"
            ]
          },
          "metadata": {
            "tags": []
          },
          "execution_count": 205
        }
      ]
    },
    {
      "cell_type": "code",
      "metadata": {
        "colab": {
          "base_uri": "https://localhost:8080/",
          "height": 265
        },
        "id": "3uA6nSm4Zbje",
        "outputId": "fc0dd692-6344-4229-f152-e4b0c6af333b"
      },
      "source": [
        "fig1 = Y_test.hist(alpha = 0.5, color = 'r')\n",
        "fig2 = pred_test.hist(alpha = 0.5, color = 'b')\n",
        "\n",
        "plt.show()"
      ],
      "execution_count": null,
      "outputs": [
        {
          "output_type": "display_data",
          "data": {
            "image/png": "[encoded data removed]",
            "text/plain": [
              "<Figure size 432x288 with 1 Axes>"
            ]
          },
          "metadata": {
            "tags": []
          }
        }
      ]
    },
    {
      "cell_type": "markdown",
      "metadata": {
        "id": "EAR_76JU_pPp"
      },
      "source": [
        "# Partie 5 : Retour sur LSTM"
      ]
    },
    {
      "cell_type": "markdown",
      "metadata": {
        "id": "iFxPcGYW_xqF"
      },
      "source": [
        "Nous avons vu Partie 3 que le modèle LSTM sous forme de classe ne fonctionner pas parfaitement. On va donc cette fois chercher à avoir en output directement le score.\n",
        "La seule chose qui change réellement, c'est la tête de la fonction de perte."
      ]
    },
    {
      "cell_type": "code",
      "metadata": {
        "id": "ifIosjetx_pl"
      },
      "source": [
        "import numpy as np\n",
        "from keras.models import Model\n",
        "from keras.layers import Dense, Input, Dropout, LSTM, Activation\n",
        "from keras.layers.embeddings import Embedding\n",
        "from keras.preprocessing import sequence\n",
        "from keras.initializers import glorot_uniform"
      ],
      "execution_count": 153,
      "outputs": []
    },
    {
      "cell_type": "code",
      "metadata": {
        "colab": {
          "base_uri": "https://localhost:8080/"
        },
        "id": "By--QqkLAP4y",
        "outputId": "3787d370-04cf-4394-bbfa-f88333e32b13"
      },
      "source": [
        "data_10000 = data.sample(frac = 0.3, random_state = 1)\n",
        "X_LTSM = data_10000['description']\n",
        "Y_LTSM = data_10000['points']\n",
        "\n",
        "print(len(X_LTSM))\n",
        "\n",
        "X_LTSM = np.array(X_LTSM)\n",
        "Y_LTSM = np.array(Y_LTSM)\n",
        "\n",
        "size =[]\n",
        "for i in range(len(X_LTSM)):\n",
        "  size.append(len(X_LTSM[i].split()))\n",
        "size = np.array(size)\n",
        "\n",
        "mask = np.ones(len(X_LTSM), dtype=bool)\n",
        "for i in range(len(X_LTSM)):\n",
        "  if len(X_LTSM[i].split())>np.quantile(size,0.99):\n",
        "    mask[i] = False\n",
        "X_LTSM = X_LTSM[mask]\n",
        "Y_LTSM = Y_LTSM[mask] \n",
        "size = size[mask] \n",
        "\n",
        "min_Y = Y_LTSM.min()\n",
        "max_Y = Y_LTSM.max()\n",
        "Y_LTSM = (Y_LTSM - min_Y)/(max_Y - min_Y)\n",
        "\n"
      ],
      "execution_count": 154,
      "outputs": [
        {
          "output_type": "stream",
          "text": [
            "38991\n"
          ],
          "name": "stdout"
        }
      ]
    },
    {
      "cell_type": "code",
      "metadata": {
        "colab": {
          "base_uri": "https://localhost:8080/",
          "height": 283
        },
        "id": "NHG0GY7XQFcD",
        "outputId": "2520524f-60e9-4959-b99e-22e2e9504314"
      },
      "source": [
        "#Run it just if you want to predict the price (instead of the above cellul):\r\n",
        "data_10000 = data.sample(frac = 0.3, random_state = 1)\r\n",
        "X_LTSM = data_10000['description']\r\n",
        "Y_LTSM = data_10000['price']\r\n",
        "Y_LTSM = Y_LTSM.fillna(method='backfill')\r\n",
        "\r\n",
        "print(len(X_LTSM))\r\n",
        "\r\n",
        "X_LTSM = np.array(X_LTSM)\r\n",
        "Y_LTSM = np.array(Y_LTSM)\r\n",
        "\r\n",
        "mask1 = np.ones(len(Y_LTSM), dtype=bool)\r\n",
        "for i in range(len(X_LTSM)):\r\n",
        "  if Y_LTSM[i] >np.quantile(Y_LTSM,0.98):\r\n",
        "    mask1[i] = False\r\n",
        "X_LTSM = X_LTSM[mask1]\r\n",
        "Y_LTSM = Y_LTSM[mask1]\r\n",
        "\r\n",
        "size =[]\r\n",
        "for i in range(len(X_LTSM)):\r\n",
        "  size.append(len(X_LTSM[i].split()))\r\n",
        "size = np.array(size)\r\n",
        "\r\n",
        "mask2 = np.ones(len(X_LTSM), dtype=bool)\r\n",
        "for i in range(len(X_LTSM)):\r\n",
        "  if len(X_LTSM[i].split())>np.quantile(size,0.999):\r\n",
        "    mask2[i] = False\r\n",
        "X_LTSM = X_LTSM[mask2]\r\n",
        "Y_LTSM = Y_LTSM[mask2] \r\n",
        "\r\n",
        "min_Y = Y_LTSM.min()\r\n",
        "max_Y = Y_LTSM.max()\r\n",
        "Y_LTSM = (Y_LTSM - min_Y)/(max_Y - min_Y)\r\n",
        "size = size[mask2]\r\n",
        "size.max()\r\n",
        "pd.Series(Y_LTSM).hist()\r\n",
        "plt.show()"
      ],
      "execution_count": 81,
      "outputs": [
        {
          "output_type": "stream",
          "text": [
            "38991\n"
          ],
          "name": "stdout"
        },
        {
          "output_type": "display_data",
          "data": {
            "image/png": "[encoded data removed]",
            "text/plain": [
              "<Figure size 432x288 with 1 Axes>"
            ]
          },
          "metadata": {
            "tags": [],
            "needs_background": "light"
          }
        }
      ]
    },
    {
      "cell_type": "code",
      "metadata": {
        "id": "aLIwKz7vrxQi"
      },
      "source": [
        "X_train,X_test,Y_train,Y_test=train_test_split(X_LTSM,Y_LTSM,test_size=0.2)\n",
        "X_train_indices = sentences_to_indices(X_train, word_to_index, size.max())"
      ],
      "execution_count": 112,
      "outputs": []
    },
    {
      "cell_type": "code",
      "metadata": {
        "id": "ysP_upwxAdk1"
      },
      "source": [
        "def Wine_model_2(input_shape, word_to_vec_map, word_to_index):\n",
        "    \"\"\"\n",
        "    Arguments:\n",
        "    input_shape -- shape of the input, usually (max_len,)\n",
        "    word_to_vec_map -- dictionary mapping every word in a vocabulary into its 50-dimensional vector representation\n",
        "    word_to_index -- dictionary mapping from words to their indices in the vocabulary (400,001 words)\n",
        "\n",
        "    Returns:\n",
        "    model -- a model instance in Keras\n",
        "    \"\"\"\n",
        "    \n",
        "    sentence_indices = Input(input_shape, dtype= 'int32')\n",
        "    \n",
        "    # Create the embedding layer pretrained with GloVe Vectors (≈1 line)\n",
        "    embedding_layer = pretrained_embedding_layer(word_to_vec_map, word_to_index)\n",
        "    \n",
        "    # Propagate sentence_indices through your embedding layer\n",
        "    embeddings = embedding_layer(sentence_indices)\n",
        "    \n",
        "    # Propagate the embeddings through an LSTM layer with 128-dimensional hidden state\n",
        "    X = LSTM(128, return_sequences= True)(embeddings)\n",
        "    # Add dropout with a probability of 0.5\n",
        "    X = Dropout(0.5)(X)\n",
        "    # Propagate X trough another LSTM layer with 128-dimensional hidden state\n",
        "    X = LSTM(128, return_sequences= False)(X)\n",
        "    # Add dropout with a probability of 0.5\n",
        "    X = Dropout(0.5)(X)\n",
        "    X = Dense ( units = 128 )(X)\n",
        "    X = Activation('relu')(X)\n",
        "    X = Dropout(0.5)(X)\n",
        "    X = Dense( units = 1 )(X)\n",
        "    X = Activation('linear')(X)\n",
        "    \n",
        "    # Create Model instance which converts sentence_indices into X.\n",
        "    model = Model(inputs=sentence_indices, outputs=X)\n",
        "    \n",
        "    return model"
      ],
      "execution_count": 113,
      "outputs": []
    },
    {
      "cell_type": "code",
      "metadata": {
        "colab": {
          "base_uri": "https://localhost:8080/"
        },
        "id": "__TyjeccrTcA",
        "outputId": "f97984e6-d6da-42a3-d54f-79e9e2f38bf7"
      },
      "source": [
        "model_2 = Wine_model_2((size.max(),), word_to_vec_map, word_to_index)\n",
        "model_2.summary()"
      ],
      "execution_count": 114,
      "outputs": [
        {
          "output_type": "stream",
          "text": [
            "Model: \"functional_15\"\n",
            "_________________________________________________________________\n",
            "Layer (type)                 Output Shape              Param #   \n",
            "=================================================================\n",
            "input_8 (InputLayer)         [(None, 71)]              0         \n",
            "_________________________________________________________________\n",
            "embedding_8 (Embedding)      (None, 71, 50)            20000000  \n",
            "_________________________________________________________________\n",
            "lstm_14 (LSTM)               (None, 71, 128)           91648     \n",
            "_________________________________________________________________\n",
            "dropout_21 (Dropout)         (None, 71, 128)           0         \n",
            "_________________________________________________________________\n",
            "lstm_15 (LSTM)               (None, 128)               131584    \n",
            "_________________________________________________________________\n",
            "dropout_22 (Dropout)         (None, 128)               0         \n",
            "_________________________________________________________________\n",
            "dense_14 (Dense)             (None, 128)               16512     \n",
            "_________________________________________________________________\n",
            "activation_14 (Activation)   (None, 128)               0         \n",
            "_________________________________________________________________\n",
            "dropout_23 (Dropout)         (None, 128)               0         \n",
            "_________________________________________________________________\n",
            "dense_15 (Dense)             (None, 1)                 129       \n",
            "_________________________________________________________________\n",
            "activation_15 (Activation)   (None, 1)                 0         \n",
            "=================================================================\n",
            "Total params: 20,239,873\n",
            "Trainable params: 20,239,873\n",
            "Non-trainable params: 0\n",
            "_________________________________________________________________\n"
          ],
          "name": "stdout"
        }
      ]
    },
    {
      "cell_type": "code",
      "metadata": {
        "colab": {
          "base_uri": "https://localhost:8080/",
          "height": 398
        },
        "id": "6q3RrRv4q5BR",
        "outputId": "dca72f76-c800-4c8a-e5ae-2d4a29a9f921"
      },
      "source": [
        "# Compute that to load a model : \n",
        "\n",
        "from keras.models import model_from_json\n",
        "from keras.models import load_model\n",
        "\n",
        "\n",
        "json_file = open('/content/drive/My Drive/Wine_project/model_num.json', 'r')\n",
        "model_json = json_file.read()\n",
        "json_file.close()\n",
        "model = model_from_json(model_json)\n",
        "# load weights into new model\n",
        "model_2.load_weights(\"/content/drive/My Drive/Wine_project/model_num.h5\")\n",
        "print(\"Loaded model from disk\")\n",
        "model_2.save('/content/drive/My Drive/Wine_project/model_num.hdf5')\n",
        "model_2=load_model('/content/drive/My Drive/Wine_project/model_num.hdf5')\n",
        "model_2.compile(optimizer = 'adam', loss= 'mean_squared_error') \n",
        "\n",
        "\n",
        "X_test_indices = sentences_to_indices(X_test, word_to_index, size.max())\n",
        "loss = model.evaluate(X_test_indices, Y_test)"
      ],
      "execution_count": 46,
      "outputs": [
        {
          "output_type": "error",
          "ename": "ValueError",
          "evalue": "ignored",
          "traceback": [
            "\u001b[0;31m---------------------------------------------------------------------------\u001b[0m",
            "\u001b[0;31mValueError\u001b[0m                                Traceback (most recent call last)",
            "\u001b[0;32m<ipython-input-46-5b7699c82a32>\u001b[0m in \u001b[0;36m<module>\u001b[0;34m()\u001b[0m\n\u001b[1;32m     10\u001b[0m \u001b[0mmodel\u001b[0m \u001b[0;34m=\u001b[0m \u001b[0mmodel_from_json\u001b[0m\u001b[0;34m(\u001b[0m\u001b[0mmodel_json\u001b[0m\u001b[0;34m)\u001b[0m\u001b[0;34m\u001b[0m\u001b[0;34m\u001b[0m\u001b[0m\n\u001b[1;32m     11\u001b[0m \u001b[0;31m# load weights into new model\u001b[0m\u001b[0;34m\u001b[0m\u001b[0;34m\u001b[0m\u001b[0;34m\u001b[0m\u001b[0m\n\u001b[0;32m---> 12\u001b[0;31m \u001b[0mmodel_2\u001b[0m\u001b[0;34m.\u001b[0m\u001b[0mload_weights\u001b[0m\u001b[0;34m(\u001b[0m\u001b[0;34m\"/content/drive/My Drive/Wine_project/model_num.h5\"\u001b[0m\u001b[0;34m)\u001b[0m\u001b[0;34m\u001b[0m\u001b[0;34m\u001b[0m\u001b[0m\n\u001b[0m\u001b[1;32m     13\u001b[0m \u001b[0mprint\u001b[0m\u001b[0;34m(\u001b[0m\u001b[0;34m\"Loaded model from disk\"\u001b[0m\u001b[0;34m)\u001b[0m\u001b[0;34m\u001b[0m\u001b[0;34m\u001b[0m\u001b[0m\n\u001b[1;32m     14\u001b[0m \u001b[0mmodel_2\u001b[0m\u001b[0;34m.\u001b[0m\u001b[0msave\u001b[0m\u001b[0;34m(\u001b[0m\u001b[0;34m'/content/drive/My Drive/Wine_project/model_num.hdf5'\u001b[0m\u001b[0;34m)\u001b[0m\u001b[0;34m\u001b[0m\u001b[0;34m\u001b[0m\u001b[0m\n",
            "\u001b[0;32m/usr/local/lib/python3.6/dist-packages/tensorflow/python/keras/engine/training.py\u001b[0m in \u001b[0;36mload_weights\u001b[0;34m(self, filepath, by_name, skip_mismatch, options)\u001b[0m\n\u001b[1;32m   2209\u001b[0m             f, self.layers, skip_mismatch=skip_mismatch)\n\u001b[1;32m   2210\u001b[0m       \u001b[0;32melse\u001b[0m\u001b[0;34m:\u001b[0m\u001b[0;34m\u001b[0m\u001b[0;34m\u001b[0m\u001b[0m\n\u001b[0;32m-> 2211\u001b[0;31m         \u001b[0mhdf5_format\u001b[0m\u001b[0;34m.\u001b[0m\u001b[0mload_weights_from_hdf5_group\u001b[0m\u001b[0;34m(\u001b[0m\u001b[0mf\u001b[0m\u001b[0;34m,\u001b[0m \u001b[0mself\u001b[0m\u001b[0;34m.\u001b[0m\u001b[0mlayers\u001b[0m\u001b[0;34m)\u001b[0m\u001b[0;34m\u001b[0m\u001b[0;34m\u001b[0m\u001b[0m\n\u001b[0m\u001b[1;32m   2212\u001b[0m \u001b[0;34m\u001b[0m\u001b[0m\n\u001b[1;32m   2213\u001b[0m   \u001b[0;32mdef\u001b[0m \u001b[0m_updated_config\u001b[0m\u001b[0;34m(\u001b[0m\u001b[0mself\u001b[0m\u001b[0;34m)\u001b[0m\u001b[0;34m:\u001b[0m\u001b[0;34m\u001b[0m\u001b[0;34m\u001b[0m\u001b[0m\n",
            "\u001b[0;32m/usr/local/lib/python3.6/dist-packages/tensorflow/python/keras/saving/hdf5_format.py\u001b[0m in \u001b[0;36mload_weights_from_hdf5_group\u001b[0;34m(f, layers)\u001b[0m\n\u001b[1;32m    684\u001b[0m                      \u001b[0;34m'containing '\u001b[0m \u001b[0;34m+\u001b[0m \u001b[0mstr\u001b[0m\u001b[0;34m(\u001b[0m\u001b[0mlen\u001b[0m\u001b[0;34m(\u001b[0m\u001b[0mlayer_names\u001b[0m\u001b[0;34m)\u001b[0m\u001b[0;34m)\u001b[0m \u001b[0;34m+\u001b[0m\u001b[0;34m\u001b[0m\u001b[0;34m\u001b[0m\u001b[0m\n\u001b[1;32m    685\u001b[0m                      \u001b[0;34m' layers into a model with '\u001b[0m \u001b[0;34m+\u001b[0m \u001b[0mstr\u001b[0m\u001b[0;34m(\u001b[0m\u001b[0mlen\u001b[0m\u001b[0;34m(\u001b[0m\u001b[0mfiltered_layers\u001b[0m\u001b[0;34m)\u001b[0m\u001b[0;34m)\u001b[0m \u001b[0;34m+\u001b[0m\u001b[0;34m\u001b[0m\u001b[0;34m\u001b[0m\u001b[0m\n\u001b[0;32m--> 686\u001b[0;31m                      ' layers.')\n\u001b[0m\u001b[1;32m    687\u001b[0m \u001b[0;34m\u001b[0m\u001b[0m\n\u001b[1;32m    688\u001b[0m   \u001b[0;31m# We batch weight value assignments in a single backend call\u001b[0m\u001b[0;34m\u001b[0m\u001b[0;34m\u001b[0m\u001b[0;34m\u001b[0m\u001b[0m\n",
            "\u001b[0;31mValueError\u001b[0m: You are trying to load a weight file containing 4 layers into a model with 5 layers."
          ]
        }
      ]
    },
    {
      "cell_type": "code",
      "metadata": {
        "id": "eiS29PtwB0Km"
      },
      "source": [
        "from keras import metrics\r\n",
        "model_2.compile(loss='mean_squared_error', optimizer='adam', metrics= [metrics.mean_squared_error, \r\n",
        "                       metrics.mean_absolute_error])"
      ],
      "execution_count": 115,
      "outputs": []
    },
    {
      "cell_type": "code",
      "metadata": {
        "colab": {
          "base_uri": "https://localhost:8080/"
        },
        "id": "iEih2NtuCnQM",
        "outputId": "cc889bad-ea2b-4104-a870-abb84b1042c7"
      },
      "source": [
        "model_2.fit(X_train_indices, Y_train, epochs = 5, batch_size = 1500, shuffle=True)"
      ],
      "execution_count": 157,
      "outputs": [
        {
          "output_type": "stream",
          "text": [
            "Epoch 1/5\n",
            "21/21 [==============================] - 5s 242ms/step - loss: 0.0081 - mean_squared_error: 0.0081 - mean_absolute_error: 0.0711\n",
            "Epoch 2/5\n",
            "21/21 [==============================] - 5s 243ms/step - loss: 0.0082 - mean_squared_error: 0.0082 - mean_absolute_error: 0.0715\n",
            "Epoch 3/5\n",
            "21/21 [==============================] - 5s 238ms/step - loss: 0.0079 - mean_squared_error: 0.0079 - mean_absolute_error: 0.0701\n",
            "Epoch 4/5\n",
            "21/21 [==============================] - 5s 241ms/step - loss: 0.0075 - mean_squared_error: 0.0075 - mean_absolute_error: 0.0680\n",
            "Epoch 5/5\n",
            "21/21 [==============================] - 5s 239ms/step - loss: 0.0076 - mean_squared_error: 0.0076 - mean_absolute_error: 0.0683\n"
          ],
          "name": "stdout"
        },
        {
          "output_type": "execute_result",
          "data": {
            "text/plain": [
              "<tensorflow.python.keras.callbacks.History at 0x7f14bfd02ba8>"
            ]
          },
          "metadata": {
            "tags": []
          },
          "execution_count": 157
        }
      ]
    },
    {
      "cell_type": "code",
      "metadata": {
        "colab": {
          "base_uri": "https://localhost:8080/"
        },
        "id": "GZ4pHoJkP3xn",
        "outputId": "f478cd80-62d0-4e6d-e718-23ba9ea6bd9f"
      },
      "source": [
        "X_test_indices = sentences_to_indices(X_test, word_to_index, size.max())\n",
        "loss, mse, mae = model_2.evaluate(X_test_indices, Y_test)\n",
        "pred = model_2.predict(X_test_indices)"
      ],
      "execution_count": 158,
      "outputs": [
        {
          "output_type": "stream",
          "text": [
            "242/242 [==============================] - 1s 6ms/step - loss: 0.0076 - mean_squared_error: 0.0076 - mean_absolute_error: 0.0680\n"
          ],
          "name": "stdout"
        }
      ]
    },
    {
      "cell_type": "code",
      "metadata": {
        "id": "XxXC4F3r80E6",
        "colab": {
          "base_uri": "https://localhost:8080/",
          "height": 235
        },
        "outputId": "ef570968-077b-4dff-fe1c-6f675130d106"
      },
      "source": [
        "from keras.models import model_from_json\n",
        "from keras.models import load_model\n",
        "model_json = model.to_json()\n",
        "with open(\"/content/drive/My Drive/Wine_project/nawak.json\", \"w\") as json_file:\n",
        "  json_file.write(model_json)\n",
        "model.save_weights(\"/content/drive/My Drive/Wine_project/nawak.hdf5\")"
      ],
      "execution_count": 27,
      "outputs": [
        {
          "output_type": "error",
          "ename": "NameError",
          "evalue": "ignored",
          "traceback": [
            "\u001b[0;31m---------------------------------------------------------------------------\u001b[0m",
            "\u001b[0;31mNameError\u001b[0m                                 Traceback (most recent call last)",
            "\u001b[0;32m<ipython-input-27-6a0f31948dd9>\u001b[0m in \u001b[0;36m<module>\u001b[0;34m()\u001b[0m\n\u001b[1;32m      1\u001b[0m \u001b[0;32mfrom\u001b[0m \u001b[0mkeras\u001b[0m\u001b[0;34m.\u001b[0m\u001b[0mmodels\u001b[0m \u001b[0;32mimport\u001b[0m \u001b[0mmodel_from_json\u001b[0m\u001b[0;34m\u001b[0m\u001b[0;34m\u001b[0m\u001b[0m\n\u001b[1;32m      2\u001b[0m \u001b[0;32mfrom\u001b[0m \u001b[0mkeras\u001b[0m\u001b[0;34m.\u001b[0m\u001b[0mmodels\u001b[0m \u001b[0;32mimport\u001b[0m \u001b[0mload_model\u001b[0m\u001b[0;34m\u001b[0m\u001b[0;34m\u001b[0m\u001b[0m\n\u001b[0;32m----> 3\u001b[0;31m \u001b[0mmodel_json\u001b[0m \u001b[0;34m=\u001b[0m \u001b[0mmodel\u001b[0m\u001b[0;34m.\u001b[0m\u001b[0mto_json\u001b[0m\u001b[0;34m(\u001b[0m\u001b[0;34m)\u001b[0m\u001b[0;34m\u001b[0m\u001b[0;34m\u001b[0m\u001b[0m\n\u001b[0m\u001b[1;32m      4\u001b[0m \u001b[0;32mwith\u001b[0m \u001b[0mopen\u001b[0m\u001b[0;34m(\u001b[0m\u001b[0;34m\"/content/drive/My Drive/Wine_project/nawak.json\"\u001b[0m\u001b[0;34m,\u001b[0m \u001b[0;34m\"w\"\u001b[0m\u001b[0;34m)\u001b[0m \u001b[0;32mas\u001b[0m \u001b[0mjson_file\u001b[0m\u001b[0;34m:\u001b[0m\u001b[0;34m\u001b[0m\u001b[0;34m\u001b[0m\u001b[0m\n\u001b[1;32m      5\u001b[0m   \u001b[0mjson_file\u001b[0m\u001b[0;34m.\u001b[0m\u001b[0mwrite\u001b[0m\u001b[0;34m(\u001b[0m\u001b[0mmodel_json\u001b[0m\u001b[0;34m)\u001b[0m\u001b[0;34m\u001b[0m\u001b[0;34m\u001b[0m\u001b[0m\n",
            "\u001b[0;31mNameError\u001b[0m: name 'model' is not defined"
          ]
        }
      ]
    },
    {
      "cell_type": "code",
      "metadata": {
        "colab": {
          "base_uri": "https://localhost:8080/",
          "height": 265
        },
        "id": "r0AG6Pm1_Lnu",
        "outputId": "a0b49028-5f46-4960-8898-08920e503816"
      },
      "source": [
        "pred_post,Y_test_post = pred*(max_Y - min_Y) + min_Y,Y_test*(max_Y - min_Y) + min_Y\r\n",
        "pred_post = np.reshape(pred_post,(len(pred)))\r\n",
        "ecart = pred_post - Y_test_post\r\n",
        "pd.Series(ecart).hist()\r\n",
        "plt.show()"
      ],
      "execution_count": 159,
      "outputs": [
        {
          "output_type": "display_data",
          "data": {
            "image/png": "[encoded data removed]",
            "text/plain": [
              "<Figure size 432x288 with 1 Axes>"
            ]
          },
          "metadata": {
            "tags": [],
            "needs_background": "light"
          }
        }
      ]
    },
    {
      "cell_type": "code",
      "metadata": {
        "colab": {
          "base_uri": "https://localhost:8080/"
        },
        "id": "R1e6GwuC2UYM",
        "outputId": "9d650f9b-fbb3-41c2-dfa6-1f5120a485ea"
      },
      "source": [
        "np.quantile(ecart, 0.90)"
      ],
      "execution_count": 161,
      "outputs": [
        {
          "output_type": "execute_result",
          "data": {
            "text/plain": [
              "1.6705192565917972"
            ]
          },
          "metadata": {
            "tags": []
          },
          "execution_count": 161
        }
      ]
    },
    {
      "cell_type": "code",
      "metadata": {
        "colab": {
          "base_uri": "https://localhost:8080/"
        },
        "id": "zlv9VzyHSQp0",
        "outputId": "e8a8dd17-4c0c-4e9f-ca19-5843697b10fc"
      },
      "source": [
        "#petit test aléatoire:\r\n",
        "i = rd.randint(0,len(pred_post))\r\n",
        "print(\"Prédiction:\" + str(pred_post[i]))\r\n",
        "print(\"Réel :\" +str(Y_test_post[i]))"
      ],
      "execution_count": 138,
      "outputs": [
        {
          "output_type": "stream",
          "text": [
            "Prédiction:89.92085\n",
            "Réel :91.0\n"
          ],
          "name": "stdout"
        }
      ]
    },
    {
      "cell_type": "code",
      "metadata": {
        "colab": {
          "base_uri": "https://localhost:8080/",
          "height": 265
        },
        "id": "Ns2gzsy7ci_T",
        "outputId": "cc0ab579-5e5a-4f1d-ad71-6be29d034d32"
      },
      "source": [
        "fig1 = pd.Series(Y_test_post).hist(alpha = 0.5, color = 'r')\n",
        "fig2 = pd.Series(pred_post).hist(alpha = 0.5, color = 'b')\n",
        "\n",
        "plt.show()"
      ],
      "execution_count": 139,
      "outputs": [
        {
          "output_type": "display_data",
          "data": {
            "image/png": "[encoded data removed]",
            "text/plain": [
              "<Figure size 432x288 with 1 Axes>"
            ]
          },
          "metadata": {
            "tags": [],
            "needs_background": "light"
          }
        }
      ]
    },
    {
      "cell_type": "code",
      "metadata": {
        "id": "TL-XvM8DoXYP"
      },
      "source": [
        "def predict_wine_score(sentence):\r\n",
        "  #sentence MUST BE a string, it is the sentence describing the wine \r\n",
        "  #return the score (out of 100) predicted for the bottle described\r\n",
        "  sentence = np.array([sentence])\r\n",
        "  sentence = sentences_to_indices(sentence,word_to_index, size.max())\r\n",
        "  return model_2.predict(sentence)[0][0]*(max_Y - min_Y) + min_Y"
      ],
      "execution_count": 155,
      "outputs": []
    },
    {
      "cell_type": "code",
      "metadata": {
        "colab": {
          "base_uri": "https://localhost:8080/"
        },
        "id": "jM98FGa9Knsi",
        "outputId": "456ea870-c4e3-4c4e-d4ef-b98f88f873bf"
      },
      "source": [
        "#Petit exemple avec ce vin \r\n",
        "#https://www.vivino.com/FR/fr/sainte-marguerite-symphonie-cotes-de-provence-rouge/w/3496774?year=2018&price_id=22596529&cart_item_source=nav-explore\r\n",
        "#noté 4.3/5 ce qui équivaut à 86/100\r\n",
        "\r\n",
        "predict_wine_score(\"After the white, the red. Wine with a nice roundness, a nice spicy and fleshy side. It is powerful and subtle at the same time. It's organic and it's all good. One of my reference domains in Côtes de Provence.\")"
      ],
      "execution_count": 166,
      "outputs": [
        {
          "output_type": "execute_result",
          "data": {
            "text/plain": [
              "86.099613904953"
            ]
          },
          "metadata": {
            "tags": []
          },
          "execution_count": 166
        }
      ]
    },
    {
      "cell_type": "markdown",
      "metadata": {
        "id": "kHcpemzuO0Gd"
      },
      "source": [
        "# Conclusion\r\n"
      ]
    },
    {
      "cell_type": "markdown",
      "metadata": {
        "id": "XUxLmVKFO4VE"
      },
      "source": [
        "Le modèle donne déjà des résultats très convaincants!\r\n",
        "Cependant il existe encore de nombreuses pistes d'améliorations...\r\n",
        "On pourrait se servir du prix pour mieux déterminer le score ou du score pour mieux déterminer le prix.\r\n",
        "Il est également possible de prendre en compte l'auteur de la critique pour améliorer la prédiction.\r\n",
        "\r\n",
        "Un autre problème du modèle et la difficulté qu'il a à prédire les prix extremes. Si nous nous intéressons à des bouteilles de très hautes qualité il devient rapidement inutile.\r\n",
        "\r\n",
        "Globalement, ce modèle s'adresse à des acheteurs lambda qui doivent se forger rapidement une opinion d'une bouteille à partir d'une descrpition succinte."
      ]
    },
    {
      "cell_type": "code",
      "metadata": {
        "id": "7d4mecPqRhPg"
      },
      "source": [
        ""
      ],
      "execution_count": null,
      "outputs": []
    }
  ]
}