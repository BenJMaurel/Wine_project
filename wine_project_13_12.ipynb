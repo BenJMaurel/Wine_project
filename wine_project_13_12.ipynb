{
  "nbformat": 4,
  "nbformat_minor": 0,
  "metadata": {
    "colab": {
      "name": "wine_project_07_12.ipynb",
      "provenance": [],
      "collapsed_sections": [],
      "toc_visible": true,
      "include_colab_link": true
    },
    "kernelspec": {
      "display_name": "Python 3",
      "language": "python",
      "name": "python3"
    },
    "language_info": {
      "codemirror_mode": {
        "name": "ipython",
        "version": 3
      },
      "file_extension": ".py",
      "mimetype": "text/x-python",
      "name": "python",
      "nbconvert_exporter": "python",
      "pygments_lexer": "ipython3",
      "version": "3.7.3"
    }
  },
  "cells": [
    {
      "cell_type": "markdown",
      "metadata": {
        "id": "view-in-github",
        "colab_type": "text"
      },
      "source": [
        "<a href=\"https://colab.research.google.com/github/BenJMaurel/Wine_project/blob/main/wine_project_13_12.ipynb\" target=\"_parent\"><img src=\"https://colab.research.google.com/assets/colab-badge.svg\" alt=\"Open In Colab\"/></a>"
      ]
    },
    {
      "cell_type": "markdown",
      "metadata": {
        "id": "Rr8lUrYZY9zP"
      },
      "source": [
        "# Partie 0 : Quelques imports de bon fonctionnement"
      ]
    },
    {
      "cell_type": "markdown",
      "metadata": {
        "id": "aIKcc3jKDKRO"
      },
      "source": [
        "The general idea of this project is to design a way for a casual wine enthusiast to know if a wine is good or not just thanks to a critic of someone commonly known as a \"good wine taster\"."
      ]
    },
    {
      "cell_type": "code",
      "metadata": {
        "colab": {
          "base_uri": "https://localhost:8080/"
        },
        "id": "2a7NBLf-aIt_",
        "outputId": "91a3bbfe-6240-4e5a-c25d-6a95c4449e46"
      },
      "source": [
        "from google.colab import drive\n",
        "drive.mount('/content/drive')"
      ],
      "execution_count": 3,
      "outputs": [
        {
          "output_type": "stream",
          "text": [
            "Mounted at /content/drive\n"
          ],
          "name": "stdout"
        }
      ]
    },
    {
      "cell_type": "code",
      "metadata": {
        "id": "txSi5YN3N0VZ"
      },
      "source": [
        "import numpy as np\n",
        "import pandas as pd\n",
        "import matplotlib.pyplot as plt\n",
        "import seaborn as sns\n",
        "from math import ceil\n",
        "import random as rd"
      ],
      "execution_count": 4,
      "outputs": []
    },
    {
      "cell_type": "code",
      "metadata": {
        "id": "GNBdYmFmcE5o"
      },
      "source": [
        "import pandas as pd\n",
        "from sklearn.model_selection import train_test_split\n",
        "from sklearn.datasets import load_iris"
      ],
      "execution_count": 5,
      "outputs": []
    },
    {
      "cell_type": "code",
      "metadata": {
        "id": "Iw8x4RnocUJG"
      },
      "source": [
        "import csv\n",
        "#Permet de lire facilement le fichier GloVe (vectorisation des mots dans un evn de dim 50)\n",
        "def read_glove_vecs(glove_file):\n",
        "    with open(glove_file, 'r', encoding='utf-8') as f:\n",
        "        words = set()\n",
        "        word_to_vec_map = {}\n",
        "        for line in f:\n",
        "            line = line.strip().split()\n",
        "            curr_word = line[0]\n",
        "            words.add(curr_word)\n",
        "            word_to_vec_map[curr_word] = np.array(line[1:], dtype=np.float64)\n",
        "        \n",
        "        i = 1\n",
        "        words_to_index = {}\n",
        "        index_to_words = {}\n",
        "        for w in sorted(words):\n",
        "            words_to_index[w] = i\n",
        "            index_to_words[i] = w\n",
        "            i = i + 1\n",
        "    return words_to_index, index_to_words, word_to_vec_map"
      ],
      "execution_count": 6,
      "outputs": []
    },
    {
      "cell_type": "code",
      "metadata": {
        "id": "GRVlDSgHN0Vc"
      },
      "source": [
        "def convert_to_one_hot(vecteur):\n",
        "    n_values = int(np.max(vecteur) + 1)\n",
        "    oh = np.eye(n_values)[vecteur]\n",
        "    return oh"
      ],
      "execution_count": 7,
      "outputs": []
    },
    {
      "cell_type": "code",
      "metadata": {
        "id": "AI9M_nYFaa2S"
      },
      "source": [
        "data = pd.read_csv(\"/content/drive/My Drive/Wine_project/winemag-data-130k-v2.csv\")"
      ],
      "execution_count": 8,
      "outputs": []
    },
    {
      "cell_type": "code",
      "metadata": {
        "id": "4ZHuZh84ckIs"
      },
      "source": [
        "word_to_index, index_to_word, word_to_vec_map = read_glove_vecs('/content/drive/My Drive/Wine_project/glove.6B.50d.txt')"
      ],
      "execution_count": 9,
      "outputs": []
    },
    {
      "cell_type": "markdown",
      "metadata": {
        "id": "iZEgD8poOAIY"
      },
      "source": [
        "# Partie 1: Statistiques descriptives"
      ]
    },
    {
      "cell_type": "code",
      "metadata": {
        "colab": {
          "base_uri": "https://localhost:8080/"
        },
        "id": "u5L1iVdFN0Vk",
        "outputId": "33d28acf-4284-4b9b-f7be-ba9777d1313e"
      },
      "source": [
        "data = data.drop('Unnamed: 0', axis = 1)\n",
        "data.columns\n"
      ],
      "execution_count": null,
      "outputs": [
        {
          "output_type": "execute_result",
          "data": {
            "text/plain": [
              "Index(['country', 'description', 'designation', 'points', 'price', 'province',\n",
              "       'region_1', 'region_2', 'taster_name', 'taster_twitter_handle', 'title',\n",
              "       'variety', 'winery'],\n",
              "      dtype='object')"
            ]
          },
          "metadata": {
            "tags": []
          },
          "execution_count": 8
        }
      ]
    },
    {
      "cell_type": "code",
      "metadata": {
        "colab": {
          "base_uri": "https://localhost:8080/"
        },
        "id": "g-B0Y4s_N0Vp",
        "outputId": "04e59f8c-e398-4d22-d73d-1f9d979a1a91"
      },
      "source": [
        "data['country'].nunique()\n",
        "data['region_2'].nunique()\n",
        "data['province'].count()"
      ],
      "execution_count": null,
      "outputs": [
        {
          "output_type": "execute_result",
          "data": {
            "text/plain": [
              "129908"
            ]
          },
          "metadata": {
            "tags": []
          },
          "execution_count": 51
        }
      ]
    },
    {
      "cell_type": "code",
      "metadata": {
        "colab": {
          "base_uri": "https://localhost:8080/",
          "height": 294
        },
        "id": "Ut_cTTRpN0WD",
        "outputId": "478d24da-fe78-4ba6-a816-da1d10040faa"
      },
      "source": [
        "data.describe()"
      ],
      "execution_count": null,
      "outputs": [
        {
          "output_type": "execute_result",
          "data": {
            "text/html": [
              "<div>\n",
              "<style scoped>\n",
              "    .dataframe tbody tr th:only-of-type {\n",
              "        vertical-align: middle;\n",
              "    }\n",
              "\n",
              "    .dataframe tbody tr th {\n",
              "        vertical-align: top;\n",
              "    }\n",
              "\n",
              "    .dataframe thead th {\n",
              "        text-align: right;\n",
              "    }\n",
              "</style>\n",
              "<table border=\"1\" class=\"dataframe\">\n",
              "  <thead>\n",
              "    <tr style=\"text-align: right;\">\n",
              "      <th></th>\n",
              "      <th>points</th>\n",
              "      <th>price</th>\n",
              "    </tr>\n",
              "  </thead>\n",
              "  <tbody>\n",
              "    <tr>\n",
              "      <th>count</th>\n",
              "      <td>129971.000000</td>\n",
              "      <td>120975.000000</td>\n",
              "    </tr>\n",
              "    <tr>\n",
              "      <th>mean</th>\n",
              "      <td>88.447138</td>\n",
              "      <td>35.363389</td>\n",
              "    </tr>\n",
              "    <tr>\n",
              "      <th>std</th>\n",
              "      <td>3.039730</td>\n",
              "      <td>41.022218</td>\n",
              "    </tr>\n",
              "    <tr>\n",
              "      <th>min</th>\n",
              "      <td>80.000000</td>\n",
              "      <td>4.000000</td>\n",
              "    </tr>\n",
              "    <tr>\n",
              "      <th>25%</th>\n",
              "      <td>86.000000</td>\n",
              "      <td>17.000000</td>\n",
              "    </tr>\n",
              "    <tr>\n",
              "      <th>50%</th>\n",
              "      <td>88.000000</td>\n",
              "      <td>25.000000</td>\n",
              "    </tr>\n",
              "    <tr>\n",
              "      <th>75%</th>\n",
              "      <td>91.000000</td>\n",
              "      <td>42.000000</td>\n",
              "    </tr>\n",
              "    <tr>\n",
              "      <th>max</th>\n",
              "      <td>100.000000</td>\n",
              "      <td>3300.000000</td>\n",
              "    </tr>\n",
              "  </tbody>\n",
              "</table>\n",
              "</div>"
            ],
            "text/plain": [
              "              points          price\n",
              "count  129971.000000  120975.000000\n",
              "mean       88.447138      35.363389\n",
              "std         3.039730      41.022218\n",
              "min        80.000000       4.000000\n",
              "25%        86.000000      17.000000\n",
              "50%        88.000000      25.000000\n",
              "75%        91.000000      42.000000\n",
              "max       100.000000    3300.000000"
            ]
          },
          "metadata": {
            "tags": []
          },
          "execution_count": 52
        }
      ]
    },
    {
      "cell_type": "code",
      "metadata": {
        "colab": {
          "base_uri": "https://localhost:8080/"
        },
        "id": "3bbY3QFEN0WG",
        "outputId": "ead4ace9-d0b5-42c5-e39d-cbdcfb5ffa73"
      },
      "source": [
        "data.isnull().sum()"
      ],
      "execution_count": null,
      "outputs": [
        {
          "output_type": "execute_result",
          "data": {
            "text/plain": [
              "country                     63\n",
              "description                  0\n",
              "designation              37465\n",
              "points                       0\n",
              "price                     8996\n",
              "province                    63\n",
              "region_1                 21247\n",
              "region_2                 79460\n",
              "taster_name              26244\n",
              "taster_twitter_handle    31213\n",
              "title                        0\n",
              "variety                      1\n",
              "winery                       0\n",
              "dtype: int64"
            ]
          },
          "metadata": {
            "tags": []
          },
          "execution_count": 53
        }
      ]
    },
    {
      "cell_type": "code",
      "metadata": {
        "colab": {
          "base_uri": "https://localhost:8080/",
          "height": 265
        },
        "id": "ZpP5FwWUN0WM",
        "outputId": "550edba5-2dae-465a-cb2b-5bc29b89bb95"
      },
      "source": [
        "fig = data['points'].hist()\n",
        "plt.show()"
      ],
      "execution_count": null,
      "outputs": [
        {
          "output_type": "display_data",
          "data": {
            "image/png": "[encoded data removed]",
            "text/plain": [
              "<Figure size 432x288 with 1 Axes>"
            ]
          },
          "metadata": {
            "tags": []
          }
        }
      ]
    },
    {
      "cell_type": "code",
      "metadata": {
        "colab": {
          "base_uri": "https://localhost:8080/",
          "height": 265
        },
        "id": "0IZuIWVcN0WP",
        "outputId": "2f1f8a53-e155-49dd-e0b1-eef237e49445"
      },
      "source": [
        "fig = data['price'].plot(kind = 'hist', logy=True)\n",
        "plt.show()"
      ],
      "execution_count": null,
      "outputs": [
        {
          "output_type": "display_data",
          "data": {
            "image/png": "[encoded data removed]",
            "text/plain": [
              "<Figure size 432x288 with 1 Axes>"
            ]
          },
          "metadata": {
            "tags": []
          }
        }
      ]
    },
    {
      "cell_type": "code",
      "metadata": {
        "colab": {
          "base_uri": "https://localhost:8080/",
          "height": 283
        },
        "id": "HIt6P-pRN0WV",
        "outputId": "391329ff-72b9-4ce4-fb1a-67567cf07c75"
      },
      "source": [
        "plt.plot(data['points'], data['price'], 'r.')"
      ],
      "execution_count": null,
      "outputs": [
        {
          "output_type": "execute_result",
          "data": {
            "text/plain": [
              "[<matplotlib.lines.Line2D at 0x7fec2a041cc0>]"
            ]
          },
          "metadata": {
            "tags": []
          },
          "execution_count": 56
        },
        {
          "output_type": "display_data",
          "data": {
            "image/png": "[encoded data removed]",
            "text/plain": [
              "<Figure size 432x288 with 1 Axes>"
            ]
          },
          "metadata": {
            "tags": []
          }
        }
      ]
    },
    {
      "cell_type": "code",
      "metadata": {
        "id": "-naoj5nEN0WY"
      },
      "source": [
        "priceForPoint = data.groupby(by=\"points\").mean()"
      ],
      "execution_count": null,
      "outputs": []
    },
    {
      "cell_type": "code",
      "metadata": {
        "id": "lAWUvhx4N0Wa"
      },
      "source": [
        "#PriceForPoint donne la moyenne du prix de la bouteille pour un nbr de point donné"
      ],
      "execution_count": null,
      "outputs": []
    },
    {
      "cell_type": "code",
      "metadata": {
        "colab": {
          "base_uri": "https://localhost:8080/",
          "height": 283
        },
        "id": "OLqxa2DMN0Wc",
        "outputId": "902605cd-dcb3-4363-d66e-dc5f81f6c8f4"
      },
      "source": [
        "plt.plot(priceForPoint.index, priceForPoint , 'r.')\n",
        "plt.plot()"
      ],
      "execution_count": null,
      "outputs": [
        {
          "output_type": "execute_result",
          "data": {
            "text/plain": [
              "[]"
            ]
          },
          "metadata": {
            "tags": []
          },
          "execution_count": 52
        },
        {
          "output_type": "display_data",
          "data": {
            "image/png": "[encoded data removed]",
            "text/plain": [
              "<Figure size 432x288 with 1 Axes>"
            ]
          },
          "metadata": {
            "tags": []
          }
        }
      ]
    },
    {
      "cell_type": "code",
      "metadata": {
        "colab": {
          "base_uri": "https://localhost:8080/",
          "height": 283
        },
        "id": "GDkc-1O2N0We",
        "outputId": "602b3f11-c7d5-4202-ba65-f392551f1009"
      },
      "source": [
        "plt.plot(priceForPoint.index, np.log(priceForPoint) , 'r.')\n",
        "plt.plot()"
      ],
      "execution_count": null,
      "outputs": [
        {
          "output_type": "execute_result",
          "data": {
            "text/plain": [
              "[]"
            ]
          },
          "metadata": {
            "tags": []
          },
          "execution_count": 53
        },
        {
          "output_type": "display_data",
          "data": {
            "image/png": "[encoded data removed]",
            "text/plain": [
              "<Figure size 432x288 with 1 Axes>"
            ]
          },
          "metadata": {
            "tags": []
          }
        }
      ]
    },
    {
      "cell_type": "code",
      "metadata": {
        "colab": {
          "base_uri": "https://localhost:8080/"
        },
        "id": "TapOKYuGN0Wg",
        "outputId": "3e3aeb54-709f-460f-875c-ff18b56a5328"
      },
      "source": [
        "countries = data[ [\"country\", \"winery\"] ].groupby(by=\"country\").count().sort_values(by=\"winery\")[::-1]\n",
        "countries.count()"
      ],
      "execution_count": null,
      "outputs": [
        {
          "output_type": "execute_result",
          "data": {
            "text/plain": [
              "winery    43\n",
              "dtype: int64"
            ]
          },
          "metadata": {
            "tags": []
          },
          "execution_count": 54
        }
      ]
    },
    {
      "cell_type": "code",
      "metadata": {
        "id": "DTG4aFDBN0Wn"
      },
      "source": [
        "countries_price = data[ [\"country\", \"price\"]].groupby(by =\"country\").mean()"
      ],
      "execution_count": null,
      "outputs": []
    },
    {
      "cell_type": "code",
      "metadata": {
        "colab": {
          "base_uri": "https://localhost:8080/",
          "height": 454
        },
        "id": "NT5l3ScvN0Wr",
        "outputId": "3cb9afad-e8aa-421b-936d-5ecd99aa6616"
      },
      "source": [
        "countries_price.sort_values('price').plot(kind = \"bar\", figsize = (25,10), color = 'red')"
      ],
      "execution_count": null,
      "outputs": [
        {
          "output_type": "execute_result",
          "data": {
            "text/plain": [
              "<matplotlib.axes._subplots.AxesSubplot at 0x7fd9247ef8d0>"
            ]
          },
          "metadata": {
            "tags": []
          },
          "execution_count": 56
        },
        {
          "output_type": "display_data",
          "data": {
            "image/png": "[encoded data removed]",
            "text/plain": [
              "<Figure size 1800x720 with 1 Axes>"
            ]
          },
          "metadata": {
            "tags": []
          }
        }
      ]
    },
    {
      "cell_type": "code",
      "metadata": {
        "colab": {
          "base_uri": "https://localhost:8080/",
          "height": 283
        },
        "id": "dsO9KVTYN0Wx",
        "outputId": "69aa9162-9c49-4cd1-e0b4-19fc01c0840c"
      },
      "source": [
        "dfr=data[data[\"country\"] == 'France']\n",
        "plt.plot(dfr['price'],dfr['points'], 'r.')"
      ],
      "execution_count": null,
      "outputs": [
        {
          "output_type": "execute_result",
          "data": {
            "text/plain": [
              "[<matplotlib.lines.Line2D at 0x7fd9247261d0>]"
            ]
          },
          "metadata": {
            "tags": []
          },
          "execution_count": 57
        },
        {
          "output_type": "display_data",
          "data": {
            "image/png": "[encoded data removed]",
            "text/plain": [
              "<Figure size 432x288 with 1 Axes>"
            ]
          },
          "metadata": {
            "tags": []
          }
        }
      ]
    },
    {
      "cell_type": "code",
      "metadata": {
        "id": "ZBrvNvdRN0W3"
      },
      "source": [
        "dfr_max=dfr[dfr['price']> dfr['price'].quantile( q = 0.99)]"
      ],
      "execution_count": null,
      "outputs": []
    },
    {
      "cell_type": "code",
      "metadata": {
        "id": "VJ4YZzszN0W8"
      },
      "source": [
        "dfr_max=dfr_max[['region_1','winery']]"
      ],
      "execution_count": null,
      "outputs": []
    },
    {
      "cell_type": "code",
      "metadata": {
        "colab": {
          "base_uri": "https://localhost:8080/"
        },
        "id": "U6RlLNOjN0XA",
        "outputId": "15ef1360-7fdf-4318-b579-04b3e0d2ed27"
      },
      "source": [
        "dfr_max.count()"
      ],
      "execution_count": null,
      "outputs": [
        {
          "output_type": "execute_result",
          "data": {
            "text/plain": [
              "region_1    172\n",
              "winery      172\n",
              "dtype: int64"
            ]
          },
          "metadata": {
            "tags": []
          },
          "execution_count": 60
        }
      ]
    },
    {
      "cell_type": "code",
      "metadata": {
        "colab": {
          "base_uri": "https://localhost:8080/",
          "height": 233
        },
        "id": "1IHmKPXON0XE",
        "outputId": "dcccf4cd-baef-4c74-ccde-95f8e7123ebe"
      },
      "source": [
        "dfr_max_winery = dfr_max.groupby('region_1').count().sort_values(by=\"winery\")[::-1]\n",
        "dfr_max_winery.head()"
      ],
      "execution_count": null,
      "outputs": [
        {
          "output_type": "execute_result",
          "data": {
            "text/html": [
              "<div>\n",
              "<style scoped>\n",
              "    .dataframe tbody tr th:only-of-type {\n",
              "        vertical-align: middle;\n",
              "    }\n",
              "\n",
              "    .dataframe tbody tr th {\n",
              "        vertical-align: top;\n",
              "    }\n",
              "\n",
              "    .dataframe thead th {\n",
              "        text-align: right;\n",
              "    }\n",
              "</style>\n",
              "<table border=\"1\" class=\"dataframe\">\n",
              "  <thead>\n",
              "    <tr style=\"text-align: right;\">\n",
              "      <th></th>\n",
              "      <th>winery</th>\n",
              "    </tr>\n",
              "    <tr>\n",
              "      <th>region_1</th>\n",
              "      <th></th>\n",
              "    </tr>\n",
              "  </thead>\n",
              "  <tbody>\n",
              "    <tr>\n",
              "      <th>Champagne</th>\n",
              "      <td>22</td>\n",
              "    </tr>\n",
              "    <tr>\n",
              "      <th>Pessac-Léognan</th>\n",
              "      <td>13</td>\n",
              "    </tr>\n",
              "    <tr>\n",
              "      <th>Pauillac</th>\n",
              "      <td>12</td>\n",
              "    </tr>\n",
              "    <tr>\n",
              "      <th>Chevalier-Montrachet</th>\n",
              "      <td>11</td>\n",
              "    </tr>\n",
              "    <tr>\n",
              "      <th>Bâtard-Montrachet</th>\n",
              "      <td>10</td>\n",
              "    </tr>\n",
              "  </tbody>\n",
              "</table>\n",
              "</div>"
            ],
            "text/plain": [
              "                      winery\n",
              "region_1                    \n",
              "Champagne                 22\n",
              "Pessac-Léognan            13\n",
              "Pauillac                  12\n",
              "Chevalier-Montrachet      11\n",
              "Bâtard-Montrachet         10"
            ]
          },
          "metadata": {
            "tags": []
          },
          "execution_count": 61
        }
      ]
    },
    {
      "cell_type": "markdown",
      "metadata": {
        "id": "ZgNv1C-4bmpj"
      },
      "source": [
        "# Partie 2 : Premier Modèle"
      ]
    },
    {
      "cell_type": "markdown",
      "metadata": {
        "id": "QETQSaLRdZiS"
      },
      "source": [
        "## Modèle 1.1"
      ]
    },
    {
      "cell_type": "code",
      "metadata": {
        "id": "aLrjZHkIN0XQ"
      },
      "source": [
        "data_1 = data.sample(frac = 1, random_state = 1)\n",
        "X = data_1['description']\n",
        "Y = data_1['points']"
      ],
      "execution_count": 8,
      "outputs": []
    },
    {
      "cell_type": "code",
      "metadata": {
        "colab": {
          "base_uri": "https://localhost:8080/",
          "height": 265
        },
        "id": "HdtoPjchN0Xb",
        "outputId": "6bfb131b-494c-473a-e33d-f1a0437d032d"
      },
      "source": [
        "fig = Y.hist()\n",
        "plt.show()"
      ],
      "execution_count": 9,
      "outputs": [
        {
          "output_type": "display_data",
          "data": {
            "image/png": "[encoded data removed]",
            "text/plain": [
              "<Figure size 432x288 with 1 Axes>"
            ]
          },
          "metadata": {
            "tags": [],
            "needs_background": "light"
          }
        }
      ]
    },
    {
      "cell_type": "markdown",
      "metadata": {
        "id": "QI3y556dpfpL"
      },
      "source": [
        "On va essayer de prédire, en fonction de la description, un score en séparant en 5 parties égales l'ensemble des scores possibles"
      ]
    },
    {
      "cell_type": "code",
      "metadata": {
        "colab": {
          "base_uri": "https://localhost:8080/"
        },
        "id": "Nnxt08s9N0Xo",
        "outputId": "ed1567b3-4c24-4203-da34-0deb242e8f24"
      },
      "source": [
        "groupe = (max(Y)-min(Y))/5\n",
        "print(\"on va faire 5 catégories de taille\", groupe+0.001)"
      ],
      "execution_count": 10,
      "outputs": [
        {
          "output_type": "stream",
          "text": [
            "on va faire 5 catégories de taille 4.001\n"
          ],
          "name": "stdout"
        }
      ]
    },
    {
      "cell_type": "code",
      "metadata": {
        "id": "WunXVMmUN0Xs"
      },
      "source": [
        "# Creating the 5 classes, transform X, Y into array\n",
        "\n",
        "Y = np.array(Y)\n",
        "X = np.array(X)\n",
        "mini = min(Y)\n",
        "for idx in range(len(Y)):\n",
        "    Y[idx] = abs(Y[idx] - mini)//4.001   "
      ],
      "execution_count": 11,
      "outputs": []
    },
    {
      "cell_type": "code",
      "metadata": {
        "id": "htuAF9x0N0X6"
      },
      "source": [
        "X_train,X_test,Y_train,Y_test=train_test_split(X,Y,test_size=0.2)\n",
        "Y_train = np.array(Y_train, dtype = int)"
      ],
      "execution_count": 12,
      "outputs": []
    },
    {
      "cell_type": "markdown",
      "metadata": {
        "id": "Qyj-7bgPqVOK"
      },
      "source": [
        "The model is simple: thanks to the glove document, we will be able to transform a word into a vector.\r\n",
        "\r\n",
        "1.   We do that for every word in the descrption\r\n",
        "2.   sum up the vectors and take the average\r\n",
        "\r\n",
        "\r\n",
        "This give us \"an idea\" of the sentence (if the sentence is positive or negative)\r\n",
        "\r\n",
        "It will be our new X in the regression"
      ]
    },
    {
      "cell_type": "code",
      "metadata": {
        "id": "aWjqLOQxN0YR"
      },
      "source": [
        "def sentence_to_avg(sentence, word_to_vec_map):\n",
        " \n",
        "    ''' \n",
        "    \n",
        "    This function transform a sentence into a representative vector\n",
        "    Arguments :\n",
        "    sentence        -- str correspond to the critics of the wine\n",
        "    word_to_vec_map --  give the vector associated to the word in GloVe doc\n",
        "    Returns :\n",
        "    avg -- vector of dim 50\n",
        "    \n",
        "     '''\n",
        "    #Step 1: transform the str sentence into a list of words\n",
        "    words = sentence.lower().split()\n",
        "\n",
        "    # Initialize the average word vector\n",
        "    avg = np.zeros(50)\n",
        "    \n",
        "    # Step 2: average the word vectors.\n",
        "    total = 0\n",
        "    for w in words:\n",
        "        while w not in word_to_vec_map.keys():\n",
        "            if w[1:] in word_to_vec_map.keys():\n",
        "                w = w[1:]\n",
        "            else:\n",
        "                w = w[:-1]\n",
        "        total += word_to_vec_map[w]\n",
        "    avg = total/len(words)\n",
        "    \n",
        "    \n",
        "    return avg"
      ],
      "execution_count": 17,
      "outputs": []
    },
    {
      "cell_type": "code",
      "metadata": {
        "id": "mNjluVu6N0YT"
      },
      "source": [
        "def softmax(x):\n",
        "    \"\"\"Compute softmax values for each sets of scores in x.\"\"\"\n",
        "    e_x = np.exp(x - np.max(x))\n",
        "    return e_x / e_x.sum()\n",
        "\n",
        "\n",
        "def model(X, Y, word_to_vec_map, learning_rate = 0.01, num_iterations = 800):\n",
        "\n",
        "    m = Y.shape[0]                          # number of training examples\n",
        "    n_y = 5                                 # number of classes  \n",
        "    n_h = 50                                # dimensions of the GloVe vectors \n",
        "    \n",
        "    # Initialize parameters using Xavier initialization\n",
        "    W = np.random.randn(n_y, n_h) / np.sqrt(n_h)\n",
        "    b = np.zeros((n_y,)) \n",
        "    \n",
        "    # Convert Y to Y_onehot with n_y classes\n",
        "    Y_oh = convert_to_one_hot(Y) \n",
        "    \n",
        "    # Optimization loop\n",
        "    for t in range(num_iterations): \n",
        "        for i in range(m):          \n",
        "            \n",
        "            avg = sentence_to_avg(X[i], word_to_vec_map)\n",
        "            z = np.dot(W,avg) + b\n",
        "            a = softmax(z)\n",
        "\n",
        "            cost = - np.dot(Y_oh[i],np.log(a))\n",
        "            \n",
        "            # Compute gradients \n",
        "            dz = a - Y_oh[i]\n",
        "            dW = np.dot(dz.reshape(n_y,1), avg.reshape(1, n_h))\n",
        "            db = dz\n",
        "\n",
        "            # Update parameters with Stochastic Gradient Descent\n",
        "            W = W - learning_rate * dW\n",
        "            b = b - learning_rate * db\n",
        "        \n",
        "        if t % 100 == 0:\n",
        "            print(\"Epoch: \" + str(t) + \" --- cost = \" + str(cost))\n",
        "            pred = predict(X, Y, W, b, word_to_vec_map)\n",
        "\n",
        "    return pred, W, b"
      ],
      "execution_count": 18,
      "outputs": []
    },
    {
      "cell_type": "code",
      "metadata": {
        "id": "mSvCleXNN0YW"
      },
      "source": [
        "def predict(X, Y, W, b, word_to_vec_map):\n",
        "    \"\"\"\n",
        "    Arguments :\n",
        "    X -- input data containing sentences, numpy array of shape (m, None)\n",
        "    Y -- labels, numpy array of shape (m, 1)\n",
        "    \n",
        "    Returns:\n",
        "    pred -- numpy array of shape (m, 1) with your predictions\n",
        "    \"\"\"\n",
        "    m = X.shape[0]\n",
        "    pred = np.zeros((m, 1))\n",
        "    \n",
        "    for j in range(m):                      \n",
        "        \n",
        "        # Split jth test example (sentence) into list of lower case words\n",
        "        words = X[j].lower().split()\n",
        "        \n",
        "        # initialising avg\n",
        "        avg = np.zeros((50,))\n",
        "        for w in words:\n",
        "          #Some problems occur with \".split()\", sometimes we don't want the first or the last character.\n",
        "          #Kind of the hard way to do it, but it works...\n",
        "            while w not in word_to_vec_map.keys():\n",
        "                if w[1:] in word_to_vec_map.keys():\n",
        "                    w = w[1:]\n",
        "                else:\n",
        "                    w = w[:-1]\n",
        "            avg += word_to_vec_map[w]\n",
        "        avg = avg/len(words)\n",
        "\n",
        "        # Forward propagation\n",
        "        Z = np.dot(W, avg) + b\n",
        "        A = softmax(Z)\n",
        "        pred[j] = np.argmax(A)\n",
        "        \n",
        "    print(\"Accuracy: \"  + str(np.mean((pred[:] == Y.reshape(Y.shape[0],1)[:]))))\n",
        "    \n",
        "    return pred"
      ],
      "execution_count": 19,
      "outputs": []
    },
    {
      "cell_type": "code",
      "metadata": {
        "colab": {
          "base_uri": "https://localhost:8080/",
          "height": 329
        },
        "id": "_J6y9kEeN0YZ",
        "scrolled": true,
        "outputId": "76d3887c-6f3c-4ac1-fc11-faf813cf6d82"
      },
      "source": [
        "#Training the model\n",
        "pred, W, b = model(X_train, Y_train, word_to_vec_map)"
      ],
      "execution_count": 20,
      "outputs": [
        {
          "output_type": "error",
          "ename": "KeyboardInterrupt",
          "evalue": "ignored",
          "traceback": [
            "\u001b[0;31m---------------------------------------------------------------------------\u001b[0m",
            "\u001b[0;31mKeyboardInterrupt\u001b[0m                         Traceback (most recent call last)",
            "\u001b[0;32m<ipython-input-20-8af811fa107d>\u001b[0m in \u001b[0;36m<module>\u001b[0;34m()\u001b[0m\n\u001b[1;32m      1\u001b[0m \u001b[0;31m#Training the model\u001b[0m\u001b[0;34m\u001b[0m\u001b[0;34m\u001b[0m\u001b[0;34m\u001b[0m\u001b[0m\n\u001b[0;32m----> 2\u001b[0;31m \u001b[0mpred\u001b[0m\u001b[0;34m,\u001b[0m \u001b[0mW\u001b[0m\u001b[0;34m,\u001b[0m \u001b[0mb\u001b[0m \u001b[0;34m=\u001b[0m \u001b[0mmodel\u001b[0m\u001b[0;34m(\u001b[0m\u001b[0mX_train\u001b[0m\u001b[0;34m,\u001b[0m \u001b[0mY_train\u001b[0m\u001b[0;34m,\u001b[0m \u001b[0mword_to_vec_map\u001b[0m\u001b[0;34m)\u001b[0m\u001b[0;34m\u001b[0m\u001b[0;34m\u001b[0m\u001b[0m\n\u001b[0m",
            "\u001b[0;32m<ipython-input-18-303ff1b60e48>\u001b[0m in \u001b[0;36mmodel\u001b[0;34m(X, Y, word_to_vec_map, learning_rate, num_iterations)\u001b[0m\n\u001b[1;32m     22\u001b[0m         \u001b[0;32mfor\u001b[0m \u001b[0mi\u001b[0m \u001b[0;32min\u001b[0m \u001b[0mrange\u001b[0m\u001b[0;34m(\u001b[0m\u001b[0mm\u001b[0m\u001b[0;34m)\u001b[0m\u001b[0;34m:\u001b[0m\u001b[0;34m\u001b[0m\u001b[0;34m\u001b[0m\u001b[0m\n\u001b[1;32m     23\u001b[0m \u001b[0;34m\u001b[0m\u001b[0m\n\u001b[0;32m---> 24\u001b[0;31m             \u001b[0mavg\u001b[0m \u001b[0;34m=\u001b[0m \u001b[0msentence_to_avg\u001b[0m\u001b[0;34m(\u001b[0m\u001b[0mX\u001b[0m\u001b[0;34m[\u001b[0m\u001b[0mi\u001b[0m\u001b[0;34m]\u001b[0m\u001b[0;34m,\u001b[0m \u001b[0mword_to_vec_map\u001b[0m\u001b[0;34m)\u001b[0m\u001b[0;34m\u001b[0m\u001b[0;34m\u001b[0m\u001b[0m\n\u001b[0m\u001b[1;32m     25\u001b[0m             \u001b[0mz\u001b[0m \u001b[0;34m=\u001b[0m \u001b[0mnp\u001b[0m\u001b[0;34m.\u001b[0m\u001b[0mdot\u001b[0m\u001b[0;34m(\u001b[0m\u001b[0mW\u001b[0m\u001b[0;34m,\u001b[0m\u001b[0mavg\u001b[0m\u001b[0;34m)\u001b[0m \u001b[0;34m+\u001b[0m \u001b[0mb\u001b[0m\u001b[0;34m\u001b[0m\u001b[0;34m\u001b[0m\u001b[0m\n\u001b[1;32m     26\u001b[0m             \u001b[0ma\u001b[0m \u001b[0;34m=\u001b[0m \u001b[0msoftmax\u001b[0m\u001b[0;34m(\u001b[0m\u001b[0mz\u001b[0m\u001b[0;34m)\u001b[0m\u001b[0;34m\u001b[0m\u001b[0;34m\u001b[0m\u001b[0m\n",
            "\u001b[0;32m<ipython-input-17-ea4cd0f5a40a>\u001b[0m in \u001b[0;36msentence_to_avg\u001b[0;34m(sentence, word_to_vec_map)\u001b[0m\n\u001b[1;32m     16\u001b[0m                 \u001b[0mw\u001b[0m \u001b[0;34m=\u001b[0m \u001b[0mw\u001b[0m\u001b[0;34m[\u001b[0m\u001b[0;34m:\u001b[0m\u001b[0;34m-\u001b[0m\u001b[0;36m1\u001b[0m\u001b[0;34m]\u001b[0m\u001b[0;34m\u001b[0m\u001b[0;34m\u001b[0m\u001b[0m\n\u001b[1;32m     17\u001b[0m         \u001b[0mtotal\u001b[0m \u001b[0;34m+=\u001b[0m \u001b[0mword_to_vec_map\u001b[0m\u001b[0;34m[\u001b[0m\u001b[0mw\u001b[0m\u001b[0;34m]\u001b[0m\u001b[0;34m\u001b[0m\u001b[0;34m\u001b[0m\u001b[0m\n\u001b[0;32m---> 18\u001b[0;31m     \u001b[0mavg\u001b[0m \u001b[0;34m=\u001b[0m \u001b[0mtotal\u001b[0m\u001b[0;34m/\u001b[0m\u001b[0mlen\u001b[0m\u001b[0;34m(\u001b[0m\u001b[0mwords\u001b[0m\u001b[0;34m)\u001b[0m\u001b[0;34m\u001b[0m\u001b[0;34m\u001b[0m\u001b[0m\n\u001b[0m\u001b[1;32m     19\u001b[0m \u001b[0;34m\u001b[0m\u001b[0m\n\u001b[1;32m     20\u001b[0m \u001b[0;34m\u001b[0m\u001b[0m\n",
            "\u001b[0;31mKeyboardInterrupt\u001b[0m: "
          ]
        }
      ]
    },
    {
      "cell_type": "code",
      "metadata": {
        "colab": {
          "base_uri": "https://localhost:8080/"
        },
        "id": "xLgynGbSN0Yf",
        "outputId": "f85c3fd6-f265-4891-9c27-e474c1b64dca"
      },
      "source": [
        "print(\"Training set:\")\n",
        "pred_train = predict(X_train, Y_train, W, b, word_to_vec_map)\n",
        "print('Test set:')\n",
        "pred_test = predict(X_test, Y_test, W, b, word_to_vec_map)"
      ],
      "execution_count": null,
      "outputs": [
        {
          "output_type": "stream",
          "text": [
            "Training set:\n",
            "Accuracy: 0.5316918341829374\n",
            "Test set:\n",
            "Accuracy: 0.5257692307692308\n"
          ],
          "name": "stdout"
        }
      ]
    },
    {
      "cell_type": "markdown",
      "metadata": {
        "id": "HeNzrVK5tHX1"
      },
      "source": [
        "On se retrouve avec une accuracy de 50%. Ce qui est déjà bien mieux que le hasard (5 catégories) mais à nuancer par le choix de nos catégories... (cf modèle 1.2)"
      ]
    },
    {
      "cell_type": "code",
      "metadata": {
        "colab": {
          "base_uri": "https://localhost:8080/"
        },
        "id": "45SUbIQ3N0Yy",
        "outputId": "8b33f85a-4188-4141-9a60-c29a842cc941"
      },
      "source": [
        "#A little test to see if it works...\n",
        "X_my_sentences = np.array([\"I love that wine, it is so tasteful. A great success to see in the future\"])\n",
        "Y_my_labels = np.array([[3]])\n",
        "pred = predict(X_my_sentences, Y_my_labels , W, b, word_to_vec_map)\n",
        "pred"
      ],
      "execution_count": null,
      "outputs": [
        {
          "output_type": "stream",
          "text": [
            "Accuracy: 1.0\n"
          ],
          "name": "stdout"
        },
        {
          "output_type": "execute_result",
          "data": {
            "text/plain": [
              "array([[3.]])"
            ]
          },
          "metadata": {
            "tags": []
          },
          "execution_count": 88
        }
      ]
    },
    {
      "cell_type": "markdown",
      "metadata": {
        "id": "5mhGOwwctlbk"
      },
      "source": [
        "Vérifions à partir d'une matrice de confusion si les résultats sont pertinents"
      ]
    },
    {
      "cell_type": "code",
      "metadata": {
        "id": "InAKLsfiN0Y8"
      },
      "source": [
        "def plot_confusion_matrix(y_actu, y_pred, title='Confusion matrix', cmap=plt.cm.gray_r):\n",
        "    \n",
        "    df_confusion = pd.crosstab(y_actu, y_pred.reshape(y_pred.shape[0],), rownames=['Actual'], colnames=['Predicted'], margins=True)\n",
        "    \n",
        "    df_conf_norm = df_confusion / df_confusion.sum(axis=1)\n",
        "    \n",
        "    plt.matshow(df_confusion, cmap=cmap)\n",
        "\n",
        "    plt.colorbar()\n",
        "    tick_marks = np.arange(len(df_confusion.columns))\n",
        "    plt.xticks(tick_marks, df_confusion.columns, rotation=45)\n",
        "    plt.yticks(tick_marks, df_confusion.index)\n",
        "    \n",
        "    plt.ylabel(df_confusion.index.name)\n",
        "    plt.xlabel(df_confusion.columns.name)"
      ],
      "execution_count": null,
      "outputs": []
    },
    {
      "cell_type": "code",
      "metadata": {
        "colab": {
          "base_uri": "https://localhost:8080/",
          "height": 444
        },
        "id": "GiWGuZGKN0ZC",
        "outputId": "7a527adf-1ccb-41c8-c6d9-d5c1f4716c1c"
      },
      "source": [
        "print(pd.crosstab(Y_test, pred_test.reshape(Y_test.shape), rownames=['Actual'], colnames=['Predicted'], margins=True))\n",
        "plot_confusion_matrix(Y_test, pred_test)"
      ],
      "execution_count": null,
      "outputs": [
        {
          "output_type": "stream",
          "text": [
            "Predicted  0.0  1.0   2.0  3.0   All\n",
            "Actual                              \n",
            "0           42  144    69    0   255\n",
            "1           30  555   537    1  1123\n",
            "2            5  192   765    6   968\n",
            "3            0    9   235    5   249\n",
            "4            0    0     5    0     5\n",
            "All         77  900  1611   12  2600\n"
          ],
          "name": "stdout"
        },
        {
          "output_type": "display_data",
          "data": {
            "image/png": "[encoded data removed]",
            "text/plain": [
              "<Figure size 288x345.6 with 2 Axes>"
            ]
          },
          "metadata": {
            "tags": []
          }
        }
      ]
    },
    {
      "cell_type": "markdown",
      "metadata": {
        "id": "DvfcAjoGrw7a"
      },
      "source": [
        "La taille des catégories a été mal évaluée. Essayons de remedier à ça dans la partie 2:"
      ]
    },
    {
      "cell_type": "markdown",
      "metadata": {
        "id": "G5xgMaa1dC3m"
      },
      "source": [
        "## Modèle 1.2"
      ]
    },
    {
      "cell_type": "markdown",
      "metadata": {
        "id": "ppPShsTCHLRM"
      },
      "source": [
        "Puisqu'on a une distribution pour Y qui ressemble à une loi normale et non une loi uniforme, on essai cette fois de séparer les classes en fonction des quantiles (20% pour chaque classe) et on reteste le modèle à partir de ça"
      ]
    },
    {
      "cell_type": "code",
      "metadata": {
        "colab": {
          "base_uri": "https://localhost:8080/",
          "height": 265
        },
        "id": "AGleZNLyN0ZG",
        "outputId": "dbbf84e0-908e-4843-a25d-a9cd37f64f7c"
      },
      "source": [
        "data_12 = data.sample(frac = 1, random_state = 1)\n",
        "X = data_12['description']\n",
        "Y = data_12['points']\n",
        "quant = Y.quantile([0.2,0.4,0.6,0.8,1])\n",
        "fig = Y.hist()\n",
        "plt.show()"
      ],
      "execution_count": 13,
      "outputs": [
        {
          "output_type": "display_data",
          "data": {
            "image/png": "[encoded data removed]",
            "text/plain": [
              "<Figure size 432x288 with 1 Axes>"
            ]
          },
          "metadata": {
            "tags": [],
            "needs_background": "light"
          }
        }
      ]
    },
    {
      "cell_type": "code",
      "metadata": {
        "id": "Tx7gSAsEwhkV"
      },
      "source": [
        "#This is the only difference with model 1.1: approximatively 20% of the values are in each classes\r\n",
        "#Note that it is possible to optimize the running time by using vectorial calcul and mask \r\n",
        "Y = np.array(Y)\r\n",
        "for idx in range(len(Y)):\r\n",
        "    if Y[idx] <= quant[0.2] and np.sum(Y ==0) < len(Y)/5:\r\n",
        "        Y[idx] = 0\r\n",
        "    elif Y[idx] <= quant[0.4] and np.sum(Y ==0) < len(Y)/5:\r\n",
        "        Y[idx] = 1\r\n",
        "    elif Y[idx] <= quant[0.6] and np.sum(Y ==0) < len(Y)/5:\r\n",
        "        Y[idx] = 2\r\n",
        "    elif Y[idx] <= quant[0.8] and np.sum(Y ==0) < len(Y)/5:\r\n",
        "        Y[idx] = 3\r\n",
        "    else:\r\n",
        "        Y[idx] = 4"
      ],
      "execution_count": 14,
      "outputs": []
    },
    {
      "cell_type": "code",
      "metadata": {
        "id": "JiG1Y7QzN0ZI"
      },
      "source": [
        "#Split the set in train/test\n",
        "X = np.array(X)\n",
        "Y = np.array(Y, dtype=int)\n",
        "X_train,X_test,Y_train,Y_test=train_test_split(X,Y,test_size=0.2)\n"
      ],
      "execution_count": 15,
      "outputs": []
    },
    {
      "cell_type": "code",
      "metadata": {
        "colab": {
          "base_uri": "https://localhost:8080/"
        },
        "id": "jGUw4WpDN0ZJ",
        "outputId": "a6fc566a-817a-49b3-fa61-1943a63fb2ea"
      },
      "source": [
        "#train the model\n",
        "pred, W_1, b_1 = model(X_train, Y_train, word_to_vec_map)"
      ],
      "execution_count": 21,
      "outputs": [
        {
          "output_type": "stream",
          "text": [
            "Epoch: 0 --- cost = 1.251617408204892\n",
            "Accuracy: 0.4122874509502193\n",
            "Epoch: 100 --- cost = 1.0574265848015216\n",
            "Accuracy: 0.4160383165345849\n",
            "Epoch: 200 --- cost = 1.0652126020780248\n",
            "Accuracy: 0.4159325228898977\n",
            "Epoch: 300 --- cost = 1.0695619001746706\n",
            "Accuracy: 0.41574978841271065\n",
            "Epoch: 400 --- cost = 1.0720231460451917\n",
            "Accuracy: 0.41589405247364775\n",
            "Epoch: 500 --- cost = 1.0734271980088497\n",
            "Accuracy: 0.41588443486958526\n",
            "Epoch: 600 --- cost = 1.0742362594881796\n",
            "Accuracy: 0.41587481726552283\n",
            "Epoch: 700 --- cost = 1.0747077164655379\n",
            "Accuracy: 0.41585558205739787\n"
          ],
          "name": "stdout"
        }
      ]
    },
    {
      "cell_type": "code",
      "metadata": {
        "id": "F0FQaD3ON0ZK"
      },
      "source": [
        "print(\"Training set:\")\n",
        "pred_train = predict(X_train, Y_train, W_1, b_1, word_to_vec_map)\n",
        "print('Test set:')\n",
        "pred_test = predict(X_test, Y_test, W_1, b_1, word_to_vec_map)\n"
      ],
      "execution_count": null,
      "outputs": []
    },
    {
      "cell_type": "code",
      "metadata": {
        "id": "uBQSpOKgN0ZM"
      },
      "source": [
        "print(pd.crosstab(Y_test, pred_test.reshape(Y_test.shape), rownames=['Actual'], colnames=['Predicted'], margins=True))\n",
        "plot_confusion_matrix(Y_test, pred_test)"
      ],
      "execution_count": null,
      "outputs": []
    },
    {
      "cell_type": "markdown",
      "metadata": {
        "id": "Pt56qcalwxXP"
      },
      "source": [
        "We could expect it, the accuracy value decreases.\r\n",
        "To try to have better accuracy we'll use a LSTM model which interpret the whole sentence."
      ]
    },
    {
      "cell_type": "markdown",
      "metadata": {
        "id": "M5UhUrl4dM9X"
      },
      "source": [
        "# Partie 3 : Modèle LSTM"
      ]
    },
    {
      "cell_type": "markdown",
      "metadata": {
        "id": "W5jH6RCCxkv-"
      },
      "source": [
        "Using tensorflow and keras for that model"
      ]
    },
    {
      "cell_type": "code",
      "metadata": {
        "id": "CdFcGPAgPmD3"
      },
      "source": [
        "import numpy as np\n",
        "from keras.models import Model\n",
        "from keras.layers import Dense, Input, Dropout, LSTM, Activation\n",
        "from keras.layers.embeddings import Embedding\n",
        "from keras.preprocessing import sequence\n",
        "from keras.initializers import glorot_uniform"
      ],
      "execution_count": null,
      "outputs": []
    },
    {
      "cell_type": "markdown",
      "metadata": {
        "id": "wydP8Rcmx-rv"
      },
      "source": [
        "The hudge difference here with Model 1 is that we care about the lenght of the description.\r\n",
        "So we just put aside any descrption which is \"too\" long."
      ]
    },
    {
      "cell_type": "code",
      "metadata": {
        "colab": {
          "base_uri": "https://localhost:8080/",
          "height": 265
        },
        "id": "kqfsc5CSvXZO",
        "outputId": "eff16118-378d-43fd-ec9b-9932a8ef5997"
      },
      "source": [
        "data_3 = data.sample(frac = 0.3, random_state = 1)\n",
        "data_3= data_3.sort_values(by=['points'])\n",
        "X_LTSM = data_3['description']\n",
        "Y = data_3['points']\n",
        "\n",
        "quant = Y.quantile([0.2,0.4,0.6,0.8,1])\n",
        "fig = Y.hist()\n",
        "plt.show()\n",
        "\n",
        "X_LTSM = np.array(X_LTSM)\n",
        "Y = np.array(Y)\n",
        "\n",
        "#Here we check the size of each X\n",
        "size =[]\n",
        "for i in range(len(X_LTSM)):\n",
        "  size.append(len(X_LTSM[i].split()))\n",
        "size = np.array(size)\n",
        "\n",
        "#In order to mask the ones that are too long (here the 1% the longest)\n",
        "mask = pd.Series(size)< np.quantile(size,0.99)\n",
        "\n",
        "X_LTSM = X_LTSM[mask]\n",
        "Y = Y[mask] \n",
        "\n",
        "\n",
        "for idx in range(len(Y)):\n",
        "    if Y[idx] <= quant[0.2] and np.sum(Y ==0) < len(Y)/5:\n",
        "        Y[idx] = 0\n",
        "    elif Y[idx] <= quant[0.4] and np.sum(Y == 1) < len(Y)/5:\n",
        "        Y[idx] = 1\n",
        "    elif Y[idx] <= quant[0.6] and np.sum(Y == 2) < len(Y)/5:\n",
        "        Y[idx] = 2\n",
        "    elif Y[idx] <= quant[0.8] and np.sum(Y == 3) < len(Y)/5:\n",
        "        Y[idx] = 3\n",
        "    else:\n",
        "        Y[idx] = 4\n"
      ],
      "execution_count": null,
      "outputs": [
        {
          "output_type": "display_data",
          "data": {
            "image/png": "[encoded data removed]",
            "text/plain": [
              "<Figure size 432x288 with 1 Axes>"
            ]
          },
          "metadata": {
            "tags": []
          }
        }
      ]
    },
    {
      "cell_type": "code",
      "metadata": {
        "colab": {
          "base_uri": "https://localhost:8080/"
        },
        "id": "aEQbTiC3v2ti",
        "outputId": "4adf4997-8d8e-4898-e354-0194b70712fe"
      },
      "source": [
        "size = size[mask]\r\n",
        "size.max()\r\n",
        "#This will be the size of each sentence. The sentence that are shorter will be\r\n",
        "#completed with blank."
      ],
      "execution_count": null,
      "outputs": [
        {
          "output_type": "execute_result",
          "data": {
            "text/plain": [
              "70"
            ]
          },
          "metadata": {
            "tags": []
          },
          "execution_count": 10
        }
      ]
    },
    {
      "cell_type": "code",
      "metadata": {
        "id": "767xub5cPs-B"
      },
      "source": [
        "def sentences_to_indices(X, word_to_index, max_len):\n",
        "    \"\"\"\n",
        "    Converts an array of sentences (str) into an array of indices corresponding to words in the sentences.\n",
        "    \n",
        "    Arguments:\n",
        "    X -- array of sentences of shape (m, 1)\n",
        "    word_to_index -- a dictionary containing each word mapped to its index\n",
        "    max_len -- maximum number of words in a sentence. Here worth size.max() \n",
        "    \n",
        "    Returns:\n",
        "    X_indices -- array of indices corresponding to words in the sentences from X, of shape (m, max_len)\n",
        "    \"\"\"\n",
        "    \n",
        "    m = X.shape[0]                                   # number of training examples\n",
        "    \n",
        "    X_indices = np.zeros((m, max_len))\n",
        "    \n",
        "    for i in range(m):                               # loop over training examples\n",
        "        \n",
        "        sentence_words = X[i].lower().split()\n",
        "        \n",
        "        j = 0\n",
        "        \n",
        "        # Loop over the words of sentence_words\n",
        "        for w in sentence_words:\n",
        "          #Same thing than in Modèle 1.1\n",
        "          while w not in word_to_vec_map.keys():\n",
        "                if w[1:] in word_to_vec_map.keys():\n",
        "                    w = w[1:]\n",
        "                else:\n",
        "                    w = w[:-1]\n",
        "          X_indices[i, j] = word_to_index[w]\n",
        "          j += 1\n",
        "            \n",
        "    \n",
        "    return X_indices"
      ],
      "execution_count": null,
      "outputs": []
    },
    {
      "cell_type": "code",
      "metadata": {
        "id": "DKt-RtMBP07_"
      },
      "source": [
        "def pretrained_embedding_layer(word_to_vec_map, word_to_index):\n",
        "    \"\"\"\n",
        "\n",
        "    Creates a Keras Embedding() layer and loads in pre-trained GloVe 50-dimensional vectors.\n",
        "    \n",
        "    Arguments:\n",
        "    word_to_vec_map -- dictionary mapping words to their GloVe vector representation.\n",
        "    word_to_index -- dictionary mapping from words to their indices in the vocabulary\n",
        "\n",
        "    Returns:\n",
        "    embedding_layer -- pretrained layer Keras instance\n",
        "    \"\"\"\n",
        "    \n",
        "    vocab_len = len(word_to_index) + 1                 \n",
        "    \n",
        "    emb_dim = word_to_vec_map[\"cucumber\"].shape[0] \n",
        "    emb_matrix = np.zeros((vocab_len, emb_dim))\n",
        "    \n",
        "    for word, idx in word_to_index.items():\n",
        "        emb_matrix[idx, :] = word_to_vec_map[word]\n",
        "    embedding_layer = Embedding(vocab_len, emb_dim, trainable = True)\n",
        "\n",
        "    embedding_layer.build((None,)) \n",
        "    \n",
        "    # Set the weights of the embedding layer to the embedding matrix.\n",
        "    embedding_layer.set_weights([emb_matrix])\n",
        "    \n",
        "    return embedding_layer"
      ],
      "execution_count": null,
      "outputs": []
    },
    {
      "cell_type": "code",
      "metadata": {
        "id": "j_M6sWFgP4lH"
      },
      "source": [
        "def Wine_model(input_shape, word_to_vec_map, word_to_index):\n",
        "    \"\"\"\n",
        "    LSTM Model and its differents layers\n",
        "    \n",
        "    Arguments:\n",
        "    input_shape -- shape of the input, usually (max_len,)\n",
        "    word_to_vec_map\n",
        "    word_to_index \n",
        "\n",
        "    Returns:\n",
        "    model -- a model instance in Keras\n",
        "    \"\"\"\n",
        "    \n",
        "    # Define Input layer\n",
        "    sentence_indices = Input(input_shape, dtype= 'int32')\n",
        "    \n",
        "    # Create the embedding layer pretrained with GloVe Vectors\n",
        "    embedding_layer = pretrained_embedding_layer(word_to_vec_map, word_to_index)\n",
        "    \n",
        "    # Propagate sentence_indices through your embedding layer\n",
        "    embeddings = embedding_layer(sentence_indices)\n",
        "    \n",
        "    # Propagate the embeddings through an LSTM layer with 128-dimensional hidden state\n",
        "    X = LSTM(128, return_sequences=True)(embeddings)\n",
        "    X = Dropout(0.5)(X)\n",
        "\n",
        "    X = LSTM(128, return_sequences=False)(X)\n",
        "    X = Dropout(0.5)(X)\n",
        "\n",
        "    X = Dense( units = 5)(X)\n",
        "    X = Activation('softmax')(X)\n",
        "    \n",
        "    # Create Model instance which converts sentence_indices into X\n",
        "    model = Model(inputs=sentence_indices, outputs=X)\n",
        "    \n",
        "    return model"
      ],
      "execution_count": null,
      "outputs": []
    },
    {
      "cell_type": "code",
      "metadata": {
        "colab": {
          "base_uri": "https://localhost:8080/"
        },
        "id": "csbi8COkP62u",
        "outputId": "162a88b6-a933-4ad9-ec8e-dc1bead47de9"
      },
      "source": [
        "model = Wine_model((size.max(),), word_to_vec_map, word_to_index)\n",
        "model.summary()"
      ],
      "execution_count": null,
      "outputs": [
        {
          "output_type": "stream",
          "text": [
            "Model: \"functional_1\"\n",
            "_________________________________________________________________\n",
            "Layer (type)                 Output Shape              Param #   \n",
            "=================================================================\n",
            "input_1 (InputLayer)         [(None, 70)]              0         \n",
            "_________________________________________________________________\n",
            "embedding (Embedding)        (None, 70, 50)            20000000  \n",
            "_________________________________________________________________\n",
            "lstm (LSTM)                  (None, 70, 128)           91648     \n",
            "_________________________________________________________________\n",
            "dropout (Dropout)            (None, 70, 128)           0         \n",
            "_________________________________________________________________\n",
            "lstm_1 (LSTM)                (None, 128)               131584    \n",
            "_________________________________________________________________\n",
            "dropout_1 (Dropout)          (None, 128)               0         \n",
            "_________________________________________________________________\n",
            "dense (Dense)                (None, 5)                 645       \n",
            "_________________________________________________________________\n",
            "activation (Activation)      (None, 5)                 0         \n",
            "=================================================================\n",
            "Total params: 20,223,877\n",
            "Trainable params: 20,223,877\n",
            "Non-trainable params: 0\n",
            "_________________________________________________________________\n"
          ],
          "name": "stdout"
        }
      ]
    },
    {
      "cell_type": "code",
      "metadata": {
        "id": "xeW6hHCxP8i1"
      },
      "source": [
        "model.compile(loss='categorical_crossentropy', optimizer='adam', metrics=['accuracy'])"
      ],
      "execution_count": null,
      "outputs": []
    },
    {
      "cell_type": "code",
      "metadata": {
        "id": "Z1vcRHybXC0R"
      },
      "source": [
        "#Split into train/test sets\n",
        "Y = np.array(Y, dtype=int)\n",
        "X_train,X_test,Y_train,Y_test = train_test_split(X_LTSM,Y,test_size=0.2)"
      ],
      "execution_count": null,
      "outputs": []
    },
    {
      "cell_type": "code",
      "metadata": {
        "id": "Vc2dP9IoW8KD"
      },
      "source": [
        "#Convert X and Y to fit the model size:\n",
        "X_train_indices = sentences_to_indices(X_train, word_to_index, size.max())\n",
        "Y_train_oh = convert_to_one_hot(Y_train)"
      ],
      "execution_count": null,
      "outputs": []
    },
    {
      "cell_type": "code",
      "metadata": {
        "colab": {
          "base_uri": "https://localhost:8080/"
        },
        "id": "FbGwG1F4YSCy",
        "outputId": "5877f58a-2ebe-4a51-f64d-f1e118cd12dd"
      },
      "source": [
        "model.fit(X_train_indices, Y_train_oh, epochs = 10, batch_size = 1500, shuffle=True)"
      ],
      "execution_count": null,
      "outputs": [
        {
          "output_type": "stream",
          "text": [
            "Epoch 1/10\n",
            "21/21 [==============================] - 5s 248ms/step - loss: 1.0557 - accuracy: 0.5338\n",
            "Epoch 2/10\n",
            "21/21 [==============================] - 5s 249ms/step - loss: 1.0231 - accuracy: 0.5492\n",
            "Epoch 3/10\n",
            "21/21 [==============================] - 5s 250ms/step - loss: 1.0008 - accuracy: 0.5577\n",
            "Epoch 4/10\n",
            "21/21 [==============================] - 5s 250ms/step - loss: 0.9775 - accuracy: 0.5746\n",
            "Epoch 5/10\n",
            "21/21 [==============================] - 5s 241ms/step - loss: 0.9564 - accuracy: 0.5875\n",
            "Epoch 6/10\n",
            "21/21 [==============================] - 5s 247ms/step - loss: 0.9381 - accuracy: 0.5977\n",
            "Epoch 7/10\n",
            "21/21 [==============================] - 5s 249ms/step - loss: 0.9489 - accuracy: 0.5909\n",
            "Epoch 8/10\n",
            "21/21 [==============================] - 5s 243ms/step - loss: 0.9246 - accuracy: 0.6055\n",
            "Epoch 9/10\n",
            "21/21 [==============================] - 5s 241ms/step - loss: 0.9007 - accuracy: 0.6195\n",
            "Epoch 10/10\n",
            "21/21 [==============================] - 5s 244ms/step - loss: 0.8616 - accuracy: 0.6446\n"
          ],
          "name": "stdout"
        },
        {
          "output_type": "execute_result",
          "data": {
            "text/plain": [
              "<tensorflow.python.keras.callbacks.History at 0x7fe4a2f4ae80>"
            ]
          },
          "metadata": {
            "tags": []
          },
          "execution_count": 102
        }
      ]
    },
    {
      "cell_type": "code",
      "metadata": {
        "colab": {
          "base_uri": "https://localhost:8080/"
        },
        "id": "Z7wptDTWatSP",
        "outputId": "84932426-4126-449e-e40f-9917da1e75ad"
      },
      "source": [
        "#Test:\n",
        "X_test_indices = sentences_to_indices(X_test, word_to_index, max_len = size.max())\n",
        "Y_test_oh = convert_to_one_hot(Y_test)\n",
        "loss, acc = model.evaluate(X_test_indices, Y_test_oh)\n",
        "pred = model.predict(X_test_indices)\n",
        "pred = np.argmax(pred, axis = 1) \n",
        "print()\n",
        "print(\"Test accuracy = \", acc)"
      ],
      "execution_count": null,
      "outputs": [
        {
          "output_type": "stream",
          "text": [
            "242/242 [==============================] - 1s 6ms/step - loss: 1.3070 - accuracy: 0.4775\n",
            "\n",
            "Test accuracy =  0.47749030590057373\n"
          ],
          "name": "stdout"
        }
      ]
    },
    {
      "cell_type": "code",
      "metadata": {
        "colab": {
          "base_uri": "https://localhost:8080/",
          "height": 394
        },
        "id": "Jf4sTzfeVJ3p",
        "outputId": "776e980e-8b3e-4f9d-fda2-9161cf4a82dc"
      },
      "source": [
        "print(pd.crosstab(Y_test, pred.reshape(Y_test.shape), rownames=['Actual'], colnames=['Predicted'], margins=True))\r\n",
        "plot_confusion_matrix(Y_test, pred)"
      ],
      "execution_count": null,
      "outputs": [
        {
          "output_type": "stream",
          "text": [
            "Predicted     0     1     2     3     4   All\n",
            "Actual                                       \n",
            "0          1120   339    89     8     2  1558\n",
            "1           544   659   251    79     8  1541\n",
            "2           171   524   532   252    60  1539\n",
            "3            32   220   495   538   313  1598\n",
            "4             4    67   183   398   842  1494\n",
            "All        1871  1809  1550  1275  1225  7730\n"
          ],
          "name": "stdout"
        },
        {
          "output_type": "display_data",
          "data": {
            "image/png": "[encoded data removed]",
            "text/plain": [
              "<Figure size 288x288 with 2 Axes>"
            ]
          },
          "metadata": {
            "tags": []
          }
        }
      ]
    },
    {
      "cell_type": "markdown",
      "metadata": {
        "id": "0cqs9BmF1ooy"
      },
      "source": [
        "That kind of confusion matrix is far better! \r\n",
        "We have now something which seems pretty decent.\r\n",
        "\r\n",
        "But can we go further? Is it possible to evaluate directly the value of the score?"
      ]
    },
    {
      "cell_type": "markdown",
      "metadata": {
        "id": "RXb04vX27EY9"
      },
      "source": [
        " # Partie 4: Le retour du modèle 1"
      ]
    },
    {
      "cell_type": "markdown",
      "metadata": {
        "id": "IdG3ctgv1_t0"
      },
      "source": [
        "Let's try it.\r\n",
        "\r\n",
        "In that part we will try to evaluate the value of the score directly and try to put the price in the X to gain more precision."
      ]
    },
    {
      "cell_type": "code",
      "metadata": {
        "id": "xjdwmzSmlAMl"
      },
      "source": [
        "#A new sentence_to_avg must be defined because we have to had prices in the X values.\n",
        "\n",
        "def sentence_to_avg(sentence, word_to_vec_map):\n",
        " \n",
        "    words = sentence.lower().split()\n",
        "\n",
        "    # Initialize the average word vector\n",
        "    avg = np.zeros(50)\n",
        "    \n",
        "    # Step 2: average the word vectors. \n",
        "    total = 0\n",
        "    for w in words:\n",
        "        while w not in word_to_vec_map.keys():\n",
        "            if w[1:] in word_to_vec_map.keys():\n",
        "                w = w[1:]\n",
        "            else:\n",
        "                w = w[:-1]\n",
        "        total += word_to_vec_map[w]\n",
        "    avg = total/len(words)\n",
        "    \n",
        "    \n",
        "    return avg"
      ],
      "execution_count": 10,
      "outputs": []
    },
    {
      "cell_type": "code",
      "metadata": {
        "colab": {
          "base_uri": "https://localhost:8080/",
          "height": 265
        },
        "id": "A294HUFL7GCP",
        "outputId": "5d90ef0f-f77b-4214-ffd4-2ea0b21d2729"
      },
      "source": [
        "data_4 = data[['description', 'points', 'price', 'taster_name']].sample(frac = 1, random_state = 1)\n",
        "data_4 = data_4.dropna()\n",
        "X = data_4['description']\n",
        "Y = data_4['points']\n",
        "prices = data_4['price']\n",
        "\n",
        "fig = Y.hist()\n",
        "plt.show()\n",
        "\n",
        "Y = np.array(Y)\n",
        "m=len(X)\n",
        "\n",
        "#Some preprocessing on X...\n",
        "\n",
        "X = np.array(X)\n",
        "X_emb = np.zeros((m,50)) \n",
        "prices = np.array(prices)\n",
        "prices = np.log(prices)\n",
        "prices = prices - prices.mean()\n",
        "for i in range(m): \n",
        "  X_emb[i] = sentence_to_avg(X[i], word_to_vec_map)\n",
        "X_emb = np.column_stack((X_emb,prices))\n",
        "\n",
        "Y = np.array(Y, dtype=int)\n",
        "X_train,X_test,Y_train,Y_test=train_test_split(X_emb,Y,test_size=0.2)"
      ],
      "execution_count": 12,
      "outputs": [
        {
          "output_type": "display_data",
          "data": {
            "image/png": "[encoded data removed]",
            "text/plain": [
              "<Figure size 432x288 with 1 Axes>"
            ]
          },
          "metadata": {
            "tags": [],
            "needs_background": "light"
          }
        }
      ]
    },
    {
      "cell_type": "code",
      "metadata": {
        "id": "DteFwOza63Cg"
      },
      "source": [
        "def relu(x):\n",
        "    if x <0:\n",
        "        x = 0\n",
        "    return x"
      ],
      "execution_count": 14,
      "outputs": []
    },
    {
      "cell_type": "code",
      "metadata": {
        "id": "mBYstrwZ4pga"
      },
      "source": [
        "def model_4(X, Y, word_to_vec_map, learning_rate = 0.01, num_iterations = 400):\n",
        "\n",
        "    m = Y.shape[0]                          # number of training examples\n",
        "    n_y = 1                                 # number of classes  \n",
        "    n_h = 51                               # dimensions of the GloVe vectors + 1 (for price)\n",
        "    \n",
        "    # Initialize parameters using Xavier initialization\n",
        "    W = np.random.randn(n_y, n_h) / np.sqrt(n_h)\n",
        "    b = np.zeros((n_y,)) \n",
        "    \n",
        "    \n",
        "    # Optimization loop\n",
        "    for t in range(num_iterations): # Loop over the number of iterations\n",
        "        for i in range(m):          # Loop over the training examples\n",
        "          \n",
        "            # Forward propagate the avg through the softmax layer\n",
        "            z = np.dot(W,X[i]) + b\n",
        "            a = relu(z)\n",
        "            \n",
        "            # Compute gradients \n",
        "            dz = a - Y[i]\n",
        "            dW = np.dot(dz.reshape(n_y,1), X[i].reshape(1, n_h))\n",
        "            db = dz\n",
        "\n",
        "            # Update parameters with Stochastic Gradient Descent\n",
        "            W = W - learning_rate * dW\n",
        "            b = b - learning_rate * db\n",
        "        \n",
        "        if t % 100 == 0:\n",
        "            print(\"Epoch: \" + str(t))\n",
        "            pred = predict_4(X, Y, W, b, word_to_vec_map)\n",
        "\n",
        "    return pred, W, b"
      ],
      "execution_count": 15,
      "outputs": []
    },
    {
      "cell_type": "code",
      "metadata": {
        "id": "cL1N8j8g7XGD"
      },
      "source": [
        "def predict_4(X, Y, W, b, word_to_vec_map):\n",
        "    \"\"\"\n",
        "    Arguments:\n",
        "    X -- input data containing avg and prices, numpy array of shape (m, 51)\n",
        "    Y -- labels, numpy array of shape (m, 1)\n",
        "    \n",
        "    Returns:\n",
        "    pred -- numpy array of shape (m, 1) with your predictions\n",
        "    \"\"\"\n",
        "    m = X.shape[0]\n",
        "    pred = np.zeros(m)\n",
        "    \n",
        "    for j in range(m):                       # Loop over training examples\n",
        "        \n",
        "        # Forward propagation\n",
        "        Z = np.dot(W, X[j]) + b\n",
        "        A = relu(Z)\n",
        "        pred[j] = A[0]\n",
        "        \n",
        "    print(\"Loss (=mse): \"  + str(np.square(np.subtract(Y,pred)).mean() ))\n",
        "    \n",
        "    return pred"
      ],
      "execution_count": 16,
      "outputs": []
    },
    {
      "cell_type": "code",
      "metadata": {
        "colab": {
          "base_uri": "https://localhost:8080/"
        },
        "id": "_OWcTmzBBxXV",
        "outputId": "31938081-95a1-4052-bdce-49ecfd9738da"
      },
      "source": [
        "pred, W_4, b_4 = model_4(X_train, Y_train, word_to_vec_map)\n",
        "print(pred)"
      ],
      "execution_count": 17,
      "outputs": [
        {
          "output_type": "stream",
          "text": [
            "Epoch: 0\n",
            "Loss: 5.503880041470268\n",
            "Epoch: 100\n",
            "Loss: 4.613893564036255\n",
            "Epoch: 200\n",
            "Loss: 4.612016620854619\n",
            "Epoch: 300\n",
            "Loss: 4.611877771992524\n",
            "[85.84995618 89.08292203 89.55358897 ... 87.12488958 89.42881855\n",
            " 88.38939434]\n"
          ],
          "name": "stdout"
        }
      ]
    },
    {
      "cell_type": "code",
      "metadata": {
        "colab": {
          "base_uri": "https://localhost:8080/"
        },
        "id": "F2dcGoqfB6Xj",
        "outputId": "c8c4945f-2a86-4c0c-e5c4-93f5496e27e6"
      },
      "source": [
        "print(\"Training set:\")\n",
        "pred_train = predict_4(X_train, Y_train, W_4, b_4, word_to_vec_map)\n",
        "print('Test set:')\n",
        "pred_test = predict_4(X_test, Y_test, W_4, b_4, word_to_vec_map)"
      ],
      "execution_count": 18,
      "outputs": [
        {
          "output_type": "stream",
          "text": [
            "Training set:\n",
            "Loss: 4.611867435419702\n",
            "Test set:\n",
            "Loss: 4.6284941374251565\n"
          ],
          "name": "stdout"
        }
      ]
    },
    {
      "cell_type": "code",
      "metadata": {
        "colab": {
          "base_uri": "https://localhost:8080/"
        },
        "id": "i-x3FdpGDrBU",
        "outputId": "45876ec8-6af6-45a3-d3ce-133d7be15928"
      },
      "source": [
        "#Let's try to analyse our prediction:\n",
        "ecart = []\n",
        "for i in range(0,len(Y_test)):\n",
        " ecart.append(abs(pred_test[i] - Y_test[i]))\n",
        "ecart = np.array(ecart)\n",
        "print(\"ecart max:\" +str(np.max(ecart)))\n",
        "print(\"ecart moy:\"+ str(ecart.mean()))\n",
        "print(\"variance de l'écart:\" + str(ecart.var()))\n",
        "print(np.quantile(ecart, 0.9))"
      ],
      "execution_count": 19,
      "outputs": [
        {
          "output_type": "stream",
          "text": [
            "ecart max:10.510670238903003\n",
            "ecart moy:1.6969327532760465\n",
            "variance de l'écart:1.7489133682841334\n",
            "3.500728268783739\n"
          ],
          "name": "stdout"
        }
      ]
    },
    {
      "cell_type": "code",
      "metadata": {
        "colab": {
          "base_uri": "https://localhost:8080/",
          "height": 357
        },
        "id": "DTYwkSjCPvoN",
        "outputId": "f3dfcf8c-f45d-4669-aa42-a991038a88d0"
      },
      "source": [
        "#Si on veut comparer aux modèles précédents:\n",
        "\n",
        "Y_test = pd.Series(Y_test)\n",
        "quant = Y_test.quantile([0.2,0.4,0.6,0.8,1])\n",
        "Y_res = np.array(Y_test)\n",
        "\n",
        "for idx in range(len(Y_test)):\n",
        "    if Y_res[idx] <= quant[0.2]:\n",
        "        Y_res[idx] = 0\n",
        "    elif Y_res[idx] <= quant[0.4]:\n",
        "        Y_res[idx] = 1\n",
        "    elif Y_res[idx] <= quant[0.6]:\n",
        "        Y_res[idx] = 2\n",
        "    elif Y_res[idx] <= quant[0.8]:\n",
        "        Y_res[idx] = 3\n",
        "    else:\n",
        "        Y_res[idx] = 4\n",
        "\n",
        "pred_test= pd.Series(pred_test)\n",
        "quant_pred = pred_test.quantile([0.2,0.4,0.6,0.8,1])\n",
        "pred_res = np.array(pred_test)\n",
        "\n",
        "for idx in range(len(Y_test)):\n",
        "    if pred_res[idx] <= quant_pred[0.2]:\n",
        "        pred_res[idx] = 0\n",
        "    elif pred_res[idx] <= quant_pred[0.4]:\n",
        "        pred_res[idx] = 1\n",
        "    elif pred_res[idx] <= quant_pred[0.6]:\n",
        "        pred_res[idx] = 2\n",
        "    elif pred_res[idx] <= quant_pred[0.8]:\n",
        "        pred_res[idx] = 3\n",
        "    else:\n",
        "        pred_res[idx] = 4\n",
        "\n",
        "print(pd.crosstab(Y_res, pred_res.reshape(Y_test.shape), rownames=['Actual'], colnames=['Predicted'], margins=True))\n",
        "plot_confusion_matrix(Y_res, pred_res)\n"
      ],
      "execution_count": 20,
      "outputs": [
        {
          "output_type": "stream",
          "text": [
            "Predicted   0.0   1.0   2.0   3.0   4.0    All\n",
            "Actual                                        \n",
            "0          2479  1269   591   246    82   4667\n",
            "1          1047  1511  1385   840   341   5124\n",
            "2           194   455   559   513   250   1971\n",
            "3           126   553  1004  1393  1163   4239\n",
            "4            14    71   320   867  2023   3295\n",
            "All        3860  3859  3859  3859  3859  19296\n"
          ],
          "name": "stdout"
        },
        {
          "output_type": "error",
          "ename": "NameError",
          "evalue": "ignored",
          "traceback": [
            "\u001b[0;31m---------------------------------------------------------------------------\u001b[0m",
            "\u001b[0;31mNameError\u001b[0m                                 Traceback (most recent call last)",
            "\u001b[0;32m<ipython-input-20-1cc7ee6a12e6>\u001b[0m in \u001b[0;36m<module>\u001b[0;34m()\u001b[0m\n\u001b[1;32m     34\u001b[0m \u001b[0;34m\u001b[0m\u001b[0m\n\u001b[1;32m     35\u001b[0m \u001b[0mprint\u001b[0m\u001b[0;34m(\u001b[0m\u001b[0mpd\u001b[0m\u001b[0;34m.\u001b[0m\u001b[0mcrosstab\u001b[0m\u001b[0;34m(\u001b[0m\u001b[0mY_res\u001b[0m\u001b[0;34m,\u001b[0m \u001b[0mpred_res\u001b[0m\u001b[0;34m.\u001b[0m\u001b[0mreshape\u001b[0m\u001b[0;34m(\u001b[0m\u001b[0mY_test\u001b[0m\u001b[0;34m.\u001b[0m\u001b[0mshape\u001b[0m\u001b[0;34m)\u001b[0m\u001b[0;34m,\u001b[0m \u001b[0mrownames\u001b[0m\u001b[0;34m=\u001b[0m\u001b[0;34m[\u001b[0m\u001b[0;34m'Actual'\u001b[0m\u001b[0;34m]\u001b[0m\u001b[0;34m,\u001b[0m \u001b[0mcolnames\u001b[0m\u001b[0;34m=\u001b[0m\u001b[0;34m[\u001b[0m\u001b[0;34m'Predicted'\u001b[0m\u001b[0;34m]\u001b[0m\u001b[0;34m,\u001b[0m \u001b[0mmargins\u001b[0m\u001b[0;34m=\u001b[0m\u001b[0;32mTrue\u001b[0m\u001b[0;34m)\u001b[0m\u001b[0;34m)\u001b[0m\u001b[0;34m\u001b[0m\u001b[0;34m\u001b[0m\u001b[0m\n\u001b[0;32m---> 36\u001b[0;31m \u001b[0mplot_confusion_matrix\u001b[0m\u001b[0;34m(\u001b[0m\u001b[0mY_res\u001b[0m\u001b[0;34m,\u001b[0m \u001b[0mpred_res\u001b[0m\u001b[0;34m)\u001b[0m\u001b[0;34m\u001b[0m\u001b[0;34m\u001b[0m\u001b[0m\n\u001b[0m",
            "\u001b[0;31mNameError\u001b[0m: name 'plot_confusion_matrix' is not defined"
          ]
        }
      ]
    },
    {
      "cell_type": "code",
      "metadata": {
        "colab": {
          "base_uri": "https://localhost:8080/",
          "height": 35
        },
        "id": "Ks6omAOOVC9m",
        "outputId": "5cddfbff-6ee8-4407-c9dc-d6d964d75722"
      },
      "source": [
        "str('Accuracy: ' + str(np.mean(pred_res[:] == Y_res[:]) ) )"
      ],
      "execution_count": 21,
      "outputs": [
        {
          "output_type": "execute_result",
          "data": {
            "application/vnd.google.colaboratory.intrinsic+json": {
              "type": "string"
            },
            "text/plain": [
              "'Accuracy: 0.41277985074626866'"
            ]
          },
          "metadata": {
            "tags": []
          },
          "execution_count": 21
        }
      ]
    },
    {
      "cell_type": "code",
      "metadata": {
        "colab": {
          "base_uri": "https://localhost:8080/",
          "height": 265
        },
        "id": "3uA6nSm4Zbje",
        "outputId": "efd983b9-dbf2-4838-bfd3-a13dc2d27b42"
      },
      "source": [
        "#Here the distribution can also give us some hints of the quality of the prediction\n",
        "fig1 = Y_test.hist(alpha = 0.5, color = 'r')\n",
        "fig2 = pred_test.hist(alpha = 0.5, color = 'b')\n",
        "\n",
        "plt.show()"
      ],
      "execution_count": 22,
      "outputs": [
        {
          "output_type": "display_data",
          "data": {
            "image/png": "[encoded data removed]",
            "text/plain": [
              "<Figure size 432x288 with 1 Axes>"
            ]
          },
          "metadata": {
            "tags": [],
            "needs_background": "light"
          }
        }
      ]
    },
    {
      "cell_type": "markdown",
      "metadata": {
        "id": "EAR_76JU_pPp"
      },
      "source": [
        "# Partie 5 : Retour sur LSTM"
      ]
    },
    {
      "cell_type": "markdown",
      "metadata": {
        "id": "iFxPcGYW_xqF"
      },
      "source": [
        "This time we will try to get the score directly in output using the LSTM model. The only thing that really changes from the previous LSTM model is the loss function..."
      ]
    },
    {
      "cell_type": "code",
      "metadata": {
        "id": "ifIosjetx_pl"
      },
      "source": [
        "import numpy as np\n",
        "from keras.models import Model\n",
        "from keras.layers import Dense, Input, Dropout, LSTM, Activation\n",
        "from keras.layers.embeddings import Embedding\n",
        "from keras.preprocessing import sequence\n",
        "from keras.initializers import glorot_uniform"
      ],
      "execution_count": null,
      "outputs": []
    },
    {
      "cell_type": "code",
      "metadata": {
        "colab": {
          "base_uri": "https://localhost:8080/"
        },
        "id": "By--QqkLAP4y",
        "outputId": "c561f141-cd0c-4317-e3d2-a3b5dcaf8304"
      },
      "source": [
        "data_5 = data.sample(frac = 1, random_state = 1)\n",
        "data_5= data_5.sort_values(by=['points'])\n",
        "X_LTSM = data_5['description']\n",
        "Y_LTSM = data_5['points']\n",
        "\n",
        "print(len(X_LTSM))\n",
        "X_LTSM = np.array(X_LTSM)\n",
        "\n",
        "size =[]\n",
        "for i in range(len(X_LTSM)):\n",
        "  size.append(len(X_LTSM[i].split()))\n",
        "size = np.array(size)\n",
        "\n",
        "mask = pd.Series(size) <= np.quantile(size,0.99)\n",
        "X_LTSM = np.array(X_LTSM)\n",
        "Y_LTSM = np.array(Y_LTSM)\n",
        "\n",
        "X_LTSM = X_LTSM[mask]\n",
        "Y_LTSM = Y_LTSM[mask] \n",
        "size = size[mask] \n",
        "\n",
        "#Preprocessing of the Y values:\n",
        "min_Y = Y_LTSM.min()\n",
        "max_Y = Y_LTSM.max()\n",
        "Y_LTSM = (Y_LTSM - min_Y)/(max_Y - min_Y)\n",
        "\n",
        "size.max()"
      ],
      "execution_count": null,
      "outputs": [
        {
          "output_type": "stream",
          "text": [
            "129971\n"
          ],
          "name": "stdout"
        },
        {
          "output_type": "execute_result",
          "data": {
            "text/plain": [
              "71"
            ]
          },
          "metadata": {
            "tags": []
          },
          "execution_count": 32
        }
      ]
    },
    {
      "cell_type": "code",
      "metadata": {
        "id": "aLIwKz7vrxQi"
      },
      "source": [
        "#Split train/test\n",
        "\n",
        "X_train,X_test,Y_train,Y_test = train_test_split(X_LTSM,Y_LTSM,test_size=0.2)\n",
        "X_train_indices = sentences_to_indices(X_train, word_to_index, size.max())"
      ],
      "execution_count": null,
      "outputs": []
    },
    {
      "cell_type": "code",
      "metadata": {
        "id": "ysP_upwxAdk1"
      },
      "source": [
        "def Wine_model_2(input_shape, word_to_vec_map, word_to_index):\n",
        "    \"\"\"\n",
        "    Arguments:\n",
        "    input_shape -- shape of the input, here size.max()\n",
        "    word_to_vec_map\n",
        "    word_to_index \n",
        "\n",
        "    Returns:\n",
        "    model -- model instance in Keras\n",
        "    \"\"\"\n",
        "    \n",
        "    sentence_indices = Input(input_shape, dtype= 'int32')\n",
        "    \n",
        "    # Create the embedding layer pretrained with GloVe Vectors\n",
        "    embedding_layer = pretrained_embedding_layer(word_to_vec_map, word_to_index)\n",
        "    \n",
        "    # Propagate sentence_indices through your embedding layer\n",
        "    embeddings = embedding_layer(sentence_indices)\n",
        "    \n",
        "    X = LSTM(128, return_sequences= True)(embeddings)\n",
        "    X = Dropout(0.5)(X)\n",
        "    \n",
        "    X = LSTM(128, return_sequences= False)(X)\n",
        "    X = Dropout(0.5)(X)\n",
        "    \n",
        "    #We just had a new 128 Dense Layer (because it works better...)\n",
        "    X = Dense ( units = 128 )(X)\n",
        "    X = Activation('relu')(X)\n",
        "    X = Dropout(0.5)(X)\n",
        "\n",
        "    X = Dense( units = 1 )(X)\n",
        "    X = Activation('linear')(X)\n",
        "    \n",
        "    model = Model(inputs=sentence_indices, outputs=X)\n",
        "    \n",
        "    return model"
      ],
      "execution_count": null,
      "outputs": []
    },
    {
      "cell_type": "code",
      "metadata": {
        "colab": {
          "base_uri": "https://localhost:8080/"
        },
        "id": "__TyjeccrTcA",
        "outputId": "8fc78dcf-d572-43d6-ebcf-436d2a852490"
      },
      "source": [
        "model_2 = Wine_model_2((size.max(),), word_to_vec_map, word_to_index)\n",
        "model_2.summary()"
      ],
      "execution_count": null,
      "outputs": [
        {
          "output_type": "stream",
          "text": [
            "Model: \"functional_3\"\n",
            "_________________________________________________________________\n",
            "Layer (type)                 Output Shape              Param #   \n",
            "=================================================================\n",
            "input_2 (InputLayer)         [(None, 71)]              0         \n",
            "_________________________________________________________________\n",
            "embedding_1 (Embedding)      (None, 71, 50)            20000000  \n",
            "_________________________________________________________________\n",
            "lstm_2 (LSTM)                (None, 71, 128)           91648     \n",
            "_________________________________________________________________\n",
            "dropout_2 (Dropout)          (None, 71, 128)           0         \n",
            "_________________________________________________________________\n",
            "lstm_3 (LSTM)                (None, 128)               131584    \n",
            "_________________________________________________________________\n",
            "dropout_3 (Dropout)          (None, 128)               0         \n",
            "_________________________________________________________________\n",
            "dense_1 (Dense)              (None, 128)               16512     \n",
            "_________________________________________________________________\n",
            "activation_1 (Activation)    (None, 128)               0         \n",
            "_________________________________________________________________\n",
            "dropout_4 (Dropout)          (None, 128)               0         \n",
            "_________________________________________________________________\n",
            "dense_2 (Dense)              (None, 1)                 129       \n",
            "_________________________________________________________________\n",
            "activation_2 (Activation)    (None, 1)                 0         \n",
            "=================================================================\n",
            "Total params: 20,239,873\n",
            "Trainable params: 20,239,873\n",
            "Non-trainable params: 0\n",
            "_________________________________________________________________\n"
          ],
          "name": "stdout"
        }
      ]
    },
    {
      "cell_type": "code",
      "metadata": {
        "colab": {
          "base_uri": "https://localhost:8080/"
        },
        "id": "6q3RrRv4q5BR",
        "outputId": "40a710bf-9e55-49c6-b5ca-625b749a6ac2"
      },
      "source": [
        "# Compute that to load a model : \n",
        "\n",
        "from keras.models import model_from_json\n",
        "from keras.models import load_model\n",
        "\n",
        "\n",
        "json_file = open('/content/drive/My Drive/Wine_project/final_p5.json', 'r')\n",
        "model_json = json_file.read()\n",
        "json_file.close()\n",
        "model = model_from_json(model_json)\n",
        "# load weights into new model\n",
        "model_2.load_weights(\"/content/drive/My Drive/Wine_project/final_p5.hdf5\")\n",
        "print(\"Loaded model from disk\")\n",
        "model_2.save('/content/drive/My Drive/Wine_project/final_p5.hdf5')\n",
        "model_2=load_model('/content/drive/My Drive/Wine_project/final_p5.hdf5')\n",
        "from keras import metrics\n",
        "model_2.compile(optimizer = 'adam', loss= 'mean_squared_error', metrics= [metrics.mean_squared_error, metrics.mean_absolute_error]) \n"
      ],
      "execution_count": null,
      "outputs": [
        {
          "output_type": "stream",
          "text": [
            "Loaded model from disk\n"
          ],
          "name": "stdout"
        }
      ]
    },
    {
      "cell_type": "code",
      "metadata": {
        "id": "eiS29PtwB0Km"
      },
      "source": [
        "from keras import metrics\r\n",
        "model_2.compile(loss='mean_squared_error', optimizer='adam', metrics= [metrics.mean_squared_error, \r\n",
        "                       metrics.mean_absolute_error])"
      ],
      "execution_count": null,
      "outputs": []
    },
    {
      "cell_type": "code",
      "metadata": {
        "colab": {
          "base_uri": "https://localhost:8080/"
        },
        "id": "iEih2NtuCnQM",
        "outputId": "e0e0a151-cd48-488f-ee44-567db1f0eac1"
      },
      "source": [
        "model_2.fit(X_train_indices, Y_train, epochs = 3, batch_size = 1500, shuffle=True)"
      ],
      "execution_count": null,
      "outputs": [
        {
          "output_type": "stream",
          "text": [
            "Epoch 1/3\n",
            "69/69 [==============================] - 17s 251ms/step - loss: 0.0069 - mean_squared_error: 0.0069 - mean_absolute_error: 0.0653\n",
            "Epoch 2/3\n",
            "69/69 [==============================] - 17s 252ms/step - loss: 0.0067 - mean_squared_error: 0.0067 - mean_absolute_error: 0.0644\n",
            "Epoch 3/3\n",
            "69/69 [==============================] - 17s 249ms/step - loss: 0.0065 - mean_squared_error: 0.0065 - mean_absolute_error: 0.0636\n"
          ],
          "name": "stdout"
        },
        {
          "output_type": "execute_result",
          "data": {
            "text/plain": [
              "<tensorflow.python.keras.callbacks.History at 0x7fe29e906f98>"
            ]
          },
          "metadata": {
            "tags": []
          },
          "execution_count": 263
        }
      ]
    },
    {
      "cell_type": "code",
      "metadata": {
        "colab": {
          "base_uri": "https://localhost:8080/"
        },
        "id": "GZ4pHoJkP3xn",
        "outputId": "7938e50f-7aed-4511-81a6-678d4be83559"
      },
      "source": [
        "X_test_indices = sentences_to_indices(X_test, word_to_index, size.max())\n",
        "loss, mse, mae = model_2.evaluate(X_test_indices, Y_test)\n",
        "pred = model_2.predict(X_test_indices)"
      ],
      "execution_count": null,
      "outputs": [
        {
          "output_type": "stream",
          "text": [
            "805/805 [==============================] - 4s 5ms/step - loss: 0.0053 - mean_squared_error: 0.0053 - mean_absolute_error: 0.0568\n"
          ],
          "name": "stdout"
        }
      ]
    },
    {
      "cell_type": "code",
      "metadata": {
        "id": "XxXC4F3r80E6"
      },
      "source": [
        "from keras.models import model_from_json\n",
        "from keras.models import load_model\n",
        "model_json = model_2.to_json()\n",
        "with open(\"/content/drive/My Drive/Wine_project/final_p5.json\", \"w\") as json_file:\n",
        "  json_file.write(model_json)\n",
        "model_2.save_weights(\"/content/drive/My Drive/Wine_project/final_p5.hdf5\")"
      ],
      "execution_count": null,
      "outputs": []
    },
    {
      "cell_type": "code",
      "metadata": {
        "colab": {
          "base_uri": "https://localhost:8080/",
          "height": 265
        },
        "id": "r0AG6Pm1_Lnu",
        "outputId": "23d0de6a-45ae-4e8c-aa7f-0bff2e751fcd"
      },
      "source": [
        "pred_post,Y_test_post = pred*(max_Y - min_Y) + min_Y,Y_test*(max_Y - min_Y) + min_Y\r\n",
        "pred_post = np.reshape(pred_post,(len(pred)))\r\n",
        "ecart = abs(pred_post - Y_test_post)\r\n",
        "pd.Series(ecart).hist()\r\n",
        "plt.show()"
      ],
      "execution_count": null,
      "outputs": [
        {
          "output_type": "display_data",
          "data": {
            "image/png": "[encoded data removed]",
            "text/plain": [
              "<Figure size 432x288 with 1 Axes>"
            ]
          },
          "metadata": {
            "tags": []
          }
        }
      ]
    },
    {
      "cell_type": "code",
      "metadata": {
        "colab": {
          "base_uri": "https://localhost:8080/"
        },
        "id": "R1e6GwuC2UYM",
        "outputId": "55d9a1a1-85eb-4737-fb12-a03db1bc3d3a"
      },
      "source": [
        "np.quantile(ecart, 0.90)"
      ],
      "execution_count": null,
      "outputs": [
        {
          "output_type": "execute_result",
          "data": {
            "text/plain": [
              "2.3747497558593755"
            ]
          },
          "metadata": {
            "tags": []
          },
          "execution_count": 41
        }
      ]
    },
    {
      "cell_type": "code",
      "metadata": {
        "colab": {
          "base_uri": "https://localhost:8080/"
        },
        "id": "zlv9VzyHSQp0",
        "outputId": "b7011a08-0b5a-49cd-b623-7343aa310f7f"
      },
      "source": [
        "#petit test aléatoire:\r\n",
        "i = rd.randint(0,len(pred_post))\r\n",
        "print(\"Prédiction:\" + str(pred_post[i]))\r\n",
        "print(\"Réel :\" +str(Y_test_post[i]))"
      ],
      "execution_count": null,
      "outputs": [
        {
          "output_type": "stream",
          "text": [
            "Prédiction:87.7039\n",
            "Réel :87.0\n"
          ],
          "name": "stdout"
        }
      ]
    },
    {
      "cell_type": "code",
      "metadata": {
        "colab": {
          "base_uri": "https://localhost:8080/",
          "height": 265
        },
        "id": "Ns2gzsy7ci_T",
        "outputId": "9327a4d9-5228-488a-d0bc-3e1b16a8233b"
      },
      "source": [
        "fig1 = pd.Series(Y_test_post).hist(alpha = 0.5, color = 'r')\n",
        "fig2 = pd.Series(pred_post).hist(alpha = 0.5, color = 'b')\n",
        "\n",
        "plt.show()"
      ],
      "execution_count": null,
      "outputs": [
        {
          "output_type": "display_data",
          "data": {
            "image/png": "[encoded data removed]",
            "text/plain": [
              "<Figure size 432x288 with 1 Axes>"
            ]
          },
          "metadata": {
            "tags": []
          }
        }
      ]
    },
    {
      "cell_type": "markdown",
      "metadata": {
        "id": "Puk3ynlAEofh"
      },
      "source": [
        "We can see here thanks to the distribution that it looks like the LSTM model allow better range of values if we compare it to the Model_4."
      ]
    },
    {
      "cell_type": "code",
      "metadata": {
        "id": "TL-XvM8DoXYP"
      },
      "source": [
        "def predict_wine_score(sentence):\r\n",
        "  #sentence MUST BE a string, it is the sentence describing the wine \r\n",
        "  #return the score (out of 100) predicted for the bottle described\r\n",
        "  sentence = np.array([sentence])\r\n",
        "  sentence = sentences_to_indices(sentence,word_to_index, size.max())\r\n",
        "  return model_2.predict(sentence)[0][0]*(max_Y - min_Y) + min_Y"
      ],
      "execution_count": null,
      "outputs": []
    },
    {
      "cell_type": "code",
      "metadata": {
        "colab": {
          "base_uri": "https://localhost:8080/"
        },
        "id": "jM98FGa9Knsi",
        "outputId": "456ea870-c4e3-4c4e-d4ef-b98f88f873bf"
      },
      "source": [
        "#Petit exemple avec ce vin \r\n",
        "#https://www.vivino.com/FR/fr/sainte-marguerite-symphonie-cotes-de-provence-rouge/w/3496774?year=2018&price_id=22596529&cart_item_source=nav-explore\r\n",
        "#noté 4.3/5 ce qui équivaut à 86/100\r\n",
        "\r\n",
        "predict_wine_score(\"After the white, the red. Wine with a nice roundness, a nice spicy and fleshy side. It is powerful and subtle at the same time. It's organic and it's all good. One of my reference domains in Côtes de Provence.\")"
      ],
      "execution_count": null,
      "outputs": [
        {
          "output_type": "execute_result",
          "data": {
            "text/plain": [
              "86.099613904953"
            ]
          },
          "metadata": {
            "tags": []
          },
          "execution_count": 166
        }
      ]
    },
    {
      "cell_type": "markdown",
      "metadata": {
        "id": "098OzSy25OWD"
      },
      "source": [
        "## Prediction du prix"
      ]
    },
    {
      "cell_type": "markdown",
      "metadata": {
        "id": "DsITfQFa7os8"
      },
      "source": [
        "Puisque le modèle semble bien marcher, on tente notre chance en essayant de prédire le prix."
      ]
    },
    {
      "cell_type": "code",
      "metadata": {
        "colab": {
          "base_uri": "https://localhost:8080/",
          "height": 300
        },
        "id": "1NzD_4AQ5S_L",
        "outputId": "ed7b4e85-b8a8-4bc0-ef91-acdb83637701"
      },
      "source": [
        "\r\n",
        "data_51 = data.sample(frac = 1, random_state = 1)\r\n",
        "X_LTSM = data_51['description']\r\n",
        "Y_LTSM = data_51['price']\r\n",
        "Y_LTSM = Y_LTSM.fillna(method='backfill')\r\n",
        "\r\n",
        "mask = Y_LTSM.isnull() <1\r\n",
        "Y_LTSM = Y_LTSM[mask]\r\n",
        "X_LTSM = X_LTSM[mask]\r\n",
        "print(len(X_LTSM))\r\n",
        "\r\n",
        "mask1 = Y_LTSM < np.quantile(np.array(Y_LTSM),0.98)\r\n",
        "\r\n",
        "X_LTSM = np.array(X_LTSM)\r\n",
        "Y_LTSM = np.array(Y_LTSM)\r\n",
        "X_LTSM = X_LTSM[mask1]\r\n",
        "Y_LTSM = Y_LTSM[mask1]\r\n",
        "\r\n",
        "size =[]\r\n",
        "for i in range(len(X_LTSM)):\r\n",
        "  size.append(len(X_LTSM[i].split()))\r\n",
        "size = np.array(size)\r\n",
        "\r\n",
        "mask2 = pd.Series(size) <= np.quantile(size,0.99)\r\n",
        "\r\n",
        "X_LTSM = X_LTSM[mask2]\r\n",
        "Y_LTSM = Y_LTSM[mask2] \r\n",
        "\r\n",
        "pd.Series(Y_LTSM).hist()\r\n",
        "plt.show()\r\n",
        "\r\n",
        "min_Y = Y_LTSM.min()\r\n",
        "max_Y = Y_LTSM.max()\r\n",
        "Y_LTSM = (Y_LTSM - min_Y)/(max_Y - min_Y)\r\n",
        "size = size[mask2]\r\n",
        "size.max()\r\n"
      ],
      "execution_count": null,
      "outputs": [
        {
          "output_type": "stream",
          "text": [
            "129970\n"
          ],
          "name": "stdout"
        },
        {
          "output_type": "display_data",
          "data": {
            "image/png": "[encoded data removed]",
            "text/plain": [
              "<Figure size 432x288 with 1 Axes>"
            ]
          },
          "metadata": {
            "tags": []
          }
        },
        {
          "output_type": "execute_result",
          "data": {
            "text/plain": [
              "70"
            ]
          },
          "metadata": {
            "tags": []
          },
          "execution_count": 54
        }
      ]
    },
    {
      "cell_type": "code",
      "metadata": {
        "id": "gVYgfwaBLRLJ"
      },
      "source": [
        "#Split train/test\r\n",
        "\r\n",
        "X_train,X_test,Y_train,Y_test=train_test_split(X_LTSM,Y_LTSM,test_size=0.2)\r\n",
        "X_train_indices = sentences_to_indices(X_train, word_to_index, size.max())"
      ],
      "execution_count": null,
      "outputs": []
    },
    {
      "cell_type": "code",
      "metadata": {
        "colab": {
          "base_uri": "https://localhost:8080/",
          "height": 537
        },
        "id": "qjcMuWz_HqMc",
        "outputId": "ea11c39f-50ab-409c-eb28-93293fa91875"
      },
      "source": [
        "# Compute that to load a model : \r\n",
        "\r\n",
        "from keras.models import model_from_json\r\n",
        "from keras.models import load_model\r\n",
        "\r\n",
        "\r\n",
        "json_file = open('/content/drive/My Drive/Wine_project/final_p5price.json', 'r')\r\n",
        "model_json = json_file.read()\r\n",
        "json_file.close()\r\n",
        "model = model_from_json(model_json)\r\n",
        "# load weights into new model\r\n",
        "model_2.load_weights(\"/content/drive/My Drive/Wine_project/final_p5price.h5\")\r\n",
        "print(\"Loaded model from disk\")\r\n",
        "model_2.save('/content/drive/My Drive/Wine_project/final_p5price.hdf5')\r\n",
        "model_2=load_model('/content/drive/My Drive/Wine_project/final_p5price.hdf5')\r\n",
        "model_2.compile(optimizer = 'adam', loss= 'mean_squared_error', metrics= [metrics.mean_squared_error, metrics.mean_absolute_error]) \r\n",
        "\r\n",
        "from keras import metrics\r\n",
        "model_2.compile(loss='mean_squared_error', optimizer='adam', metrics= [metrics.mean_squared_error, \r\n",
        "                       metrics.mean_absolute_error])\r\n"
      ],
      "execution_count": null,
      "outputs": [
        {
          "output_type": "error",
          "ename": "OSError",
          "evalue": "ignored",
          "traceback": [
            "\u001b[0;31m---------------------------------------------------------------------------\u001b[0m",
            "\u001b[0;31mOSError\u001b[0m                                   Traceback (most recent call last)",
            "\u001b[0;32m<ipython-input-56-b0450559b8d0>\u001b[0m in \u001b[0;36m<module>\u001b[0;34m()\u001b[0m\n\u001b[1;32m     10\u001b[0m \u001b[0mmodel\u001b[0m \u001b[0;34m=\u001b[0m \u001b[0mmodel_from_json\u001b[0m\u001b[0;34m(\u001b[0m\u001b[0mmodel_json\u001b[0m\u001b[0;34m)\u001b[0m\u001b[0;34m\u001b[0m\u001b[0;34m\u001b[0m\u001b[0m\n\u001b[1;32m     11\u001b[0m \u001b[0;31m# load weights into new model\u001b[0m\u001b[0;34m\u001b[0m\u001b[0;34m\u001b[0m\u001b[0;34m\u001b[0m\u001b[0m\n\u001b[0;32m---> 12\u001b[0;31m \u001b[0mmodel_2\u001b[0m\u001b[0;34m.\u001b[0m\u001b[0mload_weights\u001b[0m\u001b[0;34m(\u001b[0m\u001b[0;34m\"/content/drive/My Drive/Wine_project/final_p5price.h5\"\u001b[0m\u001b[0;34m)\u001b[0m\u001b[0;34m\u001b[0m\u001b[0;34m\u001b[0m\u001b[0m\n\u001b[0m\u001b[1;32m     13\u001b[0m \u001b[0mprint\u001b[0m\u001b[0;34m(\u001b[0m\u001b[0;34m\"Loaded model from disk\"\u001b[0m\u001b[0;34m)\u001b[0m\u001b[0;34m\u001b[0m\u001b[0;34m\u001b[0m\u001b[0m\n\u001b[1;32m     14\u001b[0m \u001b[0mmodel_2\u001b[0m\u001b[0;34m.\u001b[0m\u001b[0msave\u001b[0m\u001b[0;34m(\u001b[0m\u001b[0;34m'/content/drive/My Drive/Wine_project/final_p5price.hdf5'\u001b[0m\u001b[0;34m)\u001b[0m\u001b[0;34m\u001b[0m\u001b[0;34m\u001b[0m\u001b[0m\n",
            "\u001b[0;32m/usr/local/lib/python3.6/dist-packages/tensorflow/python/keras/engine/training.py\u001b[0m in \u001b[0;36mload_weights\u001b[0;34m(self, filepath, by_name, skip_mismatch, options)\u001b[0m\n\u001b[1;32m   2202\u001b[0m           'first, then load the weights.')\n\u001b[1;32m   2203\u001b[0m     \u001b[0mself\u001b[0m\u001b[0;34m.\u001b[0m\u001b[0m_assert_weights_created\u001b[0m\u001b[0;34m(\u001b[0m\u001b[0;34m)\u001b[0m\u001b[0;34m\u001b[0m\u001b[0;34m\u001b[0m\u001b[0m\n\u001b[0;32m-> 2204\u001b[0;31m     \u001b[0;32mwith\u001b[0m \u001b[0mh5py\u001b[0m\u001b[0;34m.\u001b[0m\u001b[0mFile\u001b[0m\u001b[0;34m(\u001b[0m\u001b[0mfilepath\u001b[0m\u001b[0;34m,\u001b[0m \u001b[0;34m'r'\u001b[0m\u001b[0;34m)\u001b[0m \u001b[0;32mas\u001b[0m \u001b[0mf\u001b[0m\u001b[0;34m:\u001b[0m\u001b[0;34m\u001b[0m\u001b[0;34m\u001b[0m\u001b[0m\n\u001b[0m\u001b[1;32m   2205\u001b[0m       \u001b[0;32mif\u001b[0m \u001b[0;34m'layer_names'\u001b[0m \u001b[0;32mnot\u001b[0m \u001b[0;32min\u001b[0m \u001b[0mf\u001b[0m\u001b[0;34m.\u001b[0m\u001b[0mattrs\u001b[0m \u001b[0;32mand\u001b[0m \u001b[0;34m'model_weights'\u001b[0m \u001b[0;32min\u001b[0m \u001b[0mf\u001b[0m\u001b[0;34m:\u001b[0m\u001b[0;34m\u001b[0m\u001b[0;34m\u001b[0m\u001b[0m\n\u001b[1;32m   2206\u001b[0m         \u001b[0mf\u001b[0m \u001b[0;34m=\u001b[0m \u001b[0mf\u001b[0m\u001b[0;34m[\u001b[0m\u001b[0;34m'model_weights'\u001b[0m\u001b[0;34m]\u001b[0m\u001b[0;34m\u001b[0m\u001b[0;34m\u001b[0m\u001b[0m\n",
            "\u001b[0;32m/usr/local/lib/python3.6/dist-packages/h5py/_hl/files.py\u001b[0m in \u001b[0;36m__init__\u001b[0;34m(self, name, mode, driver, libver, userblock_size, swmr, rdcc_nslots, rdcc_nbytes, rdcc_w0, track_order, **kwds)\u001b[0m\n\u001b[1;32m    406\u001b[0m                 fid = make_fid(name, mode, userblock_size,\n\u001b[1;32m    407\u001b[0m                                \u001b[0mfapl\u001b[0m\u001b[0;34m,\u001b[0m \u001b[0mfcpl\u001b[0m\u001b[0;34m=\u001b[0m\u001b[0mmake_fcpl\u001b[0m\u001b[0;34m(\u001b[0m\u001b[0mtrack_order\u001b[0m\u001b[0;34m=\u001b[0m\u001b[0mtrack_order\u001b[0m\u001b[0;34m)\u001b[0m\u001b[0;34m,\u001b[0m\u001b[0;34m\u001b[0m\u001b[0;34m\u001b[0m\u001b[0m\n\u001b[0;32m--> 408\u001b[0;31m                                swmr=swmr)\n\u001b[0m\u001b[1;32m    409\u001b[0m \u001b[0;34m\u001b[0m\u001b[0m\n\u001b[1;32m    410\u001b[0m             \u001b[0;32mif\u001b[0m \u001b[0misinstance\u001b[0m\u001b[0;34m(\u001b[0m\u001b[0mlibver\u001b[0m\u001b[0;34m,\u001b[0m \u001b[0mtuple\u001b[0m\u001b[0;34m)\u001b[0m\u001b[0;34m:\u001b[0m\u001b[0;34m\u001b[0m\u001b[0;34m\u001b[0m\u001b[0m\n",
            "\u001b[0;32m/usr/local/lib/python3.6/dist-packages/h5py/_hl/files.py\u001b[0m in \u001b[0;36mmake_fid\u001b[0;34m(name, mode, userblock_size, fapl, fcpl, swmr)\u001b[0m\n\u001b[1;32m    171\u001b[0m         \u001b[0;32mif\u001b[0m \u001b[0mswmr\u001b[0m \u001b[0;32mand\u001b[0m \u001b[0mswmr_support\u001b[0m\u001b[0;34m:\u001b[0m\u001b[0;34m\u001b[0m\u001b[0;34m\u001b[0m\u001b[0m\n\u001b[1;32m    172\u001b[0m             \u001b[0mflags\u001b[0m \u001b[0;34m|=\u001b[0m \u001b[0mh5f\u001b[0m\u001b[0;34m.\u001b[0m\u001b[0mACC_SWMR_READ\u001b[0m\u001b[0;34m\u001b[0m\u001b[0;34m\u001b[0m\u001b[0m\n\u001b[0;32m--> 173\u001b[0;31m         \u001b[0mfid\u001b[0m \u001b[0;34m=\u001b[0m \u001b[0mh5f\u001b[0m\u001b[0;34m.\u001b[0m\u001b[0mopen\u001b[0m\u001b[0;34m(\u001b[0m\u001b[0mname\u001b[0m\u001b[0;34m,\u001b[0m \u001b[0mflags\u001b[0m\u001b[0;34m,\u001b[0m \u001b[0mfapl\u001b[0m\u001b[0;34m=\u001b[0m\u001b[0mfapl\u001b[0m\u001b[0;34m)\u001b[0m\u001b[0;34m\u001b[0m\u001b[0;34m\u001b[0m\u001b[0m\n\u001b[0m\u001b[1;32m    174\u001b[0m     \u001b[0;32melif\u001b[0m \u001b[0mmode\u001b[0m \u001b[0;34m==\u001b[0m \u001b[0;34m'r+'\u001b[0m\u001b[0;34m:\u001b[0m\u001b[0;34m\u001b[0m\u001b[0;34m\u001b[0m\u001b[0m\n\u001b[1;32m    175\u001b[0m         \u001b[0mfid\u001b[0m \u001b[0;34m=\u001b[0m \u001b[0mh5f\u001b[0m\u001b[0;34m.\u001b[0m\u001b[0mopen\u001b[0m\u001b[0;34m(\u001b[0m\u001b[0mname\u001b[0m\u001b[0;34m,\u001b[0m \u001b[0mh5f\u001b[0m\u001b[0;34m.\u001b[0m\u001b[0mACC_RDWR\u001b[0m\u001b[0;34m,\u001b[0m \u001b[0mfapl\u001b[0m\u001b[0;34m=\u001b[0m\u001b[0mfapl\u001b[0m\u001b[0;34m)\u001b[0m\u001b[0;34m\u001b[0m\u001b[0;34m\u001b[0m\u001b[0m\n",
            "\u001b[0;32mh5py/_objects.pyx\u001b[0m in \u001b[0;36mh5py._objects.with_phil.wrapper\u001b[0;34m()\u001b[0m\n",
            "\u001b[0;32mh5py/_objects.pyx\u001b[0m in \u001b[0;36mh5py._objects.with_phil.wrapper\u001b[0;34m()\u001b[0m\n",
            "\u001b[0;32mh5py/h5f.pyx\u001b[0m in \u001b[0;36mh5py.h5f.open\u001b[0;34m()\u001b[0m\n",
            "\u001b[0;31mOSError\u001b[0m: Unable to open file (unable to open file: name = '/content/drive/My Drive/Wine_project/final_p5price.h5', errno = 2, error message = 'No such file or directory', flags = 0, o_flags = 0)"
          ]
        }
      ]
    },
    {
      "cell_type": "code",
      "metadata": {
        "colab": {
          "base_uri": "https://localhost:8080/"
        },
        "id": "EwxraLV85wyX",
        "outputId": "cc68152f-11f3-4632-b582-df55d20d9b24"
      },
      "source": [
        "#Do not run it if you have already load a model\r\n",
        "model_2 = Wine_model_2((size.max(),), word_to_vec_map, word_to_index)\r\n",
        "model_2.compile(loss='mean_squared_error', optimizer='adam', metrics= [metrics.mean_squared_error, \r\n",
        "                       metrics.mean_absolute_error])\r\n",
        "model_2.fit(X_train_indices, Y_train, epochs = 15, batch_size = 1500, shuffle=True)"
      ],
      "execution_count": null,
      "outputs": [
        {
          "output_type": "stream",
          "text": [
            "Epoch 1/15\n",
            "68/68 [==============================] - 18s 268ms/step - loss: 0.0322 - mean_squared_error: 0.0322 - mean_absolute_error: 0.1335\n",
            "Epoch 2/15\n",
            "68/68 [==============================] - 18s 266ms/step - loss: 0.0251 - mean_squared_error: 0.0251 - mean_absolute_error: 0.1164\n",
            "Epoch 3/15\n",
            "68/68 [==============================] - 18s 266ms/step - loss: 0.0227 - mean_squared_error: 0.0227 - mean_absolute_error: 0.1093\n",
            "Epoch 4/15\n",
            "68/68 [==============================] - 18s 266ms/step - loss: 0.0210 - mean_squared_error: 0.0210 - mean_absolute_error: 0.1044\n",
            "Epoch 5/15\n",
            "68/68 [==============================] - 18s 267ms/step - loss: 0.0203 - mean_squared_error: 0.0203 - mean_absolute_error: 0.1023\n",
            "Epoch 6/15\n",
            "68/68 [==============================] - 18s 265ms/step - loss: 0.0196 - mean_squared_error: 0.0196 - mean_absolute_error: 0.1002\n",
            "Epoch 7/15\n",
            "68/68 [==============================] - 18s 265ms/step - loss: 0.0186 - mean_squared_error: 0.0186 - mean_absolute_error: 0.0972\n",
            "Epoch 8/15\n",
            "68/68 [==============================] - 18s 265ms/step - loss: 0.0180 - mean_squared_error: 0.0180 - mean_absolute_error: 0.0959\n",
            "Epoch 9/15\n",
            "68/68 [==============================] - 18s 265ms/step - loss: 0.0176 - mean_squared_error: 0.0176 - mean_absolute_error: 0.0945\n",
            "Epoch 10/15\n",
            "68/68 [==============================] - 18s 265ms/step - loss: 0.0171 - mean_squared_error: 0.0171 - mean_absolute_error: 0.0934\n",
            "Epoch 11/15\n",
            "68/68 [==============================] - 18s 264ms/step - loss: 0.0166 - mean_squared_error: 0.0166 - mean_absolute_error: 0.0917\n",
            "Epoch 12/15\n",
            "68/68 [==============================] - 18s 268ms/step - loss: 0.0160 - mean_squared_error: 0.0160 - mean_absolute_error: 0.0898\n",
            "Epoch 13/15\n",
            "68/68 [==============================] - 18s 264ms/step - loss: 0.0158 - mean_squared_error: 0.0158 - mean_absolute_error: 0.0899\n",
            "Epoch 14/15\n",
            "68/68 [==============================] - 18s 265ms/step - loss: 0.0154 - mean_squared_error: 0.0154 - mean_absolute_error: 0.0882\n",
            "Epoch 15/15\n",
            "68/68 [==============================] - 18s 267ms/step - loss: 0.0148 - mean_squared_error: 0.0148 - mean_absolute_error: 0.0863\n"
          ],
          "name": "stdout"
        },
        {
          "output_type": "execute_result",
          "data": {
            "text/plain": [
              "<tensorflow.python.keras.callbacks.History at 0x7fb1a3238e10>"
            ]
          },
          "metadata": {
            "tags": []
          },
          "execution_count": 57
        }
      ]
    },
    {
      "cell_type": "markdown",
      "metadata": {
        "id": "lSu1M11F5yDM"
      },
      "source": [
        "if an error pop up, make sure that you haave run all the required function to define model_2"
      ]
    },
    {
      "cell_type": "code",
      "metadata": {
        "id": "K4emvRQHHlNX"
      },
      "source": [
        "from keras.models import model_from_json\r\n",
        "from keras.models import load_model\r\n",
        "model_json = model_2.to_json()\r\n",
        "with open(\"/content/drive/My Drive/Wine_project/final_p5price.json\", \"w\") as json_file:\r\n",
        "  json_file.write(model_json)\r\n",
        "model_2.save_weights(\"/content/drive/My Drive/Wine_project/final_p5price.hdf5\")"
      ],
      "execution_count": null,
      "outputs": []
    },
    {
      "cell_type": "code",
      "metadata": {
        "colab": {
          "base_uri": "https://localhost:8080/"
        },
        "id": "z8C0NFvt6BWy",
        "outputId": "17963eb7-ae73-4370-f9b7-cb3069e5e32b"
      },
      "source": [
        "X_test_indices = sentences_to_indices(X_test, word_to_index, size.max())\r\n",
        "loss, mse, mae = model_2.evaluate(X_test_indices, Y_test)\r\n",
        "pred = model_2.predict(X_test_indices)"
      ],
      "execution_count": null,
      "outputs": [
        {
          "output_type": "stream",
          "text": [
            "787/787 [==============================] - 4s 5ms/step - loss: 0.0209 - mean_squared_error: 0.0209 - mean_absolute_error: 0.1028\n"
          ],
          "name": "stdout"
        }
      ]
    },
    {
      "cell_type": "code",
      "metadata": {
        "colab": {
          "base_uri": "https://localhost:8080/",
          "height": 283
        },
        "id": "THcwEGwL6HXW",
        "outputId": "5b46ea58-c6c9-44f9-a2d9-48c14a444bc0"
      },
      "source": [
        "pred_post,Y_test_post = pred*(max_Y - min_Y) + min_Y, Y_test*(max_Y - min_Y) + min_Y\r\n",
        "pred_post = np.reshape(pred_post,(len(pred)))\r\n",
        "ecart = abs(pred_post - Y_test_post)\r\n",
        "pd.Series(ecart).hist()\r\n",
        "plt.show()\r\n",
        "np.quantile(ecart, 0.7)"
      ],
      "execution_count": null,
      "outputs": [
        {
          "output_type": "display_data",
          "data": {
            "image/png": "[encoded data removed]",
            "text/plain": [
              "<Figure size 432x288 with 1 Axes>"
            ]
          },
          "metadata": {
            "tags": []
          }
        },
        {
          "output_type": "execute_result",
          "data": {
            "text/plain": [
              "13.746586608886716"
            ]
          },
          "metadata": {
            "tags": []
          },
          "execution_count": 74
        }
      ]
    },
    {
      "cell_type": "code",
      "metadata": {
        "colab": {
          "base_uri": "https://localhost:8080/"
        },
        "id": "ExXMbBxR6PYY",
        "outputId": "33a2e961-703e-4434-b266-a100560b6efe"
      },
      "source": [
        "#petit test aléatoire:\r\n",
        "i = rd.randint(0,len(pred_post))\r\n",
        "print(\"Prédiction:\" + str(pred_post[i]))\r\n",
        "print(\"Réel :\" +str(Y_test_post[i]))"
      ],
      "execution_count": null,
      "outputs": [
        {
          "output_type": "stream",
          "text": [
            "Prédiction:17.050293\n",
            "Réel :20.0\n"
          ],
          "name": "stdout"
        }
      ]
    },
    {
      "cell_type": "code",
      "metadata": {
        "colab": {
          "base_uri": "https://localhost:8080/",
          "height": 265
        },
        "id": "sAWmhxg_6ST7",
        "outputId": "ea8318e6-e8e4-4bc9-f6e6-fe8809fa99e8"
      },
      "source": [
        "fig1 = pd.Series(Y_test_post).hist(alpha = 0.5, color = 'r')\r\n",
        "fig2 = pd.Series(pred_post).hist(alpha = 0.5, color = 'b')\r\n",
        "\r\n",
        "plt.show()"
      ],
      "execution_count": null,
      "outputs": [
        {
          "output_type": "display_data",
          "data": {
            "image/png": "[encoded data removed]",
            "text/plain": [
              "<Figure size 432x288 with 1 Axes>"
            ]
          },
          "metadata": {
            "tags": []
          }
        }
      ]
    },
    {
      "cell_type": "markdown",
      "metadata": {
        "id": "kHcpemzuO0Gd"
      },
      "source": [
        "# Conclusion\r\n"
      ]
    },
    {
      "cell_type": "markdown",
      "metadata": {
        "id": "XUxLmVKFO4VE"
      },
      "source": [
        "Le modèle donne déjà des résultats plutôt convaincants!\r\n",
        "Cependant il existe encore de nombreuses pistes d'améliorations...\r\n",
        "On pourrait se servir du prix pour mieux déterminer le score ou du score pour mieux déterminer le prix.\r\n",
        "Il est également possible de prendre en compte l'auteur de la critique pour améliorer la prédiction.\r\n",
        "\r\n",
        "Un autre problème du modèle et la difficulté qu'il a à prédire les prix extremes. Si nous nous intéressons à des bouteilles de très hautes qualité il devient rapidement inutile.\r\n",
        "\r\n",
        "Globalement, ce modèle s'adresse à des acheteurs lambda qui doivent se forger rapidement une opinion d'une bouteille à partir d'une descrpition succinte."
      ]
    }
  ]
}