{
  "nbformat": 4,
  "nbformat_minor": 0,
  "metadata": {
    "colab": {
      "name": "wine_project_07_12.ipynb",
      "provenance": [],
      "collapsed_sections": [],
      "toc_visible": true,
      "include_colab_link": true
    },
    "kernelspec": {
      "display_name": "Python 3",
      "language": "python",
      "name": "python3"
    },
    "language_info": {
      "codemirror_mode": {
        "name": "ipython",
        "version": 3
      },
      "file_extension": ".py",
      "mimetype": "text/x-python",
      "name": "python",
      "nbconvert_exporter": "python",
      "pygments_lexer": "ipython3",
      "version": "3.7.3"
    },
    "accelerator": "GPU"
  },
  "cells": [
    {
      "cell_type": "markdown",
      "metadata": {
        "id": "view-in-github",
        "colab_type": "text"
      },
      "source": [
        "<a href=\"https://colab.research.google.com/github/BenJMaurel/Wine_project/blob/main/wine_project_VF2.ipynb\" target=\"_parent\"><img src=\"https://colab.research.google.com/assets/colab-badge.svg\" alt=\"Open In Colab\"/></a>"
      ]
    },
    {
      "cell_type": "markdown",
      "metadata": {
        "id": "Rr8lUrYZY9zP"
      },
      "source": [
        "Quelques imports de bon fonctionnement"
      ]
    },
    {
      "cell_type": "markdown",
      "metadata": {
        "id": "aIKcc3jKDKRO"
      },
      "source": [
        "The general idea of this project is to design a way for a casual wine enthusiast to know if a wine is good or not just thanks to a critic of someone commonly known as a \"good wine taster\"."
      ]
    },
    {
      "cell_type": "code",
      "metadata": {
        "colab": {
          "base_uri": "https://localhost:8080/"
        },
        "id": "2a7NBLf-aIt_",
        "outputId": "9aac152f-d5f9-4c5f-8755-1e062c3bd8fd"
      },
      "source": [
        "from google.colab import drive\n",
        "drive.mount('/content/drive')"
      ],
      "execution_count": 12,
      "outputs": [
        {
          "output_type": "stream",
          "text": [
            "Drive already mounted at /content/drive; to attempt to forcibly remount, call drive.mount(\"/content/drive\", force_remount=True).\n"
          ],
          "name": "stdout"
        }
      ]
    },
    {
      "cell_type": "code",
      "metadata": {
        "id": "txSi5YN3N0VZ"
      },
      "source": [
        "import numpy as np\n",
        "import pandas as pd\n",
        "import matplotlib.pyplot as plt\n",
        "import seaborn as sns\n",
        "from math import ceil\n",
        "import random as rd\n",
        "import urllib\n",
        "import bs4\n",
        "import pandas as pd\n",
        "import numpy as np\n",
        "from urllib import request"
      ],
      "execution_count": 13,
      "outputs": []
    },
    {
      "cell_type": "code",
      "metadata": {
        "id": "GNBdYmFmcE5o"
      },
      "source": [
        "import pandas as pd\n",
        "from sklearn.model_selection import train_test_split\n",
        "from sklearn.datasets import load_iris"
      ],
      "execution_count": 14,
      "outputs": []
    },
    {
      "cell_type": "code",
      "metadata": {
        "id": "Iw8x4RnocUJG"
      },
      "source": [
        "import csv\n",
        "#Permet de lire facilement le fichier GloVe (vectorisation des mots dans un evn de dim 50)\n",
        "def read_glove_vecs(glove_file):\n",
        "    with open(glove_file, 'r', encoding='utf-8') as f:\n",
        "        words = set()\n",
        "        word_to_vec_map = {}\n",
        "        for line in f:\n",
        "            line = line.strip().split()\n",
        "            curr_word = line[0]\n",
        "            words.add(curr_word)\n",
        "            word_to_vec_map[curr_word] = np.array(line[1:], dtype=np.float64)\n",
        "        \n",
        "        i = 1\n",
        "        words_to_index = {}\n",
        "        index_to_words = {}\n",
        "        for w in sorted(words):\n",
        "            words_to_index[w] = i\n",
        "            index_to_words[i] = w\n",
        "            i = i + 1\n",
        "    return words_to_index, index_to_words, word_to_vec_map"
      ],
      "execution_count": 15,
      "outputs": []
    },
    {
      "cell_type": "code",
      "metadata": {
        "id": "GRVlDSgHN0Vc"
      },
      "source": [
        "def convert_to_one_hot(vecteur):\n",
        "    n_values = int(np.max(vecteur) + 1)\n",
        "    oh = np.eye(n_values)[vecteur]\n",
        "    return oh"
      ],
      "execution_count": 16,
      "outputs": []
    },
    {
      "cell_type": "code",
      "metadata": {
        "id": "AI9M_nYFaa2S"
      },
      "source": [
        "#Base de donnée principale\r\n",
        "data = pd.read_csv(\"/content/drive/My Drive/Wine_project/winemag-data-130k-v2.csv\")"
      ],
      "execution_count": 18,
      "outputs": []
    },
    {
      "cell_type": "code",
      "metadata": {
        "id": "4ZHuZh84ckIs"
      },
      "source": [
        "#Document GloVe permettant de faire le lien entre un mot et son vecteur associé dans un evn de dimension 50 \r\n",
        "word_to_index, index_to_word, word_to_vec_map = read_glove_vecs('/content/drive/My Drive/Wine_project/glove.6B.50d.txt')"
      ],
      "execution_count": 19,
      "outputs": []
    },
    {
      "cell_type": "code",
      "metadata": {
        "colab": {
          "base_uri": "https://localhost:8080/"
        },
        "id": "sFojpGfAE-ST",
        "outputId": "da9c6c1f-5bc6-415d-d1e9-fcc6cb9668f9"
      },
      "source": [
        "#Clone the github to import some models saves:\r\n",
        "!git clone https://github.com/BenJMaurel/Wine_project.git"
      ],
      "execution_count": 20,
      "outputs": [
        {
          "output_type": "stream",
          "text": [
            "fatal: destination path 'Wine_project' already exists and is not an empty directory.\n"
          ],
          "name": "stdout"
        }
      ]
    },
    {
      "cell_type": "markdown",
      "metadata": {
        "id": "WzODCSMokeqQ"
      },
      "source": [
        "#Introduction\r\n",
        "Lorsque l'on soughaite acheter un vin, on sait immédiatement que la qualité de ce dernier est primordial. Pour les vrais connaisseurs, il suffit de se pencher sur la description de celui-ci pour déterminer sa qualité. Néanmoins, cette description n'est pas quantitative et pour des personnes moins habituées, il devient alors plus compliqué de connaître sa qualité. C'est pourquoi des experts déterminent des notes aux vins afin de savoir immédiatement si le vin est de bonne ou de mauvaise qualité. Ces notes sont données sur 100 mais varient qu'entre 80 et 100.\r\n",
        "\r\n",
        "Mais ces notes ne sont pas toujours directement accessible sur la bouteille, il serait donc intéressant à partir de la description du vin de déterminer sa note.\r\n",
        "\r\n",
        "C'est ce que nous allons faire par la suite dans ce projet : déterminer le score d'un vin sur 100 à partir de sa description.\r\n",
        "\r\n",
        "Nous allons dans un premier temps, dans le but de tester les modèles mis en oeuvre, séparer les scores des vins en 5 classes. Avec nos modèles, nous allons essayer de déterminer la classe d'un vin. Ensuite, en réutilisant les mêmes modèles, nous allons déterminer directement le score du vin. Pour finir, nous essaierons de tester notre modèle comme si nous étions des consommateurs sur des descriptions qui ne viennnent pas ne notre modèle."
      ]
    },
    {
      "cell_type": "markdown",
      "metadata": {
        "id": "jmkW2jSFkISa"
      },
      "source": [
        "# Bases de données\r\n",
        "Nous allons, dans cette partie, vous présenter les bases de données que nous avons utilisés. "
      ]
    },
    {
      "cell_type": "markdown",
      "metadata": {
        "id": "Ee6wcxNlkT_4"
      },
      "source": [
        "## Base de données principale\r\n",
        "Cette base de données a été récupéré sur Kaggle au lien suivant : https://www.kaggle.com/zynicide/wine-reviews?fbclid=IwAR2pnRkLQoCiTY4LncwDfT7PjwAtE0uI1ejNlfKp9O4ts9MuXNJ4QN07djY\r\n",
        "Elle référence 129908 vins avec différentes informations comme le pays d'origine, le prix, la variété, le nom, etc...\r\n",
        "Nous utiliserons principalement dans la suite les variables suivantes :\r\n",
        "\r\n",
        "- description : variable str qui décrit le vin\r\n",
        "- price : variable float qui donne le prix du vin\r\n",
        "- points : variable float qui donne la note du vin sur 100\r\n",
        "\r\n",
        "Vous pouvez observer cette base de données ci-dessous."
      ]
    },
    {
      "cell_type": "code",
      "metadata": {
        "id": "Nqaz5_09l0Zo",
        "colab": {
          "base_uri": "https://localhost:8080/",
          "height": 655
        },
        "outputId": "4ca988ec-532a-4af3-c007-66573ede8d02"
      },
      "source": [
        "data.head()"
      ],
      "execution_count": 28,
      "outputs": [
        {
          "output_type": "execute_result",
          "data": {
            "text/html": [
              "<div>\n",
              "<style scoped>\n",
              "    .dataframe tbody tr th:only-of-type {\n",
              "        vertical-align: middle;\n",
              "    }\n",
              "\n",
              "    .dataframe tbody tr th {\n",
              "        vertical-align: top;\n",
              "    }\n",
              "\n",
              "    .dataframe thead th {\n",
              "        text-align: right;\n",
              "    }\n",
              "</style>\n",
              "<table border=\"1\" class=\"dataframe\">\n",
              "  <thead>\n",
              "    <tr style=\"text-align: right;\">\n",
              "      <th></th>\n",
              "      <th>Unnamed: 0</th>\n",
              "      <th>country</th>\n",
              "      <th>description</th>\n",
              "      <th>designation</th>\n",
              "      <th>points</th>\n",
              "      <th>price</th>\n",
              "      <th>province</th>\n",
              "      <th>region_1</th>\n",
              "      <th>region_2</th>\n",
              "      <th>taster_name</th>\n",
              "      <th>taster_twitter_handle</th>\n",
              "      <th>title</th>\n",
              "      <th>variety</th>\n",
              "      <th>winery</th>\n",
              "    </tr>\n",
              "  </thead>\n",
              "  <tbody>\n",
              "    <tr>\n",
              "      <th>0</th>\n",
              "      <td>0</td>\n",
              "      <td>Italy</td>\n",
              "      <td>Aromas include tropical fruit, broom, brimston...</td>\n",
              "      <td>Vulkà Bianco</td>\n",
              "      <td>87</td>\n",
              "      <td>NaN</td>\n",
              "      <td>Sicily &amp; Sardinia</td>\n",
              "      <td>Etna</td>\n",
              "      <td>NaN</td>\n",
              "      <td>Kerin O’Keefe</td>\n",
              "      <td>@kerinokeefe</td>\n",
              "      <td>Nicosia 2013 Vulkà Bianco  (Etna)</td>\n",
              "      <td>White Blend</td>\n",
              "      <td>Nicosia</td>\n",
              "    </tr>\n",
              "    <tr>\n",
              "      <th>1</th>\n",
              "      <td>1</td>\n",
              "      <td>Portugal</td>\n",
              "      <td>This is ripe and fruity, a wine that is smooth...</td>\n",
              "      <td>Avidagos</td>\n",
              "      <td>87</td>\n",
              "      <td>15.0</td>\n",
              "      <td>Douro</td>\n",
              "      <td>NaN</td>\n",
              "      <td>NaN</td>\n",
              "      <td>Roger Voss</td>\n",
              "      <td>@vossroger</td>\n",
              "      <td>Quinta dos Avidagos 2011 Avidagos Red (Douro)</td>\n",
              "      <td>Portuguese Red</td>\n",
              "      <td>Quinta dos Avidagos</td>\n",
              "    </tr>\n",
              "    <tr>\n",
              "      <th>2</th>\n",
              "      <td>2</td>\n",
              "      <td>US</td>\n",
              "      <td>Tart and snappy, the flavors of lime flesh and...</td>\n",
              "      <td>NaN</td>\n",
              "      <td>87</td>\n",
              "      <td>14.0</td>\n",
              "      <td>Oregon</td>\n",
              "      <td>Willamette Valley</td>\n",
              "      <td>Willamette Valley</td>\n",
              "      <td>Paul Gregutt</td>\n",
              "      <td>@paulgwine</td>\n",
              "      <td>Rainstorm 2013 Pinot Gris (Willamette Valley)</td>\n",
              "      <td>Pinot Gris</td>\n",
              "      <td>Rainstorm</td>\n",
              "    </tr>\n",
              "    <tr>\n",
              "      <th>3</th>\n",
              "      <td>3</td>\n",
              "      <td>US</td>\n",
              "      <td>Pineapple rind, lemon pith and orange blossom ...</td>\n",
              "      <td>Reserve Late Harvest</td>\n",
              "      <td>87</td>\n",
              "      <td>13.0</td>\n",
              "      <td>Michigan</td>\n",
              "      <td>Lake Michigan Shore</td>\n",
              "      <td>NaN</td>\n",
              "      <td>Alexander Peartree</td>\n",
              "      <td>NaN</td>\n",
              "      <td>St. Julian 2013 Reserve Late Harvest Riesling ...</td>\n",
              "      <td>Riesling</td>\n",
              "      <td>St. Julian</td>\n",
              "    </tr>\n",
              "    <tr>\n",
              "      <th>4</th>\n",
              "      <td>4</td>\n",
              "      <td>US</td>\n",
              "      <td>Much like the regular bottling from 2012, this...</td>\n",
              "      <td>Vintner's Reserve Wild Child Block</td>\n",
              "      <td>87</td>\n",
              "      <td>65.0</td>\n",
              "      <td>Oregon</td>\n",
              "      <td>Willamette Valley</td>\n",
              "      <td>Willamette Valley</td>\n",
              "      <td>Paul Gregutt</td>\n",
              "      <td>@paulgwine</td>\n",
              "      <td>Sweet Cheeks 2012 Vintner's Reserve Wild Child...</td>\n",
              "      <td>Pinot Noir</td>\n",
              "      <td>Sweet Cheeks</td>\n",
              "    </tr>\n",
              "  </tbody>\n",
              "</table>\n",
              "</div>"
            ],
            "text/plain": [
              "   Unnamed: 0   country  ...         variety               winery\n",
              "0           0     Italy  ...     White Blend              Nicosia\n",
              "1           1  Portugal  ...  Portuguese Red  Quinta dos Avidagos\n",
              "2           2        US  ...      Pinot Gris            Rainstorm\n",
              "3           3        US  ...        Riesling           St. Julian\n",
              "4           4        US  ...      Pinot Noir         Sweet Cheeks\n",
              "\n",
              "[5 rows x 14 columns]"
            ]
          },
          "metadata": {
            "tags": []
          },
          "execution_count": 28
        }
      ]
    },
    {
      "cell_type": "markdown",
      "metadata": {
        "id": "bMss97UvmLAZ"
      },
      "source": [
        "## Base de données secondaire\r\n",
        "Afin de tester notre modèle sur d'autres descriptions, et de nous familiariser avec le webscrapping, nous avons décider de créer une base de donénes à partir du site : https://www.leaandsandeman.co.uk/\r\n",
        "\r\n",
        "Notre objectif étant de récupérer les descriptions, les noms des vins et leur prix. Nous allons donc vous présenter dans la suite le code qui nous a permis de webscrapper ce site.\r\n",
        "\r\n",
        "Vous pouvez retrouver l'une des pages de ce site que nous avons webscrapper sur ce lien : https://www.leaandsandeman.co.uk/wine/2019-CABERNET-SAUVIGNON-Camina-37081-00.html?pack=37729&categoryFilter=24&page=0&sortOption=2&resultsPerPage=12&minResultsPerPage=12"
      ]
    },
    {
      "cell_type": "markdown",
      "metadata": {
        "id": "X2R8KO-CpK9q"
      },
      "source": [
        "Dans un premier temps, il faut donc savoir récupérer le prix, le nom et la description d'un vin à partir de sa page web :"
      ]
    },
    {
      "cell_type": "code",
      "metadata": {
        "id": "UfzMRPmPmpNp",
        "colab": {
          "base_uri": "https://localhost:8080/"
        },
        "outputId": "0571b7e1-7516-4841-b7a3-fc84c8057aec"
      },
      "source": [
        "def find_description(url):\r\n",
        "  \"\"\"\r\n",
        "  This founction allows to find the description\r\n",
        "  input :\r\n",
        "    url   - str - link of the web page\r\n",
        "  output :\r\n",
        "    description of the wine of the web page\r\n",
        "  \"\"\"\r\n",
        "  request_text = request.urlopen(url).read()\r\n",
        "  page = bs4.BeautifulSoup(request_text,'lxml')\r\n",
        "  return(page.findAll('meta',{'property' : 'og:description'})[0].get('content'))\r\n",
        "  \r\n",
        "def find_price(url):\r\n",
        "  \"\"\"\r\n",
        "  This function allows to find the price\r\n",
        "  input :\r\n",
        "    url  - str - link of the web page\r\n",
        "  output :\r\n",
        "    price of the wine of the web page\r\n",
        "  \"\"\"\r\n",
        "  request_text = request.urlopen(url).read()\r\n",
        "  page = bs4.BeautifulSoup(request_text,'lxml')\r\n",
        "  return(float(page.findAll('td',{'class' : 'price'})[0].findAll('span')[-1].text.replace(',','')))\r\n",
        "\r\n",
        "  \r\n",
        "def find_name(url):\r\n",
        "  \"\"\"\r\n",
        "  This function allows to find te name\r\n",
        "  input :\r\n",
        "    url  - str - link of the web page\r\n",
        "  output :\r\n",
        "    price of the wine of the web page\r\n",
        "  \"\"\"\r\n",
        "  request_text = request.urlopen(url).read()\r\n",
        "  page = bs4.BeautifulSoup(request_text,'lxml')\r\n",
        "  return(page.findAll('meta',{'name' : 'twitter:title'})[0].get('content'))\r\n",
        "\r\n",
        "## Exemple ##\r\n",
        "\r\n",
        "url1 = 'https://www.leaandsandeman.co.uk/wine/2018-CHATEAU-BELLE-GARDE-Bordeaux-44166-00.html?pack=39543&categoryFilter=30&page=0&sortOption=2&resultsPerPage=12&minResultsPerPage=12'\r\n",
        "description = find_description(url1)\r\n",
        "price =  find_price(url1)\r\n",
        "name = find_name(url1)\r\n",
        "print([description,price,name])"
      ],
      "execution_count": 29,
      "outputs": [
        {
          "output_type": "stream",
          "text": [
            "[\"From a good vintage and always delivering incredible value for money, Eric Duffau's brilliant Château Belle Garde is one of our longest standing listings. Leaf tea, cassis, plum and tobacco aromas are backed by a well balanced palate. Again dark fruited, with some nice tannic structure, this has lovely definition with the tobacco and cedar notes allowing for a sleek finish.\", 11.5, '2018 CHÂTEAU BELLE GARDE Bordeaux']\n"
          ],
          "name": "stdout"
        }
      ]
    },
    {
      "cell_type": "markdown",
      "metadata": {
        "id": "QYaMGkLfpTYM"
      },
      "source": [
        "Il faut ensuite s'intéresser à la récupération de l'ensemble des liens url. Le site web ne présentait au maximum que 48 vins sur sa page d'accueil, il a donc fallu enregistrer plusieurs url pour avoir accès à l'ensemble des vins."
      ]
    },
    {
      "cell_type": "code",
      "metadata": {
        "id": "djxWWmVTpcs7",
        "colab": {
          "base_uri": "https://localhost:8080/"
        },
        "outputId": "096c1ab2-6c28-469c-baa6-4e4ce738634b"
      },
      "source": [
        "## ensemble des pages regroupant 48 vins rouges ##\r\n",
        "liste_url_general_redwine = ['https://www.leaandsandeman.co.uk/search.html?&resultsPerPage=48&page=0&minResultsPerPage=12&sortOption=2&categoryFilter=24','https://www.leaandsandeman.co.uk/search.html?&resultsPerPage=48&page=1&minResultsPerPage=12&sortOption=2&categoryFilter=24','https://www.leaandsandeman.co.uk/search.html?&resultsPerPage=48&page=2&minResultsPerPage=12&sortOption=2&categoryFilter=24','https://www.leaandsandeman.co.uk/search.html?&resultsPerPage=48&page=3&minResultsPerPage=12&sortOption=2&categoryFilter=24','https://www.leaandsandeman.co.uk/search.html?&resultsPerPage=48&page=4&minResultsPerPage=12&sortOption=2&categoryFilter=24','https://www.leaandsandeman.co.uk/search.html?&resultsPerPage=48&page=5&minResultsPerPage=12&sortOption=2&categoryFilter=24','https://www.leaandsandeman.co.uk/search.html?&resultsPerPage=48&page=6&minResultsPerPage=12&sortOption=2&categoryFilter=24','https://www.leaandsandeman.co.uk/search.html?&resultsPerPage=48&page=7&minResultsPerPage=12&sortOption=2&categoryFilter=24','https://www.leaandsandeman.co.uk/search.html?&resultsPerPage=48&page=8&minResultsPerPage=12&sortOption=2&categoryFilter=24']\r\n",
        "## ensemble des pages regroupant 48 vins blancs ##\r\n",
        "liste_url_general_whitewine = ['https://www.leaandsandeman.co.uk/search.html?&resultsPerPage=48&page=0&minResultsPerPage=12&sortOption=2&categoryFilter=52','https://www.leaandsandeman.co.uk/search.html?&resultsPerPage=48&page=1&minResultsPerPage=12&sortOption=2&categoryFilter=52','https://www.leaandsandeman.co.uk/search.html?&resultsPerPage=48&page=2&minResultsPerPage=12&sortOption=2&categoryFilter=52','https://www.leaandsandeman.co.uk/search.html?&resultsPerPage=48&page=3&minResultsPerPage=12&sortOption=2&categoryFilter=52','https://www.leaandsandeman.co.uk/search.html?&resultsPerPage=48&page=4&minResultsPerPage=12&sortOption=2&categoryFilter=52']\r\n",
        "liste_url_general = liste_url_general_redwine + liste_url_general_whitewine\r\n",
        "liste_url = []\r\n",
        "for url_general in liste_url_general:\r\n",
        "  request_text = request.urlopen(url_general).read()\r\n",
        "  page = bs4.BeautifulSoup(request_text,'lxml')\r\n",
        "  liste_a = page.findAll('a',{'class' : 'restit blue'})\r\n",
        "  for ele in liste_a:\r\n",
        "    liste_url.append(ele.get('href'))\r\n",
        "print('Nous avons récupéré '+str(len(liste_url))+' url associés à des vins')"
      ],
      "execution_count": 30,
      "outputs": [
        {
          "output_type": "stream",
          "text": [
            "Nous avons récupéré 607 url associés à des vins\n"
          ],
          "name": "stdout"
        }
      ]
    },
    {
      "cell_type": "markdown",
      "metadata": {
        "id": "QSV1b2ZrqHFF"
      },
      "source": [
        "Une fois l'ensemble des url récupérés, il faut construire la base de données :\r\n",
        "/!\\ Webscrapper l'ensemble des urls peut être un problème. Assez souvent il retourne une erreur de connection au réseau et n'arrive pas à récupérer l'ensemble des données. Dans tous les cas, tout récupérer peut être un peu long.\r\n",
        "C'est pourquoi nous avons enregistré les données dans un fichier csv.\r\n",
        "Le programme ci-dessous récupère seulement les données de 25 urls pour vous montrer que ce code arrive à webscrapper. Vous pouvez retrouver en dessous la base de données en entier."
      ]
    },
    {
      "cell_type": "code",
      "metadata": {
        "id": "edD64dXVqOE-",
        "colab": {
          "base_uri": "https://localhost:8080/",
          "height": 289
        },
        "outputId": "bc008c3b-2fe8-4990-83f3-bdf68ebee2d9"
      },
      "source": [
        "liste_url2 = liste_url[:25]\r\n",
        "liste_nom = []\r\n",
        "liste_prix = []\r\n",
        "liste_avis = []\r\n",
        "n=len(liste_url2)\r\n",
        "p=0\r\n",
        "for url in liste_url2:\r\n",
        "  url = 'https://www.leaandsandeman.co.uk'+url\r\n",
        "  request_text = request.urlopen(url).read()\r\n",
        "  page = bs4.BeautifulSoup(request_text,'lxml')\r\n",
        "  B = page.findAll('meta',{'property' : 'og:description'})[0].get('content')\r\n",
        "  if B == '': #quand il n'y a pas de description\r\n",
        "    liste_avis.append('NaN')\r\n",
        "  else:\r\n",
        "    liste_avis.append(B)\r\n",
        "  A = page.findAll('td',{'class' : 'price'})\r\n",
        "  if len(A) == 0: #quand le prix n'est pas indiqué sur le site\r\n",
        "    liste_prix.append('NaN')\r\n",
        "  else:\r\n",
        "    liste_prix.append(float(page.findAll('td',{'class' : 'price'})[0].findAll('span')[-1].text.replace(',','')))\r\n",
        "  liste_nom.append(page.findAll('meta',{'name' : 'twitter:title'})[0].get('content'))\r\n",
        "  p+=1\r\n",
        "  if p%5==0:\r\n",
        "    print(str(p)+' url ont déjà été traité sur '+str(n))\r\n",
        "data_annexe = pd.DataFrame(np.array([liste_nom,liste_prix,liste_avis]).T,columns=['nom','prix','avis'])\r\n",
        "data_annexe.head()"
      ],
      "execution_count": 31,
      "outputs": [
        {
          "output_type": "stream",
          "text": [
            "5 url ont déjà été traité sur 25\n",
            "10 url ont déjà été traité sur 25\n",
            "15 url ont déjà été traité sur 25\n",
            "20 url ont déjà été traité sur 25\n",
            "25 url ont déjà été traité sur 25\n"
          ],
          "name": "stdout"
        },
        {
          "output_type": "execute_result",
          "data": {
            "text/html": [
              "<div>\n",
              "<style scoped>\n",
              "    .dataframe tbody tr th:only-of-type {\n",
              "        vertical-align: middle;\n",
              "    }\n",
              "\n",
              "    .dataframe tbody tr th {\n",
              "        vertical-align: top;\n",
              "    }\n",
              "\n",
              "    .dataframe thead th {\n",
              "        text-align: right;\n",
              "    }\n",
              "</style>\n",
              "<table border=\"1\" class=\"dataframe\">\n",
              "  <thead>\n",
              "    <tr style=\"text-align: right;\">\n",
              "      <th></th>\n",
              "      <th>nom</th>\n",
              "      <th>prix</th>\n",
              "      <th>avis</th>\n",
              "    </tr>\n",
              "  </thead>\n",
              "  <tbody>\n",
              "    <tr>\n",
              "      <th>0</th>\n",
              "      <td>2019 CABERNET SAUVIGNON Camina</td>\n",
              "      <td>8.5</td>\n",
              "      <td>A real gentle soul this, a subtle leafiness, t...</td>\n",
              "    </tr>\n",
              "    <tr>\n",
              "      <th>1</th>\n",
              "      <td>2019 CAMINA Tempranillo</td>\n",
              "      <td>8.5</td>\n",
              "      <td>Juicy cranberry and redcurrant fruits on the n...</td>\n",
              "    </tr>\n",
              "    <tr>\n",
              "      <th>2</th>\n",
              "      <td>2018 MERLOT-CABERNET-CARIGNAN Domaine Saint Félix</td>\n",
              "      <td>8.5</td>\n",
              "      <td>Ripely juicy and bright with a core of red fru...</td>\n",
              "    </tr>\n",
              "    <tr>\n",
              "      <th>3</th>\n",
              "      <td>2019 MERLOT Domaine les Yeuses</td>\n",
              "      <td>8.5</td>\n",
              "      <td>NaN</td>\n",
              "    </tr>\n",
              "    <tr>\n",
              "      <th>4</th>\n",
              "      <td>2019 LA PETITE SYRAH Domaine les Yeuses</td>\n",
              "      <td>8.5</td>\n",
              "      <td>The 2019 is another little gem from Domaine Le...</td>\n",
              "    </tr>\n",
              "  </tbody>\n",
              "</table>\n",
              "</div>"
            ],
            "text/plain": [
              "                                                 nom  ...                                               avis\n",
              "0                     2019 CABERNET SAUVIGNON Camina  ...  A real gentle soul this, a subtle leafiness, t...\n",
              "1                            2019 CAMINA Tempranillo  ...  Juicy cranberry and redcurrant fruits on the n...\n",
              "2  2018 MERLOT-CABERNET-CARIGNAN Domaine Saint Félix  ...  Ripely juicy and bright with a core of red fru...\n",
              "3                     2019 MERLOT Domaine les Yeuses  ...                                                NaN\n",
              "4            2019 LA PETITE SYRAH Domaine les Yeuses  ...  The 2019 is another little gem from Domaine Le...\n",
              "\n",
              "[5 rows x 3 columns]"
            ]
          },
          "metadata": {
            "tags": []
          },
          "execution_count": 31
        }
      ]
    },
    {
      "cell_type": "code",
      "metadata": {
        "id": "4nVv3wOeqmV0",
        "colab": {
          "base_uri": "https://localhost:8080/"
        },
        "outputId": "8a81f14f-e4eb-45f1-89a5-504838033eb3"
      },
      "source": [
        "data_annexe.shape"
      ],
      "execution_count": 32,
      "outputs": [
        {
          "output_type": "execute_result",
          "data": {
            "text/plain": [
              "(25, 3)"
            ]
          },
          "metadata": {
            "tags": []
          },
          "execution_count": 32
        }
      ]
    },
    {
      "cell_type": "code",
      "metadata": {
        "id": "DtNgorMtj4Ge",
        "colab": {
          "base_uri": "https://localhost:8080/",
          "height": 271
        },
        "outputId": "17c7745a-0661-46cc-9cb4-21aa5c4f22d2"
      },
      "source": [
        "data_annexe = pd.read_csv('/content/drive/MyDrive/Wine_project/data_annexe (1).csv', delimiter=',')\r\n",
        "print(data_annexe.shape)\r\n",
        "data_annexe.head()"
      ],
      "execution_count": 33,
      "outputs": [
        {
          "output_type": "stream",
          "text": [
            "(611, 4)\n"
          ],
          "name": "stdout"
        },
        {
          "output_type": "execute_result",
          "data": {
            "text/html": [
              "<div>\n",
              "<style scoped>\n",
              "    .dataframe tbody tr th:only-of-type {\n",
              "        vertical-align: middle;\n",
              "    }\n",
              "\n",
              "    .dataframe tbody tr th {\n",
              "        vertical-align: top;\n",
              "    }\n",
              "\n",
              "    .dataframe thead th {\n",
              "        text-align: right;\n",
              "    }\n",
              "</style>\n",
              "<table border=\"1\" class=\"dataframe\">\n",
              "  <thead>\n",
              "    <tr style=\"text-align: right;\">\n",
              "      <th></th>\n",
              "      <th>Unnamed: 0</th>\n",
              "      <th>nom</th>\n",
              "      <th>prix</th>\n",
              "      <th>avis</th>\n",
              "    </tr>\n",
              "  </thead>\n",
              "  <tbody>\n",
              "    <tr>\n",
              "      <th>0</th>\n",
              "      <td>0</td>\n",
              "      <td>2019 CABERNET SAUVIGNON Camina</td>\n",
              "      <td>8.5</td>\n",
              "      <td>A real gentle soul this, a subtle leafiness, t...</td>\n",
              "    </tr>\n",
              "    <tr>\n",
              "      <th>1</th>\n",
              "      <td>1</td>\n",
              "      <td>2019 CAMINA Tempranillo</td>\n",
              "      <td>8.5</td>\n",
              "      <td>Juicy cranberry and redcurrant fruits on the n...</td>\n",
              "    </tr>\n",
              "    <tr>\n",
              "      <th>2</th>\n",
              "      <td>2</td>\n",
              "      <td>2018 MERLOT-CABERNET-CARIGNAN Domaine Saint Félix</td>\n",
              "      <td>8.5</td>\n",
              "      <td>Ripely juicy and bright with a core of red fru...</td>\n",
              "    </tr>\n",
              "    <tr>\n",
              "      <th>3</th>\n",
              "      <td>3</td>\n",
              "      <td>2019 MERLOT Domaine les Yeuses</td>\n",
              "      <td>8.5</td>\n",
              "      <td>NaN</td>\n",
              "    </tr>\n",
              "    <tr>\n",
              "      <th>4</th>\n",
              "      <td>4</td>\n",
              "      <td>2019 LA PETITE SYRAH Domaine les Yeuses</td>\n",
              "      <td>8.5</td>\n",
              "      <td>The 2019 is another little gem from Domaine Le...</td>\n",
              "    </tr>\n",
              "  </tbody>\n",
              "</table>\n",
              "</div>"
            ],
            "text/plain": [
              "   Unnamed: 0  ...                                               avis\n",
              "0           0  ...  A real gentle soul this, a subtle leafiness, t...\n",
              "1           1  ...  Juicy cranberry and redcurrant fruits on the n...\n",
              "2           2  ...  Ripely juicy and bright with a core of red fru...\n",
              "3           3  ...                                                NaN\n",
              "4           4  ...  The 2019 is another little gem from Domaine Le...\n",
              "\n",
              "[5 rows x 4 columns]"
            ]
          },
          "metadata": {
            "tags": []
          },
          "execution_count": 33
        }
      ]
    },
    {
      "cell_type": "markdown",
      "metadata": {
        "id": "kTGmm0b-qqQO"
      },
      "source": [
        "On remarque que des données sont manquantes. Pour certains vin que le site n'a plus en stock, le site n'affiche pas le prix, il est alors indiqué NaN dans la base de données. Pour certains vins, il n'y a pas de description, dans ce cas, il est également indiqué NaN."
      ]
    },
    {
      "cell_type": "markdown",
      "metadata": {
        "id": "iZEgD8poOAIY"
      },
      "source": [
        "# Statistiques descriptives"
      ]
    },
    {
      "cell_type": "code",
      "metadata": {
        "colab": {
          "base_uri": "https://localhost:8080/"
        },
        "id": "u5L1iVdFN0Vk",
        "outputId": "ade0d8ef-c600-4c76-ffd4-94ad14fb7b57"
      },
      "source": [
        "data_stat = data.copy()\n",
        "data_stat = data_stat.drop('Unnamed: 0', axis = 1)\n",
        "data_stat.columns\n"
      ],
      "execution_count": 34,
      "outputs": [
        {
          "output_type": "execute_result",
          "data": {
            "text/plain": [
              "Index(['country', 'description', 'designation', 'points', 'price', 'province',\n",
              "       'region_1', 'region_2', 'taster_name', 'taster_twitter_handle', 'title',\n",
              "       'variety', 'winery'],\n",
              "      dtype='object')"
            ]
          },
          "metadata": {
            "tags": []
          },
          "execution_count": 34
        }
      ]
    },
    {
      "cell_type": "code",
      "metadata": {
        "colab": {
          "base_uri": "https://localhost:8080/"
        },
        "id": "g-B0Y4s_N0Vp",
        "outputId": "61a6cbe2-d93e-45a9-93ab-550ba30a6326"
      },
      "source": [
        "data_stat['country'].nunique()\n",
        "data_stat['region_2'].nunique()\n",
        "data_stat['province'].count()"
      ],
      "execution_count": 35,
      "outputs": [
        {
          "output_type": "execute_result",
          "data": {
            "text/plain": [
              "129908"
            ]
          },
          "metadata": {
            "tags": []
          },
          "execution_count": 35
        }
      ]
    },
    {
      "cell_type": "code",
      "metadata": {
        "colab": {
          "base_uri": "https://localhost:8080/",
          "height": 294
        },
        "id": "Ut_cTTRpN0WD",
        "outputId": "1b9e3b37-e705-432b-c747-d44cce3e5697"
      },
      "source": [
        "data_stat.describe()"
      ],
      "execution_count": 36,
      "outputs": [
        {
          "output_type": "execute_result",
          "data": {
            "text/html": [
              "<div>\n",
              "<style scoped>\n",
              "    .dataframe tbody tr th:only-of-type {\n",
              "        vertical-align: middle;\n",
              "    }\n",
              "\n",
              "    .dataframe tbody tr th {\n",
              "        vertical-align: top;\n",
              "    }\n",
              "\n",
              "    .dataframe thead th {\n",
              "        text-align: right;\n",
              "    }\n",
              "</style>\n",
              "<table border=\"1\" class=\"dataframe\">\n",
              "  <thead>\n",
              "    <tr style=\"text-align: right;\">\n",
              "      <th></th>\n",
              "      <th>points</th>\n",
              "      <th>price</th>\n",
              "    </tr>\n",
              "  </thead>\n",
              "  <tbody>\n",
              "    <tr>\n",
              "      <th>count</th>\n",
              "      <td>129971.000000</td>\n",
              "      <td>120975.000000</td>\n",
              "    </tr>\n",
              "    <tr>\n",
              "      <th>mean</th>\n",
              "      <td>88.447138</td>\n",
              "      <td>35.363389</td>\n",
              "    </tr>\n",
              "    <tr>\n",
              "      <th>std</th>\n",
              "      <td>3.039730</td>\n",
              "      <td>41.022218</td>\n",
              "    </tr>\n",
              "    <tr>\n",
              "      <th>min</th>\n",
              "      <td>80.000000</td>\n",
              "      <td>4.000000</td>\n",
              "    </tr>\n",
              "    <tr>\n",
              "      <th>25%</th>\n",
              "      <td>86.000000</td>\n",
              "      <td>17.000000</td>\n",
              "    </tr>\n",
              "    <tr>\n",
              "      <th>50%</th>\n",
              "      <td>88.000000</td>\n",
              "      <td>25.000000</td>\n",
              "    </tr>\n",
              "    <tr>\n",
              "      <th>75%</th>\n",
              "      <td>91.000000</td>\n",
              "      <td>42.000000</td>\n",
              "    </tr>\n",
              "    <tr>\n",
              "      <th>max</th>\n",
              "      <td>100.000000</td>\n",
              "      <td>3300.000000</td>\n",
              "    </tr>\n",
              "  </tbody>\n",
              "</table>\n",
              "</div>"
            ],
            "text/plain": [
              "              points          price\n",
              "count  129971.000000  120975.000000\n",
              "mean       88.447138      35.363389\n",
              "std         3.039730      41.022218\n",
              "min        80.000000       4.000000\n",
              "25%        86.000000      17.000000\n",
              "50%        88.000000      25.000000\n",
              "75%        91.000000      42.000000\n",
              "max       100.000000    3300.000000"
            ]
          },
          "metadata": {
            "tags": []
          },
          "execution_count": 36
        }
      ]
    },
    {
      "cell_type": "markdown",
      "metadata": {
        "id": "Dgq3lzUkbMDg"
      },
      "source": [
        "On remarque ici que les notes, même si elles sont données sur 100, ne varient que entre 80 et 100."
      ]
    },
    {
      "cell_type": "code",
      "metadata": {
        "colab": {
          "base_uri": "https://localhost:8080/"
        },
        "id": "3bbY3QFEN0WG",
        "outputId": "26b2658a-fc9a-4289-9ce8-3271b124d2d3"
      },
      "source": [
        "data_stat.isnull().sum()"
      ],
      "execution_count": 37,
      "outputs": [
        {
          "output_type": "execute_result",
          "data": {
            "text/plain": [
              "country                     63\n",
              "description                  0\n",
              "designation              37465\n",
              "points                       0\n",
              "price                     8996\n",
              "province                    63\n",
              "region_1                 21247\n",
              "region_2                 79460\n",
              "taster_name              26244\n",
              "taster_twitter_handle    31213\n",
              "title                        0\n",
              "variety                      1\n",
              "winery                       0\n",
              "dtype: int64"
            ]
          },
          "metadata": {
            "tags": []
          },
          "execution_count": 37
        }
      ]
    },
    {
      "cell_type": "markdown",
      "metadata": {
        "id": "oR6vYKyKnGcP"
      },
      "source": [
        "## Etude de la variable 'points'\r\n",
        "Dans un premier temps, nous allons étudier la variable 'points' qui est une variable chiffrée entre 80 et 100 et qui détermine la qualité du vin."
      ]
    },
    {
      "cell_type": "code",
      "metadata": {
        "colab": {
          "base_uri": "https://localhost:8080/",
          "height": 295
        },
        "id": "ZpP5FwWUN0WM",
        "outputId": "3f99ddb0-d77a-44d0-9468-49cee54ff6f7"
      },
      "source": [
        "fig = data_stat['points'].hist()\n",
        "plt.xlabel('Points')\n",
        "plt.ylabel('Nombre de vins')\n",
        "plt.title('Distribution de la variable points')\n",
        "plt.show()"
      ],
      "execution_count": 38,
      "outputs": [
        {
          "output_type": "display_data",
          "data": {
            "image/png": "[encoded data removed]",
            "text/plain": [
              "<Figure size 432x288 with 1 Axes>"
            ]
          },
          "metadata": {
            "tags": [],
            "needs_background": "light"
          }
        }
      ]
    },
    {
      "cell_type": "markdown",
      "metadata": {
        "id": "elVPAOSYmfEx"
      },
      "source": [
        "Comme on peut s'y attendre, la distribution des notes n'est pas équitable. Il y a beaucoup de vins notés entre 85 et 95, et très peu pour des notes très faibles ou très fortes. Cette distribution pourra poser problème par la suite pour réussir à déterminer "
      ]
    },
    {
      "cell_type": "markdown",
      "metadata": {
        "id": "4CIpR63ksOYT"
      },
      "source": [
        "Par la suite, on regroupera les points dans 5 groupes différents. On créé alors une nouvelle variable 'note' :\r\n",
        "- note = 0 ssi 80 < points < 84\r\n",
        "- note = 1 ssi 84 < points < 88\r\n",
        "- note = 2 ssi 88 < points < 92\r\n",
        "- note = 3 ssi 92 < points < 96\r\n",
        "- note = 4 ssi 96 < points < 100\r\n",
        "\r\n",
        "On étudie ça distribution :"
      ]
    },
    {
      "cell_type": "code",
      "metadata": {
        "colab": {
          "base_uri": "https://localhost:8080/",
          "height": 295
        },
        "id": "tBuXHr1YrI8h",
        "outputId": "69332a85-76e0-4ab7-86a1-85a533a5596d"
      },
      "source": [
        "data_stat['note'] = (data_stat['points']-data_stat['points'].min())//4.001\r\n",
        "fig = data_stat['note'].hist()\r\n",
        "plt.xlabel('Note')\r\n",
        "plt.ylabel('Nombre de vins')\r\n",
        "plt.title('Distribution de la variable note')\r\n",
        "plt.show()"
      ],
      "execution_count": 39,
      "outputs": [
        {
          "output_type": "display_data",
          "data": {
            "image/png": "[encoded data removed]",
            "text/plain": [
              "<Figure size 432x288 with 1 Axes>"
            ]
          },
          "metadata": {
            "tags": [],
            "needs_background": "light"
          }
        }
      ]
    },
    {
      "cell_type": "markdown",
      "metadata": {
        "id": "3DsvsrVTx3pq"
      },
      "source": [
        "On retrouve ici une distribution non égalitaire, les notes 0 et surtout 4 sont très peu représentées. Dans la suite, cela pourra poser problème pour évaluer des très mauvais ou des très bon vins."
      ]
    },
    {
      "cell_type": "code",
      "metadata": {
        "colab": {
          "base_uri": "https://localhost:8080/",
          "height": 279
        },
        "id": "5o2pHhwNyzZg",
        "outputId": "d4d98f92-dbb2-4e95-c64b-af2634dc4d00"
      },
      "source": [
        "data_stat['round_points'] = data_stat['points'].round()\r\n",
        "liste_desc = np.array(data['description'])\r\n",
        "liste_longueur_com = [len(com) for com in liste_desc]\r\n",
        "data_stat['longueur_com'] = pd.Series(liste_longueur_com)\r\n",
        "meanByPoint = data_stat.groupby(by='round_points').mean()\r\n",
        "meanByNote = data_stat.groupby(by='note').mean()\r\n",
        "## meanByPoint est une dataframe des moyennes des variables quantitatives après un regroupement par point##\r\n",
        "## meanByNote est une dataframe des moyennes des variables quantitatives après un regroupement par note##\r\n",
        "plt.scatter(meanByPoint.index,meanByPoint['longueur_com'])\r\n",
        "plt.grid()\r\n",
        "plt.xlabel('Points')\r\n",
        "plt.ylabel('Moyenne de la longueur de la description')\r\n",
        "plt.show()"
      ],
      "execution_count": 40,
      "outputs": [
        {
          "output_type": "display_data",
          "data": {
            "image/png": "[encoded data removed]",
            "text/plain": [
              "<Figure size 432x288 with 1 Axes>"
            ]
          },
          "metadata": {
            "tags": [],
            "needs_background": "light"
          }
        }
      ]
    },
    {
      "cell_type": "markdown",
      "metadata": {
        "id": "ycbs4S3y2H8P"
      },
      "source": [
        "Il est amusant de voir une certaine relation affine entre la longueur de la description et les points d'un vin."
      ]
    },
    {
      "cell_type": "markdown",
      "metadata": {
        "id": "SqJ9J98g3JG1"
      },
      "source": [
        "##Etude de la variable 'price'\r\n",
        "La variable 'price' représente le prix de chaque vin. Etudions sa distribution :"
      ]
    },
    {
      "cell_type": "code",
      "metadata": {
        "colab": {
          "base_uri": "https://localhost:8080/",
          "height": 295
        },
        "id": "aUli96EB3ZTo",
        "outputId": "ae53f23b-b040-45cf-e7bf-2ee80262fddf"
      },
      "source": [
        "fig = data_stat['price'].plot(kind='hist',logy=True)\r\n",
        "plt.grid()\r\n",
        "plt.xlabel('Prix')\r\n",
        "plt.ylabel('Nombre de vins')\r\n",
        "plt.title('Distribution logarithmique du prix')\r\n",
        "plt.show()"
      ],
      "execution_count": 41,
      "outputs": [
        {
          "output_type": "display_data",
          "data": {
            "image/png": "[encoded data removed]",
            "text/plain": [
              "<Figure size 432x288 with 1 Axes>"
            ]
          },
          "metadata": {
            "tags": [],
            "needs_background": "light"
          }
        }
      ]
    },
    {
      "cell_type": "markdown",
      "metadata": {
        "id": "-jIEv2k75Q9s"
      },
      "source": [
        "On remarque imédiatement que la majorité des vins de notre base de donnée est comprise entre en dessous de 250€. Néanmoins, certaines valeurs peuvent attendre les 3000€. Certaines valeurs extrêmes pourraient être à enlever de notre modèle."
      ]
    },
    {
      "cell_type": "code",
      "metadata": {
        "colab": {
          "base_uri": "https://localhost:8080/",
          "height": 295
        },
        "id": "lws8-HvL502T",
        "outputId": "13df96d6-21e5-48af-bbae-e02bc53c07a9"
      },
      "source": [
        "fig = data_stat[data_stat['price']<100]['price'].hist()\r\n",
        "plt.xlabel('Prix')\r\n",
        "plt.ylabel('Nombre de vins')\r\n",
        "plt.title('Distribution du prix des vins pour un prix de moins de 100€')\r\n",
        "plt.show()"
      ],
      "execution_count": 42,
      "outputs": [
        {
          "output_type": "display_data",
          "data": {
            "image/png": "[encoded data removed]",
            "text/plain": [
              "<Figure size 432x288 with 1 Axes>"
            ]
          },
          "metadata": {
            "tags": [],
            "needs_background": "light"
          }
        }
      ]
    },
    {
      "cell_type": "markdown",
      "metadata": {
        "id": "M5HcZ4RI6lxm"
      },
      "source": [
        "En détaillant la distribution pour des prix en dessous de 100€, on remarque que beaucoup des vins référencés dans notre base de données ont des prix compris entre 10 et 40€, ce qui correspond bien aux prix des vins que l'on peut trouver le plus."
      ]
    },
    {
      "cell_type": "markdown",
      "metadata": {
        "id": "WWeP__kc7aIP"
      },
      "source": [
        "##Etude croisée des variables\r\n",
        "Nous allons dans cette partie nous intéresser à l'étude des variables 'points' et 'price' lorsque l'on s'intéresse aux deux en même temps."
      ]
    },
    {
      "cell_type": "code",
      "metadata": {
        "colab": {
          "base_uri": "https://localhost:8080/",
          "height": 573
        },
        "id": "9vIjeotu8K2Z",
        "outputId": "71383eb5-bd3a-4c2f-ef00-6e5300c39c7f"
      },
      "source": [
        "plt.scatter(meanByPoint['points'],meanByPoint['price'])\r\n",
        "plt.grid()\r\n",
        "plt.xlabel('Points')\r\n",
        "plt.ylabel('Prix Moyen')\r\n",
        "plt.title('Courbe du prix moyen des vins en fonction des points')\r\n",
        "plt.show()\r\n",
        "\r\n",
        "plt.scatter(meanByNote.index,meanByNote['price'])\r\n",
        "plt.grid()\r\n",
        "plt.xlabel('Note')\r\n",
        "plt.ylabel('Prix Moyen')\r\n",
        "plt.title('Courbe du prix moyen des vins en fonction de la note')\r\n",
        "plt.show()"
      ],
      "execution_count": 43,
      "outputs": [
        {
          "output_type": "display_data",
          "data": {
            "image/png": "[encoded data removed]",
            "text/plain": [
              "<Figure size 432x288 with 1 Axes>"
            ]
          },
          "metadata": {
            "tags": [],
            "needs_background": "light"
          }
        },
        {
          "output_type": "display_data",
          "data": {
            "image/png": "[encoded data removed]",
            "text/plain": [
              "<Figure size 432x288 with 1 Axes>"
            ]
          },
          "metadata": {
            "tags": [],
            "needs_background": "light"
          }
        }
      ]
    },
    {
      "cell_type": "code",
      "metadata": {
        "colab": {
          "base_uri": "https://localhost:8080/"
        },
        "id": "y0Dcol32-i8S",
        "outputId": "02be9d73-4fd1-4387-dfae-bcbe3071fbb5"
      },
      "source": [
        "print('la corrélation entre le prix moyen et les points est de : '+str(meanByPoint['points'].corr(meanByPoint['price'])))"
      ],
      "execution_count": 44,
      "outputs": [
        {
          "output_type": "stream",
          "text": [
            "la corrélation entre le prix moyen et les points est de : 0.7965406000826235\n"
          ],
          "name": "stdout"
        }
      ]
    },
    {
      "cell_type": "markdown",
      "metadata": {
        "id": "kKvuse53-eyt"
      },
      "source": [
        "On remarque, comme on peut s'y attendre, qu'il y a une corrélation forte entre le prix moyen par points et le nombre de points : plus le prix est élevé, plus les points sont proches de 100."
      ]
    },
    {
      "cell_type": "code",
      "metadata": {
        "colab": {
          "base_uri": "https://localhost:8080/",
          "height": 313
        },
        "id": "pXt53XcW_MHU",
        "outputId": "f6209ffa-9551-419e-eff8-74ecd037d4b2"
      },
      "source": [
        "plt.scatter(data_stat['points'],data_stat['price'])\r\n",
        "plt.grid()\r\n",
        "plt.xlabel('Points')\r\n",
        "plt.ylabel('Prix')\r\n",
        "plt.title('Nuage de points des prix et des points')\r\n",
        "plt.show()\r\n",
        "print('La corrélation entre le prix et les points est de : '+str(data_stat['points'].corr(data_stat['price'])))"
      ],
      "execution_count": 45,
      "outputs": [
        {
          "output_type": "display_data",
          "data": {
            "image/png": "[encoded data removed]",
            "text/plain": [
              "<Figure size 432x288 with 1 Axes>"
            ]
          },
          "metadata": {
            "tags": [],
            "needs_background": "light"
          }
        },
        {
          "output_type": "stream",
          "text": [
            "La corrélation entre le prix et les points est de : 0.4161667418606222\n"
          ],
          "name": "stdout"
        }
      ]
    },
    {
      "cell_type": "markdown",
      "metadata": {
        "id": "3wuA6EgcAEhf"
      },
      "source": [
        "Néanmoins, cette relation est à relativiser lorsque l'on s'intéresse à l'ensemble des prix de notre base de données. La corrélation entre les deux chute énormément. On peut d'ailleurs remarquer que le vin ayant le prix le plus élevé de notre base de données n'a que 88 points sur 100 !"
      ]
    },
    {
      "cell_type": "markdown",
      "metadata": {
        "id": "NGwJ-KAgAwwC"
      },
      "source": [
        "##Etude des vins Français\r\n",
        "Nous allons dans cette partie nous pencher un petit peu plus sur les vins français et les comparer avec les vins des autres pays. Voyons voir si la France mérite sa réputation concernant la qualité de son vin..."
      ]
    },
    {
      "cell_type": "code",
      "metadata": {
        "colab": {
          "base_uri": "https://localhost:8080/"
        },
        "id": "M1HUL2KlMPNP",
        "outputId": "3772f5e1-adaa-45ad-8ead-9022987c8a1c"
      },
      "source": [
        "data_stat[data_stat['country']=='France']['country'].count()"
      ],
      "execution_count": 46,
      "outputs": [
        {
          "output_type": "execute_result",
          "data": {
            "text/plain": [
              "22093"
            ]
          },
          "metadata": {
            "tags": []
          },
          "execution_count": 46
        }
      ]
    },
    {
      "cell_type": "markdown",
      "metadata": {
        "id": "iD7FjhclMpQh"
      },
      "source": [
        "Il y a donc 22093 vins français sur les 129908 qui composent notre base de données. Ce qui représente 17% de la base de données ! Elle même composée de 63 pays différents. La France est donc largement bien représentée dans cette base de données"
      ]
    },
    {
      "cell_type": "code",
      "metadata": {
        "colab": {
          "base_uri": "https://localhost:8080/",
          "height": 279
        },
        "id": "lilMIv_6CkRT",
        "outputId": "fb76f2e0-c86a-4f00-afb6-c805ef60de73"
      },
      "source": [
        "data_stat_FR = data_stat[data_stat['country']=='France']\r\n",
        "meanByPoint_FR = data_stat_FR.groupby(by='round_points').mean()\r\n",
        "data_stat_others = data_stat[data_stat['country']!='France']\r\n",
        "meanByPoint_others = data_stat_others.groupby(by='round_points').mean()\r\n",
        "\r\n",
        "plt.scatter(meanByPoint.index,meanByPoint_FR['price'],label='France')\r\n",
        "plt.scatter(meanByPoint.index,meanByPoint_others['price'],label='Others Countries')\r\n",
        "plt.grid()\r\n",
        "plt.legend()\r\n",
        "plt.xlabel('Points')\r\n",
        "plt.ylabel('Prix Moyen')\r\n",
        "plt.show()"
      ],
      "execution_count": 47,
      "outputs": [
        {
          "output_type": "display_data",
          "data": {
            "image/png": "[encoded data removed]",
            "text/plain": [
              "<Figure size 432x288 with 1 Axes>"
            ]
          },
          "metadata": {
            "tags": [],
            "needs_background": "light"
          }
        }
      ]
    },
    {
      "cell_type": "markdown",
      "metadata": {
        "id": "yV5GN_bXGf37"
      },
      "source": [
        "En comparaison aux autres pays, pour des vins de bonne qualité, il faudra dépenser davantage en France. Alors que pour un vin de moins bonne qualité, le prix reste assez similaire."
      ]
    },
    {
      "cell_type": "code",
      "metadata": {
        "colab": {
          "base_uri": "https://localhost:8080/",
          "height": 295
        },
        "id": "CxcoYAdkErVS",
        "outputId": "bab0724c-e846-4cdb-b512-28ad423a0fe0"
      },
      "source": [
        "fig1 = data_stat_FR['points'].hist(alpha=0.5,color='r',label='France')\r\n",
        "fig2 = data_stat_others['points'].hist(alpha=0.5,color='b',label='Others Countries')\r\n",
        "plt.legend()\r\n",
        "plt.xlabel('points')\r\n",
        "plt.ylabel('nombre de vins')\r\n",
        "plt.title('Distribution des points en fonction des pays')\r\n",
        "plt.show()"
      ],
      "execution_count": 48,
      "outputs": [
        {
          "output_type": "display_data",
          "data": {
            "image/png": "[encoded data removed]",
            "text/plain": [
              "<Figure size 432x288 with 1 Axes>"
            ]
          },
          "metadata": {
            "tags": [],
            "needs_background": "light"
          }
        }
      ]
    },
    {
      "cell_type": "code",
      "metadata": {
        "colab": {
          "base_uri": "https://localhost:8080/",
          "height": 694
        },
        "id": "gcTqQneqI4ru",
        "outputId": "d1a2d45f-6431-4720-bbec-698e45fa77f9"
      },
      "source": [
        "data_compare = pd.DataFrame()\r\n",
        "data_compare['France'] = data_stat_FR.groupby(by='round_points').count()['country']\r\n",
        "data_compare['Others'] = data_stat_others.groupby(by='round_points').count()['country']\r\n",
        "data_compare['Pourcent'] = data_compare['France']/(data_compare['France']+data_compare['Others'])*100\r\n",
        "##Pourcent représente le pourcentage des vins français dans l'ensemble des vins de notre base de données à chaque point##\r\n",
        "print(data_compare)\r\n",
        "\r\n",
        "plt.scatter(data_compare.index,data_compare['Pourcent'])\r\n",
        "plt.plot(list(data_compare.index),[17 for i in range(len(list(data_compare.index)))],color='r',label='17%')\r\n",
        "plt.grid()\r\n",
        "plt.legend()\r\n",
        "plt.title('Pourcentage des vins français dans les vins mondiaux en fonction des points')\r\n",
        "plt.xlabel('points')\r\n",
        "plt.ylabel('pourcentage')\r\n",
        "plt.show()"
      ],
      "execution_count": 49,
      "outputs": [
        {
          "output_type": "stream",
          "text": [
            "              France  Others   Pourcent\n",
            "round_points                           \n",
            "80                15     382   3.778338\n",
            "81                36     656   5.202312\n",
            "82               107    1728   5.831063\n",
            "83               301    2723   9.953704\n",
            "84              1088    5390  16.795307\n",
            "85              1709    7820  17.934726\n",
            "86              2024   10571  16.069869\n",
            "87              2594   14333  15.324629\n",
            "88              2898   14300  16.850797\n",
            "89              2129   10079  17.439384\n",
            "90              2538   12865  16.477310\n",
            "91              2030    9323  17.880736\n",
            "92              1710    7896  17.801374\n",
            "93              1393    5096  21.467098\n",
            "94               856    2902  22.778073\n",
            "95               413    1122  26.905537\n",
            "96               145     378  27.724665\n",
            "97                70     159  30.567686\n",
            "98                21      56  27.272727\n",
            "99                 8      25  24.242424\n",
            "100                8      11  42.105263\n"
          ],
          "name": "stdout"
        },
        {
          "output_type": "display_data",
          "data": {
            "image/png": "[encoded data removed]",
            "text/plain": [
              "<Figure size 432x288 with 1 Axes>"
            ]
          },
          "metadata": {
            "tags": [],
            "needs_background": "light"
          }
        }
      ]
    },
    {
      "cell_type": "markdown",
      "metadata": {
        "id": "lJzcSePBN1GR"
      },
      "source": [
        "On a donc vu que les vins français représentes 17% de notre base de données. D'après l'étude précédente, on remarque que les vins français sont davantage compris dans les vins de bonne qualité que dans les vins ayant les moins bonnes notes."
      ]
    },
    {
      "cell_type": "markdown",
      "metadata": {
        "id": "ZgNv1C-4bmpj"
      },
      "source": [
        "# Prédiction de la classe du vin en fonction de sa description\r\n",
        "Dans cette partie, nous allons chercher à déterminer la qualité, donc la note (cf. l'étude des stat. desc.) ou la classe, d'un vin en utilisant seulement sa description. Le prix n'est donc pas utilisé dans cette partie.\r\n",
        "Pour rappel, nous séparons l'ensemble des points des vins en 5 classes."
      ]
    },
    {
      "cell_type": "markdown",
      "metadata": {
        "id": "QETQSaLRdZiS"
      },
      "source": [
        "## Premier modèle\r\n",
        "Pour ce premier modèle, nous allons analyser la description du vin de cette manière :\r\n",
        "1. Séparation de la phrase en une liste de mots\r\n",
        "2. Vectorisation de chaque mot de la phrase\r\n",
        "3. Calcul d'un vecteur \"moyen\" en faisant la moyenne des vecteurs de chaque mot\r\n",
        "\r\n",
        "Ce modèle ne prend donc pas en compte l'ordre des mots. Mais permet de déterminer l'idée \"moyenne\" de la phrase."
      ]
    },
    {
      "cell_type": "code",
      "metadata": {
        "id": "aLrjZHkIN0XQ"
      },
      "source": [
        "data_1 = data.sample(frac = 1, random_state = 1)\n",
        "X = data_1['description']\n",
        "Y = data_1['points']"
      ],
      "execution_count": 50,
      "outputs": []
    },
    {
      "cell_type": "markdown",
      "metadata": {
        "id": "QI3y556dpfpL"
      },
      "source": [
        "### Séparation en 5 catégorie de vins\r\n",
        "\r\n",
        "Le modèle que nous allons utiliser ici ne sera certainement pas suffisant pour déterminer avec exactitude la note du vin. C'est pourquoi, comme dans l'étude des statistiques descriptives, nous allons séparer en 5 catégories les notes :\r\n",
        "- 0 : points entre 80 et 84\r\n",
        "- 1 : points entre 84 et 88\r\n",
        "- 2 : points entre 88 et 92\r\n",
        "- 3 : points entre 92 et 96\r\n",
        "- 4 : points entre 96 et 100"
      ]
    },
    {
      "cell_type": "code",
      "metadata": {
        "id": "WunXVMmUN0Xs"
      },
      "source": [
        "# Creating the 5 classes, transform X, Y into array\n",
        "\n",
        "Y = np.array(Y)\n",
        "X = np.array(X)\n",
        "mini = min(Y)\n",
        "for idx in range(len(Y)):\n",
        "    Y[idx] = abs(Y[idx] - mini)//4.001   "
      ],
      "execution_count": 51,
      "outputs": []
    },
    {
      "cell_type": "code",
      "metadata": {
        "id": "htuAF9x0N0X6"
      },
      "source": [
        "X_train,X_test,Y_train,Y_test=train_test_split(X,Y,test_size=0.2)\n",
        "Y_train = np.array(Y_train, dtype = int)"
      ],
      "execution_count": 52,
      "outputs": []
    },
    {
      "cell_type": "code",
      "metadata": {
        "id": "aWjqLOQxN0YR"
      },
      "source": [
        "def sentence_to_avg(sentence, word_to_vec_map):\n",
        " \n",
        "    ''' \n",
        "    \n",
        "    This function transform a sentence into a representative vector\n",
        "    Arguments :\n",
        "    sentence        -- str correspond to the critics of the wine\n",
        "    word_to_vec_map --  give the vector associated to the word in GloVe doc\n",
        "    Returns :\n",
        "    avg -- vector of dim 50\n",
        "    \n",
        "     '''\n",
        "    #Step 1: transform the str sentence into a list of words\n",
        "    words = sentence.lower().split()\n",
        "\n",
        "    # Initialize the average word vector\n",
        "    avg = np.zeros(50)\n",
        "    \n",
        "    # Step 2: average the word vectors.\n",
        "    total = 0\n",
        "    for w in words:\n",
        "        while w not in word_to_vec_map.keys():\n",
        "            if w[1:] in word_to_vec_map.keys():\n",
        "                w = w[1:]\n",
        "            else:\n",
        "                w = w[:-1]\n",
        "        total += word_to_vec_map[w]\n",
        "    avg = total/len(words)\n",
        "    \n",
        "    \n",
        "    return avg"
      ],
      "execution_count": 53,
      "outputs": []
    },
    {
      "cell_type": "code",
      "metadata": {
        "id": "mNjluVu6N0YT"
      },
      "source": [
        "def softmax(x):\n",
        "    \"\"\"Compute softmax values for each sets of scores in x.\"\"\"\n",
        "    e_x = np.exp(x - np.max(x))\n",
        "    return e_x / e_x.sum()\n",
        "\n",
        "\n",
        "def model(X, Y, word_to_vec_map, learning_rate = 0.01, num_iterations = 800):\n",
        "\n",
        "    m = Y.shape[0]                          # number of training examples\n",
        "    n_y = 5                                 # number of classes  \n",
        "    n_h = 50                                # dimensions of the GloVe vectors \n",
        "    \n",
        "    # Initialize parameters using Xavier initialization\n",
        "    W = np.random.randn(n_y, n_h) / np.sqrt(n_h)\n",
        "    b = np.zeros((n_y,)) \n",
        "    \n",
        "    # Convert Y to Y_onehot with n_y classes\n",
        "    Y_oh = convert_to_one_hot(Y) \n",
        "    \n",
        "    # Optimization loop\n",
        "    for t in range(num_iterations): \n",
        "        for i in range(m):          \n",
        "            \n",
        "            avg = sentence_to_avg(X[i], word_to_vec_map)\n",
        "            z = np.dot(W,avg) + b\n",
        "            a = softmax(z)\n",
        "\n",
        "            cost = - np.dot(Y_oh[i],np.log(a))\n",
        "            \n",
        "            # Compute gradients \n",
        "            dz = a - Y_oh[i]\n",
        "            dW = np.dot(dz.reshape(n_y,1), avg.reshape(1, n_h))\n",
        "            db = dz\n",
        "\n",
        "            # Update parameters with Stochastic Gradient Descent\n",
        "            W = W - learning_rate * dW\n",
        "            b = b - learning_rate * db\n",
        "        \n",
        "        if t % 100 == 0:\n",
        "            print(\"Epoch: \" + str(t) + \" --- cost = \" + str(cost))\n",
        "            pred = predict(X, Y, W, b, word_to_vec_map)\n",
        "\n",
        "    return pred, W, b"
      ],
      "execution_count": 54,
      "outputs": []
    },
    {
      "cell_type": "code",
      "metadata": {
        "id": "mSvCleXNN0YW"
      },
      "source": [
        "def predict(X, Y, W, b, word_to_vec_map):\n",
        "    \"\"\"\n",
        "    Arguments :\n",
        "    X -- input data containing sentences, numpy array of shape (m, None)\n",
        "    Y -- labels, numpy array of shape (m, 1)\n",
        "    \n",
        "    Returns:\n",
        "    pred -- numpy array of shape (m, 1) with your predictions\n",
        "    \"\"\"\n",
        "    m = X.shape[0]\n",
        "    pred = np.zeros((m, 1))\n",
        "    \n",
        "    for j in range(m):                      \n",
        "        \n",
        "        # Split jth test example (sentence) into list of lower case words\n",
        "        words = X[j].lower().split()\n",
        "        \n",
        "        # initialising avg\n",
        "        avg = np.zeros((50,))\n",
        "        for w in words:\n",
        "          #Some problems occur with \".split()\", sometimes we don't want the first or the last character.\n",
        "          #Kind of the hard way to do it, but it works...\n",
        "            while w not in word_to_vec_map.keys():\n",
        "                if w[1:] in word_to_vec_map.keys():\n",
        "                    w = w[1:]\n",
        "                else:\n",
        "                    w = w[:-1]\n",
        "            avg += word_to_vec_map[w]\n",
        "        avg = avg/len(words)\n",
        "\n",
        "        # Forward propagation\n",
        "        Z = np.dot(W, avg) + b\n",
        "        A = softmax(Z)\n",
        "        pred[j] = np.argmax(A)\n",
        "        \n",
        "    print(\"Accuracy: \"  + str(np.mean((pred[:] == Y.reshape(Y.shape[0],1)[:]))))\n",
        "    \n",
        "    return pred"
      ],
      "execution_count": 55,
      "outputs": []
    },
    {
      "cell_type": "code",
      "metadata": {
        "id": "_J6y9kEeN0YZ",
        "scrolled": true
      },
      "source": [
        "#Training the model\n",
        "#Take a little time, you can avoid that part by just importing the weight (see under)\n",
        "#pred, W, b = model(X_train, Y_train, word_to_vec_map, num_iterations = 300)"
      ],
      "execution_count": 56,
      "outputs": []
    },
    {
      "cell_type": "code",
      "metadata": {
        "id": "riYEfWGVjHX7"
      },
      "source": [
        "#Compute it just if you have train the model before to save it\r\n",
        "#W_txt = np.asarray(W)\r\n",
        "#b_txt = np.asarray(b)\r\n",
        "#np.savetxt('W_1.csv', W_txt, delimiter=\",\", fmt='%s')\r\n",
        "#np.savetxt('b_1.csv', b_txt, delimiter=\",\", fmt='%s')"
      ],
      "execution_count": 57,
      "outputs": []
    },
    {
      "cell_type": "code",
      "metadata": {
        "id": "qTOh0KWSr_Ie"
      },
      "source": [
        "W_1 = np.genfromtxt('/content/Wine_project/W_1.csv', delimiter=',')\r\n",
        "b_1 = np.genfromtxt('/content/Wine_project/b_1.csv', delimiter=',')"
      ],
      "execution_count": 58,
      "outputs": []
    },
    {
      "cell_type": "code",
      "metadata": {
        "colab": {
          "base_uri": "https://localhost:8080/"
        },
        "id": "xLgynGbSN0Yf",
        "outputId": "f935e0d3-ea55-4533-adb5-87456ca43533"
      },
      "source": [
        "print(\"Training set:\")\n",
        "pred_train = predict(X_train, Y_train, W_1, b_1, word_to_vec_map)\n",
        "print('Test set:')\n",
        "pred_test = predict(X_test, Y_test, W_1, b_1, word_to_vec_map)"
      ],
      "execution_count": 59,
      "outputs": [
        {
          "output_type": "stream",
          "text": [
            "Training set:\n",
            "Accuracy: 0.5357005462799107\n",
            "Test set:\n",
            "Accuracy: 0.5435276014618196\n"
          ],
          "name": "stdout"
        }
      ]
    },
    {
      "cell_type": "markdown",
      "metadata": {
        "id": "HeNzrVK5tHX1"
      },
      "source": [
        "On se retrouve avec une accuracy de 50%. Le hasard devrait nous donner 20% de réussite car on a 5 catégories, donc on a déjà mieux que le hasard. Néanmoins ce n'est pas exeptionnel."
      ]
    },
    {
      "cell_type": "code",
      "metadata": {
        "colab": {
          "base_uri": "https://localhost:8080/"
        },
        "id": "45SUbIQ3N0Yy",
        "outputId": "f29de4f5-9dba-4a72-e6b3-46d1e04f82f2"
      },
      "source": [
        "#A little test to see if it works...\n",
        "X_my_sentences = np.array([\"I love that wine, it is so tasteful. A great success to see in the future\"])\n",
        "Y_my_labels = np.array([[3]])\n",
        "pred = predict(X_my_sentences, Y_my_labels , W_1, b_1, word_to_vec_map)\n",
        "pred"
      ],
      "execution_count": 60,
      "outputs": [
        {
          "output_type": "stream",
          "text": [
            "Accuracy: 1.0\n"
          ],
          "name": "stdout"
        },
        {
          "output_type": "execute_result",
          "data": {
            "text/plain": [
              "array([[3.]])"
            ]
          },
          "metadata": {
            "tags": []
          },
          "execution_count": 60
        }
      ]
    },
    {
      "cell_type": "markdown",
      "metadata": {
        "id": "5mhGOwwctlbk"
      },
      "source": [
        "Vérifions à partir d'une matrice de confusion si les résultats sont pertinents"
      ]
    },
    {
      "cell_type": "code",
      "metadata": {
        "id": "InAKLsfiN0Y8"
      },
      "source": [
        "def plot_confusion_matrix(y_actu, y_pred, title='Confusion matrix', cmap=plt.cm.gray_r):\n",
        "    \n",
        "    df_confusion = pd.crosstab(y_actu, y_pred.reshape(y_pred.shape[0],), rownames=['Actual'], colnames=['Predicted'], margins=True)\n",
        "    \n",
        "    df_conf_norm = df_confusion / df_confusion.sum(axis=1)\n",
        "    \n",
        "    plt.matshow(df_confusion, cmap=cmap)\n",
        "\n",
        "    plt.colorbar()\n",
        "    tick_marks = np.arange(len(df_confusion.columns))\n",
        "    plt.xticks(tick_marks, df_confusion.columns, rotation=45)\n",
        "    plt.yticks(tick_marks, df_confusion.index)\n",
        "    \n",
        "    plt.ylabel(df_confusion.index.name)\n",
        "    plt.xlabel(df_confusion.columns.name)"
      ],
      "execution_count": 61,
      "outputs": []
    },
    {
      "cell_type": "code",
      "metadata": {
        "colab": {
          "base_uri": "https://localhost:8080/",
          "height": 444
        },
        "id": "GiWGuZGKN0ZC",
        "outputId": "e83d28c2-001f-4284-c8ee-507ee3248846"
      },
      "source": [
        "print(pd.crosstab(Y_test, pred_test.reshape(Y_test.shape), rownames=['Actual'], colnames=['Predicted'], margins=True))\n",
        "plot_confusion_matrix(Y_test, pred_test)"
      ],
      "execution_count": 62,
      "outputs": [
        {
          "output_type": "stream",
          "text": [
            "Predicted  0.0    1.0   2.0  3.0    All\n",
            "Actual                                 \n",
            "0          381   1859   212   13   2465\n",
            "1          221   8543  2460  110  11334\n",
            "2           33   4442  4853  386   9714\n",
            "3            4    490  1568  352   2414\n",
            "4            0      6    30   32     68\n",
            "All        639  15340  9123  893  25995\n"
          ],
          "name": "stdout"
        },
        {
          "output_type": "display_data",
          "data": {
            "image/png": "[encoded data removed]",
            "text/plain": [
              "<Figure size 288x345.6 with 2 Axes>"
            ]
          },
          "metadata": {
            "tags": [],
            "needs_background": "light"
          }
        }
      ]
    },
    {
      "cell_type": "markdown",
      "metadata": {
        "id": "DvfcAjoGrw7a"
      },
      "source": [
        "La matrice de confusion montre que ce modèle n'est vraiment pas précis. Le modèle prédit aucune note de 4. Si on se réfère à l'histogramme de l'étude des statistiques descriptives, cela peut s'expliquer par le peu de vins ayant une très mauvaise et surtout une très bonne note. Il faudrait donc revoir notre séparation des notes en 5 catégories. C'est ce que nous allons faire dans la suite."
      ]
    },
    {
      "cell_type": "markdown",
      "metadata": {
        "id": "G5xgMaa1dC3m"
      },
      "source": [
        "### Séparation en 5 catégorie à partir des quantiles\r\n",
        "Notre distribution étant proche d'une loi normale et non une loi uniforme, nous allons séparer les classes en fonction des quantiles (20% pour chaque classe).\r\n",
        "On obtient donc comme note :\r\n",
        "- 0 si la note du vin fait partie des 20% des pires notes\r\n",
        "- 1 si la note est entre les 20% et 40%\r\n",
        "- 2 si la note est entre les 40% et 60%\r\n",
        "- 3 si la note est entre les 60% et 80%\r\n",
        "- 4 si la note est dans les 20% meilleures notes"
      ]
    },
    {
      "cell_type": "code",
      "metadata": {
        "colab": {
          "base_uri": "https://localhost:8080/"
        },
        "id": "AGleZNLyN0ZG",
        "outputId": "9c4f5950-b503-4597-8eea-60e8567cdc9c"
      },
      "source": [
        "data_12 = data.sample(frac = 1, random_state = 1)\n",
        "X = data_12['description']\n",
        "Y = data_12['points']\n",
        "quant = Y.quantile([0.2,0.4,0.6,0.8,1])\n",
        "print(quant)"
      ],
      "execution_count": 63,
      "outputs": [
        {
          "output_type": "stream",
          "text": [
            "0.2     86.0\n",
            "0.4     88.0\n",
            "0.6     89.0\n",
            "0.8     91.0\n",
            "1.0    100.0\n",
            "Name: points, dtype: float64\n"
          ],
          "name": "stdout"
        }
      ]
    },
    {
      "cell_type": "markdown",
      "metadata": {
        "id": "L_FxPwW76TyL"
      },
      "source": [
        "On remarque alors que les notes correspondent à :\r\n",
        "- 0 si les points sont entre 80 et 86 (très mauvais vins)\r\n",
        "- 1 si les points sont entre 86 et 88 (mauvais vins)\r\n",
        "- 2 si les points sont entre 88 et 89 (vins normaux)\r\n",
        "- 3 si les points sont entre 89 et 91 (bon vins)\r\n",
        "- 4 si les points sont entre 91 et 100 (très bon vins)"
      ]
    },
    {
      "cell_type": "code",
      "metadata": {
        "id": "Tx7gSAsEwhkV"
      },
      "source": [
        "#This is the only difference with model 1.1: approximatively 20% of the values are in each classes\r\n",
        "#Note that it is possible to optimize the running time by using vectorial calcul and masks \r\n",
        "Y = np.array(Y)\r\n",
        "for idx in range(len(Y)):\r\n",
        "    if Y[idx] <= quant[0.2] and np.sum(Y ==0) < len(Y)/5:\r\n",
        "        Y[idx] = 0\r\n",
        "    elif Y[idx] <= quant[0.4] and np.sum(Y ==0) < len(Y)/5:\r\n",
        "        Y[idx] = 1\r\n",
        "    elif Y[idx] <= quant[0.6] and np.sum(Y ==0) < len(Y)/5:\r\n",
        "        Y[idx] = 2\r\n",
        "    elif Y[idx] <= quant[0.8] and np.sum(Y ==0) < len(Y)/5:\r\n",
        "        Y[idx] = 3\r\n",
        "    else:\r\n",
        "        Y[idx] = 4"
      ],
      "execution_count": 64,
      "outputs": []
    },
    {
      "cell_type": "code",
      "metadata": {
        "id": "JiG1Y7QzN0ZI"
      },
      "source": [
        "#Split the set in train/test\n",
        "X = np.array(X)\n",
        "Y = np.array(Y, dtype=int)\n",
        "X_train,X_test,Y_train,Y_test=train_test_split(X,Y,test_size=0.2)\n"
      ],
      "execution_count": 65,
      "outputs": []
    },
    {
      "cell_type": "code",
      "metadata": {
        "id": "jGUw4WpDN0ZJ"
      },
      "source": [
        "#train the model\n",
        "#pred, W_12, b_12 = model(X_train, Y_train, word_to_vec_map,num_iterations=400)"
      ],
      "execution_count": 66,
      "outputs": []
    },
    {
      "cell_type": "code",
      "metadata": {
        "id": "IMYBOh76vZiU"
      },
      "source": [
        "#Compute it just if you have trained the model before\r\n",
        "#W_txt = np.asarray(W_12)\r\n",
        "#b_txt = np.asarray(b_12)\r\n",
        "#np.savetxt('W_12.csv', W_txt, delimiter=\",\", fmt='%s')\r\n",
        "#np.savetxt('b_12.csv', b_txt, delimiter=\",\", fmt='%s')"
      ],
      "execution_count": 67,
      "outputs": []
    },
    {
      "cell_type": "code",
      "metadata": {
        "id": "LLPYNLKPvfGa"
      },
      "source": [
        "W_12 = np.genfromtxt('/content/Wine_project/W_12.csv', delimiter=',')\r\n",
        "b_12 = np.genfromtxt('/content/Wine_project/b_12.csv', delimiter=',')"
      ],
      "execution_count": 68,
      "outputs": []
    },
    {
      "cell_type": "code",
      "metadata": {
        "id": "F0FQaD3ON0ZK",
        "colab": {
          "base_uri": "https://localhost:8080/"
        },
        "outputId": "ed1994e8-7d12-42c1-d565-969231c19a54"
      },
      "source": [
        "print(\"Training set:\")\n",
        "pred_train = predict(X_train, Y_train, W_12, b_12, word_to_vec_map)\n",
        "print('Test set:')\n",
        "pred_test = predict(X_test, Y_test, W_12, b_12, word_to_vec_map)\n"
      ],
      "execution_count": 69,
      "outputs": [
        {
          "output_type": "stream",
          "text": [
            "Training set:\n",
            "Accuracy: 0.41233553897053166\n",
            "Test set:\n",
            "Accuracy: 0.4061934987497596\n"
          ],
          "name": "stdout"
        }
      ]
    },
    {
      "cell_type": "code",
      "metadata": {
        "id": "uBQSpOKgN0ZM",
        "colab": {
          "base_uri": "https://localhost:8080/",
          "height": 402
        },
        "outputId": "9ba118b2-3501-4f42-af07-7b24662a3e2b"
      },
      "source": [
        "print(pd.crosstab(Y_test, pred_test.reshape(Y_test.shape), rownames=['Actual'], colnames=['Predicted'], margins=True))\n",
        "plot_confusion_matrix(Y_test, pred_test)"
      ],
      "execution_count": 70,
      "outputs": [
        {
          "output_type": "stream",
          "text": [
            "Predicted   0.0  1.0  2.0  3.0    4.0    All\n",
            "Actual                                      \n",
            "0          3486   46    1    1   1615   5149\n",
            "1          2336   90    0   18   2869   5313\n",
            "2           585   31    0    4   1218   1838\n",
            "3           767   20    0   12   3135   3934\n",
            "4          2703   66    0   21   6971   9761\n",
            "All        9877  253    1   56  15808  25995\n"
          ],
          "name": "stdout"
        },
        {
          "output_type": "display_data",
          "data": {
            "image/png": "[encoded data removed]",
            "text/plain": [
              "<Figure size 288x288 with 2 Axes>"
            ]
          },
          "metadata": {
            "tags": [],
            "needs_background": "light"
          }
        }
      ]
    },
    {
      "cell_type": "markdown",
      "metadata": {
        "id": "Pt56qcalwxXP"
      },
      "source": [
        "L'accuracy diminue et la matrice de confusion est loin d'être parfaite. Ce modèle ne semble donc pas être suffisant afin de répondre à notre problèmatique.\r\n",
        "Nous allons donc nous intéresser à un nouveau modèle : le modèle LSTM."
      ]
    },
    {
      "cell_type": "markdown",
      "metadata": {
        "id": "M5UhUrl4dM9X"
      },
      "source": [
        "## Modèle LSTM\r\n",
        "\r\n",
        "Le modèle LSTM permet de prendre en compte l'ordre des mots, et donc d'analyser l'ensemble de la description. Ce modèle interprète la phrase entière."
      ]
    },
    {
      "cell_type": "code",
      "metadata": {
        "id": "CdFcGPAgPmD3"
      },
      "source": [
        "import numpy as np\n",
        "from keras.models import Model\n",
        "from keras.layers import Dense, Input, Dropout, LSTM, Activation\n",
        "from keras.layers.embeddings import Embedding\n",
        "from keras.preprocessing import sequence\n",
        "from keras.initializers import glorot_uniform"
      ],
      "execution_count": 71,
      "outputs": []
    },
    {
      "cell_type": "markdown",
      "metadata": {
        "id": "wydP8Rcmx-rv"
      },
      "source": [
        "L'une des différences majeures entre ce modèle et le premier, c'est que l'on s'intéresse ici à la longueur de la description. Nous allons donc éliminer de notre base de données les descriptions qui sont trop longues."
      ]
    },
    {
      "cell_type": "code",
      "metadata": {
        "id": "kqfsc5CSvXZO"
      },
      "source": [
        "data_3 = data.sample(frac = 0.3, random_state = 1)\n",
        "data_3= data_3.sort_values(by=['points'])\n",
        "X_LTSM = data_3['description']\n",
        "Y = data_3['points']\n",
        "\n",
        "quant = Y.quantile([0.2,0.4,0.6,0.8,1])\n",
        "\n",
        "X_LTSM = np.array(X_LTSM)\n",
        "Y = np.array(Y)\n",
        "\n",
        "#Here we check the size of each X\n",
        "size =[]\n",
        "for i in range(len(X_LTSM)):\n",
        "  size.append(len(X_LTSM[i].split()))\n",
        "size = np.array(size)\n",
        "\n",
        "#In order to mask the ones that are too long (here the 1% the longest)\n",
        "mask = pd.Series(size)<= np.quantile(size,0.99)\n",
        "\n",
        "X_LTSM = X_LTSM[mask]\n",
        "Y = Y[mask] \n",
        "\n",
        "\n",
        "for idx in range(len(Y)):\n",
        "    if Y[idx] <= quant[0.2] and np.sum(Y ==0) < len(Y)/5:\n",
        "        Y[idx] = 0\n",
        "    elif Y[idx] <= quant[0.4] and np.sum(Y == 1) < len(Y)/5:\n",
        "        Y[idx] = 1\n",
        "    elif Y[idx] <= quant[0.6] and np.sum(Y == 2) < len(Y)/5:\n",
        "        Y[idx] = 2\n",
        "    elif Y[idx] <= quant[0.8] and np.sum(Y == 3) < len(Y)/5:\n",
        "        Y[idx] = 3\n",
        "    else:\n",
        "        Y[idx] = 4\n"
      ],
      "execution_count": 72,
      "outputs": []
    },
    {
      "cell_type": "code",
      "metadata": {
        "colab": {
          "base_uri": "https://localhost:8080/"
        },
        "id": "aEQbTiC3v2ti",
        "outputId": "613f6445-7765-4f1b-a54f-812f77d82821"
      },
      "source": [
        "size = size[mask]\r\n",
        "size.max()"
      ],
      "execution_count": 73,
      "outputs": [
        {
          "output_type": "execute_result",
          "data": {
            "text/plain": [
              "71"
            ]
          },
          "metadata": {
            "tags": []
          },
          "execution_count": 73
        }
      ]
    },
    {
      "cell_type": "markdown",
      "metadata": {
        "id": "qx2uGc8rGDTp"
      },
      "source": [
        "La taille maximale des descriptions est donc de 71, les descriptions plus longues ont été éliminées. Les descriptions plus courtes vont donc être complétées par des blancs afin d'atteindre la taille maximale, ce qui est nécessaire à l'utilisation de notre modèle."
      ]
    },
    {
      "cell_type": "code",
      "metadata": {
        "id": "767xub5cPs-B"
      },
      "source": [
        "def sentences_to_indices(X, word_to_index, max_len):\n",
        "    \"\"\"\n",
        "    Converts an array of sentences (str) into an array of indices corresponding to words in the sentences.\n",
        "    \n",
        "    Arguments:\n",
        "    X -- array of sentences of shape (m, 1)\n",
        "    word_to_index -- a dictionary containing each word mapped to its index\n",
        "    max_len -- maximum number of words in a sentence. Here worth size.max() \n",
        "    \n",
        "    Returns:\n",
        "    X_indices -- array of indices corresponding to words in the sentences from X, of shape (m, max_len)\n",
        "    \"\"\"\n",
        "    \n",
        "    m = X.shape[0]                                   # number of training examples\n",
        "    \n",
        "    X_indices = np.zeros((m, max_len))\n",
        "    \n",
        "    for i in range(m):                               # loop over training examples\n",
        "        \n",
        "        sentence_words = X[i].lower().split()\n",
        "        \n",
        "        j = 0\n",
        "        \n",
        "        # Loop over the words of sentence_words\n",
        "        for w in sentence_words:\n",
        "          #Same thing than in Modèle 1.1\n",
        "          while w not in word_to_vec_map.keys():\n",
        "                if w[1:] in word_to_vec_map.keys():\n",
        "                    w = w[1:]\n",
        "                else:\n",
        "                    w = w[:-1]\n",
        "          X_indices[i, j] = word_to_index[w]\n",
        "          j += 1\n",
        "            \n",
        "    \n",
        "    return X_indices"
      ],
      "execution_count": 234,
      "outputs": []
    },
    {
      "cell_type": "code",
      "metadata": {
        "id": "DKt-RtMBP07_"
      },
      "source": [
        "def pretrained_embedding_layer(word_to_vec_map, word_to_index):\n",
        "    \"\"\"\n",
        "\n",
        "    Creates a Keras Embedding() layer and loads in pre-trained GloVe 50-dimensional vectors.\n",
        "    \n",
        "    Arguments:\n",
        "    word_to_vec_map -- dictionary mapping words to their GloVe vector representation.\n",
        "    word_to_index -- dictionary mapping from words to their indices in the vocabulary\n",
        "\n",
        "    Returns:\n",
        "    embedding_layer -- pretrained layer Keras instance\n",
        "    \"\"\"\n",
        "    \n",
        "    vocab_len = len(word_to_index) + 1                 \n",
        "    \n",
        "    emb_dim = word_to_vec_map[\"cucumber\"].shape[0] \n",
        "    emb_matrix = np.zeros((vocab_len, emb_dim))\n",
        "    \n",
        "    for word, idx in word_to_index.items():\n",
        "        emb_matrix[idx, :] = word_to_vec_map[word]\n",
        "    embedding_layer = Embedding(vocab_len, emb_dim, trainable = True)\n",
        "\n",
        "    embedding_layer.build((None,)) \n",
        "    \n",
        "    # Set the weights of the embedding layer to the embedding matrix.\n",
        "    embedding_layer.set_weights([emb_matrix])\n",
        "    \n",
        "    return embedding_layer"
      ],
      "execution_count": 75,
      "outputs": []
    },
    {
      "cell_type": "code",
      "metadata": {
        "id": "j_M6sWFgP4lH"
      },
      "source": [
        "#Structure du modèle LTSM tirée de https://adventuresinmachinelearning.com/keras-lstm-tutorial/\n",
        "\n",
        "def Wine_model(input_shape, word_to_vec_map, word_to_index):\n",
        "    \"\"\"\n",
        "    LSTM Model and its differents layers\n",
        "    \n",
        "    Arguments:\n",
        "    input_shape -- shape of the input, usually (max_len,)\n",
        "    word_to_vec_map\n",
        "    word_to_index \n",
        "\n",
        "    Returns:\n",
        "    model -- a model instance in Keras\n",
        "    \"\"\"\n",
        "    \n",
        "    # Define Input layer\n",
        "    sentence_indices = Input(input_shape, dtype= 'int32')\n",
        "    \n",
        "    # Create the embedding layer pretrained with GloVe Vectors\n",
        "    embedding_layer = pretrained_embedding_layer(word_to_vec_map, word_to_index)\n",
        "    \n",
        "    # Propagate sentence_indices through your embedding layer\n",
        "    embeddings = embedding_layer(sentence_indices)\n",
        "    \n",
        "    # Propagate the embeddings through an LSTM layer with 128-dimensional hidden state\n",
        "    X = LSTM(128, return_sequences=True)(embeddings)\n",
        "    X = Dropout(0.5)(X)\n",
        "\n",
        "    X = LSTM(128, return_sequences=False)(X)\n",
        "    X = Dropout(0.5)(X)\n",
        "\n",
        "    X = Dense( units = 5)(X)\n",
        "    X = Activation('softmax')(X)\n",
        "    \n",
        "    # Create Model instance which converts sentence_indices into X\n",
        "    model = Model(inputs=sentence_indices, outputs=X)\n",
        "    \n",
        "    return model"
      ],
      "execution_count": 76,
      "outputs": []
    },
    {
      "cell_type": "code",
      "metadata": {
        "colab": {
          "base_uri": "https://localhost:8080/"
        },
        "id": "csbi8COkP62u",
        "outputId": "c178bcd2-02cb-416d-cefe-f1c4adfba5d7"
      },
      "source": [
        "model = Wine_model((size.max(),), word_to_vec_map, word_to_index)\n",
        "model.summary()"
      ],
      "execution_count": 77,
      "outputs": [
        {
          "output_type": "stream",
          "text": [
            "Model: \"functional_1\"\n",
            "_________________________________________________________________\n",
            "Layer (type)                 Output Shape              Param #   \n",
            "=================================================================\n",
            "input_1 (InputLayer)         [(None, 71)]              0         \n",
            "_________________________________________________________________\n",
            "embedding (Embedding)        (None, 71, 50)            20000000  \n",
            "_________________________________________________________________\n",
            "lstm (LSTM)                  (None, 71, 128)           91648     \n",
            "_________________________________________________________________\n",
            "dropout (Dropout)            (None, 71, 128)           0         \n",
            "_________________________________________________________________\n",
            "lstm_1 (LSTM)                (None, 128)               131584    \n",
            "_________________________________________________________________\n",
            "dropout_1 (Dropout)          (None, 128)               0         \n",
            "_________________________________________________________________\n",
            "dense (Dense)                (None, 5)                 645       \n",
            "_________________________________________________________________\n",
            "activation (Activation)      (None, 5)                 0         \n",
            "=================================================================\n",
            "Total params: 20,223,877\n",
            "Trainable params: 20,223,877\n",
            "Non-trainable params: 0\n",
            "_________________________________________________________________\n"
          ],
          "name": "stdout"
        }
      ]
    },
    {
      "cell_type": "code",
      "metadata": {
        "colab": {
          "base_uri": "https://localhost:8080/"
        },
        "id": "cEX-hSO23NXj",
        "outputId": "42895447-1ccb-48ee-9e31-96e467ae93fb"
      },
      "source": [
        "# Compute that to load a model :\r\n",
        "\r\n",
        "from keras.models import model_from_json\r\n",
        "from keras.models import load_model\r\n",
        "\r\n",
        "json_file = open('/content/drive/My Drive/Wine_project/final_LSTM.json', 'r')\r\n",
        "model_json = json_file.read()\r\n",
        "json_file.close()\r\n",
        "model = model_from_json(model_json)\r\n",
        "# load weights into new model\r\n",
        "model.load_weights(\"/content/drive/My Drive/Wine_project/final_LSTM.hdf5\")\r\n",
        "print(\"Loaded model from disk\")\r\n",
        "model.save('/content/drive/My Drive/Wine_project/final_LSTM.hdf5')\r\n",
        "model = load_model('/content/drive/My Drive/Wine_project/final_LSTM.hdf5')\r\n"
      ],
      "execution_count": 78,
      "outputs": [
        {
          "output_type": "stream",
          "text": [
            "Loaded model from disk\n",
            "WARNING:tensorflow:No training configuration found in the save file, so the model was *not* compiled. Compile it manually.\n"
          ],
          "name": "stdout"
        }
      ]
    },
    {
      "cell_type": "code",
      "metadata": {
        "id": "xeW6hHCxP8i1"
      },
      "source": [
        "model.compile(loss='categorical_crossentropy', optimizer='adam', metrics=['accuracy'])"
      ],
      "execution_count": 79,
      "outputs": []
    },
    {
      "cell_type": "code",
      "metadata": {
        "id": "Z1vcRHybXC0R"
      },
      "source": [
        "#Split into train/test sets\n",
        "Y = np.array(Y, dtype=int)\n",
        "X_train,X_test,Y_train,Y_test = train_test_split(X_LTSM,Y,test_size=0.2)"
      ],
      "execution_count": 80,
      "outputs": []
    },
    {
      "cell_type": "code",
      "metadata": {
        "id": "Vc2dP9IoW8KD"
      },
      "source": [
        "#Convert X and Y to fit the model size:\n",
        "X_train_indices = sentences_to_indices(X_train, word_to_index, size.max())\n",
        "Y_train_oh = convert_to_one_hot(Y_train)"
      ],
      "execution_count": 81,
      "outputs": []
    },
    {
      "cell_type": "code",
      "metadata": {
        "id": "FbGwG1F4YSCy"
      },
      "source": [
        "#Training of the model\r\n",
        "#model.fit(X_train_indices, Y_train_oh, epochs = 15, batch_size = 1500, shuffle=True)"
      ],
      "execution_count": 82,
      "outputs": []
    },
    {
      "cell_type": "code",
      "metadata": {
        "id": "4ukpvLDR4uiW"
      },
      "source": [
        "#To save the model...\r\n",
        "#from keras.models import model_from_json\r\n",
        "#from keras.models import load_model\r\n",
        "#model_json = model.to_json()\r\n",
        "#with open(\"/content/drive/My Drive/Wine_project/final_LSTM.json\", \"w\") as json_file:\r\n",
        "#  json_file.write(model_json)\r\n",
        "#model.save_weights(\"/content/drive/My Drive/Wine_project/final_LSTM.hdf5\")"
      ],
      "execution_count": 83,
      "outputs": []
    },
    {
      "cell_type": "code",
      "metadata": {
        "colab": {
          "base_uri": "https://localhost:8080/"
        },
        "id": "Z7wptDTWatSP",
        "outputId": "adf98abc-4935-4cf2-b521-bdf627c6278d"
      },
      "source": [
        "#Test:\n",
        "X_test_indices = sentences_to_indices(X_test, word_to_index, max_len = size.max())\n",
        "Y_test_oh = convert_to_one_hot(Y_test)\n",
        "loss, acc = model.evaluate(X_test_indices, Y_test_oh)\n",
        "pred = model.predict(X_test_indices)\n",
        "pred = np.argmax(pred, axis = 1) \n",
        "print()\n",
        "print(\"Test accuracy = \", acc)"
      ],
      "execution_count": 84,
      "outputs": [
        {
          "output_type": "stream",
          "text": [
            "242/242 [==============================] - 8s 33ms/step - loss: 0.9730 - accuracy: 0.5827\n",
            "\n",
            "Test accuracy =  0.582664966583252\n"
          ],
          "name": "stdout"
        }
      ]
    },
    {
      "cell_type": "code",
      "metadata": {
        "colab": {
          "base_uri": "https://localhost:8080/",
          "height": 400
        },
        "id": "Jf4sTzfeVJ3p",
        "outputId": "0d759915-2b4e-418e-9472-89c4c15873a1"
      },
      "source": [
        "print(pd.crosstab(Y_test, pred.reshape(Y_test.shape), rownames=['Actual'], colnames=['Predicted'], margins=True))\r\n",
        "plot_confusion_matrix(Y_test, pred)"
      ],
      "execution_count": 85,
      "outputs": [
        {
          "output_type": "stream",
          "text": [
            "Predicted     0     1     2     3     4   All\n",
            "Actual                                       \n",
            "0          1079   376    61    12     2  1530\n",
            "1           323   822   294    57     7  1503\n",
            "2            43   413   754   336    52  1598\n",
            "3             6    77   342   757   372  1554\n",
            "4             0    13    86   354  1092  1545\n",
            "All        1451  1701  1537  1516  1525  7730\n"
          ],
          "name": "stdout"
        },
        {
          "output_type": "display_data",
          "data": {
            "image/png": "[encoded data removed]",
            "text/plain": [
              "<Figure size 288x288 with 2 Axes>"
            ]
          },
          "metadata": {
            "tags": [],
            "needs_background": "light"
          }
        }
      ]
    },
    {
      "cell_type": "markdown",
      "metadata": {
        "id": "0cqs9BmF1ooy"
      },
      "source": [
        "On a ici une accuracy correcte, mais surtout, la matrice de confusion semble bien meilleure que celles qu'on pouvait avoir avec le premier modèle.\r\n",
        "\r\n",
        "On peut donc se demander s'il est possible de directement prédire la note sur 100 et non pas de déterminer dans quelle classe sur les 5 notre vin est.\r\n",
        "Nous allons donc dans la suite essayer de déterminer directement la note."
      ]
    },
    {
      "cell_type": "markdown",
      "metadata": {
        "id": "RXb04vX27EY9"
      },
      "source": [
        " # Prédiction des points du vin en fonction de sa description\r\n",
        " Nous allons donc, dans cette partie, ne plus séparer les vins en 5 classes, mais essayer de déterminer directement leurs points sur 100."
      ]
    },
    {
      "cell_type": "markdown",
      "metadata": {
        "id": "IdG3ctgv1_t0"
      },
      "source": [
        "## Premier modèle avec description et prix en input\r\n",
        "Nous réutilisons le premier modèle, qui détermine une \"moyenne\" sur l'ensemble des mots de la description.\r\n",
        "De plus, on ajoute en input le prix. On obtient donc en input la \"moyenne\" sur les mots de la description et le prix du vin."
      ]
    },
    {
      "cell_type": "code",
      "metadata": {
        "id": "xjdwmzSmlAMl"
      },
      "source": [
        "#a new function sentence_to_avg must be defined because we have to had prices in the X values.\n",
        "\n",
        "def sentence_to_avg(sentence, word_to_vec_map):\n",
        " \n",
        "    words = sentence.lower().split()\n",
        "\n",
        "    # Initialize the average word vector\n",
        "    avg = np.zeros(50)\n",
        "    \n",
        "    # Step 2: average the word vectors. \n",
        "    total = 0\n",
        "    for w in words:\n",
        "        while w not in word_to_vec_map.keys():\n",
        "            if w[1:] in word_to_vec_map.keys():\n",
        "                w = w[1:]\n",
        "            else:\n",
        "                w = w[:-1]\n",
        "        total += word_to_vec_map[w]\n",
        "    avg = total/len(words)\n",
        "    \n",
        "    \n",
        "    return avg"
      ],
      "execution_count": 86,
      "outputs": []
    },
    {
      "cell_type": "code",
      "metadata": {
        "id": "A294HUFL7GCP"
      },
      "source": [
        "#Creating the Y and X values from data\n",
        "\n",
        "data_4 = data[['description', 'points', 'price', 'taster_name']].sample(frac = 1, random_state = 1)\n",
        "data_4 = data_4.dropna()\n",
        "X = data_4['description']\n",
        "Y = data_4['points']\n",
        "prices = data_4['price']\n",
        "\n",
        "Y = np.array(Y)\n",
        "m=len(X)\n",
        "\n",
        "#Some preprocessing on X...\n",
        "\n",
        "X = np.array(X)\n",
        "X_emb = np.zeros((m,50)) \n",
        "prices = np.array(prices)\n",
        "prices = np.log(prices)\n",
        "prices = prices - prices.mean()\n",
        "for i in range(m): \n",
        "  X_emb[i] = sentence_to_avg(X[i], word_to_vec_map)\n",
        "X_emb = np.column_stack((X_emb,prices))\n",
        "\n",
        "Y = np.array(Y, dtype=int)\n",
        "X_train,X_test,Y_train,Y_test=train_test_split(X_emb,Y,test_size=0.2)"
      ],
      "execution_count": 87,
      "outputs": []
    },
    {
      "cell_type": "code",
      "metadata": {
        "id": "DteFwOza63Cg"
      },
      "source": [
        "def relu(x):\n",
        "    if x <0:\n",
        "        x = 0\n",
        "    return x"
      ],
      "execution_count": 88,
      "outputs": []
    },
    {
      "cell_type": "code",
      "metadata": {
        "id": "mBYstrwZ4pga"
      },
      "source": [
        "def model_4(X, Y, word_to_vec_map, learning_rate = 0.01, num_iterations = 400):\n",
        "\n",
        "    m = Y.shape[0]                          # number of training examples\n",
        "    n_y = 1                                 # number of classes  \n",
        "    n_h = 51                               # dimensions of the GloVe vectors + 1 (for price)\n",
        "    \n",
        "    #Xavier initialization\n",
        "    W = np.random.randn(n_y, n_h) / np.sqrt(n_h)\n",
        "    b = np.zeros((n_y,)) \n",
        "    \n",
        "    \n",
        "    # Optimization loop\n",
        "    for t in range(num_iterations): # Loop over the number of iterations\n",
        "        for i in range(m):          # Loop over the training examples\n",
        "          \n",
        "            # Forward propagate the avg through the softmax layer\n",
        "            z = np.dot(W,X[i]) + b\n",
        "            a = relu(z)  #Here we have changed the activation function \n",
        "                         #Indeed, we no longer need a value between 0 and 1\n",
        "            # Compute gradients \n",
        "            dz = a - Y[i]\n",
        "            dW = np.dot(dz.reshape(n_y,1), X[i].reshape(1, n_h))\n",
        "            db = dz\n",
        "\n",
        "            # Update parameters with Stochastic Gradient Descent\n",
        "            W = W - learning_rate * dW\n",
        "            b = b - learning_rate * db\n",
        "        \n",
        "        if t % 100 == 0:\n",
        "            print(\"Epoch: \" + str(t))\n",
        "            pred = predict_4(X, Y, W, b, word_to_vec_map)\n",
        "\n",
        "    return pred, W, b"
      ],
      "execution_count": 89,
      "outputs": []
    },
    {
      "cell_type": "code",
      "metadata": {
        "id": "cL1N8j8g7XGD"
      },
      "source": [
        "def predict_4(X, Y, W, b, word_to_vec_map):\n",
        "    \"\"\"\n",
        "    Arguments:\n",
        "    X -- input data containing avg and prices, numpy array of shape (m, 51)\n",
        "    Y -- labels, numpy array of shape (m, 1)\n",
        "    \n",
        "    Returns:\n",
        "    pred -- numpy array of shape (m, 1) with your predictions\n",
        "    \"\"\"\n",
        "    m = X.shape[0]\n",
        "    pred = np.zeros(m)\n",
        "    \n",
        "    for j in range(m):                       # Loop over training examples\n",
        "        \n",
        "        # Forward propagation\n",
        "        Z = np.dot(W, X[j]) + b\n",
        "        A = relu(Z)\n",
        "        pred[j] = A\n",
        "        \n",
        "    print(\"Loss (=mse): \"  + str(np.square(np.subtract(Y,pred)).mean() ))\n",
        "    \n",
        "    return pred"
      ],
      "execution_count": 90,
      "outputs": []
    },
    {
      "cell_type": "code",
      "metadata": {
        "id": "_OWcTmzBBxXV"
      },
      "source": [
        "#Training\n",
        "#pred, W_4, b_4 = model_4(X_train, Y_train, word_to_vec_map, num_iterations=800)"
      ],
      "execution_count": 91,
      "outputs": []
    },
    {
      "cell_type": "code",
      "metadata": {
        "id": "E9vsZi657jC0"
      },
      "source": [
        "#Compute it just if you have train the model before to save\r\n",
        "#W_txt = np.asarray(W_4)\r\n",
        "#b_txt = np.asarray(b_4)\r\n",
        "#np.savetxt('W_4.csv', W_txt, delimiter=\",\", fmt='%s')\r\n",
        "#np.savetxt('b_4.csv', b_txt, delimiter=\",\", fmt='%s')"
      ],
      "execution_count": 92,
      "outputs": []
    },
    {
      "cell_type": "code",
      "metadata": {
        "id": "isXWY5s38aSw"
      },
      "source": [
        "W_4 = np.genfromtxt('/content/Wine_project/W_4.csv', delimiter=',')\r\n",
        "b_4 = np.genfromtxt('/content/Wine_project/b_4.csv', delimiter=',')"
      ],
      "execution_count": 93,
      "outputs": []
    },
    {
      "cell_type": "code",
      "metadata": {
        "colab": {
          "base_uri": "https://localhost:8080/"
        },
        "id": "F2dcGoqfB6Xj",
        "outputId": "5a5374af-275a-4c38-cc43-27d2e97ac466"
      },
      "source": [
        "print(\"Training set:\")\n",
        "pred_train = predict_4(X_train, Y_train, W_4, b_4, word_to_vec_map)\n",
        "print('Test set:')\n",
        "pred_test = predict_4(X_test, Y_test, W_4, b_4, word_to_vec_map)"
      ],
      "execution_count": 94,
      "outputs": [
        {
          "output_type": "stream",
          "text": [
            "Training set:\n",
            "Loss (=mse): 5.504851687645486\n",
            "Test set:\n",
            "Loss (=mse): 5.508594719938001\n"
          ],
          "name": "stdout"
        }
      ]
    },
    {
      "cell_type": "code",
      "metadata": {
        "colab": {
          "base_uri": "https://localhost:8080/"
        },
        "id": "i-x3FdpGDrBU",
        "outputId": "e23547e6-d54e-40f6-9891-8ee935860f77"
      },
      "source": [
        "#Let's try to analyse our prediction:\n",
        "ecart = []\n",
        "for i in range(0,len(Y_test)):\n",
        " ecart.append(abs(pred_test[i] - Y_test[i]))\n",
        "ecart = np.array(ecart)\n",
        "print(\"ecart max:\" +str(np.max(ecart)))\n",
        "print(\"ecart moy:\"+ str(ecart.mean()))\n",
        "print(\"variance de l'écart:\" + str(ecart.var()))\n",
        "print(np.quantile(ecart, 0.9))"
      ],
      "execution_count": 95,
      "outputs": [
        {
          "output_type": "stream",
          "text": [
            "ecart max:10.646902266549517\n",
            "ecart moy:1.8427990696469674\n",
            "variance de l'écart:2.1126863088462717\n",
            "3.8239212019197453\n"
          ],
          "name": "stdout"
        }
      ]
    },
    {
      "cell_type": "markdown",
      "metadata": {
        "id": "VFIneiNFKyGP"
      },
      "source": [
        "Avec ce modèle, on obtient un écart moyen de 1,86 points, ce qui est correct même si loin d'être parfait. On remarque néanmoins que cela semble être plus précis que les classes créées dans la partie précédente, car les classes regroupées des notes séparées de 4 points.\r\n",
        "Nous allons d'ailleurs voir si on peut comparer ce modèle avec celui de la partie précédente :"
      ]
    },
    {
      "cell_type": "code",
      "metadata": {
        "colab": {
          "base_uri": "https://localhost:8080/",
          "height": 396
        },
        "id": "DTYwkSjCPvoN",
        "outputId": "73d143d4-afde-447e-84cf-f06fb3542236"
      },
      "source": [
        "#Si on veut comparer aux modèles précédents:\n",
        "\n",
        "Y_test = pd.Series(Y_test)\n",
        "quant = Y_test.quantile([0.2,0.4,0.6,0.8,1])\n",
        "Y_res = np.array(Y_test)\n",
        "\n",
        "for idx in range(len(Y_test)):\n",
        "    if Y_res[idx] <= quant[0.2]:\n",
        "        Y_res[idx] = 0\n",
        "    elif Y_res[idx] <= quant[0.4]:\n",
        "        Y_res[idx] = 1\n",
        "    elif Y_res[idx] <= quant[0.6]:\n",
        "        Y_res[idx] = 2\n",
        "    elif Y_res[idx] <= quant[0.8]:\n",
        "        Y_res[idx] = 3\n",
        "    else:\n",
        "        Y_res[idx] = 4\n",
        "\n",
        "pred_test= pd.Series(pred_test)\n",
        "quant_pred = pred_test.quantile([0.2,0.4,0.6,0.8,1])\n",
        "pred_res = np.array(pred_test)\n",
        "\n",
        "for idx in range(len(Y_test)):\n",
        "    if pred_res[idx] <= quant_pred[0.2]:\n",
        "        pred_res[idx] = 0\n",
        "    elif pred_res[idx] <= quant_pred[0.4]:\n",
        "        pred_res[idx] = 1\n",
        "    elif pred_res[idx] <= quant_pred[0.6]:\n",
        "        pred_res[idx] = 2\n",
        "    elif pred_res[idx] <= quant_pred[0.8]:\n",
        "        pred_res[idx] = 3\n",
        "    else:\n",
        "        pred_res[idx] = 4\n",
        "\n",
        "print(pd.crosstab(Y_res, pred_res.reshape(Y_test.shape), rownames=['Actual'], colnames=['Predicted'], margins=True))\n",
        "plot_confusion_matrix(Y_res, pred_res)\n"
      ],
      "execution_count": 96,
      "outputs": [
        {
          "output_type": "stream",
          "text": [
            "Predicted   0.0   1.0   2.0   3.0   4.0    All\n",
            "Actual                                        \n",
            "0          2480  1204   663   267    74   4688\n",
            "1          1041  1531  1312   859   309   5052\n",
            "2           193   492   572   499   250   2006\n",
            "3           140   555  1019  1363  1190   4267\n",
            "4             6    77   293   872  2035   3283\n",
            "All        3860  3859  3859  3860  3858  19296\n"
          ],
          "name": "stdout"
        },
        {
          "output_type": "display_data",
          "data": {
            "image/png": "[encoded data removed]",
            "text/plain": [
              "<Figure size 288x288 with 2 Axes>"
            ]
          },
          "metadata": {
            "tags": [],
            "needs_background": "light"
          }
        }
      ]
    },
    {
      "cell_type": "markdown",
      "metadata": {
        "id": "RpCTxWCTLSbd"
      },
      "source": [
        "Pour comparer avec la partie précédente, on classifie les prédictions réalisées avec ce modèle. Cette classification se fait avec les quantiles.\r\n",
        "On obtient alors une matrice de confusion bien plus satisfaisante que la matrice de confusion réalisée dans la partie 1.1.2"
      ]
    },
    {
      "cell_type": "code",
      "metadata": {
        "colab": {
          "base_uri": "https://localhost:8080/",
          "height": 35
        },
        "id": "Ks6omAOOVC9m",
        "outputId": "6b8d2d21-1c52-4004-9e20-b0cc11cf6a48"
      },
      "source": [
        "str('Accuracy: ' + str(np.mean(pred_res[:] == Y_res[:]) ) )"
      ],
      "execution_count": 97,
      "outputs": [
        {
          "output_type": "execute_result",
          "data": {
            "application/vnd.google.colaboratory.intrinsic+json": {
              "type": "string"
            },
            "text/plain": [
              "'Accuracy: 0.41360903814262023'"
            ]
          },
          "metadata": {
            "tags": []
          },
          "execution_count": 97
        }
      ]
    },
    {
      "cell_type": "code",
      "metadata": {
        "colab": {
          "base_uri": "https://localhost:8080/",
          "height": 295
        },
        "id": "3uA6nSm4Zbje",
        "outputId": "9b5ea274-ec20-4582-c1b8-7f9278044363"
      },
      "source": [
        "#Here the distribution can also give us some hints of the quality of the prediction\n",
        "fig1 = Y_test.hist(alpha = 0.5, color = 'r',label='Real')\n",
        "fig2 = pred_test.hist(alpha = 0.5, color = 'b',label='Predicted')\n",
        "plt.legend()\n",
        "plt.xlabel('Points')\n",
        "plt.ylabel('Nombre de vins')\n",
        "plt.title('Distribution des points réels et des points prédits de nos vins')\n",
        "plt.show()"
      ],
      "execution_count": 98,
      "outputs": [
        {
          "output_type": "display_data",
          "data": {
            "image/png": "[encoded data removed]",
            "text/plain": [
              "<Figure size 432x288 with 1 Axes>"
            ]
          },
          "metadata": {
            "tags": [],
            "needs_background": "light"
          }
        }
      ]
    },
    {
      "cell_type": "markdown",
      "metadata": {
        "id": "Uow_lV-eL3fu"
      },
      "source": [
        "Lorsque l'on compare la distribution des points prédits des vins avec celle des points réels, on observe toujours que les valeurs extremes ont du mal à être prédites"
      ]
    },
    {
      "cell_type": "markdown",
      "metadata": {
        "id": "EAR_76JU_pPp"
      },
      "source": [
        "## Modèle LSTM avec description en input\r\n",
        "Nous revenons au modèle LSTM. Nous ne prendrons pas le prix en input dans cette partie. Par contre, notre objectif est toujours de déterminer les points de notre vin et non sa classe."
      ]
    },
    {
      "cell_type": "code",
      "metadata": {
        "id": "ifIosjetx_pl"
      },
      "source": [
        "import numpy as np\n",
        "from keras.models import Model\n",
        "from keras.layers import Dense, Input, Dropout, LSTM, Activation\n",
        "from keras.layers.embeddings import Embedding\n",
        "from keras.preprocessing import sequence\n",
        "from keras.initializers import glorot_uniform"
      ],
      "execution_count": 205,
      "outputs": []
    },
    {
      "cell_type": "code",
      "metadata": {
        "colab": {
          "base_uri": "https://localhost:8080/"
        },
        "id": "By--QqkLAP4y",
        "outputId": "9231da7a-9361-449b-b147-8146469b3db9"
      },
      "source": [
        "data_5 = data.sample(frac = 1, random_state = 1)\n",
        "data_5= data_5.sort_values(by=['points'])\n",
        "X_LTSM = data_5['description']\n",
        "Y_LTSM = data_5['points']\n",
        "\n",
        "X_LTSM = np.array(X_LTSM)\n",
        "\n",
        "size =[]\n",
        "for i in range(len(X_LTSM)):\n",
        "  size.append(len(X_LTSM[i].split()))\n",
        "size = np.array(size)\n",
        "\n",
        "mask = pd.Series(size) <= np.quantile(size,0.99)\n",
        "X_LTSM = np.array(X_LTSM)\n",
        "Y_LTSM = np.array(Y_LTSM)\n",
        "\n",
        "X_LTSM = X_LTSM[mask]\n",
        "Y_LTSM = Y_LTSM[mask] \n",
        "size = size[mask] \n",
        "\n",
        "#Preprocessing of the Y values:\n",
        "min_Y = Y_LTSM.min()\n",
        "max_Y = Y_LTSM.max()\n",
        "Y_LTSM = (Y_LTSM - min_Y)/(max_Y - min_Y)\n",
        "\n",
        "size.max()"
      ],
      "execution_count": 206,
      "outputs": [
        {
          "output_type": "execute_result",
          "data": {
            "text/plain": [
              "71"
            ]
          },
          "metadata": {
            "tags": []
          },
          "execution_count": 206
        }
      ]
    },
    {
      "cell_type": "code",
      "metadata": {
        "id": "aLIwKz7vrxQi"
      },
      "source": [
        "#Split train/test\n",
        "\n",
        "X_train,X_test,Y_train,Y_test = train_test_split(X_LTSM,Y_LTSM,test_size=0.2)\n",
        "X_train_indices = sentences_to_indices(X_train, word_to_index, size.max())"
      ],
      "execution_count": 207,
      "outputs": []
    },
    {
      "cell_type": "code",
      "metadata": {
        "id": "ysP_upwxAdk1"
      },
      "source": [
        "def Wine_model_2(input_shape, word_to_vec_map, word_to_index):\n",
        "    \"\"\"\n",
        "    Arguments:\n",
        "    input_shape -- shape of the input, here size.max()\n",
        "    word_to_vec_map\n",
        "    word_to_index \n",
        "\n",
        "    Returns:\n",
        "    model -- model instance in Keras\n",
        "    \"\"\"\n",
        "    \n",
        "    sentence_indices = Input(input_shape, dtype= 'int32')\n",
        "    \n",
        "    # Create the embedding layer pretrained with GloVe Vectors\n",
        "    embedding_layer = pretrained_embedding_layer(word_to_vec_map, word_to_index)\n",
        "    \n",
        "    # Propagate sentence_indices through your embedding layer\n",
        "    embeddings = embedding_layer(sentence_indices)\n",
        "    \n",
        "    X = LSTM(128, return_sequences= True)(embeddings)\n",
        "    X = Dropout(0.5)(X)\n",
        "    \n",
        "    X = LSTM(128, return_sequences= False)(X)\n",
        "    X = Dropout(0.5)(X)\n",
        "    \n",
        "    #We just had a new 128 Dense Layer (because it works better...)\n",
        "    X = Dense ( units = 128 )(X)\n",
        "    X = Activation('relu')(X)\n",
        "    X = Dropout(0.5)(X)\n",
        "\n",
        "    X = Dense( units = 1 )(X)\n",
        "    X = Activation('linear')(X)\n",
        "    \n",
        "    model = Model(inputs=sentence_indices, outputs=X)\n",
        "    \n",
        "    return model"
      ],
      "execution_count": 208,
      "outputs": []
    },
    {
      "cell_type": "code",
      "metadata": {
        "colab": {
          "base_uri": "https://localhost:8080/"
        },
        "id": "__TyjeccrTcA",
        "outputId": "3c024f74-b3b9-4e3b-cf5f-d75dc8d174fe"
      },
      "source": [
        "model_2 = Wine_model_2((size.max(),), word_to_vec_map, word_to_index)\n",
        "model_2.summary()"
      ],
      "execution_count": 209,
      "outputs": [
        {
          "output_type": "stream",
          "text": [
            "Model: \"functional_7\"\n",
            "_________________________________________________________________\n",
            "Layer (type)                 Output Shape              Param #   \n",
            "=================================================================\n",
            "input_4 (InputLayer)         [(None, 71)]              0         \n",
            "_________________________________________________________________\n",
            "embedding_3 (Embedding)      (None, 71, 50)            20000000  \n",
            "_________________________________________________________________\n",
            "lstm_6 (LSTM)                (None, 71, 128)           91648     \n",
            "_________________________________________________________________\n",
            "dropout_8 (Dropout)          (None, 71, 128)           0         \n",
            "_________________________________________________________________\n",
            "lstm_7 (LSTM)                (None, 128)               131584    \n",
            "_________________________________________________________________\n",
            "dropout_9 (Dropout)          (None, 128)               0         \n",
            "_________________________________________________________________\n",
            "dense_5 (Dense)              (None, 128)               16512     \n",
            "_________________________________________________________________\n",
            "activation_5 (Activation)    (None, 128)               0         \n",
            "_________________________________________________________________\n",
            "dropout_10 (Dropout)         (None, 128)               0         \n",
            "_________________________________________________________________\n",
            "dense_6 (Dense)              (None, 1)                 129       \n",
            "_________________________________________________________________\n",
            "activation_6 (Activation)    (None, 1)                 0         \n",
            "=================================================================\n",
            "Total params: 20,239,873\n",
            "Trainable params: 20,239,873\n",
            "Non-trainable params: 0\n",
            "_________________________________________________________________\n"
          ],
          "name": "stdout"
        }
      ]
    },
    {
      "cell_type": "code",
      "metadata": {
        "colab": {
          "base_uri": "https://localhost:8080/"
        },
        "id": "6q3RrRv4q5BR",
        "outputId": "2fefeac2-4d07-47ea-fa24-39cf4b9798a1"
      },
      "source": [
        "# Compute that to load a model : \n",
        "\n",
        "from keras.models import model_from_json\n",
        "from keras.models import load_model\n",
        "\n",
        "\n",
        "json_file = open('/content/drive/My Drive/Wine_project/final_p5.json', 'r')\n",
        "model_json = json_file.read()\n",
        "json_file.close()\n",
        "model = model_from_json(model_json)\n",
        "# load weights into new model\n",
        "model_2.load_weights(\"/content/drive/My Drive/Wine_project/final_p5.hdf5\")\n",
        "print(\"Loaded model from disk\")\n",
        "model_2.save('/content/drive/My Drive/Wine_project/final_p5.hdf5')\n",
        "model_2=load_model('/content/drive/My Drive/Wine_project/final_p5.hdf5')\n",
        "from keras import metrics\n",
        "model_2.compile(optimizer = 'adam', loss= 'mean_squared_error', metrics= [metrics.mean_squared_error, metrics.mean_absolute_error]) \n"
      ],
      "execution_count": 210,
      "outputs": [
        {
          "output_type": "stream",
          "text": [
            "Loaded model from disk\n",
            "WARNING:tensorflow:No training configuration found in the save file, so the model was *not* compiled. Compile it manually.\n"
          ],
          "name": "stdout"
        }
      ]
    },
    {
      "cell_type": "code",
      "metadata": {
        "id": "eiS29PtwB0Km"
      },
      "source": [
        "#from keras import metrics\r\n",
        "#model_2.compile(loss='mean_squared_error', optimizer='adam', metrics= [metrics.mean_squared_error, \r\n",
        " #                      metrics.mean_absolute_error])"
      ],
      "execution_count": 211,
      "outputs": []
    },
    {
      "cell_type": "code",
      "metadata": {
        "id": "iEih2NtuCnQM"
      },
      "source": [
        "#Training\r\n",
        "#model_2.fit(X_train_indices, Y_train, epochs = 3, batch_size = 1500, shuffle=True)"
      ],
      "execution_count": 212,
      "outputs": []
    },
    {
      "cell_type": "code",
      "metadata": {
        "colab": {
          "base_uri": "https://localhost:8080/"
        },
        "id": "GZ4pHoJkP3xn",
        "outputId": "d6dc1110-c0d1-4cdc-f337-4d7feebf8dea"
      },
      "source": [
        "X_test_indices = sentences_to_indices(X_test, word_to_index, size.max())\n",
        "loss, mse, mae = model_2.evaluate(X_test_indices, Y_test)\n",
        "pred = model_2.predict(X_test_indices)"
      ],
      "execution_count": 213,
      "outputs": [
        {
          "output_type": "stream",
          "text": [
            "805/805 [==============================] - 25s 31ms/step - loss: 0.0052 - mean_squared_error: 0.0052 - mean_absolute_error: 0.0564\n"
          ],
          "name": "stdout"
        }
      ]
    },
    {
      "cell_type": "code",
      "metadata": {
        "id": "XxXC4F3r80E6"
      },
      "source": [
        "#Compute to save the model\n",
        "#from keras.models import model_from_json\n",
        "#from keras.models import load_model\n",
        "#model_json = model_2.to_json()\n",
        "#with open(\"/content/drive/My Drive/Wine_project/final_p5.json\", \"w\") as json_file:\n",
        "#  json_file.write(model_json)\n",
        "#model_2.save_weights(\"/content/drive/My Drive/Wine_project/final_p5.hdf5\")"
      ],
      "execution_count": 108,
      "outputs": []
    },
    {
      "cell_type": "code",
      "metadata": {
        "colab": {
          "base_uri": "https://localhost:8080/",
          "height": 296
        },
        "id": "r0AG6Pm1_Lnu",
        "outputId": "1fd9fb4d-25f5-4bab-85c5-08cf28384e46"
      },
      "source": [
        "pred_post,Y_test_post = pred*(max_Y - min_Y) + min_Y,Y_test*(max_Y - min_Y) + min_Y\r\n",
        "pred_post = np.reshape(pred_post,(len(pred)))\r\n",
        "ecart = abs(pred_post - Y_test_post)\r\n",
        "pd.Series(ecart).hist()\r\n",
        "plt.xlabel('Ecart de points réalité/prédiction')\r\n",
        "plt.ylabel('Nombre de vins')\r\n",
        "plt.title('Distribution des écarts de points')\r\n",
        "plt.show()"
      ],
      "execution_count": 109,
      "outputs": [
        {
          "output_type": "display_data",
          "data": {
            "image/png": "[encoded data removed]",
            "text/plain": [
              "<Figure size 432x288 with 1 Axes>"
            ]
          },
          "metadata": {
            "tags": [],
            "needs_background": "light"
          }
        }
      ]
    },
    {
      "cell_type": "markdown",
      "metadata": {
        "id": "TI1FWAzUW1N3"
      },
      "source": [
        "On remarque qu'une grande partie des écart de points réalité/prédiction est comprise entre 0 et 2, ce qui est assez correct."
      ]
    },
    {
      "cell_type": "code",
      "metadata": {
        "colab": {
          "base_uri": "https://localhost:8080/"
        },
        "id": "R1e6GwuC2UYM",
        "outputId": "8f53feeb-b892-4cff-bc37-05cfa872cc17"
      },
      "source": [
        "np.quantile(ecart, 0.90)"
      ],
      "execution_count": 110,
      "outputs": [
        {
          "output_type": "execute_result",
          "data": {
            "text/plain": [
              "2.3562797546386722"
            ]
          },
          "metadata": {
            "tags": []
          },
          "execution_count": 110
        }
      ]
    },
    {
      "cell_type": "code",
      "metadata": {
        "colab": {
          "base_uri": "https://localhost:8080/"
        },
        "id": "zlv9VzyHSQp0",
        "outputId": "0e0dbdf6-41e5-42d2-f7c1-7610bc6a8da2"
      },
      "source": [
        "#petit test aléatoire:\r\n",
        "i = rd.randint(0,len(pred_post))\r\n",
        "print(\"Prédiction:\" + str(pred_post[i]))\r\n",
        "print(\"Réel :\" +str(Y_test_post[i]))"
      ],
      "execution_count": 111,
      "outputs": [
        {
          "output_type": "stream",
          "text": [
            "Prédiction:90.30456\n",
            "Réel :90.0\n"
          ],
          "name": "stdout"
        }
      ]
    },
    {
      "cell_type": "markdown",
      "metadata": {
        "id": "FXyqHej_XAAt"
      },
      "source": [
        "En fonction de ce petit test aléatoire, on remarque que l'écart entre la prédiction et la réalité est assez faible. Si on repète plusieurs fois le test, l'écart est notamment très faible pour des points compris dans la masse (entre 86 et 92), alors qu'il est plus grand si les points du vin sont soit très proche de 80, soit de 100."
      ]
    },
    {
      "cell_type": "code",
      "metadata": {
        "colab": {
          "base_uri": "https://localhost:8080/",
          "height": 295
        },
        "id": "Ns2gzsy7ci_T",
        "outputId": "37d2d8d3-10c3-4581-b7cc-f564cee54f7a"
      },
      "source": [
        "fig1 = pd.Series(Y_test_post).hist(alpha = 0.5, color = 'r',label='Real')\n",
        "fig2 = pd.Series(pred_post).hist(alpha = 0.5, color = 'b',label='Predicted')\n",
        "plt.xlabel('Points')\n",
        "plt.ylabel('Nombre de vins')\n",
        "plt.title('Distribution des points réels et des points prédits de nos vins')\n",
        "plt.legend()\n",
        "plt.show()"
      ],
      "execution_count": 112,
      "outputs": [
        {
          "output_type": "display_data",
          "data": {
            "image/png": "[encoded data removed]",
            "text/plain": [
              "<Figure size 432x288 with 1 Axes>"
            ]
          },
          "metadata": {
            "tags": [],
            "needs_background": "light"
          }
        }
      ]
    },
    {
      "cell_type": "markdown",
      "metadata": {
        "id": "Puk3ynlAEofh"
      },
      "source": [
        "Si on compare ces distributions avec celles du premier modèle de la partie précédente, on remarque que ce modèle semble plus près de la réalité. Notamment, on a pas cet effet de sous estimation des points comme dans le premier modèle."
      ]
    },
    {
      "cell_type": "code",
      "metadata": {
        "id": "TL-XvM8DoXYP"
      },
      "source": [
        "def predict_wine_score(sentence):\r\n",
        "  #sentence MUST BE a string, it is the sentence describing the wine \r\n",
        "  #return the score (out of 100) predicted for the bottle described\r\n",
        "  sentence = np.array([sentence])\r\n",
        "  sentence = sentences_to_indices(sentence,word_to_index, size.max())\r\n",
        "  return model_2.predict(sentence)[0][0]*(max_Y - min_Y) + min_Y"
      ],
      "execution_count": 113,
      "outputs": []
    },
    {
      "cell_type": "code",
      "metadata": {
        "colab": {
          "base_uri": "https://localhost:8080/"
        },
        "id": "jM98FGa9Knsi",
        "outputId": "e09d7a9d-f9dc-476c-81da-24fa193aa1c1"
      },
      "source": [
        "#Petit exemple avec ce vin \r\n",
        "#https://www.vivino.com/FR/fr/sainte-marguerite-symphonie-cotes-de-provence-rouge/w/3496774?year=2018&price_id=22596529&cart_item_source=nav-explore\r\n",
        "#noté 4.3/5 ce qui équivaut à 86/100\r\n",
        "\r\n",
        "predict_wine_score(\"After the white, the red. Wine with a nice roundness, a nice spicy and fleshy side. It is powerful and subtle at the same time. It's organic and it's all good. One of my reference domains in Côtes de Provence.\")"
      ],
      "execution_count": 114,
      "outputs": [
        {
          "output_type": "execute_result",
          "data": {
            "text/plain": [
              "86.28511309623718"
            ]
          },
          "metadata": {
            "tags": []
          },
          "execution_count": 114
        }
      ]
    },
    {
      "cell_type": "markdown",
      "metadata": {
        "id": "Ep9uXz0uYX-L"
      },
      "source": [
        "Ce petit test nous permet de rendre compte de la précision de notre modèle."
      ]
    },
    {
      "cell_type": "markdown",
      "metadata": {
        "id": "VjzGSZ1lYbxz"
      },
      "source": [
        "Ce modèle semble être le modèle le plus complet. Il prédit assez précisemment les points d'un vin. Notamment sur des vins ayant des points entre 86 et 92.\r\n",
        "\r\n",
        "Maintenant que l'on a une bonne prédiction de la qualité d'un vin à partir de sa description, nous pouvons essayé de déterminer le prix d'un vin à partir de sa description."
      ]
    },
    {
      "cell_type": "markdown",
      "metadata": {
        "id": "098OzSy25OWD"
      },
      "source": [
        "# Prediction du prix des vins"
      ]
    },
    {
      "cell_type": "markdown",
      "metadata": {
        "id": "DsITfQFa7os8"
      },
      "source": [
        "Dans cette partie, nous allons donc essayer de déterminer le prix d'un vin à partir de sa description. Nous réutilisons le modèle LSTM et mettons de côté la note du vin.\r\n",
        "\r\n",
        "Comme on a pu le voir dans l'étude des statistiques descriptives, certains vins de notre base de données ont des prix exessifs, nous allons donc supprimer les 1% des prix les plus élevés de notre base de données afin d'avoir un meilleur modèle. "
      ]
    },
    {
      "cell_type": "code",
      "metadata": {
        "colab": {
          "base_uri": "https://localhost:8080/",
          "height": 330
        },
        "id": "1NzD_4AQ5S_L",
        "outputId": "b005dc1b-c48b-4f3c-a8a4-b6bc3ed3d3ff"
      },
      "source": [
        "\r\n",
        "data_51 = data.sample(frac = 1, random_state = 1)\r\n",
        "X_LTSM = data_51['description']\r\n",
        "Y_LTSM = data_51['price']\r\n",
        "Y_LTSM = Y_LTSM.fillna(method='backfill')\r\n",
        "\r\n",
        "mask = Y_LTSM.isnull() <1\r\n",
        "Y_LTSM = Y_LTSM[mask]\r\n",
        "X_LTSM = X_LTSM[mask]\r\n",
        "print(len(X_LTSM))\r\n",
        "\r\n",
        "mask1 = Y_LTSM < np.quantile(np.array(Y_LTSM),0.98)\r\n",
        "\r\n",
        "X_LTSM = np.array(X_LTSM)\r\n",
        "Y_LTSM = np.array(Y_LTSM)\r\n",
        "X_LTSM = X_LTSM[mask1]\r\n",
        "Y_LTSM = Y_LTSM[mask1]\r\n",
        "\r\n",
        "size =[]\r\n",
        "for i in range(len(X_LTSM)):\r\n",
        "  size.append(len(X_LTSM[i].split()))\r\n",
        "size = np.array(size)\r\n",
        "\r\n",
        "mask2 = pd.Series(size) <= np.quantile(size,0.99)\r\n",
        "\r\n",
        "X_LTSM = X_LTSM[mask2]\r\n",
        "Y_LTSM = Y_LTSM[mask2] \r\n",
        "\r\n",
        "pd.Series(Y_LTSM).hist()\r\n",
        "plt.xlabel('Prix')\r\n",
        "plt.ylabel('Nombre de vins')\r\n",
        "plt.title('Distribution des prix du vin')\r\n",
        "plt.show()\r\n",
        "\r\n",
        "min_Y = Y_LTSM.min()\r\n",
        "max_Y = Y_LTSM.max()\r\n",
        "Y_LTSM = (Y_LTSM - min_Y)/(max_Y - min_Y)\r\n",
        "size = size[mask2]\r\n",
        "size.max()\r\n"
      ],
      "execution_count": 115,
      "outputs": [
        {
          "output_type": "stream",
          "text": [
            "129970\n"
          ],
          "name": "stdout"
        },
        {
          "output_type": "display_data",
          "data": {
            "image/png": "[encoded data removed]",
            "text/plain": [
              "<Figure size 432x288 with 1 Axes>"
            ]
          },
          "metadata": {
            "tags": [],
            "needs_background": "light"
          }
        },
        {
          "output_type": "execute_result",
          "data": {
            "text/plain": [
              "70"
            ]
          },
          "metadata": {
            "tags": []
          },
          "execution_count": 115
        }
      ]
    },
    {
      "cell_type": "code",
      "metadata": {
        "id": "gVYgfwaBLRLJ"
      },
      "source": [
        "#Split train/test\r\n",
        "\r\n",
        "X_train,X_test,Y_train,Y_test=train_test_split(X_LTSM,Y_LTSM,test_size=0.2)\r\n",
        "X_train_indices = sentences_to_indices(X_train, word_to_index, size.max())"
      ],
      "execution_count": 116,
      "outputs": []
    },
    {
      "cell_type": "code",
      "metadata": {
        "id": "unj1ad0atkdA"
      },
      "source": [
        "model_3 = Wine_model_2((size.max(),), word_to_vec_map, word_to_index)"
      ],
      "execution_count": 118,
      "outputs": []
    },
    {
      "cell_type": "code",
      "metadata": {
        "colab": {
          "base_uri": "https://localhost:8080/"
        },
        "id": "qjcMuWz_HqMc",
        "outputId": "66c87499-75ad-425d-cc9c-1df5b054786d"
      },
      "source": [
        "# Compute that to load a model : \r\n",
        "\r\n",
        "from keras.models import model_from_json\r\n",
        "from keras.models import load_model\r\n",
        "\r\n",
        "\r\n",
        "json_file = open('/content/drive/My Drive/Wine_project/final_p5price.json', 'r')\r\n",
        "model_json = json_file.read()\r\n",
        "json_file.close()\r\n",
        "model = model_from_json(model_json)\r\n",
        "# load weights into new model\r\n",
        "model_3.load_weights(\"/content/drive/My Drive/Wine_project/final_p5price.hdf5\")\r\n",
        "print(\"Loaded model from disk\")\r\n",
        "model_3.save('/content/drive/My Drive/Wine_project/final_p5price.hdf5')\r\n",
        "model_3=load_model('/content/drive/My Drive/Wine_project/final_p5price.hdf5')\r\n",
        "model_3.compile(optimizer = 'adam', loss= 'mean_squared_error', metrics= [metrics.mean_squared_error, metrics.mean_absolute_error]) \r\n",
        "\r\n",
        "from keras import metrics\r\n",
        "model_3.compile(loss='mean_squared_error', optimizer='adam', metrics= [metrics.mean_squared_error, \r\n",
        "                       metrics.mean_absolute_error])\r\n"
      ],
      "execution_count": 119,
      "outputs": [
        {
          "output_type": "stream",
          "text": [
            "Loaded model from disk\n",
            "WARNING:tensorflow:No training configuration found in the save file, so the model was *not* compiled. Compile it manually.\n"
          ],
          "name": "stdout"
        }
      ]
    },
    {
      "cell_type": "code",
      "metadata": {
        "id": "EwxraLV85wyX"
      },
      "source": [
        "#Do not run it if you have already load a model\r\n",
        "#model_2 = Wine_model_2((size.max(),), word_to_vec_map, word_to_index)\r\n",
        "#model_2.compile(loss='mean_squared_error', optimizer='adam', metrics= [metrics.mean_squared_error, metrics.mean_absolute_error])\r\n",
        "#model_2.fit(X_train_indices, Y_train, epochs = 15, batch_size = 1500, shuffle=True)"
      ],
      "execution_count": 120,
      "outputs": []
    },
    {
      "cell_type": "code",
      "metadata": {
        "id": "K4emvRQHHlNX"
      },
      "source": [
        "#To save the model\r\n",
        "#from keras.models import model_from_json\r\n",
        "#from keras.models import load_model\r\n",
        "#model_json = model_2.to_json()\r\n",
        "#with open(\"/content/drive/My Drive/Wine_project/final_p5price.json\", \"w\") as json_file:\r\n",
        "#  json_file.write(model_json)\r\n",
        "#model_2.save_weights(\"/content/drive/My Drive/Wine_project/final_p5price.hdf5\")"
      ],
      "execution_count": 121,
      "outputs": []
    },
    {
      "cell_type": "code",
      "metadata": {
        "colab": {
          "base_uri": "https://localhost:8080/"
        },
        "id": "z8C0NFvt6BWy",
        "outputId": "905c6cdd-2f80-4500-e76a-18be5de53c77"
      },
      "source": [
        "X_test_indices = sentences_to_indices(X_test, word_to_index, size.max())\r\n",
        "loss, mse, mae = model_3.evaluate(X_test_indices, Y_test)\r\n",
        "pred = model_3.predict(X_test_indices)"
      ],
      "execution_count": 122,
      "outputs": [
        {
          "output_type": "stream",
          "text": [
            "787/787 [==============================] - 24s 31ms/step - loss: 0.0154 - mean_squared_error: 0.0154 - mean_absolute_error: 0.0888\n"
          ],
          "name": "stdout"
        }
      ]
    },
    {
      "cell_type": "code",
      "metadata": {
        "colab": {
          "base_uri": "https://localhost:8080/",
          "height": 313
        },
        "id": "THcwEGwL6HXW",
        "outputId": "6f9516eb-5893-4264-d7f4-464799cac370"
      },
      "source": [
        "pred_post,Y_test_post = pred*(max_Y - min_Y) + min_Y, Y_test*(max_Y - min_Y) + min_Y\r\n",
        "pred_post = np.reshape(pred_post,(len(pred)))\r\n",
        "ecart = abs(pred_post - Y_test_post)\r\n",
        "pd.Series(ecart).hist()\r\n",
        "plt.xlabel('Ecart des prix réalité/prédiction')\r\n",
        "plt.ylabel('Nombre de vins')\r\n",
        "plt.title('Distribution des écart de prix réalité/prédiction')\r\n",
        "plt.show()\r\n",
        "np.quantile(ecart, 0.7)"
      ],
      "execution_count": 123,
      "outputs": [
        {
          "output_type": "display_data",
          "data": {
            "image/png": "[encoded data removed]",
            "text/plain": [
              "<Figure size 432x288 with 1 Axes>"
            ]
          },
          "metadata": {
            "tags": [],
            "needs_background": "light"
          }
        },
        {
          "output_type": "execute_result",
          "data": {
            "text/plain": [
              "11.769008827209472"
            ]
          },
          "metadata": {
            "tags": []
          },
          "execution_count": 123
        }
      ]
    },
    {
      "cell_type": "markdown",
      "metadata": {
        "id": "EgICDGEtcr5h"
      },
      "source": [
        "La distribution des écarts prix/réalité montre que la plupart des prédictions réalisées ont un écart compris entre 0€ et 20€ de leur prix réel. Ce qui est pas terrible."
      ]
    },
    {
      "cell_type": "code",
      "metadata": {
        "colab": {
          "base_uri": "https://localhost:8080/"
        },
        "id": "ExXMbBxR6PYY",
        "outputId": "ffa168b1-a269-4705-a12c-685691da6caf"
      },
      "source": [
        "#petit test aléatoire:\r\n",
        "i = rd.randint(0,len(pred_post))\r\n",
        "print(\"Prédiction:\" + str(pred_post[i]))\r\n",
        "print(\"Réel :\" +str(Y_test_post[i]))"
      ],
      "execution_count": 124,
      "outputs": [
        {
          "output_type": "stream",
          "text": [
            "Prédiction:20.934683\n",
            "Réel :28.0\n"
          ],
          "name": "stdout"
        }
      ]
    },
    {
      "cell_type": "markdown",
      "metadata": {
        "id": "IzCZGRVMc4jI"
      },
      "source": [
        "En faisant plusieurs fois ce petit test, on remarque que parfois le prix est bien prédit, alors qu'à d'autre moment on a un énorme écart entre la réalité et la prédiction. Cela ne semble pas dépendre du prix du vin initialement."
      ]
    },
    {
      "cell_type": "code",
      "metadata": {
        "colab": {
          "base_uri": "https://localhost:8080/",
          "height": 295
        },
        "id": "sAWmhxg_6ST7",
        "outputId": "dbe5e458-18e8-4e2a-9569-22832a952591"
      },
      "source": [
        "fig1 = pd.Series(Y_test_post).hist(alpha = 0.5, color = 'r',label='Real')\r\n",
        "fig2 = pd.Series(pred_post).hist(alpha = 0.5, color = 'b',label='Predicted')\r\n",
        "plt.xlabel('Prix')\r\n",
        "plt.ylabel('Nombre de vins')\r\n",
        "plt.title('Distribution des prix réels et des prix prédits')\r\n",
        "plt.legend()\r\n",
        "plt.show()"
      ],
      "execution_count": 125,
      "outputs": [
        {
          "output_type": "display_data",
          "data": {
            "image/png": "[encoded data removed]",
            "text/plain": [
              "<Figure size 432x288 with 1 Axes>"
            ]
          },
          "metadata": {
            "tags": [],
            "needs_background": "light"
          }
        }
      ]
    },
    {
      "cell_type": "markdown",
      "metadata": {
        "id": "n4nuNbDadV-9"
      },
      "source": [
        "On remarque un écart dans les distributions des prix réels et des prix prédits. Notamment lorsque le prix est trop petit : le modèle sur-estime le prix.\r\n",
        "\r\n",
        "Le modèle ne semble pas permettre de déterminer le prix à partir de la description."
      ]
    },
    {
      "cell_type": "markdown",
      "metadata": {
        "id": "9QAZ9EPbdmvD"
      },
      "source": [
        "#Application à la base de données secondaire\r\n",
        "Nous allons maintenant appliquer le modèle LSTM à notre base de données secondaire afin de voir les résultats qui peuvent s'en dégager.\r\n",
        "\r\n",
        "/!\\ Pour que cette partie fonctionne, il faut faire tourner au préalable le modèle de la partie \"Modèle LSTM avec description en input\".\r\n",
        "Si entre temps vous avez fait tourner la partie \"prédiction du prix des vins\", merci de bien vouloir refaire tourner la partie \"Modèle LSTM avec description en input\"."
      ]
    },
    {
      "cell_type": "code",
      "metadata": {
        "id": "gy1H3ZYJksBi"
      },
      "source": [
        "data_annexe2 = data_annexe.copy()\r\n",
        "mask = pd.isnull(data_annexe2['avis'])\r\n",
        "mask = mask == False\r\n",
        "data_annexe2 = data_annexe2[mask]"
      ],
      "execution_count": 240,
      "outputs": []
    },
    {
      "cell_type": "code",
      "metadata": {
        "id": "1zLMr40nzCpt",
        "outputId": "b093af55-d1ce-4d52-f23d-9002dfed5676",
        "colab": {
          "base_uri": "https://localhost:8080/"
        }
      },
      "source": [
        "data_annexe2.shape"
      ],
      "execution_count": 241,
      "outputs": [
        {
          "output_type": "execute_result",
          "data": {
            "text/plain": [
              "(531, 4)"
            ]
          },
          "metadata": {
            "tags": []
          },
          "execution_count": 241
        }
      ]
    },
    {
      "cell_type": "code",
      "metadata": {
        "id": "ulUkFJHnkuTY",
        "outputId": "bf1cb8cc-7d56-4954-93f5-4016bed05958",
        "colab": {
          "base_uri": "https://localhost:8080/",
          "height": 323
        }
      },
      "source": [
        "longueur_avis = [len(avis.split()) for avis in list(data_annexe2['avis'])]\r\n",
        "data_annexe2['longueur_avis'] = pd.Series(longueur_avis)\r\n",
        "data_annexe2 = data_annexe2[data_annexe2['avis']!='NaN']\r\n",
        "data_annexe2 = data_annexe2[data_annexe2['longueur_avis']<=70] #l'avis avoir moins de 70 mots pour pouvoir être testé par le modèle\r\n",
        "print(data_annexe2.shape)\r\n",
        "data_annexe2.head()"
      ],
      "execution_count": 243,
      "outputs": [
        {
          "output_type": "stream",
          "text": [
            "(319, 5)\n"
          ],
          "name": "stdout"
        },
        {
          "output_type": "execute_result",
          "data": {
            "text/html": [
              "<div>\n",
              "<style scoped>\n",
              "    .dataframe tbody tr th:only-of-type {\n",
              "        vertical-align: middle;\n",
              "    }\n",
              "\n",
              "    .dataframe tbody tr th {\n",
              "        vertical-align: top;\n",
              "    }\n",
              "\n",
              "    .dataframe thead th {\n",
              "        text-align: right;\n",
              "    }\n",
              "</style>\n",
              "<table border=\"1\" class=\"dataframe\">\n",
              "  <thead>\n",
              "    <tr style=\"text-align: right;\">\n",
              "      <th></th>\n",
              "      <th>Unnamed: 0</th>\n",
              "      <th>nom</th>\n",
              "      <th>prix</th>\n",
              "      <th>avis</th>\n",
              "      <th>longueur_avis</th>\n",
              "    </tr>\n",
              "  </thead>\n",
              "  <tbody>\n",
              "    <tr>\n",
              "      <th>0</th>\n",
              "      <td>0</td>\n",
              "      <td>2019 CABERNET SAUVIGNON Camina</td>\n",
              "      <td>8.5</td>\n",
              "      <td>A real gentle soul this, a subtle leafiness, t...</td>\n",
              "      <td>30.0</td>\n",
              "    </tr>\n",
              "    <tr>\n",
              "      <th>1</th>\n",
              "      <td>1</td>\n",
              "      <td>2019 CAMINA Tempranillo</td>\n",
              "      <td>8.5</td>\n",
              "      <td>Juicy cranberry and redcurrant fruits on the n...</td>\n",
              "      <td>37.0</td>\n",
              "    </tr>\n",
              "    <tr>\n",
              "      <th>2</th>\n",
              "      <td>2</td>\n",
              "      <td>2018 MERLOT-CABERNET-CARIGNAN Domaine Saint Félix</td>\n",
              "      <td>8.5</td>\n",
              "      <td>Ripely juicy and bright with a core of red fru...</td>\n",
              "      <td>43.0</td>\n",
              "    </tr>\n",
              "    <tr>\n",
              "      <th>4</th>\n",
              "      <td>4</td>\n",
              "      <td>2019 LA PETITE SYRAH Domaine les Yeuses</td>\n",
              "      <td>8.5</td>\n",
              "      <td>The 2019 is another little gem from Domaine Le...</td>\n",
              "      <td>34.0</td>\n",
              "    </tr>\n",
              "    <tr>\n",
              "      <th>6</th>\n",
              "      <td>6</td>\n",
              "      <td>2018 OLD HANDS Monastrell Ecológico Bodegas La...</td>\n",
              "      <td>9.5</td>\n",
              "      <td>Yet again this collective of old farmers in Ye...</td>\n",
              "      <td>40.0</td>\n",
              "    </tr>\n",
              "  </tbody>\n",
              "</table>\n",
              "</div>"
            ],
            "text/plain": [
              "   Unnamed: 0  ... longueur_avis\n",
              "0           0  ...          30.0\n",
              "1           1  ...          37.0\n",
              "2           2  ...          43.0\n",
              "4           4  ...          34.0\n",
              "6           6  ...          40.0\n",
              "\n",
              "[5 rows x 5 columns]"
            ]
          },
          "metadata": {
            "tags": []
          },
          "execution_count": 243
        }
      ]
    },
    {
      "cell_type": "code",
      "metadata": {
        "id": "GvByLVHvkwy-",
        "outputId": "eb348020-6311-4745-888d-99fc50cfb487",
        "colab": {
          "base_uri": "https://localhost:8080/",
          "height": 453
        }
      },
      "source": [
        "avis_annexe = np.array(data_annexe2['avis'])\r\n",
        "score_annexe = [predict_wine_score(avis) for avis in avis_annexe]\r\n",
        "data_annexe2['score'] = pd.Series(np.array(score_annexe))"
      ],
      "execution_count": 244,
      "outputs": [
        {
          "output_type": "stream",
          "text": [
            "A real gentle soul this, a subtle leafiness, then a medium weight of plum and cassis, soft but with a definite tannic structure, this is as easy as they come.\n",
            "Juicy cranberry and redcurrant fruits on the nose here with just a touch of spiciness. The palate is soft with some nice red fruit weight, a little bit earthy and some mocha notes on the smooth finish.\n",
            "Ripely juicy and bright with a core of red fruits, cherry and plum, undercut by some notes of tobacco and tea leaf. Good weight and richness of fruit, with supple but rich tannins and a lovely easy going mocha note on the finish.\n",
            "The 2019 is another little gem from Domaine Les Yeuses. At this brilliant level it is hard to find such a good and identifiable Syrah. This is good - there is nice lift and spice. The fruit is dark, with blackberry and damson notes, Yet not overly cooked nor too sweet - and there is just enough savour to let you know this has a serious side too. At this level this is seriously impressive and remarkably refined. Well judged and fun to drink.\n"
          ],
          "name": "stdout"
        },
        {
          "output_type": "error",
          "ename": "IndexError",
          "evalue": "ignored",
          "traceback": [
            "\u001b[0;31m---------------------------------------------------------------------------\u001b[0m",
            "\u001b[0;31mIndexError\u001b[0m                                Traceback (most recent call last)",
            "\u001b[0;32m<ipython-input-244-d61ea85395b2>\u001b[0m in \u001b[0;36m<module>\u001b[0;34m()\u001b[0m\n\u001b[1;32m      2\u001b[0m \u001b[0;32mfor\u001b[0m \u001b[0mavis\u001b[0m \u001b[0;32min\u001b[0m \u001b[0mavis_annexe\u001b[0m\u001b[0;34m:\u001b[0m\u001b[0;34m\u001b[0m\u001b[0;34m\u001b[0m\u001b[0m\n\u001b[1;32m      3\u001b[0m   \u001b[0mprint\u001b[0m\u001b[0;34m(\u001b[0m\u001b[0mavis\u001b[0m\u001b[0;34m)\u001b[0m\u001b[0;34m\u001b[0m\u001b[0;34m\u001b[0m\u001b[0m\n\u001b[0;32m----> 4\u001b[0;31m   \u001b[0mscore_annexe\u001b[0m \u001b[0;34m=\u001b[0m \u001b[0mpredict_wine_score\u001b[0m\u001b[0;34m(\u001b[0m\u001b[0mavis\u001b[0m\u001b[0;34m)\u001b[0m\u001b[0;34m\u001b[0m\u001b[0;34m\u001b[0m\u001b[0m\n\u001b[0m\u001b[1;32m      5\u001b[0m \u001b[0mdata_annexe2\u001b[0m\u001b[0;34m[\u001b[0m\u001b[0;34m'score'\u001b[0m\u001b[0;34m]\u001b[0m \u001b[0;34m=\u001b[0m \u001b[0mpd\u001b[0m\u001b[0;34m.\u001b[0m\u001b[0mSeries\u001b[0m\u001b[0;34m(\u001b[0m\u001b[0mnp\u001b[0m\u001b[0;34m.\u001b[0m\u001b[0marray\u001b[0m\u001b[0;34m(\u001b[0m\u001b[0mscore_annexe\u001b[0m\u001b[0;34m)\u001b[0m\u001b[0;34m)\u001b[0m\u001b[0;34m\u001b[0m\u001b[0;34m\u001b[0m\u001b[0m\n",
            "\u001b[0;32m<ipython-input-113-902074aa60bc>\u001b[0m in \u001b[0;36mpredict_wine_score\u001b[0;34m(sentence)\u001b[0m\n\u001b[1;32m      3\u001b[0m   \u001b[0;31m#return the score (out of 100) predicted for the bottle described\u001b[0m\u001b[0;34m\u001b[0m\u001b[0;34m\u001b[0m\u001b[0;34m\u001b[0m\u001b[0m\n\u001b[1;32m      4\u001b[0m   \u001b[0msentence\u001b[0m \u001b[0;34m=\u001b[0m \u001b[0mnp\u001b[0m\u001b[0;34m.\u001b[0m\u001b[0marray\u001b[0m\u001b[0;34m(\u001b[0m\u001b[0;34m[\u001b[0m\u001b[0msentence\u001b[0m\u001b[0;34m]\u001b[0m\u001b[0;34m)\u001b[0m\u001b[0;34m\u001b[0m\u001b[0;34m\u001b[0m\u001b[0m\n\u001b[0;32m----> 5\u001b[0;31m   \u001b[0msentence\u001b[0m \u001b[0;34m=\u001b[0m \u001b[0msentences_to_indices\u001b[0m\u001b[0;34m(\u001b[0m\u001b[0msentence\u001b[0m\u001b[0;34m,\u001b[0m\u001b[0mword_to_index\u001b[0m\u001b[0;34m,\u001b[0m \u001b[0msize\u001b[0m\u001b[0;34m.\u001b[0m\u001b[0mmax\u001b[0m\u001b[0;34m(\u001b[0m\u001b[0;34m)\u001b[0m\u001b[0;34m)\u001b[0m\u001b[0;34m\u001b[0m\u001b[0;34m\u001b[0m\u001b[0m\n\u001b[0m\u001b[1;32m      6\u001b[0m   \u001b[0;32mreturn\u001b[0m \u001b[0mmodel_2\u001b[0m\u001b[0;34m.\u001b[0m\u001b[0mpredict\u001b[0m\u001b[0;34m(\u001b[0m\u001b[0msentence\u001b[0m\u001b[0;34m)\u001b[0m\u001b[0;34m[\u001b[0m\u001b[0;36m0\u001b[0m\u001b[0;34m]\u001b[0m\u001b[0;34m[\u001b[0m\u001b[0;36m0\u001b[0m\u001b[0;34m]\u001b[0m\u001b[0;34m*\u001b[0m\u001b[0;34m(\u001b[0m\u001b[0mmax_Y\u001b[0m \u001b[0;34m-\u001b[0m \u001b[0mmin_Y\u001b[0m\u001b[0;34m)\u001b[0m \u001b[0;34m+\u001b[0m \u001b[0mmin_Y\u001b[0m\u001b[0;34m\u001b[0m\u001b[0;34m\u001b[0m\u001b[0m\n",
            "\u001b[0;32m<ipython-input-234-29e5e39a19a9>\u001b[0m in \u001b[0;36msentences_to_indices\u001b[0;34m(X, word_to_index, max_len)\u001b[0m\n\u001b[1;32m     30\u001b[0m                 \u001b[0;32melse\u001b[0m\u001b[0;34m:\u001b[0m\u001b[0;34m\u001b[0m\u001b[0;34m\u001b[0m\u001b[0m\n\u001b[1;32m     31\u001b[0m                     \u001b[0mw\u001b[0m \u001b[0;34m=\u001b[0m \u001b[0mw\u001b[0m\u001b[0;34m[\u001b[0m\u001b[0;34m:\u001b[0m\u001b[0;34m-\u001b[0m\u001b[0;36m1\u001b[0m\u001b[0;34m]\u001b[0m\u001b[0;34m\u001b[0m\u001b[0;34m\u001b[0m\u001b[0m\n\u001b[0;32m---> 32\u001b[0;31m           \u001b[0mX_indices\u001b[0m\u001b[0;34m[\u001b[0m\u001b[0mi\u001b[0m\u001b[0;34m,\u001b[0m \u001b[0mj\u001b[0m\u001b[0;34m]\u001b[0m \u001b[0;34m=\u001b[0m \u001b[0mword_to_index\u001b[0m\u001b[0;34m[\u001b[0m\u001b[0mw\u001b[0m\u001b[0;34m]\u001b[0m\u001b[0;34m\u001b[0m\u001b[0;34m\u001b[0m\u001b[0m\n\u001b[0m\u001b[1;32m     33\u001b[0m           \u001b[0mj\u001b[0m \u001b[0;34m+=\u001b[0m \u001b[0;36m1\u001b[0m\u001b[0;34m\u001b[0m\u001b[0;34m\u001b[0m\u001b[0m\n\u001b[1;32m     34\u001b[0m \u001b[0;34m\u001b[0m\u001b[0m\n",
            "\u001b[0;31mIndexError\u001b[0m: index 71 is out of bounds for axis 1 with size 71"
          ]
        }
      ]
    },
    {
      "cell_type": "code",
      "metadata": {
        "id": "0PpCTOzx5MCs",
        "outputId": "8b7804e3-5657-4923-f402-923deeaba30d",
        "colab": {
          "base_uri": "https://localhost:8080/",
          "height": 363
        }
      },
      "source": [
        "for i in data_annexe2['Unnamed: 0']:\r\n",
        "  print(i)\r\n",
        "  score_annexe = predict_wine_score(data_annexe2[data_annexe2['Unnamed: 0'] == i]['avis'])"
      ],
      "execution_count": 251,
      "outputs": [
        {
          "output_type": "stream",
          "text": [
            "0\n"
          ],
          "name": "stdout"
        },
        {
          "output_type": "error",
          "ename": "AttributeError",
          "evalue": "ignored",
          "traceback": [
            "\u001b[0;31m---------------------------------------------------------------------------\u001b[0m",
            "\u001b[0;31mAttributeError\u001b[0m                            Traceback (most recent call last)",
            "\u001b[0;32m<ipython-input-251-0a435b545a78>\u001b[0m in \u001b[0;36m<module>\u001b[0;34m()\u001b[0m\n\u001b[1;32m      1\u001b[0m \u001b[0;32mfor\u001b[0m \u001b[0mi\u001b[0m \u001b[0;32min\u001b[0m \u001b[0mdata_annexe2\u001b[0m\u001b[0;34m[\u001b[0m\u001b[0;34m'Unnamed: 0'\u001b[0m\u001b[0;34m]\u001b[0m\u001b[0;34m:\u001b[0m\u001b[0;34m\u001b[0m\u001b[0;34m\u001b[0m\u001b[0m\n\u001b[1;32m      2\u001b[0m   \u001b[0mprint\u001b[0m\u001b[0;34m(\u001b[0m\u001b[0mi\u001b[0m\u001b[0;34m)\u001b[0m\u001b[0;34m\u001b[0m\u001b[0;34m\u001b[0m\u001b[0m\n\u001b[0;32m----> 3\u001b[0;31m   \u001b[0mscore_annexe\u001b[0m \u001b[0;34m=\u001b[0m \u001b[0mpredict_wine_score\u001b[0m\u001b[0;34m(\u001b[0m\u001b[0mdata_annexe2\u001b[0m\u001b[0;34m[\u001b[0m\u001b[0mdata_annexe2\u001b[0m\u001b[0;34m[\u001b[0m\u001b[0;34m'Unnamed: 0'\u001b[0m\u001b[0;34m]\u001b[0m \u001b[0;34m==\u001b[0m \u001b[0mi\u001b[0m\u001b[0;34m]\u001b[0m\u001b[0;34m[\u001b[0m\u001b[0;34m'avis'\u001b[0m\u001b[0;34m]\u001b[0m\u001b[0;34m)\u001b[0m\u001b[0;34m\u001b[0m\u001b[0;34m\u001b[0m\u001b[0m\n\u001b[0m",
            "\u001b[0;32m<ipython-input-113-902074aa60bc>\u001b[0m in \u001b[0;36mpredict_wine_score\u001b[0;34m(sentence)\u001b[0m\n\u001b[1;32m      3\u001b[0m   \u001b[0;31m#return the score (out of 100) predicted for the bottle described\u001b[0m\u001b[0;34m\u001b[0m\u001b[0;34m\u001b[0m\u001b[0;34m\u001b[0m\u001b[0m\n\u001b[1;32m      4\u001b[0m   \u001b[0msentence\u001b[0m \u001b[0;34m=\u001b[0m \u001b[0mnp\u001b[0m\u001b[0;34m.\u001b[0m\u001b[0marray\u001b[0m\u001b[0;34m(\u001b[0m\u001b[0;34m[\u001b[0m\u001b[0msentence\u001b[0m\u001b[0;34m]\u001b[0m\u001b[0;34m)\u001b[0m\u001b[0;34m\u001b[0m\u001b[0;34m\u001b[0m\u001b[0m\n\u001b[0;32m----> 5\u001b[0;31m   \u001b[0msentence\u001b[0m \u001b[0;34m=\u001b[0m \u001b[0msentences_to_indices\u001b[0m\u001b[0;34m(\u001b[0m\u001b[0msentence\u001b[0m\u001b[0;34m,\u001b[0m\u001b[0mword_to_index\u001b[0m\u001b[0;34m,\u001b[0m \u001b[0msize\u001b[0m\u001b[0;34m.\u001b[0m\u001b[0mmax\u001b[0m\u001b[0;34m(\u001b[0m\u001b[0;34m)\u001b[0m\u001b[0;34m)\u001b[0m\u001b[0;34m\u001b[0m\u001b[0;34m\u001b[0m\u001b[0m\n\u001b[0m\u001b[1;32m      6\u001b[0m   \u001b[0;32mreturn\u001b[0m \u001b[0mmodel_2\u001b[0m\u001b[0;34m.\u001b[0m\u001b[0mpredict\u001b[0m\u001b[0;34m(\u001b[0m\u001b[0msentence\u001b[0m\u001b[0;34m)\u001b[0m\u001b[0;34m[\u001b[0m\u001b[0;36m0\u001b[0m\u001b[0;34m]\u001b[0m\u001b[0;34m[\u001b[0m\u001b[0;36m0\u001b[0m\u001b[0;34m]\u001b[0m\u001b[0;34m*\u001b[0m\u001b[0;34m(\u001b[0m\u001b[0mmax_Y\u001b[0m \u001b[0;34m-\u001b[0m \u001b[0mmin_Y\u001b[0m\u001b[0;34m)\u001b[0m \u001b[0;34m+\u001b[0m \u001b[0mmin_Y\u001b[0m\u001b[0;34m\u001b[0m\u001b[0;34m\u001b[0m\u001b[0m\n",
            "\u001b[0;32m<ipython-input-234-29e5e39a19a9>\u001b[0m in \u001b[0;36msentences_to_indices\u001b[0;34m(X, word_to_index, max_len)\u001b[0m\n\u001b[1;32m     18\u001b[0m     \u001b[0;32mfor\u001b[0m \u001b[0mi\u001b[0m \u001b[0;32min\u001b[0m \u001b[0mrange\u001b[0m\u001b[0;34m(\u001b[0m\u001b[0mm\u001b[0m\u001b[0;34m)\u001b[0m\u001b[0;34m:\u001b[0m                               \u001b[0;31m# loop over training examples\u001b[0m\u001b[0;34m\u001b[0m\u001b[0;34m\u001b[0m\u001b[0m\n\u001b[1;32m     19\u001b[0m \u001b[0;34m\u001b[0m\u001b[0m\n\u001b[0;32m---> 20\u001b[0;31m         \u001b[0msentence_words\u001b[0m \u001b[0;34m=\u001b[0m \u001b[0mX\u001b[0m\u001b[0;34m[\u001b[0m\u001b[0mi\u001b[0m\u001b[0;34m]\u001b[0m\u001b[0;34m.\u001b[0m\u001b[0mlower\u001b[0m\u001b[0;34m(\u001b[0m\u001b[0;34m)\u001b[0m\u001b[0;34m.\u001b[0m\u001b[0msplit\u001b[0m\u001b[0;34m(\u001b[0m\u001b[0;34m)\u001b[0m\u001b[0;34m\u001b[0m\u001b[0;34m\u001b[0m\u001b[0m\n\u001b[0m\u001b[1;32m     21\u001b[0m \u001b[0;34m\u001b[0m\u001b[0m\n\u001b[1;32m     22\u001b[0m         \u001b[0mj\u001b[0m \u001b[0;34m=\u001b[0m \u001b[0;36m0\u001b[0m\u001b[0;34m\u001b[0m\u001b[0;34m\u001b[0m\u001b[0m\n",
            "\u001b[0;31mAttributeError\u001b[0m: 'numpy.ndarray' object has no attribute 'lower'"
          ]
        }
      ]
    },
    {
      "cell_type": "code",
      "metadata": {
        "id": "JOjLCoWtkzt4"
      },
      "source": [
        "data_annexe2['score'].hist()\r\n",
        "plt.xlabel('Points')\r\n",
        "plt.ylabel('Nombre de vins')\r\n",
        "plt.title('Distribution des points de la bdd secondaire')"
      ],
      "execution_count": null,
      "outputs": []
    },
    {
      "cell_type": "markdown",
      "metadata": {
        "id": "Fk7-8Hx7k2iT"
      },
      "source": [
        "La distribution des points ne ressemble pas à celle de notre base de données principale. Ce qui peut notamment s'expliquer par le peu de données présentes dans notre base de données secondaire.\r\n",
        "\r\n",
        "Nous avons donc réussi, comme un consommateur lambda qui utiliserait se modèle sur un vin en magasin, à déterminer la note des vins qui sont présents dans la base de données secondaire."
      ]
    },
    {
      "cell_type": "markdown",
      "metadata": {
        "id": "kHcpemzuO0Gd"
      },
      "source": [
        "# Conclusion\r\n"
      ]
    },
    {
      "cell_type": "markdown",
      "metadata": {
        "id": "XUxLmVKFO4VE"
      },
      "source": [
        "Le modèle donne déjà des résultats plutôt convaincants!\r\n",
        "Cependant il existe encore de nombreuses pistes d'améliorations...\r\n",
        "On pourrait se servir du prix pour mieux déterminer le score ou du score pour mieux déterminer le prix.\r\n",
        "Il est également possible de prendre en compte l'auteur de la critique pour améliorer la prédiction.\r\n",
        "\r\n",
        "Un autre problème du modèle et la difficulté qu'il a à prédire les prix extremes. Si nous nous intéressons à des bouteilles de très hautes qualité il devient rapidement inutile.\r\n",
        "\r\n",
        "Globalement, ce modèle s'adresse à des acheteurs lambda qui doivent se forger rapidement une opinion d'une bouteille à partir d'une descrpition succinte."
      ]
    }
  ]
}