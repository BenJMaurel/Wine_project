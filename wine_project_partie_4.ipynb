{
  "nbformat": 4,
  "nbformat_minor": 0,
  "metadata": {
    "kernelspec": {
      "display_name": "Python 3",
      "language": "python",
      "name": "python3"
    },
    "language_info": {
      "codemirror_mode": {
        "name": "ipython",
        "version": 3
      },
      "file_extension": ".py",
      "mimetype": "text/x-python",
      "name": "python",
      "nbconvert_exporter": "python",
      "pygments_lexer": "ipython3",
      "version": "3.7.3"
    },
    "colab": {
      "name": "wine_project.ipynb",
      "provenance": [],
      "toc_visible": true
    }
  },
  "cells": [
    {
      "cell_type": "markdown",
      "metadata": {
        "id": "Rr8lUrYZY9zP"
      },
      "source": [
        "# Partie 0 : Quelques imports de bon fonctionnement"
      ]
    },
    {
      "cell_type": "code",
      "metadata": {
        "id": "2a7NBLf-aIt_"
      },
      "source": [
        "from google.colab import drive\n",
        "drive.mount('/content/drive')"
      ],
      "execution_count": null,
      "outputs": []
    },
    {
      "cell_type": "code",
      "metadata": {
        "id": "txSi5YN3N0VZ"
      },
      "source": [
        "import numpy as np\n",
        "import pandas as pd\n",
        "import matplotlib.pyplot as plt\n",
        "import seaborn as sns\n",
        "from math import ceil\n",
        "import random as rd"
      ],
      "execution_count": null,
      "outputs": []
    },
    {
      "cell_type": "code",
      "metadata": {
        "id": "GNBdYmFmcE5o"
      },
      "source": [
        "import pandas as pd\n",
        "from sklearn.model_selection import train_test_split\n",
        "from sklearn.datasets import load_iris"
      ],
      "execution_count": null,
      "outputs": []
    },
    {
      "cell_type": "code",
      "metadata": {
        "id": "Iw8x4RnocUJG"
      },
      "source": [
        "import csv\n",
        "\n",
        "def read_glove_vecs(glove_file):\n",
        "    with open(glove_file, 'r', encoding='utf-8') as f:\n",
        "        words = set()\n",
        "        word_to_vec_map = {}\n",
        "        for line in f:\n",
        "            line = line.strip().split()\n",
        "            curr_word = line[0]\n",
        "            words.add(curr_word)\n",
        "            word_to_vec_map[curr_word] = np.array(line[1:], dtype=np.float64)\n",
        "        \n",
        "        i = 1\n",
        "        words_to_index = {}\n",
        "        index_to_words = {}\n",
        "        for w in sorted(words):\n",
        "            words_to_index[w] = i\n",
        "            index_to_words[i] = w\n",
        "            i = i + 1\n",
        "    return words_to_index, index_to_words, word_to_vec_map"
      ],
      "execution_count": null,
      "outputs": []
    },
    {
      "cell_type": "code",
      "metadata": {
        "id": "GRVlDSgHN0Vc"
      },
      "source": [
        "def convert_to_one_hot(vecteur):\n",
        "    n_values = int(np.max(vecteur) + 1)\n",
        "    oh = np.eye(n_values)[vecteur]\n",
        "    return oh"
      ],
      "execution_count": null,
      "outputs": []
    },
    {
      "cell_type": "code",
      "metadata": {
        "id": "AI9M_nYFaa2S"
      },
      "source": [
        "data = pd.read_csv(\"/content/drive/My Drive/Wine_project/winemag-data-130k-v2.csv\")"
      ],
      "execution_count": null,
      "outputs": []
    },
    {
      "cell_type": "code",
      "metadata": {
        "id": "4ZHuZh84ckIs"
      },
      "source": [
        "word_to_index, index_to_word, word_to_vec_map = read_glove_vecs('/content/drive/My Drive/Wine_project/glove.6B.50d.txt')"
      ],
      "execution_count": null,
      "outputs": []
    },
    {
      "cell_type": "markdown",
      "metadata": {
        "id": "iZEgD8poOAIY"
      },
      "source": [
        "# Partie 1: Statistiques descriptives"
      ]
    },
    {
      "cell_type": "code",
      "metadata": {
        "id": "u5L1iVdFN0Vk",
        "outputId": "33d28acf-4284-4b9b-f7be-ba9777d1313e",
        "colab": {
          "base_uri": "https://localhost:8080/"
        }
      },
      "source": [
        "data = data.drop('Unnamed: 0', axis = 1)\n",
        "data.columns\n"
      ],
      "execution_count": null,
      "outputs": [
        {
          "output_type": "execute_result",
          "data": {
            "text/plain": [
              "Index(['country', 'description', 'designation', 'points', 'price', 'province',\n",
              "       'region_1', 'region_2', 'taster_name', 'taster_twitter_handle', 'title',\n",
              "       'variety', 'winery'],\n",
              "      dtype='object')"
            ]
          },
          "metadata": {
            "tags": []
          },
          "execution_count": 8
        }
      ]
    },
    {
      "cell_type": "code",
      "metadata": {
        "id": "g-B0Y4s_N0Vp",
        "outputId": "04e59f8c-e398-4d22-d73d-1f9d979a1a91",
        "colab": {
          "base_uri": "https://localhost:8080/"
        }
      },
      "source": [
        "data['country'].nunique()\n",
        "data['region_2'].nunique()\n",
        "data['province'].count()"
      ],
      "execution_count": null,
      "outputs": [
        {
          "output_type": "execute_result",
          "data": {
            "text/plain": [
              "129908"
            ]
          },
          "metadata": {
            "tags": []
          },
          "execution_count": 51
        }
      ]
    },
    {
      "cell_type": "code",
      "metadata": {
        "id": "Ut_cTTRpN0WD",
        "outputId": "478d24da-fe78-4ba6-a816-da1d10040faa",
        "colab": {
          "base_uri": "https://localhost:8080/",
          "height": 294
        }
      },
      "source": [
        "data.describe()"
      ],
      "execution_count": null,
      "outputs": [
        {
          "output_type": "execute_result",
          "data": {
            "text/html": [
              "<div>\n",
              "<style scoped>\n",
              "    .dataframe tbody tr th:only-of-type {\n",
              "        vertical-align: middle;\n",
              "    }\n",
              "\n",
              "    .dataframe tbody tr th {\n",
              "        vertical-align: top;\n",
              "    }\n",
              "\n",
              "    .dataframe thead th {\n",
              "        text-align: right;\n",
              "    }\n",
              "</style>\n",
              "<table border=\"1\" class=\"dataframe\">\n",
              "  <thead>\n",
              "    <tr style=\"text-align: right;\">\n",
              "      <th></th>\n",
              "      <th>points</th>\n",
              "      <th>price</th>\n",
              "    </tr>\n",
              "  </thead>\n",
              "  <tbody>\n",
              "    <tr>\n",
              "      <th>count</th>\n",
              "      <td>129971.000000</td>\n",
              "      <td>120975.000000</td>\n",
              "    </tr>\n",
              "    <tr>\n",
              "      <th>mean</th>\n",
              "      <td>88.447138</td>\n",
              "      <td>35.363389</td>\n",
              "    </tr>\n",
              "    <tr>\n",
              "      <th>std</th>\n",
              "      <td>3.039730</td>\n",
              "      <td>41.022218</td>\n",
              "    </tr>\n",
              "    <tr>\n",
              "      <th>min</th>\n",
              "      <td>80.000000</td>\n",
              "      <td>4.000000</td>\n",
              "    </tr>\n",
              "    <tr>\n",
              "      <th>25%</th>\n",
              "      <td>86.000000</td>\n",
              "      <td>17.000000</td>\n",
              "    </tr>\n",
              "    <tr>\n",
              "      <th>50%</th>\n",
              "      <td>88.000000</td>\n",
              "      <td>25.000000</td>\n",
              "    </tr>\n",
              "    <tr>\n",
              "      <th>75%</th>\n",
              "      <td>91.000000</td>\n",
              "      <td>42.000000</td>\n",
              "    </tr>\n",
              "    <tr>\n",
              "      <th>max</th>\n",
              "      <td>100.000000</td>\n",
              "      <td>3300.000000</td>\n",
              "    </tr>\n",
              "  </tbody>\n",
              "</table>\n",
              "</div>"
            ],
            "text/plain": [
              "              points          price\n",
              "count  129971.000000  120975.000000\n",
              "mean       88.447138      35.363389\n",
              "std         3.039730      41.022218\n",
              "min        80.000000       4.000000\n",
              "25%        86.000000      17.000000\n",
              "50%        88.000000      25.000000\n",
              "75%        91.000000      42.000000\n",
              "max       100.000000    3300.000000"
            ]
          },
          "metadata": {
            "tags": []
          },
          "execution_count": 52
        }
      ]
    },
    {
      "cell_type": "code",
      "metadata": {
        "id": "3bbY3QFEN0WG",
        "outputId": "ead4ace9-d0b5-42c5-e39d-cbdcfb5ffa73",
        "colab": {
          "base_uri": "https://localhost:8080/"
        }
      },
      "source": [
        "data.isnull().sum()"
      ],
      "execution_count": null,
      "outputs": [
        {
          "output_type": "execute_result",
          "data": {
            "text/plain": [
              "country                     63\n",
              "description                  0\n",
              "designation              37465\n",
              "points                       0\n",
              "price                     8996\n",
              "province                    63\n",
              "region_1                 21247\n",
              "region_2                 79460\n",
              "taster_name              26244\n",
              "taster_twitter_handle    31213\n",
              "title                        0\n",
              "variety                      1\n",
              "winery                       0\n",
              "dtype: int64"
            ]
          },
          "metadata": {
            "tags": []
          },
          "execution_count": 53
        }
      ]
    },
    {
      "cell_type": "code",
      "metadata": {
        "id": "ZpP5FwWUN0WM",
        "outputId": "550edba5-2dae-465a-cb2b-5bc29b89bb95",
        "colab": {
          "base_uri": "https://localhost:8080/",
          "height": 265
        }
      },
      "source": [
        "fig = data['points'].hist()\n",
        "plt.show()"
      ],
      "execution_count": null,
      "outputs": [
        {
          "output_type": "display_data",
          "data": {
            "image/png": "[encoded data removed]",
            "text/plain": [
              "<Figure size 432x288 with 1 Axes>"
            ]
          },
          "metadata": {
            "tags": [],
            "needs_background": "light"
          }
        }
      ]
    },
    {
      "cell_type": "code",
      "metadata": {
        "id": "0IZuIWVcN0WP",
        "outputId": "2f1f8a53-e155-49dd-e0b1-eef237e49445",
        "colab": {
          "base_uri": "https://localhost:8080/",
          "height": 265
        }
      },
      "source": [
        "fig = data['price'].plot(kind = 'hist', logy=True)\n",
        "plt.show()"
      ],
      "execution_count": null,
      "outputs": [
        {
          "output_type": "display_data",
          "data": {
            "image/png": "[encoded data removed]",
            "text/plain": [
              "<Figure size 432x288 with 1 Axes>"
            ]
          },
          "metadata": {
            "tags": [],
            "needs_background": "light"
          }
        }
      ]
    },
    {
      "cell_type": "code",
      "metadata": {
        "id": "HIt6P-pRN0WV",
        "outputId": "391329ff-72b9-4ce4-fb1a-67567cf07c75",
        "colab": {
          "base_uri": "https://localhost:8080/",
          "height": 283
        }
      },
      "source": [
        "plt.plot(data['points'], data['price'], 'r.')"
      ],
      "execution_count": null,
      "outputs": [
        {
          "output_type": "execute_result",
          "data": {
            "text/plain": [
              "[<matplotlib.lines.Line2D at 0x7fec2a041cc0>]"
            ]
          },
          "metadata": {
            "tags": []
          },
          "execution_count": 56
        },
        {
          "output_type": "display_data",
          "data": {
            "image/png": "[encoded data removed]",
            "text/plain": [
              "<Figure size 432x288 with 1 Axes>"
            ]
          },
          "metadata": {
            "tags": [],
            "needs_background": "light"
          }
        }
      ]
    },
    {
      "cell_type": "code",
      "metadata": {
        "id": "-naoj5nEN0WY"
      },
      "source": [
        "priceForPoint = data.groupby(by=\"points\").mean()"
      ],
      "execution_count": null,
      "outputs": []
    },
    {
      "cell_type": "code",
      "metadata": {
        "id": "lAWUvhx4N0Wa"
      },
      "source": [
        "#PriceForPoint donne la moyenne du prix de la bouteille pour un nbr de point donné"
      ],
      "execution_count": null,
      "outputs": []
    },
    {
      "cell_type": "code",
      "metadata": {
        "id": "OLqxa2DMN0Wc",
        "outputId": "902605cd-dcb3-4363-d66e-dc5f81f6c8f4",
        "colab": {
          "base_uri": "https://localhost:8080/",
          "height": 283
        }
      },
      "source": [
        "plt.plot(priceForPoint.index, priceForPoint , 'r.')\n",
        "plt.plot()"
      ],
      "execution_count": null,
      "outputs": [
        {
          "output_type": "execute_result",
          "data": {
            "text/plain": [
              "[]"
            ]
          },
          "metadata": {
            "tags": []
          },
          "execution_count": 52
        },
        {
          "output_type": "display_data",
          "data": {
            "image/png": "[encoded data removed]",
            "text/plain": [
              "<Figure size 432x288 with 1 Axes>"
            ]
          },
          "metadata": {
            "tags": [],
            "needs_background": "light"
          }
        }
      ]
    },
    {
      "cell_type": "code",
      "metadata": {
        "id": "GDkc-1O2N0We",
        "outputId": "602b3f11-c7d5-4202-ba65-f392551f1009",
        "colab": {
          "base_uri": "https://localhost:8080/",
          "height": 283
        }
      },
      "source": [
        "plt.plot(priceForPoint.index, np.log(priceForPoint) , 'r.')\n",
        "plt.plot()"
      ],
      "execution_count": null,
      "outputs": [
        {
          "output_type": "execute_result",
          "data": {
            "text/plain": [
              "[]"
            ]
          },
          "metadata": {
            "tags": []
          },
          "execution_count": 53
        },
        {
          "output_type": "display_data",
          "data": {
            "image/png": "[encoded data removed]",
            "text/plain": [
              "<Figure size 432x288 with 1 Axes>"
            ]
          },
          "metadata": {
            "tags": [],
            "needs_background": "light"
          }
        }
      ]
    },
    {
      "cell_type": "code",
      "metadata": {
        "id": "TapOKYuGN0Wg",
        "outputId": "3e3aeb54-709f-460f-875c-ff18b56a5328",
        "colab": {
          "base_uri": "https://localhost:8080/"
        }
      },
      "source": [
        "countries = data[ [\"country\", \"winery\"] ].groupby(by=\"country\").count().sort_values(by=\"winery\")[::-1]\n",
        "countries.count()"
      ],
      "execution_count": null,
      "outputs": [
        {
          "output_type": "execute_result",
          "data": {
            "text/plain": [
              "winery    43\n",
              "dtype: int64"
            ]
          },
          "metadata": {
            "tags": []
          },
          "execution_count": 54
        }
      ]
    },
    {
      "cell_type": "code",
      "metadata": {
        "id": "DTG4aFDBN0Wn"
      },
      "source": [
        "countries_price = data[ [\"country\", \"price\"]].groupby(by =\"country\").mean()"
      ],
      "execution_count": null,
      "outputs": []
    },
    {
      "cell_type": "code",
      "metadata": {
        "id": "NT5l3ScvN0Wr",
        "outputId": "3cb9afad-e8aa-421b-936d-5ecd99aa6616",
        "colab": {
          "base_uri": "https://localhost:8080/",
          "height": 454
        }
      },
      "source": [
        "countries_price.sort_values('price').plot(kind = \"bar\", figsize = (25,10), color = 'red')"
      ],
      "execution_count": null,
      "outputs": [
        {
          "output_type": "execute_result",
          "data": {
            "text/plain": [
              "<matplotlib.axes._subplots.AxesSubplot at 0x7fd9247ef8d0>"
            ]
          },
          "metadata": {
            "tags": []
          },
          "execution_count": 56
        },
        {
          "output_type": "display_data",
          "data": {
            "image/png": "[encoded data removed]",
            "text/plain": [
              "<Figure size 1800x720 with 1 Axes>"
            ]
          },
          "metadata": {
            "tags": [],
            "needs_background": "light"
          }
        }
      ]
    },
    {
      "cell_type": "code",
      "metadata": {
        "id": "dsO9KVTYN0Wx",
        "outputId": "69aa9162-9c49-4cd1-e0b4-19fc01c0840c",
        "colab": {
          "base_uri": "https://localhost:8080/",
          "height": 283
        }
      },
      "source": [
        "dfr=data[data[\"country\"] == 'France']\n",
        "plt.plot(dfr['price'],dfr['points'], 'r.')"
      ],
      "execution_count": null,
      "outputs": [
        {
          "output_type": "execute_result",
          "data": {
            "text/plain": [
              "[<matplotlib.lines.Line2D at 0x7fd9247261d0>]"
            ]
          },
          "metadata": {
            "tags": []
          },
          "execution_count": 57
        },
        {
          "output_type": "display_data",
          "data": {
            "image/png": "[encoded data removed]",
            "text/plain": [
              "<Figure size 432x288 with 1 Axes>"
            ]
          },
          "metadata": {
            "tags": [],
            "needs_background": "light"
          }
        }
      ]
    },
    {
      "cell_type": "code",
      "metadata": {
        "id": "ZBrvNvdRN0W3"
      },
      "source": [
        "dfr_max=dfr[dfr['price']> dfr['price'].quantile( q = 0.99)]"
      ],
      "execution_count": null,
      "outputs": []
    },
    {
      "cell_type": "code",
      "metadata": {
        "id": "VJ4YZzszN0W8"
      },
      "source": [
        "dfr_max=dfr_max[['region_1','winery']]"
      ],
      "execution_count": null,
      "outputs": []
    },
    {
      "cell_type": "code",
      "metadata": {
        "id": "U6RlLNOjN0XA",
        "outputId": "15ef1360-7fdf-4318-b579-04b3e0d2ed27",
        "colab": {
          "base_uri": "https://localhost:8080/"
        }
      },
      "source": [
        "dfr_max.count()"
      ],
      "execution_count": null,
      "outputs": [
        {
          "output_type": "execute_result",
          "data": {
            "text/plain": [
              "region_1    172\n",
              "winery      172\n",
              "dtype: int64"
            ]
          },
          "metadata": {
            "tags": []
          },
          "execution_count": 60
        }
      ]
    },
    {
      "cell_type": "code",
      "metadata": {
        "id": "1IHmKPXON0XE",
        "outputId": "dcccf4cd-baef-4c74-ccde-95f8e7123ebe",
        "colab": {
          "base_uri": "https://localhost:8080/",
          "height": 233
        }
      },
      "source": [
        "dfr_max_winery = dfr_max.groupby('region_1').count().sort_values(by=\"winery\")[::-1]\n",
        "dfr_max_winery.head()"
      ],
      "execution_count": null,
      "outputs": [
        {
          "output_type": "execute_result",
          "data": {
            "text/html": [
              "<div>\n",
              "<style scoped>\n",
              "    .dataframe tbody tr th:only-of-type {\n",
              "        vertical-align: middle;\n",
              "    }\n",
              "\n",
              "    .dataframe tbody tr th {\n",
              "        vertical-align: top;\n",
              "    }\n",
              "\n",
              "    .dataframe thead th {\n",
              "        text-align: right;\n",
              "    }\n",
              "</style>\n",
              "<table border=\"1\" class=\"dataframe\">\n",
              "  <thead>\n",
              "    <tr style=\"text-align: right;\">\n",
              "      <th></th>\n",
              "      <th>winery</th>\n",
              "    </tr>\n",
              "    <tr>\n",
              "      <th>region_1</th>\n",
              "      <th></th>\n",
              "    </tr>\n",
              "  </thead>\n",
              "  <tbody>\n",
              "    <tr>\n",
              "      <th>Champagne</th>\n",
              "      <td>22</td>\n",
              "    </tr>\n",
              "    <tr>\n",
              "      <th>Pessac-Léognan</th>\n",
              "      <td>13</td>\n",
              "    </tr>\n",
              "    <tr>\n",
              "      <th>Pauillac</th>\n",
              "      <td>12</td>\n",
              "    </tr>\n",
              "    <tr>\n",
              "      <th>Chevalier-Montrachet</th>\n",
              "      <td>11</td>\n",
              "    </tr>\n",
              "    <tr>\n",
              "      <th>Bâtard-Montrachet</th>\n",
              "      <td>10</td>\n",
              "    </tr>\n",
              "  </tbody>\n",
              "</table>\n",
              "</div>"
            ],
            "text/plain": [
              "                      winery\n",
              "region_1                    \n",
              "Champagne                 22\n",
              "Pessac-Léognan            13\n",
              "Pauillac                  12\n",
              "Chevalier-Montrachet      11\n",
              "Bâtard-Montrachet         10"
            ]
          },
          "metadata": {
            "tags": []
          },
          "execution_count": 61
        }
      ]
    },
    {
      "cell_type": "markdown",
      "metadata": {
        "id": "ZgNv1C-4bmpj"
      },
      "source": [
        "# Partie 2 : Premier Modèle"
      ]
    },
    {
      "cell_type": "markdown",
      "metadata": {
        "id": "QETQSaLRdZiS"
      },
      "source": [
        "## Modèle 1.1"
      ]
    },
    {
      "cell_type": "code",
      "metadata": {
        "id": "aLrjZHkIN0XQ"
      },
      "source": [
        "data_10000 = data.sample(frac = 0.1, random_state = 1)\n",
        "X = data_10000['description']\n",
        "Y = data_10000['points']"
      ],
      "execution_count": 41,
      "outputs": []
    },
    {
      "cell_type": "code",
      "metadata": {
        "id": "HdtoPjchN0Xb",
        "outputId": "c3e053c6-d26c-4603-bd45-aaf46f546188",
        "colab": {
          "base_uri": "https://localhost:8080/",
          "height": 265
        }
      },
      "source": [
        "Y_corr= Y-Y.mean()\n",
        "fig = Y_corr.hist()\n",
        "plt.show()"
      ],
      "execution_count": 42,
      "outputs": [
        {
          "output_type": "display_data",
          "data": {
            "image/png": "[encoded data removed]",
            "text/plain": [
              "<Figure size 432x288 with 1 Axes>"
            ]
          },
          "metadata": {
            "tags": [],
            "needs_background": "light"
          }
        }
      ]
    },
    {
      "cell_type": "code",
      "metadata": {
        "id": "M-PJvxEdN0Xm"
      },
      "source": [
        "#On va essayer de prédire, en fonction de la description, un score en séparant en 5 parties qui sera ensuite ramené sur 100."
      ],
      "execution_count": 43,
      "outputs": []
    },
    {
      "cell_type": "code",
      "metadata": {
        "id": "Nnxt08s9N0Xo",
        "outputId": "3b960e62-4288-4c4f-9617-f74b1cb2f770",
        "colab": {
          "base_uri": "https://localhost:8080/"
        }
      },
      "source": [
        "groupe = (max(Y_corr)-min(Y_corr))/5\n",
        "print(\"on va faire 5 catégories de taille\", groupe+0.001)"
      ],
      "execution_count": 44,
      "outputs": [
        {
          "output_type": "stream",
          "text": [
            "on va faire 5 catégories de taille 4.001\n"
          ],
          "name": "stdout"
        }
      ]
    },
    {
      "cell_type": "code",
      "metadata": {
        "id": "WunXVMmUN0Xs"
      },
      "source": [
        "Y_corr = np.array(Y_corr)\n",
        "X = np.array(X)\n",
        "mini = min(Y_corr)\n",
        "for idx in range(len(Y_corr)):\n",
        "    Y_corr[idx] = abs(Y_corr[idx] - mini)//4.001   "
      ],
      "execution_count": 45,
      "outputs": []
    },
    {
      "cell_type": "code",
      "metadata": {
        "id": "htuAF9x0N0X6"
      },
      "source": [
        "X_train,X_test,Y_train,Y_test=train_test_split(X,Y_corr,test_size=0.2)\n",
        "Y_train = np.array(Y_train, dtype = int)"
      ],
      "execution_count": 46,
      "outputs": []
    },
    {
      "cell_type": "code",
      "metadata": {
        "id": "aWjqLOQxN0YR"
      },
      "source": [
        "def sentence_to_avg(sentence, word_to_vec_map):\n",
        " \n",
        "    # Step 1: Split sentence into list of lower case words (≈ 1 line)\n",
        "    words = sentence.lower().split()\n",
        "\n",
        "    # Initialize the average word vector, should have the same shape as your word vectors.\n",
        "    avg = np.zeros(50)\n",
        "    \n",
        "    # Step 2: average the word vectors. You can loop over the words in the list \"words\".\n",
        "    total = 0\n",
        "    for w in words:\n",
        "        while w not in word_to_vec_map.keys():\n",
        "            if w[1:] in word_to_vec_map.keys():\n",
        "                w = w[1:]\n",
        "            else:\n",
        "                w = w[:-1]\n",
        "        total += word_to_vec_map[w]\n",
        "    avg = total/len(words)\n",
        "    \n",
        "    \n",
        "    return avg"
      ],
      "execution_count": 47,
      "outputs": []
    },
    {
      "cell_type": "code",
      "metadata": {
        "id": "mNjluVu6N0YT"
      },
      "source": [
        "def softmax(x):\n",
        "    \"\"\"Compute softmax values for each sets of scores in x.\"\"\"\n",
        "    e_x = np.exp(x - np.max(x))\n",
        "    return e_x / e_x.sum()\n",
        "\n",
        "\n",
        "def model(X, Y, word_to_vec_map, learning_rate = 0.01, num_iterations = 400):\n",
        "\n",
        "    m = Y.shape[0]                          # number of training examples\n",
        "    n_y = 5                                 # number of classes  \n",
        "    n_h = 50                                # dimensions of the GloVe vectors \n",
        "    \n",
        "    # Initialize parameters using Xavier initialization\n",
        "    W = np.random.randn(n_y, n_h) / np.sqrt(n_h)\n",
        "    b = np.zeros((n_y,)) \n",
        "    \n",
        "    # Convert Y to Y_onehot with n_y classes\n",
        "    Y_oh = convert_to_one_hot(Y) \n",
        "    \n",
        "    # Optimization loop\n",
        "    for t in range(num_iterations): # Loop over the number of iterations\n",
        "        for i in range(m):          # Loop over the training examples\n",
        "            \n",
        "            # Average the word vectors of the words from the i'th training example\n",
        "            avg = sentence_to_avg(X[i], word_to_vec_map)\n",
        "\n",
        "            # Forward propagate the avg through the softmax layer\n",
        "            z = np.dot(W,avg) + b\n",
        "            a = softmax(z)\n",
        "\n",
        "            # Compute cost using the i'th training label's one hot representation and \"A\" (the output of the softmax)\n",
        "            cost = - np.dot(Y_oh[i],np.log(a))\n",
        "            \n",
        "            # Compute gradients \n",
        "            dz = a - Y_oh[i]\n",
        "            dW = np.dot(dz.reshape(n_y,1), avg.reshape(1, n_h))\n",
        "            db = dz\n",
        "\n",
        "            # Update parameters with Stochastic Gradient Descent\n",
        "            W = W - learning_rate * dW\n",
        "            b = b - learning_rate * db\n",
        "        \n",
        "        if t % 100 == 0:\n",
        "            print(\"Epoch: \" + str(t) + \" --- cost = \" + str(cost))\n",
        "            pred = predict(X, Y, W, b, word_to_vec_map)\n",
        "\n",
        "    return pred, W, b"
      ],
      "execution_count": 48,
      "outputs": []
    },
    {
      "cell_type": "code",
      "metadata": {
        "id": "mSvCleXNN0YW"
      },
      "source": [
        "def predict(X, Y, W, b, word_to_vec_map):\n",
        "    \"\"\"\n",
        "    Given X (sentences) and Y (emoji indices), predict emojis and compute the accuracy of your model over the given set.\n",
        "    \n",
        "    Arguments:\n",
        "    X -- input data containing sentences, numpy array of shape (m, None)\n",
        "    Y -- labels, containing index of the label emoji, numpy array of shape (m, 1)\n",
        "    \n",
        "    Returns:\n",
        "    pred -- numpy array of shape (m, 1) with your predictions\n",
        "    \"\"\"\n",
        "    m = X.shape[0]\n",
        "    pred = np.zeros((m, 1))\n",
        "    \n",
        "    for j in range(m):                       # Loop over training examples\n",
        "        \n",
        "        # Split jth test example (sentence) into list of lower case words\n",
        "        words = X[j].lower().split()\n",
        "        \n",
        "        # Average words' vectors\n",
        "        avg = np.zeros((50,))\n",
        "        for w in words:\n",
        "            while w not in word_to_vec_map.keys():\n",
        "                if w[1:] in word_to_vec_map.keys():\n",
        "                    w = w[1:]\n",
        "                else:\n",
        "                    w = w[:-1]\n",
        "            avg += word_to_vec_map[w]\n",
        "        avg = avg/len(words)\n",
        "\n",
        "        # Forward propagation\n",
        "        Z = np.dot(W, avg) + b\n",
        "        A = softmax(Z)\n",
        "        pred[j] = np.argmax(A)\n",
        "        \n",
        "    print(\"Accuracy: \"  + str(np.mean((pred[:] == Y.reshape(Y.shape[0],1)[:]))))\n",
        "    \n",
        "    return pred"
      ],
      "execution_count": 49,
      "outputs": []
    },
    {
      "cell_type": "code",
      "metadata": {
        "scrolled": true,
        "id": "_J6y9kEeN0YZ",
        "outputId": "7fb98415-c030-4a90-c33b-66708088a243",
        "colab": {
          "base_uri": "https://localhost:8080/"
        }
      },
      "source": [
        "pred, W, b = model(X_train, Y_train, word_to_vec_map)\n",
        "print(pred)"
      ],
      "execution_count": 50,
      "outputs": [
        {
          "output_type": "stream",
          "text": [
            "Epoch: 0 --- cost = 0.6965057893850656\n",
            "Accuracy: 0.5036068096566317\n",
            "Epoch: 100 --- cost = 0.8432572403147153\n",
            "Accuracy: 0.5469847071270559\n",
            "Epoch: 200 --- cost = 0.8192252549777557\n",
            "Accuracy: 0.5474656150812734\n",
            "Epoch: 300 --- cost = 0.8132783010461534\n",
            "Accuracy: 0.5467923439453689\n",
            "[[1.]\n",
            " [1.]\n",
            " [2.]\n",
            " ...\n",
            " [2.]\n",
            " [2.]\n",
            " [1.]]\n"
          ],
          "name": "stdout"
        }
      ]
    },
    {
      "cell_type": "code",
      "metadata": {
        "id": "xLgynGbSN0Yf",
        "outputId": "dc2b3160-af43-41f7-aa20-108be88cb3f2",
        "colab": {
          "base_uri": "https://localhost:8080/"
        }
      },
      "source": [
        "print(\"Training set:\")\n",
        "pred_train = predict(X_train, Y_train, W, b, word_to_vec_map)\n",
        "print('Test set:')\n",
        "pred_test = predict(X_test, Y_test, W, b, word_to_vec_map)"
      ],
      "execution_count": 51,
      "outputs": [
        {
          "output_type": "stream",
          "text": [
            "Training set:\n",
            "Accuracy: 0.5470808887178994\n",
            "Test set:\n",
            "Accuracy: 0.541923076923077\n"
          ],
          "name": "stdout"
        }
      ]
    },
    {
      "cell_type": "code",
      "metadata": {
        "id": "iReEH_PqN0Yn"
      },
      "source": [
        "#On se retrouve avec une accuracy de 50... ce qui est mieux que le hasard (5 catégories) mais pas encore optimal\n",
        "#On va utiliser un algo de LTSM pour pouvoir cette fois ci prendre en compte l'ordre des éléments dans la phrase"
      ],
      "execution_count": 52,
      "outputs": []
    },
    {
      "cell_type": "code",
      "metadata": {
        "id": "4D2PaBcwN0Yt",
        "outputId": "43f71be0-7f96-407d-ac8b-10cb98603c89",
        "colab": {
          "base_uri": "https://localhost:8080/"
        }
      },
      "source": [
        "#Quelques test\n",
        "idx = rd.randint(0,len(X))\n",
        "X[idx],Y_corr[idx], idx"
      ],
      "execution_count": 53,
      "outputs": [
        {
          "output_type": "execute_result",
          "data": {
            "text/plain": [
              "('One year of wood aging has given this wine its toasty character. It is balanced with the red-cherry fruit and acidity. Named after the constable who controlled the castle of Sancerre in the Middle Ages, the wine is dense with tannins as well as the fruit. It should be ready to drink, although it does seem on the dry side.',\n",
              " 2.0,\n",
              " 831)"
            ]
          },
          "metadata": {
            "tags": []
          },
          "execution_count": 53
        }
      ]
    },
    {
      "cell_type": "code",
      "metadata": {
        "id": "45SUbIQ3N0Yy",
        "outputId": "c4c24142-4e07-4e30-c121-2b7387ed902c",
        "colab": {
          "base_uri": "https://localhost:8080/"
        }
      },
      "source": [
        "X_my_sentences = np.array([\"I love that wine, it is so tasteful. A great success to see in the future\"])\n",
        "Y_my_labels = np.array([[3]])\n",
        "pred = predict(X_my_sentences, Y_my_labels , W, b, word_to_vec_map)\n",
        "pred"
      ],
      "execution_count": 54,
      "outputs": [
        {
          "output_type": "stream",
          "text": [
            "Accuracy: 1.0\n"
          ],
          "name": "stdout"
        },
        {
          "output_type": "execute_result",
          "data": {
            "text/plain": [
              "array([[3.]])"
            ]
          },
          "metadata": {
            "tags": []
          },
          "execution_count": 54
        }
      ]
    },
    {
      "cell_type": "code",
      "metadata": {
        "id": "optLHQvhN0Y4",
        "outputId": "01cf14b5-5000-446f-b1cc-f2a61ace6079",
        "colab": {
          "base_uri": "https://localhost:8080/"
        }
      },
      "source": [
        "X_my_sentences = np.array([\"I love that wine , it is so tasteful. A great success ! Tasteful love so good\"])\n",
        "Y_my_labels = np.array([[4]])\n",
        "pred = predict(X_my_sentences, Y_my_labels , W, b, word_to_vec_map)\n",
        "pred"
      ],
      "execution_count": 55,
      "outputs": [
        {
          "output_type": "stream",
          "text": [
            "Accuracy: 0.0\n"
          ],
          "name": "stdout"
        },
        {
          "output_type": "execute_result",
          "data": {
            "text/plain": [
              "array([[3.]])"
            ]
          },
          "metadata": {
            "tags": []
          },
          "execution_count": 55
        }
      ]
    },
    {
      "cell_type": "code",
      "metadata": {
        "id": "gZlYvEJ3N0Y6"
      },
      "source": [
        "#Regardons à partir d'une matrice de confusion ce qui pose problème"
      ],
      "execution_count": 56,
      "outputs": []
    },
    {
      "cell_type": "code",
      "metadata": {
        "id": "InAKLsfiN0Y8"
      },
      "source": [
        "def plot_confusion_matrix(y_actu, y_pred, title='Confusion matrix', cmap=plt.cm.gray_r):\n",
        "    \n",
        "    df_confusion = pd.crosstab(y_actu, y_pred.reshape(y_pred.shape[0],), rownames=['Actual'], colnames=['Predicted'], margins=True)\n",
        "    \n",
        "    df_conf_norm = df_confusion / df_confusion.sum(axis=1)\n",
        "    \n",
        "    plt.matshow(df_confusion, cmap=cmap) # imshow\n",
        "    #plt.title(title)\n",
        "    plt.colorbar()\n",
        "    tick_marks = np.arange(len(df_confusion.columns))\n",
        "    plt.xticks(tick_marks, df_confusion.columns, rotation=45)\n",
        "    plt.yticks(tick_marks, df_confusion.index)\n",
        "    #plt.tight_layout()\n",
        "    plt.ylabel(df_confusion.index.name)\n",
        "    plt.xlabel(df_confusion.columns.name)"
      ],
      "execution_count": 65,
      "outputs": []
    },
    {
      "cell_type": "code",
      "metadata": {
        "id": "GiWGuZGKN0ZC",
        "outputId": "821788ea-8ea6-49ee-d149-b92edfe64bde",
        "colab": {
          "base_uri": "https://localhost:8080/",
          "height": 438
        }
      },
      "source": [
        "print(pd.crosstab(Y_test, pred_test.reshape(Y_test.shape), rownames=['Actual'], colnames=['Predicted'], margins=True))\n",
        "plot_confusion_matrix(Y_test, pred_test)"
      ],
      "execution_count": 66,
      "outputs": [
        {
          "output_type": "stream",
          "text": [
            "Predicted  0.0  1.0  3.0  4.0   All\n",
            "Actual                             \n",
            "0          411  169   38   65   683\n",
            "1          233  235   93  133   694\n",
            "2           66   87   38   56   247\n",
            "3           78  127  107  222   534\n",
            "4           31   80   66  265   442\n",
            "All        819  698  342  741  2600\n"
          ],
          "name": "stdout"
        },
        {
          "output_type": "display_data",
          "data": {
            "image/png": "[encoded data removed]",
            "text/plain": [
              "<Figure size 288x345.6 with 2 Axes>"
            ]
          },
          "metadata": {
            "tags": [],
            "needs_background": "light"
          }
        }
      ]
    },
    {
      "cell_type": "code",
      "metadata": {
        "id": "CMpLtGIvN0ZE"
      },
      "source": [
        "#Problème : pas assez de '4' pour que l'algo le prédise..., les classes sont trop centrées sur 3 et 4. Il nous faut une refonte des groupes."
      ],
      "execution_count": 59,
      "outputs": []
    },
    {
      "cell_type": "markdown",
      "metadata": {
        "id": "G5xgMaa1dC3m"
      },
      "source": [
        "## Modèle 1.2"
      ]
    },
    {
      "cell_type": "code",
      "metadata": {
        "id": "P_QrXCo2N0ZF"
      },
      "source": [
        "quant = Y.quantile([0.2,0.4,0.6,0.8,1])"
      ],
      "execution_count": 60,
      "outputs": []
    },
    {
      "cell_type": "code",
      "metadata": {
        "id": "AGleZNLyN0ZG",
        "outputId": "178aa28a-86ad-4106-e099-d46e86dc978f",
        "colab": {
          "base_uri": "https://localhost:8080/",
          "height": 265
        }
      },
      "source": [
        "data_1000 = data.sample(frac = 0.1, random_state = 1)\n",
        "X = data_1000['description']\n",
        "Y = data_1000['points']\n",
        "\n",
        "Y_corr= Y-Y.mean()\n",
        "quant = quant - Y.mean()\n",
        "fig = Y_corr.hist()\n",
        "plt.show()\n",
        "\n",
        "Y_corr = np.array(Y_corr)\n",
        "for idx in range(len(Y_corr)):\n",
        "    if Y_corr[idx] <= quant[0.2]:\n",
        "        Y_corr[idx] = 0\n",
        "    elif Y_corr[idx] <= quant[0.4]:\n",
        "        Y_corr[idx] = 1\n",
        "    elif Y_corr[idx] <= quant[0.6]:\n",
        "        Y_corr[idx] = 2\n",
        "    elif Y_corr[idx] <= quant[0.8]:\n",
        "        Y_corr[idx] = 3\n",
        "    else:\n",
        "        Y_corr[idx] = 4"
      ],
      "execution_count": 61,
      "outputs": [
        {
          "output_type": "display_data",
          "data": {
            "image/png": "[encoded data removed]",
            "text/plain": [
              "<Figure size 432x288 with 1 Axes>"
            ]
          },
          "metadata": {
            "tags": [],
            "needs_background": "light"
          }
        }
      ]
    },
    {
      "cell_type": "code",
      "metadata": {
        "id": "JiG1Y7QzN0ZI"
      },
      "source": [
        "X = np.array(X)\n",
        "Y_corr = np.array(Y_corr, dtype=int)\n",
        "X_train,X_test,Y_train,Y_test=train_test_split(X,Y_corr,test_size=0.2)\n"
      ],
      "execution_count": 62,
      "outputs": []
    },
    {
      "cell_type": "code",
      "metadata": {
        "id": "jGUw4WpDN0ZJ",
        "outputId": "bdbcef14-fc1f-4aa6-f356-e731d4ccc4c6",
        "colab": {
          "base_uri": "https://localhost:8080/"
        }
      },
      "source": [
        "pred, W_1, b_1 = model(X_train, Y_train, word_to_vec_map)\n",
        "print(pred)"
      ],
      "execution_count": 63,
      "outputs": [
        {
          "output_type": "stream",
          "text": [
            "Epoch: 0 --- cost = 1.5891297096141028\n",
            "Accuracy: 0.35365970953159565\n",
            "Epoch: 100 --- cost = 0.8134250211343161\n",
            "Accuracy: 0.4206982783495239\n",
            "Epoch: 200 --- cost = 0.8219942669290246\n",
            "Accuracy: 0.42175627584880254\n",
            "Epoch: 300 --- cost = 0.8288120869847141\n",
            "Accuracy: 0.421275367894585\n",
            "[[0.]\n",
            " [3.]\n",
            " [1.]\n",
            " ...\n",
            " [0.]\n",
            " [0.]\n",
            " [4.]]\n"
          ],
          "name": "stdout"
        }
      ]
    },
    {
      "cell_type": "code",
      "metadata": {
        "id": "F0FQaD3ON0ZK",
        "outputId": "dfee68ca-0deb-4eb7-bf28-48f2631275c0",
        "colab": {
          "base_uri": "https://localhost:8080/"
        }
      },
      "source": [
        "print(\"Training set:\")\n",
        "pred_train = predict(X_train, Y_train, W_1, b_1, word_to_vec_map)\n",
        "print('Test set:')\n",
        "pred_test = predict(X_test, Y_test, W_1, b_1, word_to_vec_map)\n"
      ],
      "execution_count": 64,
      "outputs": [
        {
          "output_type": "stream",
          "text": [
            "Training set:\n",
            "Accuracy: 0.42252572857555065\n",
            "Test set:\n",
            "Accuracy: 0.39153846153846156\n"
          ],
          "name": "stdout"
        }
      ]
    },
    {
      "cell_type": "code",
      "metadata": {
        "id": "uBQSpOKgN0ZM",
        "outputId": "7463403a-0d60-4751-f0ba-3510843e7f7e",
        "colab": {
          "base_uri": "https://localhost:8080/",
          "height": 438
        }
      },
      "source": [
        "print(pd.crosstab(Y_test, pred_test.reshape(Y_test.shape), rownames=['Actual'], colnames=['Predicted'], margins=True))\n",
        "plot_confusion_matrix(Y_test, pred_test)"
      ],
      "execution_count": 67,
      "outputs": [
        {
          "output_type": "stream",
          "text": [
            "Predicted  0.0  1.0  3.0  4.0   All\n",
            "Actual                             \n",
            "0          411  169   38   65   683\n",
            "1          233  235   93  133   694\n",
            "2           66   87   38   56   247\n",
            "3           78  127  107  222   534\n",
            "4           31   80   66  265   442\n",
            "All        819  698  342  741  2600\n"
          ],
          "name": "stdout"
        },
        {
          "output_type": "display_data",
          "data": {
            "image/png": "[encoded data removed]",
            "text/plain": [
              "<Figure size 288x345.6 with 2 Axes>"
            ]
          },
          "metadata": {
            "tags": [],
            "needs_background": "light"
          }
        }
      ]
    },
    {
      "cell_type": "code",
      "metadata": {
        "id": "oaBK92DjN0ZN"
      },
      "source": [
        "#Mieux que le hasard certes mais toujours pas fou, on va tenter le LSTM"
      ],
      "execution_count": null,
      "outputs": []
    },
    {
      "cell_type": "markdown",
      "metadata": {
        "id": "M5UhUrl4dM9X"
      },
      "source": [
        "# Partie 3 : Modèle LSTM"
      ]
    },
    {
      "cell_type": "code",
      "metadata": {
        "id": "CdFcGPAgPmD3"
      },
      "source": [
        "import numpy as np\n",
        "from keras.models import Model\n",
        "from keras.layers import Dense, Input, Dropout, LSTM, Activation\n",
        "from keras.layers.embeddings import Embedding\n",
        "from keras.preprocessing import sequence\n",
        "from keras.initializers import glorot_uniform"
      ],
      "execution_count": 222,
      "outputs": []
    },
    {
      "cell_type": "code",
      "metadata": {
        "id": "kqfsc5CSvXZO",
        "outputId": "66c3333d-06c8-4a1d-c352-972521b151ff",
        "colab": {
          "base_uri": "https://localhost:8080/",
          "height": 265
        }
      },
      "source": [
        "data_10000 = data.sample(frac = 1, random_state = 1)\n",
        "data_10000 = data_10000.sort_values(by=['points'])\n",
        "X_LTSM = data_10000['description']\n",
        "Y = data_10000['points']\n",
        "Y_corr= (Y-Y.mean())\n",
        "quant = Y.quantile([0.2,0.4,0.6,0.8,1])\n",
        "quant = quant - Y.mean()\n",
        "fig = Y_corr.hist()\n",
        "plt.show()\n",
        "\n",
        "X_LTSM = np.array(X_LTSM)\n",
        "Y_corr = np.array(Y_corr)\n",
        "\n",
        "maxLen = 0\n",
        "#erase = []\n",
        "for i in range(len(X_LTSM)):\n",
        "    po = 0\n",
        "    \n",
        "    if maxLen < len(X_LTSM[i].split()) and po == 0:\n",
        "      maxLen = len(X_LTSM[i].split())\n",
        "#np.delete(X_LTSM, erase)\n",
        "#np.delete(Y_corr, erase)\n",
        "\n",
        "for idx in range(len(Y_corr)):\n",
        "    if Y_corr[idx] <= quant[0.2] and np.sum(Y_corr ==0) < len(Y_corr)/5:\n",
        "        Y_corr[idx] = 0\n",
        "    elif Y_corr[idx] <= quant[0.4] and np.sum(Y_corr == 1) < len(Y_corr)/5:\n",
        "        Y_corr[idx] = 1\n",
        "    elif Y_corr[idx] <= quant[0.6] and np.sum(Y_corr == 2) < len(Y_corr)/5:\n",
        "        Y_corr[idx] = 2\n",
        "    elif Y_corr[idx] <= quant[0.8] and np.sum(Y_corr == 3) < len(Y_corr)/5:\n",
        "        Y_corr[idx] = 3\n",
        "    else:\n",
        "        Y_corr[idx] = 4\n"
      ],
      "execution_count": 223,
      "outputs": [
        {
          "output_type": "display_data",
          "data": {
            "image/png": "[encoded data removed]",
            "text/plain": [
              "<Figure size 432x288 with 1 Axes>"
            ]
          },
          "metadata": {
            "tags": [],
            "needs_background": "light"
          }
        }
      ]
    },
    {
      "cell_type": "code",
      "metadata": {
        "id": "XJsIriyHQsoo"
      },
      "source": [
        ""
      ],
      "execution_count": 223,
      "outputs": []
    },
    {
      "cell_type": "code",
      "metadata": {
        "id": "767xub5cPs-B"
      },
      "source": [
        "def sentences_to_indices(X, word_to_index, max_len):\n",
        "    \"\"\"\n",
        "    Converts an array of sentences (strings) into an array of indices corresponding to words in the sentences.\n",
        "    The output shape should be such that it can be given to `Embedding()` (described in Figure 4). \n",
        "    \n",
        "    Arguments:\n",
        "    X -- array of sentences (strings), of shape (m, 1)\n",
        "    word_to_index -- a dictionary containing the each word mapped to its index\n",
        "    max_len -- maximum number of words in a sentence. You can assume every sentence in X is no longer than this. \n",
        "    \n",
        "    Returns:\n",
        "    X_indices -- array of indices corresponding to words in the sentences from X, of shape (m, max_len)\n",
        "    \"\"\"\n",
        "    \n",
        "    m = X.shape[0]                                   # number of training examples\n",
        "    \n",
        "    # Initialize X_indices as a numpy matrix of zeros and the correct shape (≈ 1 line)\n",
        "    X_indices = np.zeros((m, max_len))\n",
        "    \n",
        "    for i in range(m):                               # loop over training examples\n",
        "        # Convert the ith training sentence in lower case and split is into words. You should get a list of words.\n",
        "        sentence_words = X[i].lower().split()\n",
        "        \n",
        "        # Initialize j to 0\n",
        "        j = 0\n",
        "        \n",
        "        # Loop over the words of sentence_words\n",
        "        for w in sentence_words:\n",
        "          while w not in word_to_vec_map.keys():\n",
        "                if w[1:] in word_to_vec_map.keys():\n",
        "                    w = w[1:]\n",
        "                else:\n",
        "                    w = w[:-1]\n",
        "            # Set the (i,j)th entry of X_indices to the index of the correct word.\n",
        "          X_indices[i, j] = word_to_index[w]\n",
        "          j += 1\n",
        "            \n",
        "    \n",
        "    return X_indices"
      ],
      "execution_count": 224,
      "outputs": []
    },
    {
      "cell_type": "code",
      "metadata": {
        "id": "DKt-RtMBP07_"
      },
      "source": [
        "def pretrained_embedding_layer(word_to_vec_map, word_to_index):\n",
        "    \"\"\"\n",
        "    Creates a Keras Embedding() layer and loads in pre-trained GloVe 50-dimensional vectors.\n",
        "    \n",
        "    Arguments:\n",
        "    word_to_vec_map -- dictionary mapping words to their GloVe vector representation.\n",
        "    word_to_index -- dictionary mapping from words to their indices in the vocabulary (400,001 words)\n",
        "\n",
        "    Returns:\n",
        "    embedding_layer -- pretrained layer Keras instance\n",
        "    \"\"\"\n",
        "    \n",
        "    vocab_len = len(word_to_index) + 1                  # adding 1 to fit Keras embedding (requirement)\n",
        "    emb_dim = word_to_vec_map[\"cucumber\"].shape[0]      # define dimensionality of your GloVe word vectors (= 50)\n",
        "    \n",
        "    # Step 1\n",
        "    # Initialize the embedding matrix as a numpy array of zeros.\n",
        "    emb_matrix = np.zeros((vocab_len, emb_dim))\n",
        "    \n",
        "    # Step 2\n",
        "    # Set each row \"idx\" of the embedding matrix to be \n",
        "    # the word vector representation of the idx'th word of the vocabulary\n",
        "    for word, idx in word_to_index.items():\n",
        "        emb_matrix[idx, :] = word_to_vec_map[word]\n",
        "\n",
        "    # Step 3\n",
        "    # Define Keras embedding layer with the correct input and output sizes\n",
        "    # Make it non-trainable.\n",
        "    embedding_layer = Embedding(vocab_len, emb_dim, trainable = True)\n",
        "    ### END CODE HERE ###\n",
        "\n",
        "    # Step 4 (already done for you; please do not modify)\n",
        "    # Build the embedding layer, it is required before setting the weights of the embedding layer. \n",
        "    embedding_layer.build((None,)) # Do not modify the \"None\".  This line of code is complete as-is.\n",
        "    \n",
        "    # Set the weights of the embedding layer to the embedding matrix. Your layer is now pretrained.\n",
        "    embedding_layer.set_weights([emb_matrix])\n",
        "    \n",
        "    return embedding_layer"
      ],
      "execution_count": 225,
      "outputs": []
    },
    {
      "cell_type": "code",
      "metadata": {
        "id": "ivQDxSQ3VJCR",
        "outputId": "b76f5ea3-8902-404e-d374-3bd2345069c9",
        "colab": {
          "base_uri": "https://localhost:8080/"
        }
      },
      "source": [
        "embedding_layer = pretrained_embedding_layer(word_to_vec_map, word_to_index)\n",
        "print(\"weights[0][1][3] =\", embedding_layer.get_weights()[0][1][3])"
      ],
      "execution_count": 226,
      "outputs": [
        {
          "output_type": "stream",
          "text": [
            "weights[0][1][3] = -0.3403\n"
          ],
          "name": "stdout"
        }
      ]
    },
    {
      "cell_type": "code",
      "metadata": {
        "id": "j_M6sWFgP4lH"
      },
      "source": [
        "def Wine_model(input_shape, word_to_vec_map, word_to_index):\n",
        "    \"\"\"\n",
        "    Function creating the Emojify-v2 model's graph.\n",
        "    \n",
        "    Arguments:\n",
        "    input_shape -- shape of the input, usually (max_len,)\n",
        "    word_to_vec_map -- dictionary mapping every word in a vocabulary into its 50-dimensional vector representation\n",
        "    word_to_index -- dictionary mapping from words to their indices in the vocabulary (400,001 words)\n",
        "\n",
        "    Returns:\n",
        "    model -- a model instance in Keras\n",
        "    \"\"\"\n",
        "    \n",
        "    # Define sentence_indices as the input of the graph.\n",
        "    # It should be of shape input_shape and dtype 'int32' (as it contains indices, which are integers).\n",
        "    sentence_indices = Input(input_shape, dtype= 'int32')\n",
        "    \n",
        "    # Create the embedding layer pretrained with GloVe Vectors (≈1 line)\n",
        "    embedding_layer = pretrained_embedding_layer(word_to_vec_map, word_to_index)\n",
        "    \n",
        "    # Propagate sentence_indices through your embedding layer\n",
        "    # (See additional hints in the instructions).\n",
        "    embeddings = embedding_layer(sentence_indices)\n",
        "    \n",
        "    # Propagate the embeddings through an LSTM layer with 128-dimensional hidden state\n",
        "    # The returned output should be a batch of sequences.\n",
        "    X = LSTM(128, return_sequences=True)(embeddings)\n",
        "    # Add dropout with a probability of 0.5\n",
        "    X = Dropout(0.5)(X)\n",
        "    # Propagate X trough another LSTM layer with 128-dimensional hidden state\n",
        "    # The returned output should be a single hidden state, not a batch of sequences.\n",
        "    X = LSTM(128, return_sequences=False)(X)\n",
        "    # Add dropout with a probability of 0.5\n",
        "    X = Dropout(0.5)(X)\n",
        "    # Propagate X through a Dense layer with 5 units\n",
        "    X = Dense( units = 5)(X)\n",
        "    # Add a softmax activation\n",
        "    X = Activation('softmax')(X)\n",
        "    \n",
        "    # Create Model instance which converts sentence_indices into X.\n",
        "    model = Model(inputs=sentence_indices, outputs=X)\n",
        "    \n",
        "    return model"
      ],
      "execution_count": 227,
      "outputs": []
    },
    {
      "cell_type": "code",
      "metadata": {
        "id": "csbi8COkP62u",
        "outputId": "3a1a898d-bc2b-4ecc-f288-4efc15c73dd8",
        "colab": {
          "base_uri": "https://localhost:8080/"
        }
      },
      "source": [
        "model = Wine_model((maxLen,), word_to_vec_map, word_to_index)\n",
        "model.summary()"
      ],
      "execution_count": 228,
      "outputs": [
        {
          "output_type": "stream",
          "text": [
            "Model: \"functional_11\"\n",
            "_________________________________________________________________\n",
            "Layer (type)                 Output Shape              Param #   \n",
            "=================================================================\n",
            "input_6 (InputLayer)         [(None, 135)]             0         \n",
            "_________________________________________________________________\n",
            "embedding_11 (Embedding)     (None, 135, 50)           20000000  \n",
            "_________________________________________________________________\n",
            "lstm_10 (LSTM)               (None, 135, 128)          91648     \n",
            "_________________________________________________________________\n",
            "dropout_10 (Dropout)         (None, 135, 128)          0         \n",
            "_________________________________________________________________\n",
            "lstm_11 (LSTM)               (None, 128)               131584    \n",
            "_________________________________________________________________\n",
            "dropout_11 (Dropout)         (None, 128)               0         \n",
            "_________________________________________________________________\n",
            "dense_5 (Dense)              (None, 5)                 645       \n",
            "_________________________________________________________________\n",
            "activation_5 (Activation)    (None, 5)                 0         \n",
            "=================================================================\n",
            "Total params: 20,223,877\n",
            "Trainable params: 20,223,877\n",
            "Non-trainable params: 0\n",
            "_________________________________________________________________\n"
          ],
          "name": "stdout"
        }
      ]
    },
    {
      "cell_type": "code",
      "metadata": {
        "id": "xeW6hHCxP8i1"
      },
      "source": [
        "model.compile(loss='categorical_crossentropy', optimizer='adam', metrics=['accuracy'])"
      ],
      "execution_count": 229,
      "outputs": []
    },
    {
      "cell_type": "code",
      "metadata": {
        "id": "Z1vcRHybXC0R"
      },
      "source": [
        "Y_corr = np.array(Y_corr, dtype=int)\n",
        "X_train,X_test,Y_train,Y_test=train_test_split(X_LTSM,Y_corr,test_size=0.2)"
      ],
      "execution_count": 230,
      "outputs": []
    },
    {
      "cell_type": "code",
      "metadata": {
        "id": "Vc2dP9IoW8KD"
      },
      "source": [
        "X_train_indices = sentences_to_indices(X_train, word_to_index, maxLen)\n",
        "Y_train_oh = convert_to_one_hot(Y_train)"
      ],
      "execution_count": 231,
      "outputs": []
    },
    {
      "cell_type": "code",
      "metadata": {
        "id": "FbGwG1F4YSCy",
        "outputId": "faba39b2-6e5b-4e8d-e464-12d6db913e07",
        "colab": {
          "base_uri": "https://localhost:8080/",
          "height": 166
        }
      },
      "source": [
        "model.fit(X_train_indices, Y_train_oh, epochs = 10, batch_size = 1500, shuffle=True)"
      ],
      "execution_count": 1,
      "outputs": [
        {
          "output_type": "error",
          "ename": "NameError",
          "evalue": "ignored",
          "traceback": [
            "\u001b[0;31m---------------------------------------------------------------------------\u001b[0m",
            "\u001b[0;31mNameError\u001b[0m                                 Traceback (most recent call last)",
            "\u001b[0;32m<ipython-input-1-f407db1dabe2>\u001b[0m in \u001b[0;36m<module>\u001b[0;34m()\u001b[0m\n\u001b[0;32m----> 1\u001b[0;31m \u001b[0mmodel\u001b[0m\u001b[0;34m.\u001b[0m\u001b[0mfit\u001b[0m\u001b[0;34m(\u001b[0m\u001b[0mX_train_indices\u001b[0m\u001b[0;34m,\u001b[0m \u001b[0mY_train_oh\u001b[0m\u001b[0;34m,\u001b[0m \u001b[0mepochs\u001b[0m \u001b[0;34m=\u001b[0m \u001b[0;36m10\u001b[0m\u001b[0;34m,\u001b[0m \u001b[0mbatch_size\u001b[0m \u001b[0;34m=\u001b[0m \u001b[0;36m1500\u001b[0m\u001b[0;34m,\u001b[0m \u001b[0mshuffle\u001b[0m\u001b[0;34m=\u001b[0m\u001b[0;32mTrue\u001b[0m\u001b[0;34m)\u001b[0m\u001b[0;34m\u001b[0m\u001b[0;34m\u001b[0m\u001b[0m\n\u001b[0m",
            "\u001b[0;31mNameError\u001b[0m: name 'model' is not defined"
          ]
        }
      ]
    },
    {
      "cell_type": "code",
      "metadata": {
        "id": "Z7wptDTWatSP",
        "outputId": "a81793bf-28e0-4903-8589-88a3c6386eeb",
        "colab": {
          "base_uri": "https://localhost:8080/"
        }
      },
      "source": [
        "X_test_indices = sentences_to_indices(X_test, word_to_index, max_len = maxLen)\n",
        "Y_test_oh = convert_to_one_hot(Y_test)\n",
        "loss, acc = model.evaluate(X_test_indices, Y_test_oh)\n",
        "print()\n",
        "print(\"Test accuracy = \", acc)"
      ],
      "execution_count": 233,
      "outputs": [
        {
          "output_type": "stream",
          "text": [
            "813/813 [==============================] - 66s 81ms/step - loss: 1.0890 - accuracy: 0.5146\n",
            "\n",
            "Test accuracy =  0.5145989656448364\n"
          ],
          "name": "stdout"
        }
      ]
    },
    {
      "cell_type": "markdown",
      "metadata": {
        "id": "RXb04vX27EY9"
      },
      "source": [
        " # Partie 4: Le retour du modèle 1"
      ]
    },
    {
      "cell_type": "code",
      "metadata": {
        "id": "xjdwmzSmlAMl"
      },
      "source": [
        "def sentence_to_avg(sentence, word_to_vec_map):\n",
        " \n",
        "    # Step 1: Split sentence into list of lower case words (≈ 1 line)\n",
        "    words = sentence.lower().split()\n",
        "\n",
        "    # Initialize the average word vector, should have the same shape as your word vectors.\n",
        "    avg = np.zeros(50)\n",
        "    \n",
        "    # Step 2: average the word vectors. You can loop over the words in the list \"words\".\n",
        "    total = 0\n",
        "    for w in words:\n",
        "        while w not in word_to_vec_map.keys():\n",
        "            if w[1:] in word_to_vec_map.keys():\n",
        "                w = w[1:]\n",
        "            else:\n",
        "                w = w[:-1]\n",
        "        total += word_to_vec_map[w]\n",
        "    avg = total/len(words)\n",
        "    \n",
        "    \n",
        "    return avg"
      ],
      "execution_count": 118,
      "outputs": []
    },
    {
      "cell_type": "code",
      "metadata": {
        "id": "A294HUFL7GCP",
        "outputId": "1acb800a-7f1b-4251-a5ef-c7d91a26441a",
        "colab": {
          "base_uri": "https://localhost:8080/",
          "height": 265
        }
      },
      "source": [
        "data_1000 = data[['description', 'points', 'price', 'taster_name']].sample(frac = 0.1, random_state = 1)\n",
        "data_1000 = data_1000.dropna()\n",
        "X = data_1000['description']\n",
        "Y = data_1000['points']\n",
        "prices = data_1000['price']\n",
        "quant = Y.quantile([0.2,0.4,0.6,0.8,1])\n",
        "Y_corr= Y-Y.mean()\n",
        "quant = quant - Y.mean()\n",
        "fig = Y_corr.hist()\n",
        "plt.show()\n",
        "\n",
        "Y_corr = np.array(Y_corr)\n",
        "for idx in range(len(Y_corr)):\n",
        "    if Y_corr[idx] <= quant[0.2]:\n",
        "        Y_corr[idx] = 0\n",
        "    elif Y_corr[idx] <= quant[0.4]:\n",
        "        Y_corr[idx] = 1\n",
        "    elif Y_corr[idx] <= quant[0.6]:\n",
        "        Y_corr[idx] = 2\n",
        "    elif Y_corr[idx] <= quant[0.8]:\n",
        "        Y_corr[idx] = 3\n",
        "    else:\n",
        "        Y_corr[idx] = 4\n",
        "\n",
        "m=len(X)\n",
        "\n",
        "X = np.array(X)\n",
        "X_emb = np.zeros((m,50)) \n",
        "prices = np.array(prices)\n",
        "prices = np.log(prices)\n",
        "prices = prices - prices.mean()\n",
        "taster = testeur(data_1000)/18\n",
        "for i in range(m): \n",
        "  X_emb[i] = sentence_to_avg(X[i], word_to_vec_map)\n",
        "X_emb = np.column_stack((X_emb,prices))\n",
        "X_emb = np.column_stack((X_emb,taster))\n",
        "Y_corr = np.array(Y_corr, dtype=int)\n",
        "X_train,X_test,Y_train,Y_test=train_test_split(X_emb,Y_corr,test_size=0.2)"
      ],
      "execution_count": 119,
      "outputs": [
        {
          "output_type": "display_data",
          "data": {
            "image/png": "[encoded data removed]",
            "text/plain": [
              "<Figure size 432x288 with 1 Axes>"
            ]
          },
          "metadata": {
            "tags": [],
            "needs_background": "light"
          }
        }
      ]
    },
    {
      "cell_type": "code",
      "metadata": {
        "id": "DteFwOza63Cg"
      },
      "source": [
        "def softmax(x):\n",
        "    \"\"\"Compute softmax values for each sets of scores in x.\"\"\"\n",
        "    e_x = np.exp(x - np.max(x))\n",
        "    return e_x / e_x.sum()"
      ],
      "execution_count": 120,
      "outputs": []
    },
    {
      "cell_type": "code",
      "metadata": {
        "id": "mBYstrwZ4pga"
      },
      "source": [
        "def model_4(X, Y, word_to_vec_map, learning_rate = 0.01, num_iterations = 800):\n",
        "\n",
        "    m = Y.shape[0]                          # number of training examples\n",
        "    n_y = 5                                 # number of classes  \n",
        "    n_h = 52                                # dimensions of the GloVe vectors \n",
        "    \n",
        "    # Initialize parameters using Xavier initialization\n",
        "    W = np.random.randn(n_y, n_h) / np.sqrt(n_h)\n",
        "    b = np.zeros((n_y,)) \n",
        "    \n",
        "    # Convert Y to Y_onehot with n_y classes\n",
        "    Y_oh = convert_to_one_hot(Y) \n",
        "    \n",
        "    # Optimization loop\n",
        "    for t in range(num_iterations): # Loop over the number of iterations\n",
        "        for i in range(m):          # Loop over the training examples\n",
        "          \n",
        "            # Forward propagate the avg through the softmax layer\n",
        "            z = np.dot(W,X[i]) + b\n",
        "            a = softmax(z)\n",
        "            \n",
        "            # Compute cost using the i'th training label's one hot representation and \"A\" (the output of the softmax)\n",
        "            cost = - np.dot(Y_oh[i],np.log(a))\n",
        "            \n",
        "            # Compute gradients \n",
        "            dz = a - Y_oh[i]\n",
        "            dW = np.dot(dz.reshape(n_y,1), X[i].reshape(1, n_h))\n",
        "            db = dz\n",
        "\n",
        "            # Update parameters with Stochastic Gradient Descent\n",
        "            W = W - learning_rate * dW\n",
        "            b = b - learning_rate * db\n",
        "        \n",
        "        if t % 100 == 0:\n",
        "            print(\"Epoch: \" + str(t) + \" --- cost = \" + str(cost))\n",
        "            pred = predict_4(X, Y, W, b, word_to_vec_map)\n",
        "\n",
        "    return pred, W, b"
      ],
      "execution_count": 121,
      "outputs": []
    },
    {
      "cell_type": "code",
      "metadata": {
        "id": "cL1N8j8g7XGD"
      },
      "source": [
        "def predict_4(X, Y, W, b, word_to_vec_map):\n",
        "    \"\"\"\n",
        "    Given X (sentences) and Y (emoji indices), predict emojis and compute the accuracy of your model over the given set.\n",
        "    \n",
        "    Arguments:\n",
        "    X -- input data containing sentences, numpy array of shape (m, None)\n",
        "    Y -- labels, containing index of the label emoji, numpy array of shape (m, 1)\n",
        "    \n",
        "    Returns:\n",
        "    pred -- numpy array of shape (m, 1) with your predictions\n",
        "    \"\"\"\n",
        "    m = X.shape[0]\n",
        "    pred = np.zeros((m, 1))\n",
        "    \n",
        "    for j in range(m):                       # Loop over training examples\n",
        "        \n",
        "        # Forward propagation\n",
        "        Z = np.dot(W, X[j]) + b\n",
        "        A = softmax(Z)\n",
        "        pred[j] = np.argmax(A)\n",
        "        \n",
        "    print(\"Accuracy: \"  + str(np.mean((pred[:] == Y.reshape(Y.shape[0],1)[:]))))\n",
        "    \n",
        "    return pred"
      ],
      "execution_count": 122,
      "outputs": []
    },
    {
      "cell_type": "code",
      "metadata": {
        "id": "_OWcTmzBBxXV",
        "outputId": "165ed85b-ef65-47a2-ec75-1734ec4d26bf",
        "colab": {
          "base_uri": "https://localhost:8080/"
        }
      },
      "source": [
        "pred, W_4, b_4 = model_4(X_train, Y_train, word_to_vec_map)\n",
        "print(pred)"
      ],
      "execution_count": 123,
      "outputs": [
        {
          "output_type": "stream",
          "text": [
            "Epoch: 0 --- cost = 1.6421009536703286\n",
            "Accuracy: 0.4024501498761892\n",
            "Epoch: 100 --- cost = 1.2643346965880846\n",
            "Accuracy: 0.46513749511273295\n",
            "Epoch: 200 --- cost = 1.2287512307246695\n",
            "Accuracy: 0.46565880359702855\n",
            "Epoch: 300 --- cost = 1.21907467316436\n",
            "Accuracy: 0.46552847647595463\n",
            "Epoch: 400 --- cost = 1.2138647860723726\n",
            "Accuracy: 0.46604978496025024\n",
            "Epoch: 500 --- cost = 1.2100777407520482\n",
            "Accuracy: 0.46578913071810246\n",
            "Epoch: 600 --- cost = 1.2070651488438175\n",
            "Accuracy: 0.46565880359702855\n",
            "Epoch: 700 --- cost = 1.2046114545360052\n",
            "Accuracy: 0.4653981493548808\n",
            "[[4.]\n",
            " [0.]\n",
            " [0.]\n",
            " ...\n",
            " [4.]\n",
            " [1.]\n",
            " [3.]]\n"
          ],
          "name": "stdout"
        }
      ]
    },
    {
      "cell_type": "code",
      "metadata": {
        "id": "F2dcGoqfB6Xj",
        "outputId": "35f2f5b7-dee0-4c8f-eb55-b287dc016ac8",
        "colab": {
          "base_uri": "https://localhost:8080/"
        }
      },
      "source": [
        "print(\"Training set:\")\n",
        "pred_train = predict_4(X_train, Y_train, W_4, b_4, word_to_vec_map)\n",
        "print('Test set:')\n",
        "pred_test = predict_4(X_test, Y_test, W_4, b_4, word_to_vec_map)"
      ],
      "execution_count": 124,
      "outputs": [
        {
          "output_type": "stream",
          "text": [
            "Training set:\n",
            "Accuracy: 0.46565880359702855\n",
            "Test set:\n",
            "Accuracy: 0.48514851485148514\n"
          ],
          "name": "stdout"
        }
      ]
    },
    {
      "cell_type": "code",
      "metadata": {
        "id": "i-x3FdpGDrBU",
        "outputId": "e6a758d0-fd98-41ab-ebaa-6bff23b81ba4",
        "colab": {
          "base_uri": "https://localhost:8080/",
          "height": 402
        }
      },
      "source": [
        "print(pd.crosstab(Y_test, pred_test.reshape(Y_test.shape), rownames=['Actual'], colnames=['Predicted'], margins=True))\n",
        "plot_confusion_matrix(Y_test, pred_test)"
      ],
      "execution_count": 125,
      "outputs": [
        {
          "output_type": "stream",
          "text": [
            "Predicted  0.0  1.0  2.0  3.0  4.0   All\n",
            "Actual                                  \n",
            "0          381   80    1   40    2   504\n",
            "1          170  175    3  125   12   485\n",
            "2           49   58    3   67   10   187\n",
            "3           35   98    3  231   47   414\n",
            "4            4   28    0  156  141   329\n",
            "All        639  439   10  619  212  1919\n"
          ],
          "name": "stdout"
        },
        {
          "output_type": "display_data",
          "data": {
            "image/png": "[encoded data removed]",
            "text/plain": [
              "<Figure size 288x288 with 2 Axes>"
            ]
          },
          "metadata": {
            "tags": [],
            "needs_background": "light"
          }
        }
      ]
    },
    {
      "cell_type": "code",
      "metadata": {
        "id": "VO_31A_dxzi2"
      },
      "source": [
        "def testeur(data):\n",
        "  taster = data['taster_name'].astype('category').values\n",
        "  value_taster = []\n",
        "  compteur = 0\n",
        "  d = {}\n",
        "  for i in range(len(taster)):\n",
        "    if taster[i] not in d.keys():\n",
        "      d[taster[i]] = compteur\n",
        "      compteur += 1\n",
        "    value_taster.append(d[taster[i]])\n",
        "  return np.array(value_taster)"
      ],
      "execution_count": 90,
      "outputs": []
    },
    {
      "cell_type": "code",
      "metadata": {
        "id": "ifIosjetx_pl"
      },
      "source": [
        ""
      ],
      "execution_count": null,
      "outputs": []
    }
  ]
}